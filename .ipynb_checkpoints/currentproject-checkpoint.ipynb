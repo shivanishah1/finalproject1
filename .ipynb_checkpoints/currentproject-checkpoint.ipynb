{
 "cells": [
  {
   "cell_type": "raw",
   "id": "901ed37b-db73-4c77-8101-31201e979776",
   "metadata": {},
   "source": [
    "This Jupyter Notebook is dedicated to the new projects :\n",
    "- calculating size of prize\n",
    "- transforming recipes to nutrition labels"
   ]
  },
  {
   "cell_type": "code",
   "execution_count": 1,
   "id": "0a08772a-c8e9-4cf8-a4b4-a6055d74b76e",
   "metadata": {},
   "outputs": [],
   "source": [
    "import numpy as np\n",
    "import pandas as pd\n",
    "import re"
   ]
  },
  {
   "cell_type": "raw",
   "id": "1a34198d-f0a0-4088-a13e-da7320e78a1b",
   "metadata": {},
   "source": [
    "SIZE OF PRIZE: Annual Size of Prize:\n",
    "\n",
    "= Units/store/week × Stores × 52 weeks × Price = 10 × [Stores] × 52 × 2.49"
   ]
  },
  {
   "cell_type": "code",
   "execution_count": 38,
   "id": "5e00d5cb-6daf-428a-85ba-3b58cc9ba66b",
   "metadata": {},
   "outputs": [],
   "source": [
    "def size_of_prize_v1(velocity, stores, price_per_gram, grams_per_unit):\n",
    "    print(\"velocity of the category:\", velocity, \"units per store per week (units / store * week)\")\n",
    "    print(\"projected distribution scenario:\", stores, \"stores\")\n",
    "    print(\"projected price point per gram:\", price_per_gram, \"dollars per gram\")\n",
    "    price_per_unit = price_per_gram * grams_per_unit\n",
    "    print(\"projected price point per unit:\", price_per_unit, \"dollars per gram\")\n",
    "    size_of_prize = (velocity * stores * 52 * price_per_unit)\n",
    "    return \"the size of prize is: \" + str(size_of_prize) + \" dollars per year\""
   ]
  },
  {
   "cell_type": "code",
   "execution_count": 39,
   "id": "b74954fc-8e0e-4f0d-aa7e-4d1091b83c69",
   "metadata": {},
   "outputs": [
    {
     "name": "stdout",
     "output_type": "stream",
     "text": [
      "velocity of the category: 10 units per store per week (units / store * week)\n",
      "projected distribution scenario: 1000 stores\n",
      "projected price point per gram: 2.49 dollars per gram\n",
      "projected price point per unit: 4.98 dollars per gram\n"
     ]
    },
    {
     "data": {
      "text/plain": [
       "'the size of prize is: 2589600.0 dollars per year'"
      ]
     },
     "execution_count": 39,
     "metadata": {},
     "output_type": "execute_result"
    }
   ],
   "source": [
    "size_of_prize_v1(10, 1000, 2.49, 2)"
   ]
  },
  {
   "cell_type": "code",
   "execution_count": 36,
   "id": "f2b7abd9-6380-41c0-a5f2-6f741a27a5ec",
   "metadata": {},
   "outputs": [],
   "source": [
    "def size_of_prize_v2(dollar_velocity, stores):\n",
    "    print(\"velocity of the category:\", dollar_velocity, \"dollars per store per week (dollars / store * week)\")\n",
    "    print(\"projected distribution scenario:\", stores, \"stores\")\n",
    "    size_of_prize = (dollar_velocity * stores * 52)\n",
    "    return \"the size of prize is: \" + str(size_of_prize) + \" dollars per year\""
   ]
  },
  {
   "cell_type": "code",
   "execution_count": 37,
   "id": "3e77bc44-0d56-4d9d-a128-dd7de5f43146",
   "metadata": {},
   "outputs": [
    {
     "name": "stdout",
     "output_type": "stream",
     "text": [
      "velocity of the category: 24.9 dollars per store per week (dollars / store * week)\n",
      "projected distribution scenario: 1000 stores\n"
     ]
    },
    {
     "data": {
      "text/plain": [
       "'the size of prize is: 1294800.0 dollars'"
      ]
     },
     "execution_count": 37,
     "metadata": {},
     "output_type": "execute_result"
    }
   ],
   "source": [
    "size_of_prize_v2(24.9, 1000)"
   ]
  },
  {
   "cell_type": "raw",
   "id": "59de9453-58db-4380-8f91-542410a391b1",
   "metadata": {},
   "source": [
    "RECIPES TO NUTRITON LABELS"
   ]
  },
  {
   "cell_type": "code",
   "execution_count": 41,
   "id": "4c1eb05f-daae-45ac-a837-ecc7aeabe5a8",
   "metadata": {},
   "outputs": [],
   "source": [
    "overall_dict = {}\n",
    "\n",
    "overall_dict[\"Total Fat\"] = 0\n",
    "overall_dict[\"Saturated Fat\"] = 0\n",
    "overall_dict[\"Trans Fat\"] = 0\n",
    "overall_dict[\"Cholesterol\"] = 0\n",
    "overall_dict[\"Sodium\"] = 0\n",
    "overall_dict[\"Total Carbs\"] = 0\n",
    "overall_dict[\"Fiber\"] = 0\n",
    "overall_dict[\"Total Sugar\"] = 0\n",
    "overall_dict[\"Protein\"] = 0\n",
    "overall_dict[\"Calcium\"] = 0\n",
    "overall_dict[\"Iron\"] = 0\n",
    "overall_dict[\"Potassium\"] = 0\n",
    "overall_dict[\"Vitamin D\"] = 0\n",
    "overall_dict[\"Water\"] = 0\n",
    "overall_dict[\"Weight\"] = 100\n",
    "overall_dict[\"Energy/Calories\"] = 0\n",
    "\n",
    "key_list_API = ['Total Fat', 'Saturated Fat', 'Trans Fat', 'Cholesterol', 'Sodium', 'Total Carbs', 'Fiber', 'Total Sugar', 'Protein', 'Calcium', 'Iron', 'Potassium', 'Vitamin D', 'Water', 'Weight', 'Energy/Calories']\n",
    "\n",
    "def unit_conversion(nutrient_name,dict,amount,unit):\n",
    "    if unit == \"kJ\":\n",
    "        dict[nutrient_name] = (amount/4.184)\n",
    "    elif unit == \"mg\":\n",
    "        dict[nutrient_name] = (amount/1000)\n",
    "    elif unit == \"µg\":\n",
    "        dict[nutrient_name] = (amount/ 1000000)\n",
    "    else:\n",
    "        dict[nutrient_name] = (amount)\n",
    "    return None"
   ]
  },
  {
   "cell_type": "code",
   "execution_count": 42,
   "id": "461a04cd-9e3b-4994-8544-f8ac9e31c211",
   "metadata": {},
   "outputs": [],
   "source": [
    "total_fats = [\"Total lipid (fat)\"]\n",
    "saturated_fats = [\"Saturated fatty acids\",\"Fatty acids, total saturated\"]\n",
    "trans_fat = [\"Fatty acids, total trans\"]\n",
    "cholesterol = [\"Cholesterol\"]\n",
    "sodium = [\"Sodium, Na\"]\n",
    "total_carbs = [\"Carbohydrate, by difference\"]\n",
    "fiber = [\"Fiber\",\"Fiber, total dietary\"]\n",
    "total_sugar = [\"Sugars, Total\",\"Total Sugars\",\"Total Sugar\",\"Sugars, added\"]\n",
    "protein = [\"Protein\"]\n",
    "calcium = [\"Calcium, Ca\"]\n",
    "iron = [\"Iron, Fe\"]\n",
    "potassium = [\"Potassium, K\"]\n",
    "vitamin_D = [\"Vitamin D (D2 + D3)\"]\n",
    "weight = [\"Weight\"]\n",
    "energy_calories = [\"Energy\"] \n",
    "\n",
    "def super_big_function(dict,amount,nutrient_name,unit):\n",
    "    if nutrient_name in total_fats:\n",
    "        unit_conversion(\"Total Fat\",dict,amount,unit)\n",
    "    elif nutrient_name in saturated_fats:\n",
    "        unit_conversion(\"Saturated Fat\",dict,amount,unit)\n",
    "    elif nutrient_name in trans_fat:\n",
    "        unit_conversion(\"Trans Fat\",dict,amount,unit)\n",
    "    elif nutrient_name in cholesterol:\n",
    "        unit_conversion(\"Cholesterol\",dict,amount,unit)   \n",
    "    elif nutrient_name in sodium:\n",
    "        unit_conversion(\"Sodium\",dict,amount,unit)\n",
    "    elif nutrient_name in total_carbs:\n",
    "        unit_conversion(\"Total Carbs\",dict,amount,unit)\n",
    "    elif nutrient_name in fiber:\n",
    "        unit_conversion(\"Fiber\",dict,amount,unit)\n",
    "    elif nutrient_name in total_sugar:\n",
    "        unit_conversion(\"Total Sugar\",dict,amount,unit)  \n",
    "    elif nutrient_name in protein:\n",
    "        unit_conversion(\"Protein\",dict,amount,unit)\n",
    "    elif nutrient_name in calcium:\n",
    "        unit_conversion(\"Calcium\",dict,amount,unit)\n",
    "    elif nutrient_name in iron:\n",
    "        unit_conversion(\"Iron\",dict,amount,unit)\n",
    "    elif nutrient_name in potassium:\n",
    "        unit_conversion(\"Potassium\",dict,amount,unit)   \n",
    "    elif nutrient_name in vitamin_D:\n",
    "        unit_conversion(\"Vitamin D\",dict,amount,unit)\n",
    "    elif nutrient_name in weight:\n",
    "        unit_conversion(\"Weight\",dict,amount,unit)\n",
    "    elif nutrient_name in energy_calories:\n",
    "        unit_conversion(\"Energy/Calories\",dict,amount,unit)\n",
    "    return None"
   ]
  },
  {
   "cell_type": "code",
   "execution_count": 43,
   "id": "1805474f-c951-4186-a2ba-7d62241dad15",
   "metadata": {},
   "outputs": [],
   "source": [
    "api_key = \"pJdDYwC0EdXMpR18wMXFqjMxO4zYGCuTOfNfCSH4\"\n",
    "\n",
    "def getting_from_API(query):\n",
    "    food_words = query.split()\n",
    "    url = f\"https://api.nal.usda.gov/fdc/v1/foods/search?query={query}&dataType=Foundation&api_key={api_key}\"\n",
    "    response = requests.get(url)\n",
    "    data = response.json()\n",
    "    for individual_food_dict in data['foods'][:5]:\n",
    "        match = 0\n",
    "        individual_food = individual_food_dict[\"description\"].lower()\n",
    "        individual_words_list = re.split(r\"[,\\s]+\", individual_food)\n",
    "        #individual_words_list = individual_food.split()\n",
    "        \n",
    "        for word in food_words:\n",
    "            if word not in individual_words_list:\n",
    "                match = match - 1\n",
    "            else:\n",
    "                match = match + 1\n",
    "        if match == len(food_words):\n",
    "            return individual_food_dict['fdcId']\n",
    "    url = f\"https://api.nal.usda.gov/fdc/v1/foods/search?query={query}&dataType=Branded&api_key={api_key}\"\n",
    "    response = requests.get(url)\n",
    "    data = response.json()\n",
    "    for individual_food_dict in data['foods'][:5]:\n",
    "        match = 0\n",
    "        individual_food = individual_food_dict[\"description\"].lower()\n",
    "        individual_words_list = re.split(r\"[,\\s]+\", individual_food)\n",
    "        for word in food_words:\n",
    "            if word not in individual_words_list:\n",
    "                match = match - 1\n",
    "            else:\n",
    "                match = match + 1\n",
    "        if match == len(food_words):\n",
    "            return individual_food_dict['fdcId']       \n",
    "    \n",
    "    return \"ERROR NOTHING IS A MATCH :(((((\"\n",
    "\n",
    "def opening_API(fdc_id,dict):\n",
    "    \n",
    "    nutrition_url = f\"https://api.nal.usda.gov/fdc/v1/food/{fdc_id}?api_key={api_key}\"\n",
    "\n",
    "    response = requests.get(nutrition_url)\n",
    "    nutrition_data = response.json()\n",
    "\n",
    "    for nutrient in nutrition_data['foodNutrients']:\n",
    "        nutrient_name = nutrient['nutrient']['name']\n",
    "        amount = nutrient.get(\"amount\",\"NA\")\n",
    "        unit = nutrient.get(\"nutrient\", {}).get(\"unitName\", \"\")\n",
    "        super_big_function(dict,amount,nutrient_name,unit)\n",
    "    return dict\n",
    "\n",
    "def product_dicts(queries):\n",
    "    dicts = {}\n",
    "    for query, amount in queries:\n",
    "        fdc_id = getting_from_API(query)\n",
    "        print(fdc_id)\n",
    "        new_dict = overall_dict.copy()\n",
    "        new_dict[\"Amount\"] = amount\n",
    "        opening_API(fdc_id,new_dict)\n",
    "        dicts[query] = new_dict\n",
    "        print(\"added\")\n",
    "    return dicts"
   ]
  },
  {
   "cell_type": "code",
   "execution_count": 44,
   "id": "20646a91-9c4b-4076-898e-80540ab12524",
   "metadata": {},
   "outputs": [],
   "source": [
    "#here it would look something like:\n",
    "#ingredient_dict = product_dicts(queries) #where the queries are the ingredients of our product's dict"
   ]
  },
  {
   "cell_type": "raw",
   "id": "f6fa48e1-b1b6-494c-8f12-ad7c3d105aaf",
   "metadata": {},
   "source": [
    "so now we have a dictionary with the keys as the product's ingredients and the values as a \n",
    "dictionary of that ingredient's nutritional breakdown. now we just loop through these values:"
   ]
  },
  {
   "cell_type": "code",
   "execution_count": 45,
   "id": "f3ba182e-f024-4ca1-ac17-65ed501e5b15",
   "metadata": {},
   "outputs": [],
   "source": [
    "def conglomerated_list(queries):\n",
    "    ingredient_dict = product_dicts(queries)\n",
    "    product_dict = overall_dict.copy()\n",
    "    for key in nutrition_list_keys:\n",
    "        for ingredient in ingredient_dict:\n",
    "            product_dict[key] = product_dict[key] + (ingredient[key] * (ingredient[amount] / 10))\n",
    "    return product_dict"
   ]
  },
  {
   "cell_type": "raw",
   "id": "586538b7-5f28-4c80-ba8b-4cbe2b1bb7b8",
   "metadata": {},
   "source": [
    "To calculate calories from a nutrition label, multiply the grams of protein by 4, \n",
    "the grams of carbohydrates by 4, and the grams of fat by 9"
   ]
  },
  {
   "cell_type": "code",
   "execution_count": 46,
   "id": "9723375b-5c0c-4034-be08-bb8d0379cf25",
   "metadata": {},
   "outputs": [
    {
     "ename": "NameError",
     "evalue": "name 'ingredient_dict' is not defined",
     "output_type": "error",
     "traceback": [
      "\u001b[0;31m---------------------------------------------------------------------------\u001b[0m",
      "\u001b[0;31mNameError\u001b[0m                                 Traceback (most recent call last)",
      "Cell \u001b[0;32mIn[46], line 1\u001b[0m\n\u001b[0;32m----> 1\u001b[0m calories \u001b[38;5;241m=\u001b[39m ((ingredient_dict[\u001b[38;5;124m\"\u001b[39m\u001b[38;5;124mProtein\u001b[39m\u001b[38;5;124m\"\u001b[39m] \u001b[38;5;241m+\u001b[39m ingredient_dicts[\u001b[38;5;124m\"\u001b[39m\u001b[38;5;124mTotal Carbs\u001b[39m\u001b[38;5;124m\"\u001b[39m]) \u001b[38;5;241m*\u001b[39m \u001b[38;5;241m4\u001b[39m) \u001b[38;5;241m+\u001b[39m (ingredient_dict[\u001b[38;5;124m\"\u001b[39m\u001b[38;5;124mTotal Fat\u001b[39m\u001b[38;5;124m\"\u001b[39m] \u001b[38;5;241m*\u001b[39m \u001b[38;5;241m9\u001b[39m)\n",
      "\u001b[0;31mNameError\u001b[0m: name 'ingredient_dict' is not defined"
     ]
    }
   ],
   "source": [
    "calories = ((ingredient_dict[\"Protein\"] + ingredient_dicts[\"Total Carbs\"]) * 4) + (ingredient_dict[\"Total Fat\"] * 9)"
   ]
  },
  {
   "cell_type": "code",
   "execution_count": null,
   "id": "d3370ba1-684c-4421-a4da-3fb9567ea10a",
   "metadata": {},
   "outputs": [],
   "source": [
    "df = pd.DataFrame(product_dict)\n",
    "df"
   ]
  }
 ],
 "metadata": {
  "kernelspec": {
   "display_name": "Python 3 (ipykernel)",
   "language": "python",
   "name": "python3"
  },
  "language_info": {
   "codemirror_mode": {
    "name": "ipython",
    "version": 3
   },
   "file_extension": ".py",
   "mimetype": "text/x-python",
   "name": "python",
   "nbconvert_exporter": "python",
   "pygments_lexer": "ipython3",
   "version": "3.12.4"
  }
 },
 "nbformat": 4,
 "nbformat_minor": 5
}
