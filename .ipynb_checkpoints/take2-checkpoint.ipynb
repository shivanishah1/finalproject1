{
 "cells": [
  {
   "cell_type": "code",
   "execution_count": 1,
   "id": "ec3ac28d-26f6-4ac2-9a8e-81667212816a",
   "metadata": {},
   "outputs": [
    {
     "name": "stderr",
     "output_type": "stream",
     "text": [
      "2025-01-30 11:43:02.025896: I tensorflow/core/platform/cpu_feature_guard.cc:210] This TensorFlow binary is optimized to use available CPU instructions in performance-critical operations.\n",
      "To enable the following instructions: AVX2 FMA, in other operations, rebuild TensorFlow with the appropriate compiler flags.\n"
     ]
    }
   ],
   "source": [
    "import numpy as np\n",
    "import csv\n",
    "import matplotlib.pyplot as plt\n",
    "import tensorflow as tf\n",
    "from bayes_opt import BayesianOptimization"
   ]
  },
  {
   "cell_type": "code",
   "execution_count": 2,
   "id": "d6751668-92a8-4761-9c07-0cf9432fbd10",
   "metadata": {},
   "outputs": [],
   "source": [
    "#creating the overall dictionary: the one representing the nutrition label facts. I will copy this dictionary for any \n",
    "#ingredient I use.\n",
    "\n",
    "overall_dict = {}\n",
    "\n",
    "overall_dict[\"Fat\"] = 0\n",
    "overall_dict[\"Saturated fatty acids\"] = 0\n",
    "overall_dict[\"Fatty acids, total trans\"] = 0\n",
    "overall_dict[\"Cholesterol\"] = 0\n",
    "overall_dict[\"Sodium\"] = 0\n",
    "overall_dict[\"Carbohydrate\"] = 0\n",
    "overall_dict[\"Fiber\"] = 0\n",
    "overall_dict[\"Sugars\"] = 0\n",
    "overall_dict[\"Protein\"] = 0\n",
    "overall_dict[\"Calcium\"] = 0\n",
    "overall_dict[\"Iron\"] = 0\n",
    "overall_dict[\"Potassium\"] = 0\n",
    "overall_dict[\"Vitamin D\"] = 0\n",
    "overall_dict[\"Weight\"] = 0"
   ]
  },
  {
   "cell_type": "code",
   "execution_count": 3,
   "id": "5f647bf9-c62b-481b-a9f1-e694206ab906",
   "metadata": {},
   "outputs": [],
   "source": [
    "#nutritional information for tates cookies per 10 grams (each number was initially for  28 grams. So I had to multiply \n",
    "#each number by (10 * (1 / 28)) to get the information for 10 grams)\n",
    "\n",
    "tates_dict = overall_dict.copy()\n",
    "tates_dict[\"Fat\"] = 7\n",
    "tates_dict[\"Saturated fatty acids\"] = 4.5\n",
    "tates_dict[\"Fatty acids, total trans\"] = 0\n",
    "tates_dict[\"Cholesterol\"] = .025\n",
    "tates_dict[\"Sodium\"] = .16\n",
    "tates_dict[\"Carbohydrate\"] = 18\n",
    "tates_dict[\"Fiber\"] = .8\n",
    "tates_dict[\"Sugars\"] = 12\n",
    "tates_dict[\"Protein\"] = 2\n",
    "tates_dict[\"Calcium\"] = .0000001\n",
    "tates_dict[\"Iron\"] = .0009\n",
    "tates_dict[\"Potassium\"] = .01\n",
    "tates_dict[\"Vitamin D\"] = .05\n",
    "tates_dict[\"Weight\"] = 28"
   ]
  },
  {
   "cell_type": "code",
   "execution_count": 4,
   "id": "315b68bd-a761-4dea-a440-5830a52753b7",
   "metadata": {},
   "outputs": [],
   "source": [
    "ingredient_dict = overall_dict.copy()\n",
    "\n",
    "def reader(file,ingredient_dict,desired_serving):\n",
    "    with open(file, 'r') as csvfile:\n",
    "        csvreader = csv.reader(csvfile)\n",
    "        for i,row in enumerate(csvreader):\n",
    "            if len(row) > 0 and row[0] in ingredient_dict:\n",
    "                if row[2] == \"mg\":\n",
    "                    ingredient_dict[row[0]] = (float(row[1]) / 1000) * desired_serving\n",
    "                elif row[2] == \"mcg\":\n",
    "                    ingredient_dict[row[0]] = (float(row[1]) / 1000000) * desired_serving\n",
    "                else: #grams\n",
    "                    ingredient_dict[row[0]] = (float(row[1])) * desired_serving\n",
    "            if i == 4:\n",
    "                index = row.index(\"g\")\n",
    "                ingredient_dict[\"Weight\"] = float(row[index-1]) * desired_serving\n",
    "    return ingredient_dict"
   ]
  },
  {
   "cell_type": "code",
   "execution_count": null,
   "id": "f1058471-cc4e-4910-a56e-d9a8c3fd7665",
   "metadata": {},
   "outputs": [],
   "source": [
    "#the various ingredients in Tate's. Transforming the online nutrritional information of each ingredient into individual dictionaries.\n",
    "\n",
    "semi_sweet_chocolate_file = \"semisweet_chocolate_chips_by_raleys.csv\"\n",
    "semi_sweet_chocolate_dict = overall_dict.copy()\n",
    "reader(semi_sweet_chocolate_file,semi_sweet_chocolate_dict,desired_serving)\n",
    "\n",
    "unbleached_flour_file = \"flour_unbleached_enriched_allpurpose_wheat.csv\"\n",
    "unbleached_flour_dict = overall_dict.copy()\n",
    "reader(unbleached_flour_file,unbleached_flour_dict,desired_serving)\n",
    "\n",
    "salted_butter_file = \"butter_salted.csv\"\n",
    "salted_butter_dict = overall_dict.copy()\n",
    "reader(salted_butter_file,salted_butter_dict,desired_serving)\n",
    "\n",
    "cane_sugar_file = \"granulated_pure_cane_sugar.csv\"\n",
    "cane_sugar_dict = overall_dict.copy()\n",
    "reader(cane_sugar_file,cane_sugar_dict,desired_serving)\n",
    "\n",
    "brown_cane_sugar_file = \"brown_sugar_cane_by_frusecha.csv\"\n",
    "brown_cane_sugar_dict = overall_dict.copy()\n",
    "reader(brown_cane_sugar_file,brown_cane_sugar_dict,desired_serving)\n",
    "\n",
    "eggs_file = \"egg_fresh_raw_whole.csv\"\n",
    "eggs_dict = overall_dict.copy()\n",
    "reader(eggs_file,eggs_dict,desired_serving)\n",
    "\n",
    "baking_soda_file = \"leavening_agents_baking_soda.csv\"\n",
    "baking_soda_dict = overall_dict.copy()\n",
    "reader(baking_soda_file,baking_soda_dict,desired_serving)\n",
    "\n",
    "salt_file = \"salt_table.csv\"\n",
    "salt_dict = overall_dict.copy()\n",
    "reader(salt_file,salt_dict,desired_serving)\n",
    "\n",
    "natural_vanilla_flavor_file = \"vanilla_flavoring_syrup_by_r_torre__coinc.csv\"\n",
    "natural_vanilla_flavor_dict = overall_dict.copy()\n",
    "reader(natural_vanilla_flavor_file,natural_vanilla_flavor_dict,desired_serving)\n",
    "\n",
    "vanilla_extract_file = \"vanilla_extract.csv\"\n",
    "vanilla_extract_dict = overall_dict.copy()\n",
    "reader(vanilla_extract_file,vanilla_extract_dict,desired_serving)\n",
    "\n",
    "dictionary_list = [semi_sweet_chocolate_dict,unbleached_flour_dict,salted_butter_dict,cane_sugar_dict,brown_cane_sugar_dict,eggs_dict,baking_soda_dict,salt_dict,vanilla_extract_dict]\n",
    "heavy_dictionary_list = [semi_sweet_chocolate_dict,unbleached_flour_dict,salted_butter_dict,cane_sugar_dict,brown_cane_sugar_dict,eggs_dict]\n",
    "key_list_full = [\"Fat\",\"Saturated fatty acids\",\"Fatty acids, total trans\",\"Cholesterol\",\"Sodium\",\"Carbohydrate\",\"Fiber\",\"Sugars\",\"Protein\",\"Calcium\",\"Iron\",\"Potassium\",\"Vitamin D\",\"Weight\"]\n",
    "key_list_no_sodium = [\"Fat\",\"Saturated fatty acids\",\"Fatty acids, total trans\",\"Cholesterol\",\"Carbohydrate\",\"Fiber\",\"Sugars\",\"Protein\",\"Calcium\",\"Iron\",\"Potassium\",\"Vitamin D\",\"Weight\"]\n",
    "key_list_try = [\"Fat\",\"Saturated fatty acids\",\"Cholesterol\",\"Carbohydrate\",\"Fiber\",\"Sugars\",\"Protein\"]"
   ]
  }
 ],
 "metadata": {
  "kernelspec": {
   "display_name": "Python 3 (ipykernel)",
   "language": "python",
   "name": "python3"
  },
  "language_info": {
   "codemirror_mode": {
    "name": "ipython",
    "version": 3
   },
   "file_extension": ".py",
   "mimetype": "text/x-python",
   "name": "python",
   "nbconvert_exporter": "python",
   "pygments_lexer": "ipython3",
   "version": "3.12.4"
  }
 },
 "nbformat": 4,
 "nbformat_minor": 5
}
