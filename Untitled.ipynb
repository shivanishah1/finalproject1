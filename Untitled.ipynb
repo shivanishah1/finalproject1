{
 "cells": [
  {
   "cell_type": "markdown",
   "id": "fb0ff908-e49f-4809-ab6f-2dfe54296455",
   "metadata": {},
   "source": [
    "PLAN: running a simulation\n",
    "- \n",
    "1. what are we doing... give a function. random walk. find limit point?"
   ]
  },
  {
   "cell_type": "code",
   "execution_count": 21,
   "id": "15834605-d1a7-459c-8988-9992822beda2",
   "metadata": {},
   "outputs": [],
   "source": [
    "import numpy as np\n",
    "import matplotlib.pyplot as plt\n",
    "from numpy import random as rng"
   ]
  },
  {
   "cell_type": "code",
   "execution_count": 94,
   "id": "e62581cb-aadc-4c1b-baf9-537ef1d959ab",
   "metadata": {},
   "outputs": [],
   "source": [
    "def in_circle(r,h,k,x,y):\n",
    "    if (x-h) ** 2 + (y-k) ** 2 <= r ** 2:\n",
    "        return True\n",
    "    return False\n",
    "\n",
    "def all_x_y_in_circle(r,h,k,epsilon):\n",
    "    ix = h - epsilon\n",
    "    iy = k - epsilon\n",
    "    while ix < (h + epsilon): \n",
    "        while iy < (k+epsilon):\n",
    "            if in_circle(r,h,k,ix,iy) == False:\n",
    "                print(r,ix,iy)\n",
    "                return True\n",
    "            iy = iy + (r / 10)\n",
    "        ix = ix + (r/10)\n",
    "    return False\n",
    "\n",
    "def distance_function(list1,list2):\n",
    "    if len(list1) != len(list2):\n",
    "        return \"something is wrong\"\n",
    "    sum = 0\n",
    "    for i in range(0,len(list1)):\n",
    "        difference_squared = (list1[i] - list2[i]) ** 2\n",
    "        sum = sum + difference_squared\n",
    "    return sum ** .5"
   ]
  },
  {
   "cell_type": "code",
   "execution_count": 98,
   "id": "43c6cc40-5c83-4ba7-975f-50dba96b7eb2",
   "metadata": {},
   "outputs": [],
   "source": [
    "def first_choice(r,h,k):\n",
    "    first_x = rng.uniform(h-r,h+r)\n",
    "    first_y = rng.uniform(k-r,k+r)\n",
    "    return first_x, first_y\n",
    "\n",
    "def choose_within_epsilon(r,h,k,epsilon,x,y):\n",
    "    going = True\n",
    "    while going == True:\n",
    "        chosen_x = rng.uniform(x-epsilon,x+epsilon)\n",
    "        chosen_y = rng.uniform(y-epsilon,y+epsilon)\n",
    "        if in_circle(r,h,k,chosen_x,chosen_y) and distance_function([h,k],[chosen_x,chosen_y]) < distance_function([h,k],[x,y]):\n",
    "            going == False\n",
    "            return chosen_x, chosen_y\n",
    "    return -99,-99\n",
    "\n",
    "def choose_within_epsilon2(r,h,k,epsilon,x,y):\n",
    "    distance_original = distance_function([h,k],[x,y])\n",
    "    radius = r - distance_original\n",
    "    distance_new = 0\n",
    "    new_x = 0\n",
    "    new_y = 0\n",
    "    while distance_new < distance_original:\n",
    "        new_x, new_y = first_choice(radius,x,y)\n",
    "        distance_new = distance_function([h,k],[new_x,new_y])\n",
    "    return new_x, new_y"
   ]
  },
  {
   "cell_type": "code",
   "execution_count": null,
   "id": "22a58775-4757-4ac0-8465-70532650e25a",
   "metadata": {},
   "outputs": [],
   "source": [
    "def recursive_helper(r,h,k,x,y,max_it):\n",
    "    if max_it < 0:\n",
    "        return (-999,-999)\n",
    "    epsilon = rng.random()\n",
    "    "
   ]
  },
  {
   "cell_type": "code",
   "execution_count": 96,
   "id": "d137709f-fcc0-4cf6-8baa-0387a0fe9566",
   "metadata": {},
   "outputs": [],
   "source": [
    "def recursive_helper(r,h,k,x,y,max_it):\n",
    "    if max_it < -1:\n",
    "        return (-999,-999)\n",
    "    epsilon = rng.random()\n",
    "    new_x, new_y = choose_within_epsilon(r,h,k,epsilon,x,y)\n",
    "    if all_x_y_in_circle(r,new_x,new_y,.005):\n",
    "        #limit point\n",
    "        return(new_x,new_y,max_it)\n",
    "    recursy = recursive_helper(r,h,k,new_x,new_y,max_it - 1)\n",
    "    print(\"recursy = \" + str(recursy) + str(max_it))\n",
    "    print(new_x,new_y)\n",
    "\n",
    "def recursive(r,h,k):\n",
    "    limit_points = []\n",
    "    first_x,first_y = first_choice(r,h,k)\n",
    "    print(first_x,first_y)\n",
    "    tuple = recursive_helper(r,h,k,first_x,first_y,40)\n",
    "    limit_points.append(tuple)\n",
    "    return limit_points\n",
    "    "
   ]
  },
  {
   "cell_type": "code",
   "execution_count": 97,
   "id": "22be5ee8-c401-4534-90e5-6209e8b5b1e4",
   "metadata": {},
   "outputs": [
    {
     "name": "stdout",
     "output_type": "stream",
     "text": [
      "0.12299264039279567 0.5951941008507287\n"
     ]
    },
    {
     "ename": "KeyboardInterrupt",
     "evalue": "",
     "output_type": "error",
     "traceback": [
      "\u001b[0;31m---------------------------------------------------------------------------\u001b[0m",
      "\u001b[0;31mKeyboardInterrupt\u001b[0m                         Traceback (most recent call last)",
      "Cell \u001b[0;32mIn[97], line 1\u001b[0m\n\u001b[0;32m----> 1\u001b[0m recursive(\u001b[38;5;241m1\u001b[39m,\u001b[38;5;241m0\u001b[39m,\u001b[38;5;241m0\u001b[39m)\n",
      "Cell \u001b[0;32mIn[96], line 17\u001b[0m, in \u001b[0;36mrecursive\u001b[0;34m(r, h, k)\u001b[0m\n\u001b[1;32m     15\u001b[0m first_x,first_y \u001b[38;5;241m=\u001b[39m first_choice(r,h,k)\n\u001b[1;32m     16\u001b[0m \u001b[38;5;28mprint\u001b[39m(first_x,first_y)\n\u001b[0;32m---> 17\u001b[0m \u001b[38;5;28mtuple\u001b[39m \u001b[38;5;241m=\u001b[39m recursive_helper(r,h,k,first_x,first_y,\u001b[38;5;241m40\u001b[39m)\n\u001b[1;32m     18\u001b[0m limit_points\u001b[38;5;241m.\u001b[39mappend(\u001b[38;5;28mtuple\u001b[39m)\n\u001b[1;32m     19\u001b[0m \u001b[38;5;28;01mreturn\u001b[39;00m limit_points\n",
      "Cell \u001b[0;32mIn[96], line 9\u001b[0m, in \u001b[0;36mrecursive_helper\u001b[0;34m(r, h, k, x, y, max_it)\u001b[0m\n\u001b[1;32m      6\u001b[0m \u001b[38;5;28;01mif\u001b[39;00m all_x_y_in_circle(r,new_x,new_y,\u001b[38;5;241m.005\u001b[39m):\n\u001b[1;32m      7\u001b[0m     \u001b[38;5;66;03m#limit point\u001b[39;00m\n\u001b[1;32m      8\u001b[0m     \u001b[38;5;28;01mreturn\u001b[39;00m(new_x,new_y,max_it)\n\u001b[0;32m----> 9\u001b[0m recursy \u001b[38;5;241m=\u001b[39m recursive_helper(r,h,k,new_x,new_y,max_it \u001b[38;5;241m-\u001b[39m \u001b[38;5;241m1\u001b[39m)\n\u001b[1;32m     10\u001b[0m \u001b[38;5;28mprint\u001b[39m(\u001b[38;5;124m\"\u001b[39m\u001b[38;5;124mrecursy = \u001b[39m\u001b[38;5;124m\"\u001b[39m \u001b[38;5;241m+\u001b[39m \u001b[38;5;28mstr\u001b[39m(recursy) \u001b[38;5;241m+\u001b[39m \u001b[38;5;28mstr\u001b[39m(max_it))\n\u001b[1;32m     11\u001b[0m \u001b[38;5;28mprint\u001b[39m(new_x,new_y)\n",
      "Cell \u001b[0;32mIn[96], line 9\u001b[0m, in \u001b[0;36mrecursive_helper\u001b[0;34m(r, h, k, x, y, max_it)\u001b[0m\n\u001b[1;32m      6\u001b[0m \u001b[38;5;28;01mif\u001b[39;00m all_x_y_in_circle(r,new_x,new_y,\u001b[38;5;241m.005\u001b[39m):\n\u001b[1;32m      7\u001b[0m     \u001b[38;5;66;03m#limit point\u001b[39;00m\n\u001b[1;32m      8\u001b[0m     \u001b[38;5;28;01mreturn\u001b[39;00m(new_x,new_y,max_it)\n\u001b[0;32m----> 9\u001b[0m recursy \u001b[38;5;241m=\u001b[39m recursive_helper(r,h,k,new_x,new_y,max_it \u001b[38;5;241m-\u001b[39m \u001b[38;5;241m1\u001b[39m)\n\u001b[1;32m     10\u001b[0m \u001b[38;5;28mprint\u001b[39m(\u001b[38;5;124m\"\u001b[39m\u001b[38;5;124mrecursy = \u001b[39m\u001b[38;5;124m\"\u001b[39m \u001b[38;5;241m+\u001b[39m \u001b[38;5;28mstr\u001b[39m(recursy) \u001b[38;5;241m+\u001b[39m \u001b[38;5;28mstr\u001b[39m(max_it))\n\u001b[1;32m     11\u001b[0m \u001b[38;5;28mprint\u001b[39m(new_x,new_y)\n",
      "    \u001b[0;31m[... skipping similar frames: recursive_helper at line 9 (18 times)]\u001b[0m\n",
      "Cell \u001b[0;32mIn[96], line 9\u001b[0m, in \u001b[0;36mrecursive_helper\u001b[0;34m(r, h, k, x, y, max_it)\u001b[0m\n\u001b[1;32m      6\u001b[0m \u001b[38;5;28;01mif\u001b[39;00m all_x_y_in_circle(r,new_x,new_y,\u001b[38;5;241m.005\u001b[39m):\n\u001b[1;32m      7\u001b[0m     \u001b[38;5;66;03m#limit point\u001b[39;00m\n\u001b[1;32m      8\u001b[0m     \u001b[38;5;28;01mreturn\u001b[39;00m(new_x,new_y,max_it)\n\u001b[0;32m----> 9\u001b[0m recursy \u001b[38;5;241m=\u001b[39m recursive_helper(r,h,k,new_x,new_y,max_it \u001b[38;5;241m-\u001b[39m \u001b[38;5;241m1\u001b[39m)\n\u001b[1;32m     10\u001b[0m \u001b[38;5;28mprint\u001b[39m(\u001b[38;5;124m\"\u001b[39m\u001b[38;5;124mrecursy = \u001b[39m\u001b[38;5;124m\"\u001b[39m \u001b[38;5;241m+\u001b[39m \u001b[38;5;28mstr\u001b[39m(recursy) \u001b[38;5;241m+\u001b[39m \u001b[38;5;28mstr\u001b[39m(max_it))\n\u001b[1;32m     11\u001b[0m \u001b[38;5;28mprint\u001b[39m(new_x,new_y)\n",
      "Cell \u001b[0;32mIn[96], line 5\u001b[0m, in \u001b[0;36mrecursive_helper\u001b[0;34m(r, h, k, x, y, max_it)\u001b[0m\n\u001b[1;32m      3\u001b[0m     \u001b[38;5;28;01mreturn\u001b[39;00m (\u001b[38;5;241m-\u001b[39m\u001b[38;5;241m999\u001b[39m,\u001b[38;5;241m-\u001b[39m\u001b[38;5;241m999\u001b[39m)\n\u001b[1;32m      4\u001b[0m epsilon \u001b[38;5;241m=\u001b[39m rng\u001b[38;5;241m.\u001b[39mrandom()\n\u001b[0;32m----> 5\u001b[0m new_x, new_y \u001b[38;5;241m=\u001b[39m choose_within_epsilon(r,h,k,epsilon,x,y)\n\u001b[1;32m      6\u001b[0m \u001b[38;5;28;01mif\u001b[39;00m all_x_y_in_circle(r,new_x,new_y,\u001b[38;5;241m.005\u001b[39m):\n\u001b[1;32m      7\u001b[0m     \u001b[38;5;66;03m#limit point\u001b[39;00m\n\u001b[1;32m      8\u001b[0m     \u001b[38;5;28;01mreturn\u001b[39;00m(new_x,new_y,max_it)\n",
      "Cell \u001b[0;32mIn[95], line 11\u001b[0m, in \u001b[0;36mchoose_within_epsilon\u001b[0;34m(r, h, k, epsilon, x, y)\u001b[0m\n\u001b[1;32m      9\u001b[0m chosen_x \u001b[38;5;241m=\u001b[39m rng\u001b[38;5;241m.\u001b[39muniform(x\u001b[38;5;241m-\u001b[39mepsilon,x\u001b[38;5;241m+\u001b[39mepsilon)\n\u001b[1;32m     10\u001b[0m chosen_y \u001b[38;5;241m=\u001b[39m rng\u001b[38;5;241m.\u001b[39muniform(y\u001b[38;5;241m-\u001b[39mepsilon,y\u001b[38;5;241m+\u001b[39mepsilon)\n\u001b[0;32m---> 11\u001b[0m \u001b[38;5;28;01mif\u001b[39;00m in_circle(r,h,k,chosen_x,chosen_y) \u001b[38;5;129;01mand\u001b[39;00m distance_function([h,k],[chosen_x,chosen_y]) \u001b[38;5;241m<\u001b[39m distance_function([h,k],[x,y]):\n\u001b[1;32m     12\u001b[0m     going \u001b[38;5;241m==\u001b[39m \u001b[38;5;28;01mFalse\u001b[39;00m\n\u001b[1;32m     13\u001b[0m     \u001b[38;5;28;01mreturn\u001b[39;00m chosen_x, chosen_y\n",
      "Cell \u001b[0;32mIn[94], line 18\u001b[0m, in \u001b[0;36mdistance_function\u001b[0;34m(list1, list2)\u001b[0m\n\u001b[1;32m     15\u001b[0m         ix \u001b[38;5;241m=\u001b[39m ix \u001b[38;5;241m+\u001b[39m (r\u001b[38;5;241m/\u001b[39m\u001b[38;5;241m10\u001b[39m)\n\u001b[1;32m     16\u001b[0m     \u001b[38;5;28;01mreturn\u001b[39;00m \u001b[38;5;28;01mFalse\u001b[39;00m\n\u001b[0;32m---> 18\u001b[0m \u001b[38;5;28;01mdef\u001b[39;00m \u001b[38;5;21mdistance_function\u001b[39m(list1,list2):\n\u001b[1;32m     19\u001b[0m     \u001b[38;5;28;01mif\u001b[39;00m \u001b[38;5;28mlen\u001b[39m(list1) \u001b[38;5;241m!=\u001b[39m \u001b[38;5;28mlen\u001b[39m(list2):\n\u001b[1;32m     20\u001b[0m         \u001b[38;5;28;01mreturn\u001b[39;00m \u001b[38;5;124m\"\u001b[39m\u001b[38;5;124msomething is wrong\u001b[39m\u001b[38;5;124m\"\u001b[39m\n",
      "\u001b[0;31mKeyboardInterrupt\u001b[0m: "
     ]
    }
   ],
   "source": [
    "recursive(1,0,0)"
   ]
  },
  {
   "cell_type": "code",
   "execution_count": 65,
   "id": "2d908af2-88e9-40ef-bb2e-b6f329912d0e",
   "metadata": {},
   "outputs": [
    {
     "data": {
      "text/plain": [
       "0.9821993926162234"
      ]
     },
     "execution_count": 65,
     "metadata": {},
     "output_type": "execute_result"
    }
   ],
   "source": [
    "(-0.8350059311918905) ** 2 + (-0.5338206510529423) ** 2"
   ]
  },
  {
   "cell_type": "code",
   "execution_count": 66,
   "id": "5dd8b168-6f38-4f68-9e57-467880ec32f2",
   "metadata": {},
   "outputs": [
    {
     "data": {
      "text/plain": [
       "True"
      ]
     },
     "execution_count": 66,
     "metadata": {},
     "output_type": "execute_result"
    }
   ],
   "source": [
    "(-0.8350059311918905) ** 2 + (-0.5338206510529423) ** 2 <= 1 ** 2"
   ]
  },
  {
   "cell_type": "code",
   "execution_count": null,
   "id": "078141e6-383d-48b9-8645-c555795b4da4",
   "metadata": {},
   "outputs": [],
   "source": []
  }
 ],
 "metadata": {
  "kernelspec": {
   "display_name": "Python 3 (ipykernel)",
   "language": "python",
   "name": "python3"
  },
  "language_info": {
   "codemirror_mode": {
    "name": "ipython",
    "version": 3
   },
   "file_extension": ".py",
   "mimetype": "text/x-python",
   "name": "python",
   "nbconvert_exporter": "python",
   "pygments_lexer": "ipython3",
   "version": "3.12.4"
  }
 },
 "nbformat": 4,
 "nbformat_minor": 5
}
