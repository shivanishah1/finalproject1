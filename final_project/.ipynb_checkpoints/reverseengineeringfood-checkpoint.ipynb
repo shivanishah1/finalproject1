{
 "cells": [
  {
   "cell_type": "markdown",
   "id": "ca331584-386a-4b05-82c3-5d49ece9df99",
   "metadata": {},
   "source": [
    "Reverse Engineering From Nutrition Labels\n",
    "1. create system of equations and equations\n",
    "2. create loss function\n",
    "3. gradient descent\n",
    "4. how to apply this to multiple formulas?"
   ]
  },
  {
   "cell_type": "code",
   "execution_count": 1,
   "id": "595548fe-4b17-4dfc-ab3d-e2d5ecb66ad9",
   "metadata": {},
   "outputs": [],
   "source": [
    "import numpy as np\n",
    "import csv\n",
    "import matplotlib.pyplot as plt"
   ]
  },
  {
   "cell_type": "code",
   "execution_count": 2,
   "id": "8889c5e6-ce96-465f-99c0-b326ccaff005",
   "metadata": {},
   "outputs": [],
   "source": [
    "#creating the overall dictionary: the one representing the nutrition label facts\n",
    "\n",
    "overall_dict = {}\n",
    "\n",
    "overall_dict[\"Fat\"] = 0\n",
    "overall_dict[\"Saturated fatty acids\"] = 0\n",
    "overall_dict[\"Fatty acids, total trans\"] = 0\n",
    "overall_dict[\"Cholesterol\"] = 0\n",
    "overall_dict[\"Sodium\"] = 0\n",
    "overall_dict[\"Carbohydrate\"] = 0\n",
    "overall_dict[\"Fiber\"] = 0\n",
    "overall_dict[\"Sugars\"] = 0\n",
    "overall_dict[\"Protein\"] = 0\n",
    "overall_dict[\"Calcium\"] = 0\n",
    "overall_dict[\"Iron\"] = 0\n",
    "overall_dict[\"Potassium\"] = 0\n",
    "overall_dict[\"Vitamin D\"] = 0\n",
    "overall_dict[\"Weight\"] = 0"
   ]
  },
  {
   "cell_type": "code",
   "execution_count": 3,
   "id": "8c79466a-e91f-4889-bc15-c2cf3512fe45",
   "metadata": {},
   "outputs": [],
   "source": [
    "#nutritional information for tates cookies per 10 grams (each number was initially for  28 grams. So I had to multiply \n",
    "#each number by (10 * (1 / 28)) to get the information for 10 grams)\n",
    "\n",
    "tates_dict = overall_dict.copy()\n",
    "tates_dict[\"Fat\"] = 7 * (10 * (1 / 28))\n",
    "tates_dict[\"Saturated fatty acids\"] = 4.5 * (10 * (1 / 28))\n",
    "tates_dict[\"Fatty acids, total trans\"] = 0 * (10 * (1 / 28))\n",
    "tates_dict[\"Cholesterol\"] = .025 * (10 * (1 / 28))\n",
    "tates_dict[\"Sodium\"] = .16 * (10 * (1 / 28))\n",
    "tates_dict[\"Carbohydrate\"] = 18 * (10 * (1 / 28))\n",
    "tates_dict[\"Fiber\"] = .8 * (10 * (1 / 28))\n",
    "tates_dict[\"Sugars\"] = 12 * (10 * (1 / 28))\n",
    "tates_dict[\"Protein\"] = 2 * (10 * (1 / 28))\n",
    "tates_dict[\"Calcium\"] = .0000001 * (10 * (1 / 28))\n",
    "tates_dict[\"Iron\"] = .0009 * (10 * (1 / 28))\n",
    "tates_dict[\"Potassium\"] = .01 * (10 * (1 / 28))\n",
    "tates_dict[\"Vitamin D\"] = .05 * (10 * (1 / 28))\n",
    "tates_dict[\"Weight\"] = 28 * (10 * (1 / 28))"
   ]
  },
  {
   "cell_type": "markdown",
   "id": "a0e3fc22-4a58-4bfb-b5e8-935fbd83af94",
   "metadata": {},
   "source": [
    "this isn't important:\n",
    "tates_dict = overall_dict.copy()\n",
    "tates_dict[\"Fat\"] = 7\n",
    "tates_dict[\"Saturated fatty acids\"] = 4.5\n",
    "tates_dict[\"Fatty acids, total trans\"] = 0\n",
    "tates_dict[\"Cholesterol\"] = .025\n",
    "tates_dict[\"Sodium\"] = .16\n",
    "tates_dict[\"Carbohydrate\"] = 18\n",
    "tates_dict[\"Fiber\"] = .8\n",
    "tates_dict[\"Sugars\"] = 12\n",
    "tates_dict[\"Protein\"] = 2\n",
    "tates_dict[\"Calcium\"] = .0000001\n",
    "tates_dict[\"Iron\"] = .0009\n",
    "tates_dict[\"Potassium\"] = .01\n",
    "tates_dict[\"Vitamin D\"] = .05\n",
    "tates_dict[\"Weight\"] = 28"
   ]
  },
  {
   "cell_type": "code",
   "execution_count": 4,
   "id": "197d9c9b-66b6-4f1c-8163-b12ab2cf6175",
   "metadata": {},
   "outputs": [
    {
     "data": {
      "text/plain": [
       "{'Fat': 2.4999999999999996,\n",
       " 'Saturated fatty acids': 1.607142857142857,\n",
       " 'Fatty acids, total trans': 0.0,\n",
       " 'Cholesterol': 0.008928571428571428,\n",
       " 'Sodium': 0.057142857142857134,\n",
       " 'Carbohydrate': 6.428571428571428,\n",
       " 'Fiber': 0.2857142857142857,\n",
       " 'Sugars': 4.285714285714285,\n",
       " 'Protein': 0.7142857142857142,\n",
       " 'Calcium': 3.5714285714285705e-08,\n",
       " 'Iron': 0.00032142857142857136,\n",
       " 'Potassium': 0.003571428571428571,\n",
       " 'Vitamin D': 0.017857142857142856,\n",
       " 'Weight': 9.999999999999998}"
      ]
     },
     "execution_count": 4,
     "metadata": {},
     "output_type": "execute_result"
    }
   ],
   "source": [
    "tates_dict"
   ]
  },
  {
   "cell_type": "code",
   "execution_count": 5,
   "id": "49a8e71d-eda2-4f84-a689-07cdca25c66b",
   "metadata": {},
   "outputs": [],
   "source": [
    "# function to transform the website information to dictionaries (with the keys of overall_dict) \n",
    "\n",
    "file1 = \"flour_unbleached_enriched_allpurpose_wheat.csv\"\n",
    "file2 = \"butter_salted.csv\"\n",
    "\n",
    "ingredient_dict = overall_dict.copy()\n",
    "\n",
    "def reader(file,ingredient_dict,desired_serving):\n",
    "    with open(file, 'r') as csvfile:\n",
    "        csvreader = csv.reader(csvfile)\n",
    "        for i,row in enumerate(csvreader):\n",
    "            if len(row) > 0 and row[0] in ingredient_dict:\n",
    "                if row[2] == \"mg\":\n",
    "                    ingredient_dict[row[0]] = (float(row[1]) / 1000) * desired_serving\n",
    "                elif row[2] == \"mcg\":\n",
    "                    ingredient_dict[row[0]] = (float(row[1]) / 1000000) * desired_serving\n",
    "                else: #grams\n",
    "                    ingredient_dict[row[0]] = (float(row[1])) * desired_serving\n",
    "            if i == 4:\n",
    "                index = row.index(\"g\")\n",
    "                ingredient_dict[\"Weight\"] = float(row[index-1]) * desired_serving\n",
    "    return ingredient_dict"
   ]
  },
  {
   "cell_type": "code",
   "execution_count": 6,
   "id": "ff597840-d25e-4934-9168-8ddae6bc16c6",
   "metadata": {},
   "outputs": [
    {
     "data": {
      "text/plain": [
       "{'Fat': 16.222,\n",
       " 'Saturated fatty acids': 10.274,\n",
       " 'Fatty acids, total trans': 0.656,\n",
       " 'Cholesterol': 0.043,\n",
       " 'Sodium': 0.1286,\n",
       " 'Carbohydrate': 0.02,\n",
       " 'Fiber': 0.0,\n",
       " 'Sugars': 0.02,\n",
       " 'Protein': 0.18,\n",
       " 'Calcium': 0.0048,\n",
       " 'Iron': 0.0,\n",
       " 'Potassium': 0.0048,\n",
       " 'Vitamin D': 0.0,\n",
       " 'Weight': 20.0}"
      ]
     },
     "execution_count": 6,
     "metadata": {},
     "output_type": "execute_result"
    }
   ],
   "source": [
    "reader(file2,ingredient_dict,2)"
   ]
  },
  {
   "cell_type": "code",
   "execution_count": 7,
   "id": "a59a8580-87b3-4ada-84a2-5378341e5d93",
   "metadata": {},
   "outputs": [],
   "source": [
    "#the various ingredients in Tate's. Transforming the online nutrritional information of each ingredient into individual dictionaries.\n",
    "desired_serving = 1\n",
    "\n",
    "semi_sweet_chocolate_file = \"semisweet_chocolate_chips_by_raleys.csv\"\n",
    "semi_sweet_chocolate_dict = overall_dict.copy()\n",
    "reader(semi_sweet_chocolate_file,semi_sweet_chocolate_dict,desired_serving)\n",
    "\n",
    "unbleached_flour_file = \"flour_unbleached_enriched_allpurpose_wheat.csv\"\n",
    "unbleached_flour_dict = overall_dict.copy()\n",
    "reader(unbleached_flour_file,unbleached_flour_dict,desired_serving)\n",
    "\n",
    "salted_butter_file = \"butter_salted.csv\"\n",
    "salted_butter_dict = overall_dict.copy()\n",
    "reader(salted_butter_file,salted_butter_dict,desired_serving)\n",
    "\n",
    "cane_sugar_file = \"granulated_pure_cane_sugar.csv\"\n",
    "cane_sugar_dict = overall_dict.copy()\n",
    "reader(cane_sugar_file,cane_sugar_dict,desired_serving)\n",
    "\n",
    "brown_cane_sugar_file = \"brown_sugar_cane_by_frusecha.csv\"\n",
    "brown_cane_sugar_dict = overall_dict.copy()\n",
    "reader(brown_cane_sugar_file,brown_cane_sugar_dict,desired_serving)\n",
    "\n",
    "eggs_file = \"egg_fresh_raw_whole.csv\"\n",
    "eggs_dict = overall_dict.copy()\n",
    "reader(eggs_file,eggs_dict,desired_serving)\n",
    "\n",
    "baking_soda_file = \"leavening_agents_baking_soda.csv\"\n",
    "baking_soda_dict = overall_dict.copy()\n",
    "reader(baking_soda_file,baking_soda_dict,desired_serving)\n",
    "\n",
    "salt_file = \"salt_table.csv\"\n",
    "salt_dict = overall_dict.copy()\n",
    "reader(salt_file,salt_dict,desired_serving)\n",
    "\n",
    "natural_vanilla_flavor_file = \"vanilla_flavoring_syrup_by_r_torre__coinc.csv\"\n",
    "natural_vanilla_flavor_dict = overall_dict.copy()\n",
    "reader(natural_vanilla_flavor_file,natural_vanilla_flavor_dict,desired_serving)\n",
    "\n",
    "dictionary_list = [semi_sweet_chocolate_dict,unbleached_flour_dict,salted_butter_dict,cane_sugar_dict,brown_cane_sugar_dict,eggs_dict,baking_soda_dict,salt_dict,natural_vanilla_flavor_dict]\n",
    "key_list = [\"Fat\",\"Saturated fatty acids\",\"Fatty acids, total trans\",\"Cholesterol\",\"Sodium\",\"Carbohydrate\",\"Fiber\",\"Sugars\",\"Protein\",\"Calcium\",\"Iron\",\"Potassium\",\"Vitamin D\",\"Weight\"]"
   ]
  },
  {
   "cell_type": "code",
   "execution_count": 8,
   "id": "e48da4db-13b4-4ac2-9651-687f6068a852",
   "metadata": {},
   "outputs": [],
   "source": [
    "#creates a list of whatever inputted number (a list of 9 numbers in this case)\n",
    "\n",
    "def building_x_list(number,dictionary_list):\n",
    "    x_list = []\n",
    "    for variable in range(0, len(dictionary_list)):\n",
    "        x_list.append(number)\n",
    "    return x_list\n",
    "\n",
    "x_list = building_x_list(1,dictionary_list)\n",
    "\n",
    "#getting the equations. and the gradients. because each variable has a degree of one, the gradients with respect to\n",
    "#each variable is just the constant before that variable\n",
    "\n",
    "#equations. This evaluates each equation (14 in this case) with the assumed inputted variable values.\n",
    "\n",
    "def equations(dictionary_list,x_list,desired_dict):\n",
    "    list_of_equations = []\n",
    "    for key in key_list:\n",
    "        equation = 0\n",
    "        for i,dictionary in enumerate(dictionary_list):\n",
    "            equation = equation + (dictionary[key] * (x_list[i]))\n",
    "        #subtracting tates. This is because initially we had a1x1 + a2x2 + ... + anxn = some constant C (the tates value in this case)\n",
    "        #so now, we have a1x1 + a2x2 + ... + anxn - C = 0.\n",
    "        list_of_equations.append(equation-(desired_dict[key]*desired_serving))\n",
    "    return list_of_equations\n",
    "\n",
    "\n",
    "#gradients. The first list is a list of partial derivatives of the first equation, and the list is in order of partial derivatives\n",
    "#of x1,...,xn. The second list is a list of partial derivatives of the second equation, etc. The returned list is a list of each\n",
    "#of these lists\n",
    "\n",
    "def gradients(dictionary_list,x_list):\n",
    "    list_of_gradients_of_equations = []\n",
    "    for key in key_list:\n",
    "        gradient = []\n",
    "        for dictionary in dictionary_list:\n",
    "            gradient.append(dictionary[key])\n",
    "        list_of_gradients_of_equations.append(gradient)\n",
    "    return list_of_gradients_of_equations"
   ]
  },
  {
   "cell_type": "code",
   "execution_count": 9,
   "id": "8032fe0c-5eda-40ff-8540-2142f5029e97",
   "metadata": {},
   "outputs": [],
   "source": [
    "def parameters(x_list,penalty_constant,dictionary_list):\n",
    "    list_of_parameters = []\n",
    "    list_of_parameters_over_0 = []\n",
    "    for i in range(0,len(x_list)-1):\n",
    "        parameter_for_over_0 = penalty_constant * ((max(0,(-1 * x_list[i]))) ** 2)\n",
    "        list_of_parameters_over_0.append(parameter_for_over_0)\n",
    "        parameter_for_inequality_individual_variable_list = building_x_list(0,dictionary_list)\n",
    "        parameter_for_inequalities = penalty_constant * ((max(0, x_list[i+1] - x_list[i])) ** 2)\n",
    "        parameter_for_inequality_individual_variable_list[i] = parameter_for_inequality_individual_variable_list[i] + (parameter_for_inequalities / 2)\n",
    "        parameter_for_inequality_individual_variable_list[i+1] = parameter_for_inequality_individual_variable_list[i+1]+ (parameter_for_inequalities / 2)\n",
    "        list_of_parameters.append(parameter_for_inequality_individual_variable_list)\n",
    "    ###for j in range(i+1,len(x_list)):\n",
    "            ###parameter_for_inequalities = penalty_constant * ((max(0, x_list[j] - x_list[i])) ** 2)\n",
    "            ###parameter_for_inequality_individual_variable_list[j-1] = parameter_for_inequalities\n",
    "        ###list_of_parameters.append(parameter_for_inequality_individual_variable_list)\n",
    "\n",
    "    #the last variable. because my above loop goes from 0 to the n-1 variable. \n",
    "    list_of_parameters_over_0.append(10 * (max(0,-x_list[-1]) ** 2))\n",
    "    list_of_parameters.append(list_of_parameters_over_0)\n",
    "\n",
    "    #what does this parameters list look like????\n",
    "    return list_of_parameters\n",
    "\n",
    "#change? penalize both variables for a > b. by half? i guess im already doing that? do i have to do forr j. or just its neighbor?\n",
    "def gradients_of_parameters(x_list,penalty_constant,dictionary_list):\n",
    "    list_of_gradients_of_parameters = []\n",
    "    list_gradient_over_0 = building_x_list(0,dictionary_list)\n",
    "    for i in range(0,len(x_list)-1):\n",
    "        list_gradient_over_0[i] = (-2 * penalty_constant) * max(0, -x_list[i])\n",
    "        penalty_gradients_inequalities = building_x_list(0,dictionary_list)\n",
    "        for j in range(i+1,len(x_list)):\n",
    "            penalty_gradients_inequalities[i] = penalty_gradients_inequalities[i] + ((-2 * penalty_constant) * max(0, x_list[j] - x_list[i]))\n",
    "            penalty_gradients_inequalities[j] = (2 * penalty_constant) * max(0, x_list[j] - x_list[i])\n",
    "        list_of_gradients_of_parameters.append(penalty_gradients_inequalities)\n",
    "    list_gradient_over_0[-1] = (-2 * penalty_constant) * max(0, -x_list[-1])\n",
    "    list_of_gradients_of_parameters.append(list_gradient_over_0)\n",
    "    \n",
    "    return list_of_gradients_of_parameters"
   ]
  },
  {
   "cell_type": "code",
   "execution_count": 10,
   "id": "e3453c06-d331-4f43-84b0-5eddd3260739",
   "metadata": {},
   "outputs": [
    {
     "data": {
      "text/plain": [
       "[[-72, 2, 4, 6, 8, 10, 12, 14, 16, 0, 0, 0, 0, 0],\n",
       " [0, -56, 2, 4, 6, 8, 10, 12, 14, 0, 0, 0, 0, 0],\n",
       " [0, 0, -42, 2, 4, 6, 8, 10, 12, 0, 0, 0, 0, 0],\n",
       " [0, 0, 0, -30, 2, 4, 6, 8, 10, 0, 0, 0, 0, 0],\n",
       " [0, 0, 0, 0, -20, 2, 4, 6, 8, 0, 0, 0, 0, 0],\n",
       " [0, 0, 0, 0, 0, -12, 2, 4, 6, 0, 0, 0, 0, 0],\n",
       " [0, 0, 0, 0, 0, 0, -6, 2, 4, 0, 0, 0, 0, 0],\n",
       " [0, 0, 0, 0, 0, 0, 0, -2, 2, 0, 0, 0, 0, 0],\n",
       " [0, 0, 0, 0, 0, 0, 0, 0, 0, 0, 0, 0, 0, 0]]"
      ]
     },
     "execution_count": 10,
     "metadata": {},
     "output_type": "execute_result"
    }
   ],
   "source": [
    "gradients_of_parameters([1,2,3,4,5,6,7,8,9],1,tates_dict)"
   ]
  },
  {
   "cell_type": "code",
   "execution_count": 11,
   "id": "3197fa65-76ff-4b82-a8d6-a715c7deba00",
   "metadata": {},
   "outputs": [],
   "source": [
    "def gradients_of_parameters2(x_list,penalty_constant,dictionary_list):\n",
    "    list_of_gradients_of_parameters = []\n",
    "    list_gradient_over_0 = building_x_list(0,dictionary_list)\n",
    "    for i in range(0,len(x_list)-1):\n",
    "        list_gradient_over_0[i] = (2 * penalty_constant) * max(0, -x_list[i])\n",
    "        penalty_gradients_inequalities = building_x_list(0,dictionary_list)\n",
    "        penalty_gradients_inequalities[i] = penalty_gradients_inequalities[i] + ((-2 * penalty_constant) * max(0, x_list[i+1] - x_list[i]))\n",
    "        penalty_gradients_inequalities[i+1] = (2 * penalty_constant) * max(0, x_list[i+1] - x_list[i])\n",
    "        list_of_gradients_of_parameters.append(penalty_gradients_inequalities)\n",
    "    list_gradient_over_0[-1] = (-2 * penalty_constant) * max(0, -x_list[-1])\n",
    "\n",
    "    #this is where gradient for over 0 goes. so this is the last list\n",
    "    list_of_gradients_of_parameters.append(list_gradient_over_0)\n",
    "    \n",
    "    return list_of_gradients_of_parameters"
   ]
  },
  {
   "cell_type": "code",
   "execution_count": 12,
   "id": "a5cb1fd5-ed3d-4d95-ad32-7b922c24f5b1",
   "metadata": {},
   "outputs": [
    {
     "data": {
      "text/plain": [
       "[[-2, 2, 0, 0, 0, 0, 0, 0, 0, 0, 0, 0, 0, 0],\n",
       " [0, -2, 2, 0, 0, 0, 0, 0, 0, 0, 0, 0, 0, 0],\n",
       " [0, 0, -2, 2, 0, 0, 0, 0, 0, 0, 0, 0, 0, 0],\n",
       " [0, 0, 0, -2, 2, 0, 0, 0, 0, 0, 0, 0, 0, 0],\n",
       " [0, 0, 0, 0, -2, 2, 0, 0, 0, 0, 0, 0, 0, 0],\n",
       " [0, 0, 0, 0, 0, -2, 2, 0, 0, 0, 0, 0, 0, 0],\n",
       " [0, 0, 0, 0, 0, 0, -2, 2, 0, 0, 0, 0, 0, 0],\n",
       " [0, 0, 0, 0, 0, 0, 0, -2, 2, 0, 0, 0, 0, 0],\n",
       " [0, 0, 0, 0, 0, 0, 0, 0, 0, 0, 0, 0, 0, 0]]"
      ]
     },
     "execution_count": 12,
     "metadata": {},
     "output_type": "execute_result"
    }
   ],
   "source": [
    "gradients_of_parameters2([1,2,3,4,5,6,7,8,9],1,tates_dict)"
   ]
  },
  {
   "cell_type": "code",
   "execution_count": 14,
   "id": "d88ec8cc-25d3-4140-af2e-878a50f2604c",
   "metadata": {},
   "outputs": [
    {
     "data": {
      "text/plain": [
       "'\\n\\ndef gradient_loss_function(dictionary_list,x_list):\\n    list_of_equations = equations(dictionary_list,x_list)\\n    list_of_gradients_of_equations = gradients(dictionary_list,x_list)\\n    list_of_gradients_loss = building_x_list(0)\\n    \\n    for gradient_list_in_question in list_of_gradients_of_equations:\\n        for j in range(0,len(gradient_list_in_question)):\\n            list_of_gradients_loss[j] = list_of_gradients_loss[j] + (2 * gradient_list_in_question[j] * list_of_equations[j])\\n                \\n    #list_of_gradients_loss = normalize_gradients(list_of_gradients_loss)\\n    return list_of_gradients_loss'"
      ]
     },
     "execution_count": 14,
     "metadata": {},
     "output_type": "execute_result"
    }
   ],
   "source": [
    "def normalize_gradients(gradients):\n",
    "    norm = np.linalg.norm(gradients)\n",
    "    if norm > 0:\n",
    "        return [g / norm for g in gradients]\n",
    "    return gradients\n",
    "\n",
    "def loss_function(dictionary_list,x_list,penalty_constant,desired_dict):\n",
    "    list_of_equations = equations(dictionary_list,x_list,desired_dict)\n",
    "    list_of_parameters = parameters(x_list,penalty_constant,dictionary_list)\n",
    "    loss = 0\n",
    "    for equation in list_of_equations:\n",
    "        loss = loss + (equation ** 2)\n",
    "    for parameter in list_of_parameters:\n",
    "        loss = loss + (np.sum(parameter))\n",
    "    return loss\n",
    "\n",
    "def gradient_loss_function(dictionary_list,x_list,penalty_constant,desired_dict):\n",
    "    list_of_equations = equations(dictionary_list,x_list,desired_dict)\n",
    "    list_of_gradients_of_equations = gradients(dictionary_list,x_list)\n",
    "    list_of_gradients_of_parameters = gradients_of_parameters2(x_list,penalty_constant,dictionary_list)\n",
    "    list_of_gradients_loss = building_x_list(0,dictionary_list)\n",
    "    list_of_gradients = list_of_gradients_of_equations + list_of_gradients_of_parameters\n",
    "    \n",
    "    for equation in list_of_equations:\n",
    "        for gradient_list_in_question in list_of_gradients:\n",
    "            for j in range(0,len(gradient_list_in_question)):\n",
    "                list_of_gradients_loss[j] = list_of_gradients_loss[j] + (2 * gradient_list_in_question[j] * equation)\n",
    "    list_of_gradients_loss = normalize_gradients(list_of_gradients_loss)\n",
    "    return list_of_gradients_loss\n",
    "\n",
    "\"\"\"\n",
    "\n",
    "def gradient_loss_function(dictionary_list,x_list):\n",
    "    list_of_equations = equations(dictionary_list,x_list)\n",
    "    list_of_gradients_of_equations = gradients(dictionary_list,x_list)\n",
    "    list_of_gradients_loss = building_x_list(0)\n",
    "    \n",
    "    for gradient_list_in_question in list_of_gradients_of_equations:\n",
    "        for j in range(0,len(gradient_list_in_question)):\n",
    "            list_of_gradients_loss[j] = list_of_gradients_loss[j] + (2 * gradient_list_in_question[j] * list_of_equations[j])\n",
    "                \n",
    "    #list_of_gradients_loss = normalize_gradients(list_of_gradients_loss)\n",
    "    return list_of_gradients_loss\"\"\""
   ]
  },
  {
   "cell_type": "code",
   "execution_count": 15,
   "id": "a4f48a70-8d9a-4350-a781-533248616cc4",
   "metadata": {},
   "outputs": [],
   "source": [
    "def gradient_loss_function_with_over_0_parameter(dictionary_list,x_list,penalty_constant,desired_dict):\n",
    "\n",
    "    initial_gradient_loss = gradient_loss_function(dictionary_list,x_list,penalty_constant,desired_dict)\n",
    "\n",
    "    for i in range(0,len(initial_gradient_loss)):\n",
    "        x_in_question = x_list[i]\n",
    "        initial_gradient_loss[i] = initial_gradient_loss[i] + ((-2 * penalty_constant) * max(0,-x_in_question))\n",
    "\n",
    "    #initial_gradient_loss = normalize_gradients(initial_gradient_loss)\n",
    "    return initial_gradient_loss"
   ]
  },
  {
   "cell_type": "code",
   "execution_count": 16,
   "id": "e3849f8d-ed07-4e38-8b74-afe73850aea4",
   "metadata": {},
   "outputs": [
    {
     "data": {
      "text/plain": [
       "[0.43633343339482544,\n",
       " 0.2963289064996615,\n",
       " 0.3748798256450995,\n",
       " 0.4730026483749984,\n",
       " 0.4222909307698685,\n",
       " 0.20037921875729772,\n",
       " 0.20080539099013267,\n",
       " -3.8127062449957982,\n",
       " 0.25229488261674043]"
      ]
     },
     "execution_count": 16,
     "metadata": {},
     "output_type": "execute_result"
    }
   ],
   "source": [
    "gradient_loss_function_with_over_0_parameter(dictionary_list,[9,8,7,6,5,4,3,-2,1],1,tates_dict)"
   ]
  },
  {
   "cell_type": "code",
   "execution_count": 17,
   "id": "9c66cc87-0c05-4ded-b2d5-61c0bc2f6a6e",
   "metadata": {},
   "outputs": [],
   "source": [
    "def gradient_loss_function_for_all_parameters(dictionary_list,x_list,penalty_constant,desired_dict):\n",
    "\n",
    "    initial_gradient_loss = gradient_loss_function_with_over_0_parameter(dictionary_list,x_list,penalty_constant,desired_dict)\n",
    "\n",
    "    for i in range(0,len(initial_gradient_loss)-1):\n",
    "        initial_gradient_loss[i] = initial_gradient_loss[i] + ((penalty_constant) * max(0,x_list[i+1] - x_list[i]))\n",
    "        initial_gradient_loss[i+1] = initial_gradient_loss[i+1] + ((-1* penalty_constant) * max(0,x_list[i+1] - x_list[i]))\n",
    "        ###for j in range(i+1, len(initial_gradient_loss)):\n",
    "            ###stable_x = x_list[i]\n",
    "            ###variable_x = x_list[j]\n",
    "            ###initial_gradient_loss[i] = initial_gradient_loss[i] + ((-2 * penalty_constant) * max(0,variable_x - stable_x))\n",
    "           ### initial_gradient_loss[j] = initial_gradient_loss[j] + ((2 * penalty_constant) * max(0,variable_x - stable_x))\n",
    "    \n",
    "    for i in range(len(initial_gradient_loss)):\n",
    "        initial_gradient_loss[i] += 2 * penalty_constant * (np.sum(x_list) - 1)\n",
    "    initial_gradient_loss = normalize_gradients(initial_gradient_loss)\n",
    "    return initial_gradient_loss"
   ]
  },
  {
   "cell_type": "code",
   "execution_count": 18,
   "id": "b30ceabb-8f26-41a0-9265-6ba563b37248",
   "metadata": {},
   "outputs": [
    {
     "data": {
      "text/plain": [
       "[0.3356643422060784,\n",
       " 0.3350800971837086,\n",
       " 0.33540789360951745,\n",
       " 0.3358173644461551,\n",
       " 0.3356057422276192,\n",
       " 0.3346796949345485,\n",
       " 0.3346814733699408,\n",
       " 0.3304520449252303,\n",
       " 0.3223772098855741]"
      ]
     },
     "execution_count": 18,
     "metadata": {},
     "output_type": "execute_result"
    }
   ],
   "source": [
    "gradient_loss_function_for_all_parameters(dictionary_list,[9,8,7,6,5,4,3,-2,1],1,tates_dict)"
   ]
  },
  {
   "cell_type": "code",
   "execution_count": 163,
   "id": "e6fe3a9f-3bc0-4931-b759-c8fc05408fe0",
   "metadata": {},
   "outputs": [],
   "source": [
    "# Gradient descent parameters\n",
    "\n",
    "learning_rate = 0.00001\n",
    "tolerance = 1e-6\n",
    "max_iters = 10000\n",
    "\n",
    "\n",
    "def updating_x_values(dictionary_list,x_listy,penalty_constant,desired_dict,max_iters,clipping,graphing):\n",
    "    \n",
    "    if graphing == True:\n",
    "        fig, ax = plt.subplots()\n",
    "    \n",
    "    for i in range(0,max_iters):\n",
    "        gradient_loss_list = gradient_loss_function(dictionary_list,x_listy,penalty_constant,desired_dict)\n",
    "        loss_before = loss_function(dictionary_list,x_listy,penalty_constant,desired_dict)\n",
    "        \n",
    "        for j in range(0,len(x_listy)):\n",
    "            x_listy[j] = x_listy[j] - (learning_rate * gradient_loss_list[j])\n",
    "            if clipping == True:\n",
    "                x_listy[j] = max(x_listy[j],0)\n",
    "                x_listy[-1] = min(x_listy[-1],.004)\n",
    "                x_listy[-2] = min(x_listy[-2],.004)\n",
    "                x_listy[-3] = min(x_listy[-3],.004)\n",
    "        loss_after = loss_function(dictionary_list,x_listy,penalty_constant,desired_dict)\n",
    "        if graphing == True:\n",
    "            plt.plot(i,loss_after,\"or\")\n",
    "        \n",
    "        ###if i > 1 and loss_before < loss_after:\n",
    "           ### print(\"increasing now\",i)\n",
    "           ### break\n",
    "    if graphing == True:\n",
    "        plt.show()\n",
    "        print(\"Solution:\", x_listy)\n",
    "        print(\"Loss at solution:\", loss_after)\n",
    "        x_for_one_serving_of_tates = []\n",
    "        for x in x_listy:\n",
    "            x_for_one_serving_of_tates.append(x * 1242)\n",
    "        print(\"for one serving:\", x_for_one_serving_of_tates)\n",
    "        print(\"weight:\", np.sum(x_listy) * 10)\n",
    "    return loss_after"
   ]
  },
  {
   "cell_type": "code",
   "execution_count": 74,
   "id": "1947bb12-1345-4d76-839a-e618d3c4fafe",
   "metadata": {},
   "outputs": [
    {
     "data": {
      "image/png": "[encoded data removed]",
      "text/plain": [
       "<Figure size 640x480 with 1 Axes>"
      ]
     },
     "metadata": {},
     "output_type": "display_data"
    },
    {
     "name": "stdout",
     "output_type": "stream",
     "text": [
      "Solution: [0.555838842756802, 0.5699328930029762, 0.46201977740480626, 0.2520786538926563, 0.15721641322530025, 0.07969896801259702, -0.019403084080406655, -0.021214803713107397, -0.014951619199855236]\n",
      "Loss at solution: 150.5821484511622\n",
      "for one serving: [690.351842703948, 707.8566531096965, 573.8285635367694, 313.08168813467915, 195.2627852258229, 98.9861182716455, -24.098630427865064, -26.348786211679386, -18.569911046220202]\n",
      "weight: 20.212160413017685\n"
     ]
    },
    {
     "data": {
      "text/plain": [
       "150.5821484511622"
      ]
     },
     "execution_count": 74,
     "metadata": {},
     "output_type": "execute_result"
    }
   ],
   "source": [
    "updating_x_values(dictionary_list,[.6,.6,.5,.3,.2,.1,.001,.001,.001],2,tates_dict,False)"
   ]
  },
  {
   "cell_type": "code",
   "execution_count": 45,
   "id": "ebc6a2e8-0856-4182-8616-abea51e4bf41",
   "metadata": {},
   "outputs": [
    {
     "data": {
      "image/png": "[encoded data removed]",
      "text/plain": [
       "<Figure size 640x480 with 1 Axes>"
      ]
     },
     "metadata": {},
     "output_type": "display_data"
    },
    {
     "name": "stdout",
     "output_type": "stream",
     "text": [
      "Solution: [0.31388868068074727, 0.22226691307853944, 0.20756622324906307, 0.12169715908472961, 0.1247261613845653, 0.08800879014654817, 2.0347901357287574e-06, 2.217274071348755e-06, 1.5978460257579782e-06]\n",
      "Loss at solution: 0.9545768367842937\n",
      "for one serving: [389.8497414054881, 276.05550604354596, 257.79724927533636, 151.14787158323418, 154.9098924396301, 109.30691736201283, 0.0025272093485751166, 0.0027538543966151535, 0.001984524763991409]\n",
      "weight: 10.781597775344256\n"
     ]
    }
   ],
   "source": [
    "updating_x_values(dictionary_list,[.34,.24,.23,.15,.15,.1,.001,.001,.001],1,tates_dict,True)"
   ]
  },
  {
   "cell_type": "code",
   "execution_count": 21,
   "id": "657c9aaf-7b7c-4c04-b8a0-144086a19805",
   "metadata": {},
   "outputs": [
    {
     "data": {
      "text/plain": [
       "[0.13348369815124617,\n",
       " 0.007587426265371455,\n",
       " 0.06832727716794888,\n",
       " -0.0012053181872727116,\n",
       " -0.04198611864712863,\n",
       " -0.42771372591160084,\n",
       " -0.07566038847396589,\n",
       " -0.3780807497670762,\n",
       " -0.08407035474622548,\n",
       " 0.0019089950226989377,\n",
       " -9.818186335162796e-05,\n",
       " 0.0011352600502228319,\n",
       " -0.017857125289864238,\n",
       " 0.7654453210301284]"
      ]
     },
     "execution_count": 21,
     "metadata": {},
     "output_type": "execute_result"
    }
   ],
   "source": [
    "equations(dictionary_list,[0.3135132794631639, 0.22201196531657166, 0.2072436938890772, 0.11967056682320072, 0.12598248422829858, 0.08783639308289132, 0.00018081445230862768, 0, 0.00010533484750083243],tates_dict)"
   ]
  },
  {
   "cell_type": "markdown",
   "id": "55968d67-1edc-44e7-b0f9-e34ec14dbc0c",
   "metadata": {},
   "source": [
    "updating_x_values(dictionary_list,building_x_list(.1),1,True)"
   ]
  },
  {
   "cell_type": "code",
   "execution_count": null,
   "id": "13582545-09fe-46ea-8fff-00f3bf018444",
   "metadata": {},
   "outputs": [],
   "source": [
    "#what if we did this but just with the heavy ingredients (so exluding vanilla, baking soda, etc.)"
   ]
  },
  {
   "cell_type": "code",
   "execution_count": 46,
   "id": "996054c2-9c62-46d8-b797-f23dd4a9a1a6",
   "metadata": {},
   "outputs": [],
   "source": [
    "heavy_tates_dict = tates_dict.copy()\n",
    "heavy_tates_dict[\"Weight\"] += -.01"
   ]
  },
  {
   "cell_type": "code",
   "execution_count": 47,
   "id": "20093601-9d7a-4a8d-8cc9-45fa8135e88f",
   "metadata": {},
   "outputs": [
    {
     "data": {
      "image/png": "[encoded data removed]",
      "text/plain": [
       "<Figure size 640x480 with 1 Axes>"
      ]
     },
     "metadata": {},
     "output_type": "display_data"
    },
    {
     "name": "stdout",
     "output_type": "stream",
     "text": [
      "Solution: [0.31389146255073913, 0.2222688023412683, 0.20756861331790213, 0.12170302504682637, 0.12472600342048824, 0.08801006767629616]\n",
      "Loss at solution: 0.9545949537664286\n",
      "for one serving: [389.853196488018, 276.0578525078552, 257.80021774083446, 151.15515710815836, 154.9096962482464, 109.30850405395982]\n",
      "weight: 10.781679743535202\n"
     ]
    }
   ],
   "source": [
    "heavy_dictionary_list = [semi_sweet_chocolate_dict,unbleached_flour_dict,salted_butter_dict,cane_sugar_dict,brown_cane_sugar_dict,eggs_dict]\n",
    "updating_x_values(heavy_dictionary_list,[.34,.24,.23,.15,.15,.1],2,tates_dict,False)"
   ]
  },
  {
   "cell_type": "code",
   "execution_count": 89,
   "id": "1314c008-c274-465f-b068-5bfcd1fb86a7",
   "metadata": {},
   "outputs": [],
   "source": [
    "#nutritional information for tates cookies per 10 grams (each number was initially for  28 grams. So I had to multiply \n",
    "#each number by (10 * (1 / 28)) to get the information for 10 grams)\n",
    "\n",
    "tates_dict_gluten_free = overall_dict.copy()\n",
    "tates_dict_gluten_free[\"Fat\"] = 7 * (10 * (1 / 28))\n",
    "tates_dict_gluten_free[\"Saturated fatty acids\"] = 4.5 * (10 * (1 / 28))\n",
    "tates_dict_gluten_free[\"Fatty acids, total trans\"] = 0 * (10 * (1 / 28))\n",
    "tates_dict_gluten_free[\"Cholesterol\"] = .020 * (10 * (1 / 28))\n",
    "tates_dict_gluten_free[\"Sodium\"] = .135 * (10 * (1 / 28))\n",
    "tates_dict_gluten_free[\"Carbohydrate\"] = 19 * (10 * (1 / 28))\n",
    "tates_dict_gluten_free[\"Fiber\"] = .8 * (10 * (1 / 28))\n",
    "tates_dict_gluten_free[\"Sugars\"] = 12 * (10 * (1 / 28))\n",
    "tates_dict_gluten_free[\"Protein\"] = 1 * (10 * (1 / 28))\n",
    "tates_dict_gluten_free[\"Calcium\"] = .01 * (10 * (1 / 28))\n",
    "tates_dict_gluten_free[\"Iron\"] = .0007 * (10 * (1 / 28))\n",
    "tates_dict_gluten_free[\"Potassium\"] = .04 * (10 * (1 / 28))\n",
    "tates_dict_gluten_free[\"Vitamin D\"] = .0 * (10 * (1 / 28))\n",
    "tates_dict_gluten_free[\"Weight\"] = 28 * (10 * (1 / 28))\n",
    "\n",
    "rice_flour_file = \"rice_flour_unenriched_white.csv\"\n",
    "rice_flour_dict = overall_dict.copy()\n",
    "reader(rice_flour_file,rice_flour_dict,desired_serving)\n",
    "\n",
    "xanthan_gum_file = \"xanthan_gum_by_namaste.csv\"\n",
    "xanthan_gum_dict = overall_dict.copy()\n",
    "reader(xanthan_gum_file,xanthan_gum_dict,desired_serving)\n",
    "\n",
    "dictionary_list_gluten_free = [semi_sweet_chocolate_dict,rice_flour_dict,salted_butter_dict,cane_sugar_dict,brown_cane_sugar_dict,eggs_dict,natural_vanilla_flavor_dict,baking_soda_dict,salt_dict,xanthan_gum_dict]\n",
    "dictionary_list_gluten_free_heavy = [semi_sweet_chocolate_dict,rice_flour_dict,salted_butter_dict,cane_sugar_dict,brown_cane_sugar_dict,eggs_dict]"
   ]
  },
  {
   "cell_type": "code",
   "execution_count": 85,
   "id": "84e55014-b703-4bb6-82ae-d99369eb652c",
   "metadata": {},
   "outputs": [
    {
     "data": {
      "image/png": "[encoded data removed]",
      "text/plain": [
       "<Figure size 640x480 with 1 Axes>"
      ]
     },
     "metadata": {},
     "output_type": "display_data"
    },
    {
     "name": "stdout",
     "output_type": "stream",
     "text": [
      "Solution: [0.3161875226910055, 0.2236172374024163, 0.20954129420631137, 0.12280437307885074, 0.12833584124668043, 0.08906449693133044, -0.00027691355806640553, -0.0008322133168373051, -0.001148834182592649, -0.03242040469636936]\n",
      "Loss at solution: 1.172747440863708\n",
      "for one serving: [392.7049031822288, 277.732608853801, 260.25028740423875, 152.52303136393263, 159.3931148283771, 110.6181051887124, -0.34392663911847565, -1.033608939511933, -1.42685205478007, -40.26614263289074]\n",
      "weight: 10.54872399802729\n"
     ]
    }
   ],
   "source": [
    "updating_x_values(dictionary_list_gluten_free,[.34,.24,.23,.15,.15,.1,.005,.005,.005,.001],2,tates_dict_gluten_free,False)"
   ]
  },
  {
   "cell_type": "code",
   "execution_count": 91,
   "id": "cb3c5910-8df4-4109-9415-32fb992d7c67",
   "metadata": {},
   "outputs": [
    {
     "data": {
      "image/png": "[encoded data removed]",
      "text/plain": [
       "<Figure size 640x480 with 1 Axes>"
      ]
     },
     "metadata": {},
     "output_type": "display_data"
    },
    {
     "name": "stdout",
     "output_type": "stream",
     "text": [
      "Solution: [0.31186873080257166, 0.22064594880868854, 0.2058307649957996, 0.11768216182357884, 0.12459651141559284, 0.08708116015640663]\n",
      "Loss at solution: 1.16071117537799\n",
      "for one serving: [387.340963656794, 274.04226842039117, 255.64181012478312, 146.16124498488492, 154.7488671781663, 108.15480091425704]\n",
      "weight: 10.677052780026381\n"
     ]
    }
   ],
   "source": [
    "heavy_tates_gluten_free_dict = tates_dict_gluten_free.copy()\n",
    "heavy_tates_gluten_free_dict[\"Weight\"] += -.02\n",
    "updating_x_values(dictionary_list_gluten_free_heavy,[.34,.24,.23,.15,.15,.1],2,heavy_tates_gluten_free_dict,False)"
   ]
  },
  {
   "cell_type": "code",
   "execution_count": null,
   "id": "2e27d21a-67f7-47cc-a644-38b1bdb05cf0",
   "metadata": {},
   "outputs": [],
   "source": [
    "#what happens if we rrandomize our inputs?"
   ]
  },
  {
   "cell_type": "code",
   "execution_count": 83,
   "id": "8801a26e-9101-47d4-96e6-586770dd7f77",
   "metadata": {},
   "outputs": [],
   "source": [
    "def random_list(dictionary_list):\n",
    "    first = np.random.uniform(0,.5)\n",
    "    count = first\n",
    "    listy = [first]\n",
    "    for i in range(0,len(dictionary_list)-1):\n",
    "        next = np.random.uniform(0,(1 - count)/2)\n",
    "        count = count + next\n",
    "        listy.append(next)\n",
    "\n",
    "    list_sort = sorted(listy,reverse=True)\n",
    "    return list_sort"
   ]
  },
  {
   "cell_type": "code",
   "execution_count": 96,
   "id": "0aeb7095-1927-4c85-b06e-ddf55d7639e7",
   "metadata": {},
   "outputs": [],
   "source": [
    "def lets_look_at_randomized(dictionary_list,penalty_constant,desired_dict,clipping,graphing):\n",
    "    loss_list = []\n",
    "    for i in range(0,5):\n",
    "        x_list = random_list(dictionary_list)\n",
    "        print(str(i) + \": starting list: \",x_list)\n",
    "        loss = updating_x_values(dictionary_list,x_list,penalty_constant,desired_dict,10000,clipping,graphing)\n",
    "        print(str(i) + \": ending list: \",x_list)\n",
    "        print(str(i) + \": loss: \" + str(loss))\n",
    "\n",
    "    return"
   ]
  },
  {
   "cell_type": "code",
   "execution_count": 97,
   "id": "ea228421-8066-4ef5-8e38-78aebb40d004",
   "metadata": {},
   "outputs": [
    {
     "name": "stdout",
     "output_type": "stream",
     "text": [
      "0: starting list:  [0.4355119374543416, 0.15501689756396858, 0.1491829513108807, 0.09045399241671492, 0.0587415119783096, 0.03667049747629786, 0.030494203634201293, 0.007352602598894415, 0.0019342398959865026]\n",
      "0: ending list:  [0.4505791830646933, 0.1652495776062861, 0.16212811199550384, 0.10678748082711668, 0.07332384898476818, 0.04358989139197234, 0.03742831391403822, 0.014909035120675105, 0.007379661597134945]\n",
      "0: loss: 0.7233513231041233\n",
      "1: starting list:  [0.33465166730200024, 0.16412881695670228, 0.15836518174091596, 0.08162971208809944, 0.07387737659215854, 0.06441108996393993, 0.044725721445075896, 0.028784441948055402, 0.023505561454535688]\n",
      "1: ending list:  [0.3582959247913578, 0.18018643810299886, 0.17867935995142012, 0.10726101960535443, 0.0967606918241045, 0.07526934074476606, 0.055607065863077725, 0.04064236481378731, 0.0320507830677305]\n",
      "1: loss: 2.5651418036528435\n",
      "2: starting list:  [0.42129601299785036, 0.1590113825968834, 0.12163166183355187, 0.10299164527683817, 0.05142706062970585, 0.03621425811048433, 0.03159653180341298, 0.014276556107136905, 0.008267413952486868]\n",
      "2: ending list:  [0.44078439875204, 0.17224660960002375, 0.13837528516037664, 0.12411782394850628, 0.07028825239159613, 0.0451639906164422, 0.04056529885550262, 0.024050251692804166, 0.01531067065984851]\n",
      "2: loss: 0.7420182626644233\n",
      "3: starting list:  [0.4623002102355154, 0.15594570584849798, 0.148595137437234, 0.06948577903527828, 0.050563739503602094, 0.02442749557062339, 0.021645634592500997, 0.01972153441729842, 0.012183696521023442]\n",
      "3: ending list:  [0.47805715370824053, 0.16664678321672086, 0.1621328582940144, 0.08656692712645485, 0.06581357785193505, 0.03166362230630075, 0.028897151328816498, 0.027623859977032067, 0.017878380483163894]\n",
      "3: loss: 0.9389700360503848\n",
      "4: starting list:  [0.4038474241013327, 0.19755475186356486, 0.10344347646014056, 0.07588253781862193, 0.06397581809606964, 0.027423031456256998, 0.024959400774153484, 0.006109791290048533, 0.0046639221317687826]\n",
      "4: ending list:  [0.43049805688870457, 0.21565410494313372, 0.1263406092673049, 0.10477287471355771, 0.089768754561735, 0.0396619124784673, 0.03722431179729186, 0.0194754530392271, 0.014295671549186192]\n",
      "4: loss: 0.8135992002063852\n"
     ]
    }
   ],
   "source": [
    "lets_look_at_randomized(dictionary_list,1,tates_dict,True,False)"
   ]
  },
  {
   "cell_type": "code",
   "execution_count": 166,
   "id": "2da9df4d-755f-4132-95b9-f68ef0da8825",
   "metadata": {},
   "outputs": [],
   "source": [
    "def finding_the_best_from_randomized(dictionary_list,penalty_constant,desired_dict,clipping,graphing):\n",
    "    loss_list = []\n",
    "    lowest_loss = 5\n",
    "    lowest_loss_x_values = []\n",
    "    fig, ax = plt.subplots()\n",
    "    \n",
    "    for i in range(0,50):\n",
    "        x_list = generate_random_floats(dictionary_list)\n",
    "        loss = updating_x_values(dictionary_list,x_list,penalty_constant,desired_dict,10000,clipping,graphing)\n",
    "        if loss < lowest_loss:\n",
    "            lowest_loss = loss\n",
    "            lowest_loss_x_values = x_list\n",
    "        plt.plot(i,lowest_loss,\"or\")\n",
    "    plt.show()\n",
    "    serving = []\n",
    "    for number in lowest_loss_x_values:\n",
    "        serving.append(number * 1242) \n",
    "\n",
    "    return lowest_loss, lowest_loss_x_values, serving"
   ]
  },
  {
   "cell_type": "code",
   "execution_count": 165,
   "id": "d3149350-6b6e-4a87-8ef6-d319049eee7a",
   "metadata": {},
   "outputs": [
    {
     "data": {
      "image/png": "[encoded data removed]",
      "text/plain": [
       "<Figure size 640x480 with 1 Axes>"
      ]
     },
     "metadata": {},
     "output_type": "display_data"
    },
    {
     "data": {
      "text/plain": [
       "(0.4842410189130456,\n",
       " [0.22555190433298367,\n",
       "  0.18887739682368748,\n",
       "  0.19183392963620652,\n",
       "  0.19405723693058255,\n",
       "  0.13071630897807682,\n",
       "  0.08830087086345269,\n",
       "  0.004,\n",
       "  0.004,\n",
       "  0.004],\n",
       " [280.13546518156573,\n",
       "  234.58572685501986,\n",
       "  238.2577406081685,\n",
       "  241.01908826778353,\n",
       "  162.3496557507714,\n",
       "  109.66968161240824,\n",
       "  4.968,\n",
       "  4.968,\n",
       "  4.968])"
      ]
     },
     "execution_count": 165,
     "metadata": {},
     "output_type": "execute_result"
    }
   ],
   "source": [
    "finding_the_best_from_randomized(dictionary_list,1,tates_dict,True,False)"
   ]
  },
  {
   "cell_type": "code",
   "execution_count": 167,
   "id": "c92bdc46-30a0-4b2e-8cb7-b28133b193e8",
   "metadata": {},
   "outputs": [
    {
     "data": {
      "image/png": "[encoded data removed]",
      "text/plain": [
       "<Figure size 640x480 with 1 Axes>"
      ]
     },
     "metadata": {},
     "output_type": "display_data"
    },
    {
     "data": {
      "text/plain": [
       "(0.4943728127499613,\n",
       " [0.33273398590972714,\n",
       "  0.2348399272298879,\n",
       "  0.1669974310073821,\n",
       "  0.1623392331705666,\n",
       "  0.09468143538143592,\n",
       "  0.06009699290734059,\n",
       "  0.00399796534322775,\n",
       "  0.003997782389286618,\n",
       "  0.003998402164993685],\n",
       " [413.25561049988113,\n",
       "  291.67118961952076,\n",
       "  207.41080931116858,\n",
       "  201.6253275978437,\n",
       "  117.59434274374341,\n",
       "  74.64046519091701,\n",
       "  4.965472956288866,\n",
       "  4.965245727493979,\n",
       "  4.9660154889221575])"
      ]
     },
     "execution_count": 167,
     "metadata": {},
     "output_type": "execute_result"
    }
   ],
   "source": [
    "finding_the_best_from_randomized(dictionary_list,1,tates_dict,True,False)"
   ]
  },
  {
   "cell_type": "code",
   "execution_count": 161,
   "id": "43267d0d-1430-4a06-9993-d7c0f6cc45d3",
   "metadata": {},
   "outputs": [
    {
     "data": {
      "image/png": "[encoded data removed]",
      "text/plain": [
       "<Figure size 640x480 with 1 Axes>"
      ]
     },
     "metadata": {},
     "output_type": "display_data"
    },
    {
     "data": {
      "text/plain": [
       "(0.03901976797640088,\n",
       " [0.5322057258333126,\n",
       "  0.17940677602496438,\n",
       "  0.12921440360381953,\n",
       "  0.12746769111866538,\n",
       "  0.026311041734278316,\n",
       "  0.015604637843769224],\n",
       " [660.9995114849743,\n",
       "  222.82321582300577,\n",
       "  160.48428927594387,\n",
       "  158.31487236938239,\n",
       "  32.67831383397367,\n",
       "  19.380960201961376])"
      ]
     },
     "execution_count": 161,
     "metadata": {},
     "output_type": "execute_result"
    }
   ],
   "source": [
    "finding_the_best_from_randomized(heavy_dictionary_list,1,heavy_tates_dict,False,False)"
   ]
  },
  {
   "cell_type": "code",
   "execution_count": 155,
   "id": "dd9a03f9-4e39-47c9-92c8-a1be65a38f7b",
   "metadata": {},
   "outputs": [
    {
     "data": {
      "image/png": "[encoded data removed]",
      "text/plain": [
       "<Figure size 640x480 with 1 Axes>"
      ]
     },
     "metadata": {},
     "output_type": "display_data"
    },
    {
     "data": {
      "text/plain": [
       "(1.9283811417932915,\n",
       " [0.23388511916314458,\n",
       "  0.1782392452401095,\n",
       "  0.17623555366985671,\n",
       "  0.1776842324446226,\n",
       "  0.15390017458767516,\n",
       "  0.0594650789112539,\n",
       "  0.05019582069438378,\n",
       "  0.04764259555602229,\n",
       "  0.03871539762227578],\n",
       " [290.48531800062557,\n",
       "  221.373142588216,\n",
       "  218.88455765796203,\n",
       "  220.68381669622124,\n",
       "  191.14401683789254,\n",
       "  73.85562800777734,\n",
       "  62.343209302424654,\n",
       "  59.17210368057968,\n",
       "  48.08452384686652])"
      ]
     },
     "execution_count": 155,
     "metadata": {},
     "output_type": "execute_result"
    }
   ],
   "source": [
    "finding_the_best_from_randomized(dictionary_list,1,tates_dict,True,False)"
   ]
  },
  {
   "cell_type": "code",
   "execution_count": 152,
   "id": "1fd05239-06bc-400f-b438-c69d017d749c",
   "metadata": {},
   "outputs": [],
   "source": [
    "def generate_random_floats(dictionary_list):\n",
    "    # Generate `n` random values\n",
    "    random_values = np.random.uniform(0, 1, len(dictionary_list))\n",
    "    # Normalize so their sum equals 1\n",
    "    normalized_values = random_values / np.sum(random_values)\n",
    "    normalized_values.sort()\n",
    "    lst = normalized_values.tolist()\n",
    "    lsty = sorted(lst,reverse=True)\n",
    "    return lsty"
   ]
  },
  {
   "cell_type": "code",
   "execution_count": 149,
   "id": "9475e82a-d358-47d0-a07c-f943c4905b26",
   "metadata": {},
   "outputs": [
    {
     "data": {
      "text/plain": [
       "[0.17260552086573652,\n",
       " 0.15280959446353318,\n",
       " 0.15007714290372715,\n",
       " 0.1459738098358118,\n",
       " 0.13337811204719216,\n",
       " 0.10416444889576736,\n",
       " 0.06577427492431806,\n",
       " 0.055504894416101305,\n",
       " 0.01971220164781241]"
      ]
     },
     "execution_count": 149,
     "metadata": {},
     "output_type": "execute_result"
    }
   ],
   "source": [
    "generate_random_floats()"
   ]
  },
  {
   "cell_type": "code",
   "execution_count": null,
   "id": "cabbc840-c148-4cc2-a299-0371f0b5fee7",
   "metadata": {},
   "outputs": [],
   "source": []
  }
 ],
 "metadata": {
  "kernelspec": {
   "display_name": "Python 3 (ipykernel)",
   "language": "python",
   "name": "python3"
  },
  "language_info": {
   "codemirror_mode": {
    "name": "ipython",
    "version": 3
   },
   "file_extension": ".py",
   "mimetype": "text/x-python",
   "name": "python",
   "nbconvert_exporter": "python",
   "pygments_lexer": "ipython3",
   "version": "3.12.4"
  }
 },
 "nbformat": 4,
 "nbformat_minor": 5
}
