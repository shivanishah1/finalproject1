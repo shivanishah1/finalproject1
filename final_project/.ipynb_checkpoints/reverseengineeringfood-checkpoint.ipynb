{
 "cells": [
  {
   "cell_type": "markdown",
   "id": "ca331584-386a-4b05-82c3-5d49ece9df99",
   "metadata": {},
   "source": [
    "Reverse Engineering From Nutrition Labels\n",
    "1. create system of equations and equations\n",
    "2. create loss function\n",
    "3. gradient descent\n",
    "4. how to apply this to multiple formulas?"
   ]
  },
  {
   "cell_type": "code",
   "execution_count": 1,
   "id": "595548fe-4b17-4dfc-ab3d-e2d5ecb66ad9",
   "metadata": {},
   "outputs": [],
   "source": [
    "import numpy as np\n",
    "import csv\n",
    "import matplotlib.pyplot as plt"
   ]
  },
  {
   "cell_type": "code",
   "execution_count": 2,
   "id": "8889c5e6-ce96-465f-99c0-b326ccaff005",
   "metadata": {},
   "outputs": [],
   "source": [
    "#creating the overall dictionary: the one representing the nutrition label facts\n",
    "\n",
    "overall_dict = {}\n",
    "\n",
    "overall_dict[\"Fat\"] = 0\n",
    "overall_dict[\"Saturated fatty acids\"] = 0\n",
    "overall_dict[\"Fatty acids, total trans\"] = 0\n",
    "overall_dict[\"Cholesterol\"] = 0\n",
    "overall_dict[\"Sodium\"] = 0\n",
    "overall_dict[\"Carbohydrate\"] = 0\n",
    "overall_dict[\"Fiber\"] = 0\n",
    "overall_dict[\"Sugars\"] = 0\n",
    "overall_dict[\"Protein\"] = 0\n",
    "overall_dict[\"Calcium\"] = 0\n",
    "overall_dict[\"Iron\"] = 0\n",
    "overall_dict[\"Potassium\"] = 0\n",
    "overall_dict[\"Vitamin D\"] = 0\n",
    "overall_dict[\"Weight\"] = 0"
   ]
  },
  {
   "cell_type": "code",
   "execution_count": 3,
   "id": "8c79466a-e91f-4889-bc15-c2cf3512fe45",
   "metadata": {},
   "outputs": [],
   "source": [
    "#nutritional information for tates cookies per 10 grams (each number was initially for  28 grams. So I had to multiply \n",
    "#each number by (10 * (1 / 28)) to get the information for 10 grams)\n",
    "\n",
    "tates_dict = overall_dict.copy()\n",
    "tates_dict[\"Fat\"] = 7 * (10 * (1 / 28))\n",
    "tates_dict[\"Saturated fatty acids\"] = 4.5 * (10 * (1 / 28))\n",
    "tates_dict[\"Fatty acids, total trans\"] = 0 * (10 * (1 / 28))\n",
    "tates_dict[\"Cholesterol\"] = .025 * (10 * (1 / 28))\n",
    "tates_dict[\"Sodium\"] = .16 * (10 * (1 / 28))\n",
    "tates_dict[\"Carbohydrate\"] = 18 * (10 * (1 / 28))\n",
    "tates_dict[\"Fiber\"] = .8 * (10 * (1 / 28))\n",
    "tates_dict[\"Sugars\"] = 12 * (10 * (1 / 28))\n",
    "tates_dict[\"Protein\"] = 2 * (10 * (1 / 28))\n",
    "tates_dict[\"Calcium\"] = .0000001 * (10 * (1 / 28))\n",
    "tates_dict[\"Iron\"] = .0009 * (10 * (1 / 28))\n",
    "tates_dict[\"Potassium\"] = .01 * (10 * (1 / 28))\n",
    "tates_dict[\"Vitamin D\"] = .05 * (10 * (1 / 28))\n",
    "tates_dict[\"Weight\"] = 28 * (10 * (1 / 28))"
   ]
  },
  {
   "cell_type": "markdown",
   "id": "a0e3fc22-4a58-4bfb-b5e8-935fbd83af94",
   "metadata": {},
   "source": [
    "this isn't important:\n",
    "tates_dict = overall_dict.copy()\n",
    "tates_dict[\"Fat\"] = 7\n",
    "tates_dict[\"Saturated fatty acids\"] = 4.5\n",
    "tates_dict[\"Fatty acids, total trans\"] = 0\n",
    "tates_dict[\"Cholesterol\"] = .025\n",
    "tates_dict[\"Sodium\"] = .16\n",
    "tates_dict[\"Carbohydrate\"] = 18\n",
    "tates_dict[\"Fiber\"] = .8\n",
    "tates_dict[\"Sugars\"] = 12\n",
    "tates_dict[\"Protein\"] = 2\n",
    "tates_dict[\"Calcium\"] = .0000001\n",
    "tates_dict[\"Iron\"] = .0009\n",
    "tates_dict[\"Potassium\"] = .01\n",
    "tates_dict[\"Vitamin D\"] = .05\n",
    "tates_dict[\"Weight\"] = 28"
   ]
  },
  {
   "cell_type": "code",
   "execution_count": 4,
   "id": "197d9c9b-66b6-4f1c-8163-b12ab2cf6175",
   "metadata": {},
   "outputs": [
    {
     "data": {
      "text/plain": [
       "{'Fat': 2.4999999999999996,\n",
       " 'Saturated fatty acids': 1.607142857142857,\n",
       " 'Fatty acids, total trans': 0.0,\n",
       " 'Cholesterol': 0.008928571428571428,\n",
       " 'Sodium': 0.057142857142857134,\n",
       " 'Carbohydrate': 6.428571428571428,\n",
       " 'Fiber': 0.2857142857142857,\n",
       " 'Sugars': 4.285714285714285,\n",
       " 'Protein': 0.7142857142857142,\n",
       " 'Calcium': 3.5714285714285705e-08,\n",
       " 'Iron': 0.00032142857142857136,\n",
       " 'Potassium': 0.003571428571428571,\n",
       " 'Vitamin D': 0.017857142857142856,\n",
       " 'Weight': 9.999999999999998}"
      ]
     },
     "execution_count": 4,
     "metadata": {},
     "output_type": "execute_result"
    }
   ],
   "source": [
    "tates_dict"
   ]
  },
  {
   "cell_type": "code",
   "execution_count": 5,
   "id": "49a8e71d-eda2-4f84-a689-07cdca25c66b",
   "metadata": {},
   "outputs": [],
   "source": [
    "# function to transform the website information to dictionaries (with the keys of overall_dict) \n",
    "\n",
    "file1 = \"flour_unbleached_enriched_allpurpose_wheat.csv\"\n",
    "file2 = \"butter_salted.csv\"\n",
    "\n",
    "ingredient_dict = overall_dict.copy()\n",
    "\n",
    "def reader(file,ingredient_dict,desired_serving):\n",
    "    with open(file, 'r') as csvfile:\n",
    "        csvreader = csv.reader(csvfile)\n",
    "        for i,row in enumerate(csvreader):\n",
    "            if len(row) > 0 and row[0] in ingredient_dict:\n",
    "                if row[2] == \"mg\":\n",
    "                    ingredient_dict[row[0]] = (float(row[1]) / 1000) * desired_serving\n",
    "                elif row[2] == \"mcg\":\n",
    "                    ingredient_dict[row[0]] = (float(row[1]) / 1000000) * desired_serving\n",
    "                else: #grams\n",
    "                    ingredient_dict[row[0]] = (float(row[1])) * desired_serving\n",
    "            if i == 4:\n",
    "                index = row.index(\"g\")\n",
    "                ingredient_dict[\"Weight\"] = float(row[index-1]) * desired_serving\n",
    "    return ingredient_dict"
   ]
  },
  {
   "cell_type": "code",
   "execution_count": 6,
   "id": "ff597840-d25e-4934-9168-8ddae6bc16c6",
   "metadata": {},
   "outputs": [
    {
     "data": {
      "text/plain": [
       "{'Fat': 16.222,\n",
       " 'Saturated fatty acids': 10.274,\n",
       " 'Fatty acids, total trans': 0.656,\n",
       " 'Cholesterol': 0.043,\n",
       " 'Sodium': 0.1286,\n",
       " 'Carbohydrate': 0.02,\n",
       " 'Fiber': 0.0,\n",
       " 'Sugars': 0.02,\n",
       " 'Protein': 0.18,\n",
       " 'Calcium': 0.0048,\n",
       " 'Iron': 0.0,\n",
       " 'Potassium': 0.0048,\n",
       " 'Vitamin D': 0.0,\n",
       " 'Weight': 20.0}"
      ]
     },
     "execution_count": 6,
     "metadata": {},
     "output_type": "execute_result"
    }
   ],
   "source": [
    "reader(file2,ingredient_dict,2)"
   ]
  },
  {
   "cell_type": "code",
   "execution_count": 56,
   "id": "a59a8580-87b3-4ada-84a2-5378341e5d93",
   "metadata": {},
   "outputs": [],
   "source": [
    "#the various ingredients in Tate's. Transforming the online nutrritional information of each ingredient into individual dictionaries.\n",
    "desired_serving = 1\n",
    "\n",
    "semi_sweet_chocolate_file = \"semisweet_chocolate_chips_by_raleys.csv\"\n",
    "semi_sweet_chocolate_dict = overall_dict.copy()\n",
    "reader(semi_sweet_chocolate_file,semi_sweet_chocolate_dict,desired_serving)\n",
    "\n",
    "unbleached_flour_file = \"flour_unbleached_enriched_allpurpose_wheat.csv\"\n",
    "unbleached_flour_dict = overall_dict.copy()\n",
    "reader(unbleached_flour_file,unbleached_flour_dict,desired_serving)\n",
    "\n",
    "salted_butter_file = \"butter_salted.csv\"\n",
    "salted_butter_dict = overall_dict.copy()\n",
    "reader(salted_butter_file,salted_butter_dict,desired_serving)\n",
    "\n",
    "cane_sugar_file = \"granulated_pure_cane_sugar.csv\"\n",
    "cane_sugar_dict = overall_dict.copy()\n",
    "reader(cane_sugar_file,cane_sugar_dict,desired_serving)\n",
    "\n",
    "brown_cane_sugar_file = \"brown_sugar_cane_by_frusecha.csv\"\n",
    "brown_cane_sugar_dict = overall_dict.copy()\n",
    "reader(brown_cane_sugar_file,brown_cane_sugar_dict,desired_serving)\n",
    "\n",
    "eggs_file = \"egg_fresh_raw_whole.csv\"\n",
    "eggs_dict = overall_dict.copy()\n",
    "reader(eggs_file,eggs_dict,desired_serving)\n",
    "\n",
    "baking_soda_file = \"leavening_agents_baking_soda.csv\"\n",
    "baking_soda_dict = overall_dict.copy()\n",
    "reader(baking_soda_file,baking_soda_dict,desired_serving)\n",
    "\n",
    "salt_file = \"salt_table.csv\"\n",
    "salt_dict = overall_dict.copy()\n",
    "reader(salt_file,salt_dict,desired_serving)\n",
    "\n",
    "natural_vanilla_flavor_file = \"vanilla_flavoring_syrup_by_r_torre__coinc.csv\"\n",
    "natural_vanilla_flavor_dict = overall_dict.copy()\n",
    "reader(natural_vanilla_flavor_file,natural_vanilla_flavor_dict,desired_serving)\n",
    "\n",
    "dictionary_list = [semi_sweet_chocolate_dict,unbleached_flour_dict,salted_butter_dict,cane_sugar_dict,brown_cane_sugar_dict,eggs_dict,baking_soda_dict,salt_dict,natural_vanilla_flavor_dict]\n",
    "key_list = [\"Fat\",\"Saturated fatty acids\",\"Fatty acids, total trans\",\"Cholesterol\",\"Sodium\",\"Carbohydrate\",\"Fiber\",\"Sugars\",\"Protein\",\"Calcium\",\"Iron\",\"Potassium\",\"Vitamin D\",\"Weight\"]"
   ]
  },
  {
   "cell_type": "code",
   "execution_count": 29,
   "id": "e48da4db-13b4-4ac2-9651-687f6068a852",
   "metadata": {},
   "outputs": [],
   "source": [
    "#creates a list of whatever inputted number (a list of 9 numbers in this case)\n",
    "\n",
    "def building_x_list(number):\n",
    "    x_list = []\n",
    "    for variable in range(0, len(dictionary_list)):\n",
    "        x_list.append(number)\n",
    "    return x_list\n",
    "\n",
    "x_list = building_x_list(1)\n",
    "\n",
    "#getting the equations. and the gradients. because each variable has a degree of one, the gradients with respect to\n",
    "#each variable is just the constant before that variable\n",
    "\n",
    "#equations. This evaluates each equation (14 in this case) with the assumed inputted variable values.\n",
    "\n",
    "def equations(dictionary_list,x_list):\n",
    "    list_of_equations = []\n",
    "    for key in key_list:\n",
    "        equation = 0\n",
    "        for i,dictionary in enumerate(dictionary_list):\n",
    "            equation = equation + (dictionary[key] * (x_list[i]))\n",
    "        #subtracting tates. This is because initially we had a1x1 + a2x2 + ... + anxn = some constant C (the tates value in this case)\n",
    "        #so now, we have a1x1 + a2x2 + ... + anxn - C = 0.\n",
    "        list_of_equations.append(equation-(tates_dict[key]*desired_serving))\n",
    "    return list_of_equations\n",
    "\n",
    "#gradients. The first list is a list of partial derivatives of the first equation, and the list is in order of partial derivatives\n",
    "#of x1,...,xn. The second list is a list of partial derivatives of the second equation, etc. The returned list is a list of each\n",
    "#of these lists\n",
    "\n",
    "def gradients(dictionary_list,x_list):\n",
    "    list_of_gradients_of_equations = []\n",
    "    for key in key_list:\n",
    "        gradient = []\n",
    "        for dictionary in dictionary_list:\n",
    "            gradient.append(dictionary[key])\n",
    "        list_of_gradients_of_equations.append(gradient)\n",
    "    return list_of_gradients_of_equations"
   ]
  },
  {
   "cell_type": "code",
   "execution_count": 40,
   "id": "8032fe0c-5eda-40ff-8540-2142f5029e97",
   "metadata": {},
   "outputs": [],
   "source": [
    "def parameters(x_list,penalty_constant):\n",
    "    list_of_parameters = []\n",
    "    list_of_parameters_over_0 = []\n",
    "    for i in range(0,len(x_list)-1):\n",
    "        parameter_for_over_0 = penalty_constant * ((max(0,(-1 * x_list[i]))) ** 2)\n",
    "        list_of_parameters_over_0.append(parameter_for_over_0)\n",
    "        parameter_for_inequality_individual_variable_list = building_x_list(0)\n",
    "        parameter_for_inequalities = penalty_constant * ((max(0, x_list[i+1] - x_list[i])) ** 2)\n",
    "        parameter_for_inequality_individual_variable_list[i] = parameter_for_inequality_individual_variable_list[i] + (parameter_for_inequalities / 2)\n",
    "        parameter_for_inequality_individual_variable_list[i+1] = parameter_for_inequality_individual_variable_list[i+1]+ (parameter_for_inequalities / 2)\n",
    "        list_of_parameters.append(parameter_for_inequality_individual_variable_list)\n",
    "    ###for j in range(i+1,len(x_list)):\n",
    "            ###parameter_for_inequalities = penalty_constant * ((max(0, x_list[j] - x_list[i])) ** 2)\n",
    "            ###parameter_for_inequality_individual_variable_list[j-1] = parameter_for_inequalities\n",
    "        ###list_of_parameters.append(parameter_for_inequality_individual_variable_list)\n",
    "\n",
    "    #the last variable. because my above loop goes from 0 to the n-1 variable. \n",
    "    list_of_parameters_over_0.append(10 * (max(0,-x_list[-1]) ** 2))\n",
    "    list_of_parameters.append(list_of_parameters_over_0)\n",
    "\n",
    "    #what does this parameters list look like????\n",
    "    return list_of_parameters\n",
    "\n",
    "#change? penalize both variables for a > b. by half? i guess im already doing that? do i have to do forr j. or just its neighbor?\n",
    "def gradients_of_parameters(x_list,penalty_constant):\n",
    "    list_of_gradients_of_parameters = []\n",
    "    list_gradient_over_0 = building_x_list(0)\n",
    "    for i in range(0,len(x_list)-1):\n",
    "        list_gradient_over_0[i] = (-2 * penalty_constant) * max(0, -x_list[i])\n",
    "        penalty_gradients_inequalities = building_x_list(0)\n",
    "        for j in range(i+1,len(x_list)):\n",
    "            penalty_gradients_inequalities[i] = penalty_gradients_inequalities[i] + ((-2 * penalty_constant) * max(0, x_list[j] - x_list[i]))\n",
    "            penalty_gradients_inequalities[j] = (2 * penalty_constant) * max(0, x_list[j] - x_list[i])\n",
    "        list_of_gradients_of_parameters.append(penalty_gradients_inequalities)\n",
    "    list_gradient_over_0[-1] = (-2 * penalty_constant) * max(0, -x_list[-1])\n",
    "    list_of_gradients_of_parameters.append(list_gradient_over_0)\n",
    "    \n",
    "    return list_of_gradients_of_parameters"
   ]
  },
  {
   "cell_type": "code",
   "execution_count": 31,
   "id": "e3453c06-d331-4f43-84b0-5eddd3260739",
   "metadata": {},
   "outputs": [
    {
     "data": {
      "text/plain": [
       "[[-72, 2, 4, 6, 8, 10, 12, 14, 16],\n",
       " [0, -56, 2, 4, 6, 8, 10, 12, 14],\n",
       " [0, 0, -42, 2, 4, 6, 8, 10, 12],\n",
       " [0, 0, 0, -30, 2, 4, 6, 8, 10],\n",
       " [0, 0, 0, 0, -20, 2, 4, 6, 8],\n",
       " [0, 0, 0, 0, 0, -12, 2, 4, 6],\n",
       " [0, 0, 0, 0, 0, 0, -6, 2, 4],\n",
       " [0, 0, 0, 0, 0, 0, 0, -2, 2],\n",
       " [0, 0, 0, 0, 0, 0, 0, 0, 0]]"
      ]
     },
     "execution_count": 31,
     "metadata": {},
     "output_type": "execute_result"
    }
   ],
   "source": [
    "gradients_of_parameters([1,2,3,4,5,6,7,8,9],1)"
   ]
  },
  {
   "cell_type": "code",
   "execution_count": 50,
   "id": "3197fa65-76ff-4b82-a8d6-a715c7deba00",
   "metadata": {},
   "outputs": [],
   "source": [
    "def gradients_of_parameters2(x_list,penalty_constant):\n",
    "    list_of_gradients_of_parameters = []\n",
    "    list_gradient_over_0 = building_x_list(0)\n",
    "    for i in range(0,len(x_list)-1):\n",
    "        list_gradient_over_0[i] = (2 * penalty_constant) * max(0, -x_list[i])\n",
    "        penalty_gradients_inequalities = building_x_list(0)\n",
    "        penalty_gradients_inequalities[i] = penalty_gradients_inequalities[i] + ((-2 * penalty_constant) * max(0, x_list[i+1] - x_list[i]))\n",
    "        penalty_gradients_inequalities[i+1] = (2 * penalty_constant) * max(0, x_list[i+1] - x_list[i])\n",
    "        list_of_gradients_of_parameters.append(penalty_gradients_inequalities)\n",
    "    list_gradient_over_0[-1] = (-2 * penalty_constant) * max(0, -x_list[-1])\n",
    "\n",
    "    #this is where gradient for over 0 goes. so this is the last list\n",
    "    list_of_gradients_of_parameters.append(list_gradient_over_0)\n",
    "    \n",
    "    return list_of_gradients_of_parameters"
   ]
  },
  {
   "cell_type": "code",
   "execution_count": 42,
   "id": "a5cb1fd5-ed3d-4d95-ad32-7b922c24f5b1",
   "metadata": {},
   "outputs": [
    {
     "data": {
      "text/plain": [
       "[[-2, 2, 0, 0, 0, 0, 0, 0, 0],\n",
       " [0, -2, 2, 0, 0, 0, 0, 0, 0],\n",
       " [0, 0, -2, 2, 0, 0, 0, 0, 0],\n",
       " [0, 0, 0, -2, 2, 0, 0, 0, 0],\n",
       " [0, 0, 0, 0, -2, 2, 0, 0, 0],\n",
       " [0, 0, 0, 0, 0, -2, 2, 0, 0],\n",
       " [0, 0, 0, 0, 0, 0, -2, 2, 0],\n",
       " [0, 0, 0, 0, 0, 0, 0, -2, 2],\n",
       " [0, 0, 0, 0, 0, 0, 0, 0, 0]]"
      ]
     },
     "execution_count": 42,
     "metadata": {},
     "output_type": "execute_result"
    }
   ],
   "source": [
    "gradients_of_parameters2([1,2,3,4,5,6,7,8,9],1)"
   ]
  },
  {
   "cell_type": "code",
   "execution_count": 45,
   "id": "d88ec8cc-25d3-4140-af2e-878a50f2604c",
   "metadata": {},
   "outputs": [
    {
     "data": {
      "text/plain": [
       "'\\n\\ndef gradient_loss_function(dictionary_list,x_list):\\n    list_of_equations = equations(dictionary_list,x_list)\\n    list_of_gradients_of_equations = gradients(dictionary_list,x_list)\\n    list_of_gradients_loss = building_x_list(0)\\n    \\n    for gradient_list_in_question in list_of_gradients_of_equations:\\n        for j in range(0,len(gradient_list_in_question)):\\n            list_of_gradients_loss[j] = list_of_gradients_loss[j] + (2 * gradient_list_in_question[j] * list_of_equations[j])\\n                \\n    #list_of_gradients_loss = normalize_gradients(list_of_gradients_loss)\\n    return list_of_gradients_loss'"
      ]
     },
     "execution_count": 45,
     "metadata": {},
     "output_type": "execute_result"
    }
   ],
   "source": [
    "def normalize_gradients(gradients):\n",
    "    norm = np.linalg.norm(gradients)\n",
    "    if norm > 0:\n",
    "        return [g / norm for g in gradients]\n",
    "    return gradients\n",
    "\n",
    "def loss_function(dictionary_list,x_list,penalty_constant):\n",
    "    list_of_equations = equations(dictionary_list,x_list)\n",
    "    list_of_parameters = parameters(x_list,penalty_constant)\n",
    "    loss = 0\n",
    "    for equation in list_of_equations:\n",
    "        loss = loss + (equation ** 2)\n",
    "    for parameter in list_of_parameters:\n",
    "        loss = loss + (np.sum(parameter))\n",
    "    return loss\n",
    "\n",
    "def gradient_loss_function(dictionary_list,x_list,penalty_constant):\n",
    "    list_of_equations = equations(dictionary_list,x_list)\n",
    "    list_of_gradients_of_equations = gradients(dictionary_list,x_list)\n",
    "    list_of_gradients_of_parameters = gradients_of_parameters2(x_list,penalty_constant)\n",
    "    list_of_gradients_loss = building_x_list(0)\n",
    "    list_of_gradients = list_of_gradients_of_equations + list_of_gradients_of_parameters\n",
    "    \n",
    "    for equation in list_of_equations:\n",
    "        for gradient_list_in_question in list_of_gradients:\n",
    "            for j in range(0,len(gradient_list_in_question)):\n",
    "                list_of_gradients_loss[j] = list_of_gradients_loss[j] + (2 * gradient_list_in_question[j] * equation)\n",
    "    list_of_gradients_loss = normalize_gradients(list_of_gradients_loss)\n",
    "    return list_of_gradients_loss\n",
    "\n",
    "\"\"\"\n",
    "\n",
    "def gradient_loss_function(dictionary_list,x_list):\n",
    "    list_of_equations = equations(dictionary_list,x_list)\n",
    "    list_of_gradients_of_equations = gradients(dictionary_list,x_list)\n",
    "    list_of_gradients_loss = building_x_list(0)\n",
    "    \n",
    "    for gradient_list_in_question in list_of_gradients_of_equations:\n",
    "        for j in range(0,len(gradient_list_in_question)):\n",
    "            list_of_gradients_loss[j] = list_of_gradients_loss[j] + (2 * gradient_list_in_question[j] * list_of_equations[j])\n",
    "                \n",
    "    #list_of_gradients_loss = normalize_gradients(list_of_gradients_loss)\n",
    "    return list_of_gradients_loss\"\"\""
   ]
  },
  {
   "cell_type": "code",
   "execution_count": 33,
   "id": "a4f48a70-8d9a-4350-a781-533248616cc4",
   "metadata": {},
   "outputs": [],
   "source": [
    "def gradient_loss_function_with_over_0_parameter(dictionary_list,x_list,penalty_constant):\n",
    "\n",
    "    initial_gradient_loss = gradient_loss_function(dictionary_list,x_list,penalty_constant)\n",
    "\n",
    "    for i in range(0,len(initial_gradient_loss)):\n",
    "        x_in_question = x_list[i]\n",
    "        initial_gradient_loss[i] = initial_gradient_loss[i] + ((-2 * penalty_constant) * max(0,-x_in_question))\n",
    "\n",
    "    #initial_gradient_loss = normalize_gradients(initial_gradient_loss)\n",
    "    return initial_gradient_loss"
   ]
  },
  {
   "cell_type": "code",
   "execution_count": 34,
   "id": "e3849f8d-ed07-4e38-8b74-afe73850aea4",
   "metadata": {},
   "outputs": [
    {
     "data": {
      "text/plain": [
       "[0.44466229827405657,\n",
       " 0.30198532251812576,\n",
       " 0.3820356454259835,\n",
       " 0.48203146634840593,\n",
       " 0.4303517481011051,\n",
       " 0.20420411804280644,\n",
       " 0.20463842518044328,\n",
       " -3.8573342716449504,\n",
       " 0.20890761720073567]"
      ]
     },
     "execution_count": 34,
     "metadata": {},
     "output_type": "execute_result"
    }
   ],
   "source": [
    "gradient_loss_function_with_over_0_parameter(dictionary_list,[9,8,7,6,5,4,3,-2,1],1)"
   ]
  },
  {
   "cell_type": "code",
   "execution_count": 35,
   "id": "9c66cc87-0c05-4ded-b2d5-61c0bc2f6a6e",
   "metadata": {},
   "outputs": [],
   "source": [
    "def gradient_loss_function_for_all_parameters(dictionary_list,x_list,penalty_constant):\n",
    "\n",
    "    initial_gradient_loss = gradient_loss_function_with_over_0_parameter(dictionary_list,x_list,penalty_constant)\n",
    "\n",
    "    for i in range(0,len(initial_gradient_loss)-1):\n",
    "        initial_gradient_loss[i] = initial_gradient_loss[i] + ((penalty_constant) * max(0,x_list[i+1] - x_list[i]))\n",
    "        initial_gradient_loss[i+1] = initial_gradient_loss[i+1] + ((-1* penalty_constant) * max(0,x_list[i+1] - x_list[i]))\n",
    "        ###for j in range(i+1, len(initial_gradient_loss)):\n",
    "            ###stable_x = x_list[i]\n",
    "            ###variable_x = x_list[j]\n",
    "            ###initial_gradient_loss[i] = initial_gradient_loss[i] + ((-2 * penalty_constant) * max(0,variable_x - stable_x))\n",
    "           ### initial_gradient_loss[j] = initial_gradient_loss[j] + ((2 * penalty_constant) * max(0,variable_x - stable_x))\n",
    "    \n",
    "    for i in range(len(initial_gradient_loss)):\n",
    "        initial_gradient_loss[i] += 2 * penalty_constant * (np.sum(x_list) - 1)\n",
    "    initial_gradient_loss = normalize_gradients(initial_gradient_loss)\n",
    "    return initial_gradient_loss"
   ]
  },
  {
   "cell_type": "code",
   "execution_count": 36,
   "id": "b30ceabb-8f26-41a0-9265-6ba563b37248",
   "metadata": {},
   "outputs": [
    {
     "data": {
      "text/plain": [
       "[0.3357177803225467,\n",
       " 0.33512234992063494,\n",
       " 0.3354564220138347,\n",
       " 0.33587373217565913,\n",
       " 0.33565805844663843,\n",
       " 0.3347142819645287,\n",
       " 0.33471609444809264,\n",
       " 0.33028418925568287,\n",
       " 0.32221408289672593]"
      ]
     },
     "execution_count": 36,
     "metadata": {},
     "output_type": "execute_result"
    }
   ],
   "source": [
    "gradient_loss_function_for_all_parameters(dictionary_list,[9,8,7,6,5,4,3,-2,1],1)"
   ]
  },
  {
   "cell_type": "code",
   "execution_count": 60,
   "id": "e6fe3a9f-3bc0-4931-b759-c8fc05408fe0",
   "metadata": {},
   "outputs": [],
   "source": [
    "# Gradient descent parameters\n",
    "#x = building_x_list(.2)  # Initial guess\n",
    "x = [.3,.2,.2,.1,.1,.005,.005,.005]\n",
    "learning_rate = 0.01\n",
    "tolerance = 1e-6\n",
    "max_iters = 10000\n",
    "\n",
    "\n",
    "def updating_x_values(dictionary_list,x_listy,penalty_constant,clipping):\n",
    "    fig, ax = plt.subplots()\n",
    "    \n",
    "    for i in range(0,max_iters):\n",
    "        gradient_loss_list = gradient_loss_function(dictionary_list,x_listy,penalty_constant)\n",
    "        loss_before = loss_function(dictionary_list,x_listy,penalty_constant)\n",
    "        \n",
    "        for j in range(0,len(x_listy)):\n",
    "            x_listy[j] = x_listy[j] - (learning_rate * gradient_loss_list[j])\n",
    "            if clipping == True:\n",
    "                x_listy[j] = max(x_listy[j],0)\n",
    "        loss_after = loss_function(dictionary_list,x_listy,penalty_constant)\n",
    "        plt.plot(i,loss_after,\"or\")\n",
    "        \n",
    "        ###if i > 1 and loss_before < loss_after:\n",
    "           ### print(\"increasing now\",i)\n",
    "           ### break\n",
    "    plt.show()\n",
    "    print(\"Solution:\", x_listy)\n",
    "    print(\"Loss at solution:\", loss_after)\n",
    "    x_for_one_serving_of_tates = []\n",
    "    for x in x_listy:\n",
    "        x_for_one_serving_of_tates.append(x * 1242)\n",
    "    print(\"for one serving:\", x_for_one_serving_of_tates)\n",
    "    print(\"weight:\", np.sum(x_listy) * 10)"
   ]
  },
  {
   "cell_type": "code",
   "execution_count": 49,
   "id": "1947bb12-1345-4d76-839a-e618d3c4fafe",
   "metadata": {},
   "outputs": [
    {
     "data": {
      "image/png": "[encoded data removed]",
      "text/plain": [
       "<Figure size 640x480 with 1 Axes>"
      ]
     },
     "metadata": {},
     "output_type": "display_data"
    },
    {
     "name": "stdout",
     "output_type": "stream",
     "text": [
      "Solution: [0.38920117085634853, 0.4624031244246579, 0.32173708961297787, 0.07507771037025124, -0.02159736571112771, 0.01182951323738342, -0.0994634298164562, -0.10980374932113691, -0.07657480360997863]\n",
      "Loss at solution: 5.609387748458191\n",
      "for one serving: [10.897632783977759, 12.947287483890422, 9.00863850916338, 2.1021758903670347, -0.6047262399115758, 0.33122637064673577, -2.7849760348607737, -3.0745049809918337, -2.144094501079402]\n",
      "weight: 9.528092600429195\n"
     ]
    }
   ],
   "source": [
    "updating_x_values(dictionary_list,[.6,.6,.5,.3,.2,.1,.001,.001,.001],2,False)"
   ]
  },
  {
   "cell_type": "code",
   "execution_count": 63,
   "id": "ebc6a2e8-0856-4182-8616-abea51e4bf41",
   "metadata": {},
   "outputs": [
    {
     "data": {
      "image/png": "[encoded data removed]",
      "text/plain": [
       "<Figure size 640x480 with 1 Axes>"
      ]
     },
     "metadata": {},
     "output_type": "display_data"
    },
    {
     "name": "stdout",
     "output_type": "stream",
     "text": [
      "Solution: [0.3135132794631639, 0.22201196531657166, 0.2072436938890772, 0.11967056682320072, 0.12598248422829858, 0.08783639308289132, 0.00018081445230862768, 0, 0.00010533484750083243]\n",
      "Loss at solution: 0.9492948359955491\n",
      "for one serving: [389.3834930932495, 275.738860923182, 257.3966678102339, 148.6308439944153, 156.47024541154684, 109.09280020895102, 0.22457154976731558, 0, 0.13082588059603387]\n",
      "weight: 10.765445321030128\n"
     ]
    }
   ],
   "source": [
    "updating_x_values(dictionary_list,[.34,.24,.23,.15,.15,.1,.001,.001,.001],2,True)"
   ]
  },
  {
   "cell_type": "code",
   "execution_count": 64,
   "id": "657c9aaf-7b7c-4c04-b8a0-144086a19805",
   "metadata": {},
   "outputs": [
    {
     "data": {
      "text/plain": [
       "[0.13348369815124617,\n",
       " 0.007587426265371455,\n",
       " 0.06832727716794888,\n",
       " -0.0012053181872727116,\n",
       " -0.04198611864712863,\n",
       " -0.42771372591160084,\n",
       " -0.07566038847396589,\n",
       " -0.3780807497670762,\n",
       " -0.08407035474622548,\n",
       " 0.0019089950226989377,\n",
       " -9.818186335162796e-05,\n",
       " 0.0011352600502228319,\n",
       " -0.017857125289864238,\n",
       " 0.7654453210301284]"
      ]
     },
     "execution_count": 64,
     "metadata": {},
     "output_type": "execute_result"
    }
   ],
   "source": [
    "equations(dictionary_list,[0.3135132794631639, 0.22201196531657166, 0.2072436938890772, 0.11967056682320072, 0.12598248422829858, 0.08783639308289132, 0.00018081445230862768, 0, 0.00010533484750083243])"
   ]
  },
  {
   "cell_type": "markdown",
   "id": "55968d67-1edc-44e7-b0f9-e34ec14dbc0c",
   "metadata": {},
   "source": [
    "updating_x_values(dictionary_list,building_x_list(.1),1,True)"
   ]
  },
  {
   "cell_type": "code",
   "execution_count": null,
   "id": "13582545-09fe-46ea-8fff-00f3bf018444",
   "metadata": {},
   "outputs": [],
   "source": [
    "#what if we did this but just with the heavy ingredients (so exluding vanilla, baking soda, etc.)"
   ]
  },
  {
   "cell_type": "code",
   "execution_count": 69,
   "id": "996054c2-9c62-46d8-b797-f23dd4a9a1a6",
   "metadata": {},
   "outputs": [],
   "source": [
    "heavy_tates_dict = tates_dict.copy()\n",
    "heavy_tates_dict[\"Weight\"] += -.01"
   ]
  },
  {
   "cell_type": "code",
   "execution_count": 71,
   "id": "c19063f3-7ec4-473b-97fb-cf66de74b77d",
   "metadata": {},
   "outputs": [
    {
     "data": {
      "text/plain": [
       "9.989999999999998"
      ]
     },
     "execution_count": 71,
     "metadata": {},
     "output_type": "execute_result"
    }
   ],
   "source": [
    "heavy_tates_dict[\"Weight\"]"
   ]
  },
  {
   "cell_type": "code",
   "execution_count": 72,
   "id": "20093601-9d7a-4a8d-8cc9-45fa8135e88f",
   "metadata": {},
   "outputs": [
    {
     "data": {
      "image/png": "[encoded data removed]",
      "text/plain": [
       "<Figure size 640x480 with 1 Axes>"
      ]
     },
     "metadata": {},
     "output_type": "display_data"
    },
    {
     "name": "stdout",
     "output_type": "stream",
     "text": [
      "Solution: [0.3118312782638245, 0.22086966097318875, 0.2057985873075433, 0.11763672418849085, 0.12456510181666335, 0.08706396067115142]\n",
      "Loss at solution: 0.8990787125309265\n",
      "for one serving: [387.29444760367005, 274.3201189287004, 255.60184543596878, 146.10481144210564, 154.70985645629588, 108.13343915357007]\n",
      "weight: 10.677653132208622\n"
     ]
    }
   ],
   "source": [
    "heavy_dictionary_list = [semi_sweet_chocolate_dict,unbleached_flour_dict,salted_butter_dict,cane_sugar_dict,brown_cane_sugar_dict,eggs_dict]\n",
    "updating_x_values(heavy_dictionary_list,[.34,.24,.23,.15,.15,.1],2,False)"
   ]
  },
  {
   "cell_type": "code",
   "execution_count": 73,
   "id": "1314c008-c274-465f-b068-5bfcd1fb86a7",
   "metadata": {},
   "outputs": [],
   "source": [
    "#nutritional information for tates cookies per 10 grams (each number was initially for  28 grams. So I had to multiply \n",
    "#each number by (10 * (1 / 28)) to get the information for 10 grams)\n",
    "\n",
    "tates_dict_gluten_free = overall_dict.copy()\n",
    "tates_dict_gluten_free[\"Fat\"] = 7 * (10 * (1 / 28))\n",
    "tates_dict_gluten_free[\"Saturated fatty acids\"] = 4.5 * (10 * (1 / 28))\n",
    "tates_dict_gluten_free[\"Fatty acids, total trans\"] = 0 * (10 * (1 / 28))\n",
    "tates_dict_gluten_free[\"Cholesterol\"] = .020 * (10 * (1 / 28))\n",
    "tates_dict_gluten_free[\"Sodium\"] = .135 * (10 * (1 / 28))\n",
    "tates_dict_gluten_free[\"Carbohydrate\"] = 19 * (10 * (1 / 28))\n",
    "tates_dict_gluten_free[\"Fiber\"] = .8 * (10 * (1 / 28))\n",
    "tates_dict_gluten_free[\"Sugars\"] = 12 * (10 * (1 / 28))\n",
    "tates_dict_gluten_free[\"Protein\"] = 1 * (10 * (1 / 28))\n",
    "tates_dict_gluten_free[\"Calcium\"] = .01 * (10 * (1 / 28))\n",
    "tates_dict_gluten_free[\"Iron\"] = .0007 * (10 * (1 / 28))\n",
    "tates_dict_gluten_free[\"Potassium\"] = .04 * (10 * (1 / 28))\n",
    "tates_dict_gluten_free[\"Vitamin D\"] = .0 * (10 * (1 / 28))\n",
    "tates_dict_gluten_free[\"Weight\"] = 28 * (10 * (1 / 28))"
   ]
  },
  {
   "cell_type": "code",
   "execution_count": null,
   "id": "84e55014-b703-4bb6-82ae-d99369eb652c",
   "metadata": {},
   "outputs": [],
   "source": []
  }
 ],
 "metadata": {
  "kernelspec": {
   "display_name": "Python 3 (ipykernel)",
   "language": "python",
   "name": "python3"
  },
  "language_info": {
   "codemirror_mode": {
    "name": "ipython",
    "version": 3
   },
   "file_extension": ".py",
   "mimetype": "text/x-python",
   "name": "python",
   "nbconvert_exporter": "python",
   "pygments_lexer": "ipython3",
   "version": "3.12.4"
  }
 },
 "nbformat": 4,
 "nbformat_minor": 5
}
