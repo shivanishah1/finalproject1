{
 "cells": [
  {
   "cell_type": "markdown",
   "id": "ca331584-386a-4b05-82c3-5d49ece9df99",
   "metadata": {},
   "source": [
    "Reverse Engineering From Nutrition Labels\n",
    "1. create system of equations and equations\n",
    "2. create loss function\n",
    "3. gradient descent\n",
    "4. how to apply this to multiple formulas?"
   ]
  },
  {
   "cell_type": "code",
   "execution_count": 16,
   "id": "595548fe-4b17-4dfc-ab3d-e2d5ecb66ad9",
   "metadata": {},
   "outputs": [],
   "source": [
    "import numpy as np\n",
    "import csv\n",
    "import matplotlib.pyplot as plt"
   ]
  },
  {
   "cell_type": "code",
   "execution_count": 17,
   "id": "8889c5e6-ce96-465f-99c0-b326ccaff005",
   "metadata": {},
   "outputs": [],
   "source": [
    "#creating the overall dictionary: the one representing the nutrition label facts\n",
    "\n",
    "overall_dict = {}\n",
    "\n",
    "overall_dict[\"Fat\"] = 0\n",
    "overall_dict[\"Saturated fatty acids\"] = 0\n",
    "overall_dict[\"Fatty acids, total trans\"] = 0\n",
    "overall_dict[\"Cholesterol\"] = 0\n",
    "overall_dict[\"Sodium\"] = 0\n",
    "overall_dict[\"Carbohydrate\"] = 0\n",
    "overall_dict[\"Fiber\"] = 0\n",
    "overall_dict[\"Sugars\"] = 0\n",
    "overall_dict[\"Protein\"] = 0\n",
    "overall_dict[\"Calcium\"] = 0\n",
    "overall_dict[\"Iron\"] = 0\n",
    "overall_dict[\"Potassium\"] = 0\n",
    "overall_dict[\"Vitamin D\"] = 0\n",
    "overall_dict[\"Weight\"] = 0"
   ]
  },
  {
   "cell_type": "code",
   "execution_count": 18,
   "id": "8c79466a-e91f-4889-bc15-c2cf3512fe45",
   "metadata": {},
   "outputs": [],
   "source": [
    "tates_dict = overall_dict.copy()\n",
    "tates_dict[\"Fat\"] = 7 * .357\n",
    "tates_dict[\"Saturated fatty acids\"] = 4.5 * .357\n",
    "tates_dict[\"Fatty acids, total trans\"] = 0 * .357\n",
    "tates_dict[\"Cholesterol\"] = .025 * .357\n",
    "tates_dict[\"Sodium\"] = .16 * .357\n",
    "tates_dict[\"Carbohydrate\"] = 18 * .357\n",
    "tates_dict[\"Fiber\"] = .8 * .357\n",
    "tates_dict[\"Sugars\"] = 12 * .357\n",
    "tates_dict[\"Protein\"] = 2 * .357\n",
    "tates_dict[\"Calcium\"] = .0000001 * .357\n",
    "tates_dict[\"Iron\"] = .0009 * .357\n",
    "tates_dict[\"Potassium\"] = .01 * .357\n",
    "tates_dict[\"Vitamin D\"] = .05 * .357\n",
    "tates_dict[\"Weight\"] = 28 * .357"
   ]
  },
  {
   "cell_type": "markdown",
   "id": "a0e3fc22-4a58-4bfb-b5e8-935fbd83af94",
   "metadata": {},
   "source": [
    "this isn't important:\n",
    "tates_dict = overall_dict.copy()\n",
    "tates_dict[\"Fat\"] = 7\n",
    "tates_dict[\"Saturated fatty acids\"] = 4.5\n",
    "tates_dict[\"Fatty acids, total trans\"] = 0\n",
    "tates_dict[\"Cholesterol\"] = .025\n",
    "tates_dict[\"Sodium\"] = .16\n",
    "tates_dict[\"Carbohydrate\"] = 18\n",
    "tates_dict[\"Fiber\"] = .8\n",
    "tates_dict[\"Sugars\"] = 12\n",
    "tates_dict[\"Protein\"] = 2\n",
    "tates_dict[\"Calcium\"] = .0000001\n",
    "tates_dict[\"Iron\"] = .0009\n",
    "tates_dict[\"Potassium\"] = .01\n",
    "tates_dict[\"Vitamin D\"] = .05\n",
    "tates_dict[\"Weight\"] = 28"
   ]
  },
  {
   "cell_type": "code",
   "execution_count": 19,
   "id": "197d9c9b-66b6-4f1c-8163-b12ab2cf6175",
   "metadata": {},
   "outputs": [
    {
     "data": {
      "text/plain": [
       "{'Fat': 2.4989999999999997,\n",
       " 'Saturated fatty acids': 1.6065,\n",
       " 'Fatty acids, total trans': 0.0,\n",
       " 'Cholesterol': 0.008925,\n",
       " 'Sodium': 0.05712,\n",
       " 'Carbohydrate': 6.426,\n",
       " 'Fiber': 0.2856,\n",
       " 'Sugars': 4.284,\n",
       " 'Protein': 0.714,\n",
       " 'Calcium': 3.5699999999999995e-08,\n",
       " 'Iron': 0.0003213,\n",
       " 'Potassium': 0.00357,\n",
       " 'Vitamin D': 0.01785,\n",
       " 'Weight': 9.995999999999999}"
      ]
     },
     "execution_count": 19,
     "metadata": {},
     "output_type": "execute_result"
    }
   ],
   "source": [
    "tates_dict"
   ]
  },
  {
   "cell_type": "code",
   "execution_count": 20,
   "id": "49a8e71d-eda2-4f84-a689-07cdca25c66b",
   "metadata": {},
   "outputs": [],
   "source": [
    "# function to transform the website information to dictionaries (with the keys of overall_dict) \n",
    "\n",
    "file1 = \"flour_unbleached_enriched_allpurpose_wheat.csv\"\n",
    "file2 = \"butter_salted.csv\"\n",
    "\n",
    "ingredient_dict = overall_dict.copy()\n",
    "\n",
    "def reader(file,ingredient_dict):\n",
    "    with open(file, 'r') as csvfile:\n",
    "        csvreader = csv.reader(csvfile)\n",
    "        for i,row in enumerate(csvreader):\n",
    "            if len(row) > 0 and row[0] in ingredient_dict:\n",
    "                if row[2] == \"mg\":\n",
    "                    ingredient_dict[row[0]] = float(row[1]) / 1000\n",
    "                elif row[2] == \"mcg\":\n",
    "                    ingredient_dict[row[0]] = float(row[1]) / 1000000\n",
    "                else: #grams\n",
    "                    ingredient_dict[row[0]] = float(row[1])\n",
    "            if i == 4:\n",
    "                index = row.index(\"g\")\n",
    "                ingredient_dict[\"Weight\"] = float(row[index-1])\n",
    "    return ingredient_dict"
   ]
  },
  {
   "cell_type": "code",
   "execution_count": 21,
   "id": "ff597840-d25e-4934-9168-8ddae6bc16c6",
   "metadata": {},
   "outputs": [
    {
     "data": {
      "text/plain": [
       "{'Fat': 8.111,\n",
       " 'Saturated fatty acids': 5.137,\n",
       " 'Fatty acids, total trans': 0.328,\n",
       " 'Cholesterol': 0.0215,\n",
       " 'Sodium': 0.0643,\n",
       " 'Carbohydrate': 0.01,\n",
       " 'Fiber': 0.0,\n",
       " 'Sugars': 0.01,\n",
       " 'Protein': 0.09,\n",
       " 'Calcium': 0.0024,\n",
       " 'Iron': 0.0,\n",
       " 'Potassium': 0.0024,\n",
       " 'Vitamin D': 0.0,\n",
       " 'Weight': 10.0}"
      ]
     },
     "execution_count": 21,
     "metadata": {},
     "output_type": "execute_result"
    }
   ],
   "source": [
    "reader(file2,ingredient_dict)"
   ]
  },
  {
   "cell_type": "code",
   "execution_count": 51,
   "id": "a59a8580-87b3-4ada-84a2-5378341e5d93",
   "metadata": {},
   "outputs": [],
   "source": [
    "#the various ingredients in Tate's. Transforming the online nutrritional information of each ingredient into individual dictionaries.\n",
    "\n",
    "semi_sweet_chocolate_file = \"semisweet_chocolate_chips_by_raleys.csv\"\n",
    "semi_sweet_chocolate_dict = overall_dict.copy()\n",
    "reader(semi_sweet_chocolate_file,semi_sweet_chocolate_dict)\n",
    "\n",
    "unbleached_flour_file = \"flour_unbleached_enriched_allpurpose_wheat.csv\"\n",
    "unbleached_flour_dict = overall_dict.copy()\n",
    "reader(unbleached_flour_file,unbleached_flour_dict)\n",
    "\n",
    "salted_butter_file = \"butter_salted.csv\"\n",
    "salted_butter_dict = overall_dict.copy()\n",
    "reader(salted_butter_file,salted_butter_dict)\n",
    "\n",
    "cane_sugar_file = \"granulated_pure_cane_sugar.csv\"\n",
    "cane_sugar_dict = overall_dict.copy()\n",
    "reader(cane_sugar_file,cane_sugar_dict)\n",
    "\n",
    "brown_cane_sugar_file = \"brown_sugar_cane_by_frusecha.csv\"\n",
    "brown_cane_sugar_dict = overall_dict.copy()\n",
    "reader(brown_cane_sugar_file,brown_cane_sugar_dict)\n",
    "\n",
    "eggs_file = \"egg_fresh_raw_whole.csv\"\n",
    "eggs_dict = overall_dict.copy()\n",
    "reader(eggs_file,eggs_dict)\n",
    "\n",
    "baking_soda_file = \"leavening_agents_baking_soda.csv\"\n",
    "baking_soda_dict = overall_dict.copy()\n",
    "reader(baking_soda_file,baking_soda_dict)\n",
    "\n",
    "salt_file = \"salt_table.csv\"\n",
    "salt_dict = overall_dict.copy()\n",
    "reader(salt_file,salt_dict)\n",
    "\n",
    "natural_vanilla_flavor_file = \"vanilla_flavoring_syrup_by_r_torre__coinc.csv\"\n",
    "natural_vanilla_flavor_dict = overall_dict.copy()\n",
    "reader(natural_vanilla_flavor_file,natural_vanilla_flavor_dict)\n",
    "\n",
    "dictionary_list = [semi_sweet_chocolate_dict,unbleached_flour_dict,salted_butter_dict,cane_sugar_dict,brown_cane_sugar_dict,eggs_dict,baking_soda_dict,salt_dict,natural_vanilla_flavor_dict]\n",
    "key_list = [\"Fat\",\"Saturated fatty acids\",\"Fatty acids, total trans\",\"Cholesterol\",\"Sodium\",\"Carbohydrate\",\"Fiber\",\"Sugars\",\"Protein\",\"Calcium\",\"Iron\",\"Potassium\",\"Vitamin D\",\"Weight\"]"
   ]
  },
  {
   "cell_type": "code",
   "execution_count": 52,
   "id": "66d91c34-d339-48ab-bc57-adde0237f422",
   "metadata": {},
   "outputs": [
    {
     "data": {
      "text/plain": [
       "[{'Fat': 2.667,\n",
       "  'Saturated fatty acids': 1.667,\n",
       "  'Fatty acids, total trans': 0.0,\n",
       "  'Cholesterol': 0.0,\n",
       "  'Sodium': 0.0,\n",
       "  'Carbohydrate': 6.67,\n",
       "  'Fiber': 0.67,\n",
       "  'Sugars': 5.33,\n",
       "  'Protein': 0.67,\n",
       "  'Calcium': 0.0,\n",
       "  'Iron': 0.00027,\n",
       "  'Potassium': 0.0,\n",
       "  'Vitamin D': 0,\n",
       "  'Weight': 10.0},\n",
       " {'Fat': 0.148,\n",
       "  'Saturated fatty acids': 0,\n",
       "  'Fatty acids, total trans': 0,\n",
       "  'Cholesterol': 0,\n",
       "  'Sodium': 0.0004,\n",
       "  'Carbohydrate': 7.32,\n",
       "  'Fiber': 0,\n",
       "  'Sugars': 0,\n",
       "  'Protein': 1.31,\n",
       "  'Calcium': 0.0021000000000000003,\n",
       "  'Iron': 0.00054,\n",
       "  'Potassium': 0.0135,\n",
       "  'Vitamin D': 0,\n",
       "  'Weight': 10.0},\n",
       " {'Fat': 8.111,\n",
       "  'Saturated fatty acids': 5.137,\n",
       "  'Fatty acids, total trans': 0.328,\n",
       "  'Cholesterol': 0.0215,\n",
       "  'Sodium': 0.0643,\n",
       "  'Carbohydrate': 0.01,\n",
       "  'Fiber': 0.0,\n",
       "  'Sugars': 0.01,\n",
       "  'Protein': 0.09,\n",
       "  'Calcium': 0.0024,\n",
       "  'Iron': 0.0,\n",
       "  'Potassium': 0.0024,\n",
       "  'Vitamin D': 0.0,\n",
       "  'Weight': 10.0},\n",
       " {'Fat': 0.0,\n",
       "  'Saturated fatty acids': 0.0,\n",
       "  'Fatty acids, total trans': 0,\n",
       "  'Cholesterol': 0,\n",
       "  'Sodium': 0.0,\n",
       "  'Carbohydrate': 10.0,\n",
       "  'Fiber': 0,\n",
       "  'Sugars': 10.0,\n",
       "  'Protein': 0.0,\n",
       "  'Calcium': 0,\n",
       "  'Iron': 0,\n",
       "  'Potassium': 0,\n",
       "  'Vitamin D': 0,\n",
       "  'Weight': 10.0},\n",
       " {'Fat': 0.0,\n",
       "  'Saturated fatty acids': 0.0,\n",
       "  'Fatty acids, total trans': 0.0,\n",
       "  'Cholesterol': 0.0,\n",
       "  'Sodium': 0.0,\n",
       "  'Carbohydrate': 8.57,\n",
       "  'Fiber': 0.0,\n",
       "  'Sugars': 8.21,\n",
       "  'Protein': 0.0,\n",
       "  'Calcium': 0.0036,\n",
       "  'Iron': 2.9999999999999997e-05,\n",
       "  'Potassium': 0,\n",
       "  'Vitamin D': 0,\n",
       "  'Weight': 10.0},\n",
       " {'Fat': 0.951,\n",
       "  'Saturated fatty acids': 0.313,\n",
       "  'Fatty acids, total trans': 0.004,\n",
       "  'Cholesterol': 0.037200000000000004,\n",
       "  'Sodium': 0.014199999999999999,\n",
       "  'Carbohydrate': 0.07,\n",
       "  'Fiber': 0.0,\n",
       "  'Sugars': 0.04,\n",
       "  'Protein': 1.26,\n",
       "  'Calcium': 0.0056,\n",
       "  'Iron': 0.00017,\n",
       "  'Potassium': 0.013800000000000002,\n",
       "  'Vitamin D': 2.0000000000000002e-07,\n",
       "  'Weight': 10.0},\n",
       " {'Fat': 0.0,\n",
       "  'Saturated fatty acids': 0.0,\n",
       "  'Fatty acids, total trans': 0,\n",
       "  'Cholesterol': 0.0,\n",
       "  'Sodium': 2.736,\n",
       "  'Carbohydrate': 0.0,\n",
       "  'Fiber': 0.0,\n",
       "  'Sugars': 0.0,\n",
       "  'Protein': 0.0,\n",
       "  'Calcium': 0.0,\n",
       "  'Iron': 0.0,\n",
       "  'Potassium': 0.0,\n",
       "  'Vitamin D': 0.0,\n",
       "  'Weight': 10.0},\n",
       " {'Fat': 0.0,\n",
       "  'Saturated fatty acids': 0.0,\n",
       "  'Fatty acids, total trans': 0.0,\n",
       "  'Cholesterol': 0.0,\n",
       "  'Sodium': 3.8758000000000004,\n",
       "  'Carbohydrate': 0.0,\n",
       "  'Fiber': 0.0,\n",
       "  'Sugars': 0.0,\n",
       "  'Protein': 0.0,\n",
       "  'Calcium': 0.0024,\n",
       "  'Iron': 2.9999999999999997e-05,\n",
       "  'Potassium': 0.0008,\n",
       "  'Vitamin D': 0.0,\n",
       "  'Weight': 10.0},\n",
       " {'Fat': 0.0,\n",
       "  'Saturated fatty acids': 0,\n",
       "  'Fatty acids, total trans': 0,\n",
       "  'Cholesterol': 0,\n",
       "  'Sodium': 0.0017,\n",
       "  'Carbohydrate': 0.0,\n",
       "  'Fiber': 0,\n",
       "  'Sugars': 0.0,\n",
       "  'Protein': 0.0,\n",
       "  'Calcium': 0,\n",
       "  'Iron': 0,\n",
       "  'Potassium': 0,\n",
       "  'Vitamin D': 0,\n",
       "  'Weight': 10.0}]"
      ]
     },
     "execution_count": 52,
     "metadata": {},
     "output_type": "execute_result"
    }
   ],
   "source": [
    "dictionary_list"
   ]
  },
  {
   "cell_type": "code",
   "execution_count": 55,
   "id": "bda06b6e-8886-4220-84d0-2f054407b566",
   "metadata": {},
   "outputs": [
    {
     "data": {
      "text/plain": [
       "[0, 0, 0, 0, 0, 0, 0, 0, 0]"
      ]
     },
     "execution_count": 55,
     "metadata": {},
     "output_type": "execute_result"
    }
   ],
   "source": [
    "building_x_list(0)"
   ]
  },
  {
   "cell_type": "code",
   "execution_count": 78,
   "id": "8032fe0c-5eda-40ff-8540-2142f5029e97",
   "metadata": {},
   "outputs": [],
   "source": [
    "#can't just have that the values are descending because the serving sizes are different! should we do equal serving sizes?\n",
    "\n",
    "penalty_constant = .5\n",
    "\n",
    "def parameters(x_list):\n",
    "    list_of_parameters = []\n",
    "    list_of_parameters_over_0 = []\n",
    "    for i in range(0,len(x_list)-1):\n",
    "        parameter_for_over_0 = penalty_constant * ((max(0,(-1 * x_list[i]))) ** 2)\n",
    "        list_of_parameters_over_0.append(parameter_for_over_0)\n",
    "        parameter_for_inequality_individual_variable_list = building_x_list(0)\n",
    "        for j in range(i+1,len(x_list)):\n",
    "            parameter_for_inequalities = penalty_constant * ((max(0, x_list[j] - x_list[i])) ** 2)\n",
    "            parameter_for_inequality_individual_variable_list[j-1] = parameter_for_inequalities\n",
    "        list_of_parameters.append(parameter_for_inequality_individual_variable_list)\n",
    "\n",
    "    #the last variable. because my above loop goes from 0 to the n-1 variable. \n",
    "    list_of_parameters_over_0.append(10 * (max(0,-x_list[-1]) ** 2))\n",
    "    list_of_parameters.append(list_of_parameters_over_0)\n",
    "\n",
    "    #what does this parameters list look like????\n",
    "    return list_of_parameters\n",
    "\n",
    "#needs to be looked at...\n",
    "def gradients_of_parameters(x_list):\n",
    "    list_of_gradients_of_parameters = []\n",
    "    list_gradient_over_0 = building_x_list(0)\n",
    "    for i in range(0,len(x_list)-1):\n",
    "        list_gradient_over_0[i] = (-2 * penalty_constant) * max(0, -x_list[i])\n",
    "        penalty_gradients_inequalities = building_x_list(0)\n",
    "        for j in range(i+1,len(x_list)):\n",
    "            penalty_gradients_inequalities[i] = penalty_gradients_inequalities[i] + ((-2 * penalty_constant) * max(0, x_list[j] - x_list[i]))\n",
    "            penalty_gradients_inequalities[j] = (2 * penalty_constant) * max(0, x_list[j] - x_list[i])\n",
    "        list_of_gradients_of_parameters.append(penalty_gradients_inequalities)\n",
    "    list_gradient_over_0[-1] = (-2 * penalty_constant) * max(0, -x_list[-1])\n",
    "    list_of_gradients_of_parameters.append(list_gradient_over_0)\n",
    "    \n",
    "    return list_of_gradients_of_parameters"
   ]
  },
  {
   "cell_type": "code",
   "execution_count": 135,
   "id": "e48da4db-13b4-4ac2-9651-687f6068a852",
   "metadata": {},
   "outputs": [],
   "source": [
    "#creates a list of whatever inputted number (a list of 9 numbers in this case)\n",
    "\n",
    "def building_x_list(number):\n",
    "    x_list = []\n",
    "    for variable in range(0, len(dictionary_list)):\n",
    "        x_list.append(number)\n",
    "    return x_list\n",
    "\n",
    "x_list = building_x_list(.8)\n",
    "\n",
    "#getting the equations. and the gradients. because each variable has a degree of one, the gradients with respect to\n",
    "#each variable is just the constant before that variable\n",
    "\n",
    "#equations. This evaluates each equation (14 in this case) with the assumed inputted variable values.\n",
    "\n",
    "def equations(dictionary_list,x_list):\n",
    "    list_of_equations = []\n",
    "    for key in key_list:\n",
    "        equation = 0\n",
    "        for i,dictionary in enumerate(dictionary_list):\n",
    "            equation = equation + (dictionary[key] * (x_list[i]))\n",
    "        #subtracting tates. This is because initially we had a1x1 + a2x2 + ... + anxn = some constant C (the tates value in this case)\n",
    "        #so now, we have a1x1 + a2x2 + ... + anxn - C = 0.\n",
    "        list_of_equations.append(equation-(tates_dict[key]))\n",
    "    return list_of_equations\n",
    "\n",
    "#gradients. The first list is a list of partial derivatives of the first equation, and the list is in order of partial derivatives\n",
    "#of x1,...,xn. The second list is a list of partial derivatives of the second equation, etc. The returned list is a list of each\n",
    "#of these lists\n",
    "\n",
    "def gradients(dictionary_list,x_list):\n",
    "    list_of_gradients_of_equations = []\n",
    "    for key in key_list:\n",
    "        gradient = []\n",
    "        for dictionary in dictionary_list:\n",
    "            gradient.append(dictionary[key])\n",
    "        list_of_gradients_of_equations.append(gradient)\n",
    "    #max_equation = max(abs(eq) for eq in list_of_equations)\n",
    "    #list_of_equations = [eq / max_equation for eq in list_of_equations]\n",
    "    return list_of_gradients_of_equations"
   ]
  },
  {
   "cell_type": "code",
   "execution_count": 136,
   "id": "9594ec77-7ecc-4ed7-b238-71b7e94d8259",
   "metadata": {},
   "outputs": [
    {
     "data": {
      "text/plain": [
       "[-18.163,\n",
       " -13.472499999999998,\n",
       " -0.96,\n",
       " 0.14977500000000002,\n",
       " 50.00968000000001,\n",
       " 98.124,\n",
       " 0.3844,\n",
       " 82.30599999999998,\n",
       " 9.866,\n",
       " 0.0677999643,\n",
       " 0.0024387000000000002,\n",
       " 0.10543000000000001,\n",
       " -0.0178488,\n",
       " 380.004]"
      ]
     },
     "execution_count": 136,
     "metadata": {},
     "output_type": "execute_result"
    }
   ],
   "source": [
    "equations(dictionary_list,[1,2,-3,4,5,6,7,8,9])"
   ]
  },
  {
   "cell_type": "code",
   "execution_count": 137,
   "id": "1d880e23-a731-4fbe-ade8-2028c746ddc6",
   "metadata": {},
   "outputs": [
    {
     "data": {
      "text/plain": [
       "[[2.667, 0.148, 8.111, 0.0, 0.0, 0.951, 0.0, 0.0, 0.0],\n",
       " [1.667, 0, 5.137, 0.0, 0.0, 0.313, 0.0, 0.0, 0],\n",
       " [0.0, 0, 0.328, 0, 0.0, 0.004, 0, 0.0, 0],\n",
       " [0.0, 0, 0.0215, 0, 0.0, 0.037200000000000004, 0.0, 0.0, 0],\n",
       " [0.0,\n",
       "  0.0004,\n",
       "  0.0643,\n",
       "  0.0,\n",
       "  0.0,\n",
       "  0.014199999999999999,\n",
       "  2.736,\n",
       "  3.8758000000000004,\n",
       "  0.0017],\n",
       " [6.67, 7.32, 0.01, 10.0, 8.57, 0.07, 0.0, 0.0, 0.0],\n",
       " [0.67, 0, 0.0, 0, 0.0, 0.0, 0.0, 0.0, 0],\n",
       " [5.33, 0, 0.01, 10.0, 8.21, 0.04, 0.0, 0.0, 0.0],\n",
       " [0.67, 1.31, 0.09, 0.0, 0.0, 1.26, 0.0, 0.0, 0.0],\n",
       " [0.0, 0.0021000000000000003, 0.0024, 0, 0.0036, 0.0056, 0.0, 0.0024, 0],\n",
       " [0.00027,\n",
       "  0.00054,\n",
       "  0.0,\n",
       "  0,\n",
       "  2.9999999999999997e-05,\n",
       "  0.00017,\n",
       "  0.0,\n",
       "  2.9999999999999997e-05,\n",
       "  0],\n",
       " [0.0, 0.0135, 0.0024, 0, 0, 0.013800000000000002, 0.0, 0.0008, 0],\n",
       " [0, 0, 0.0, 0, 0, 2.0000000000000002e-07, 0.0, 0.0, 0],\n",
       " [10.0, 10.0, 10.0, 10.0, 10.0, 10.0, 10.0, 10.0, 10.0]]"
      ]
     },
     "execution_count": 137,
     "metadata": {},
     "output_type": "execute_result"
    }
   ],
   "source": [
    "gradients(dictionary_list,[8.6,.5,.3,.2,.1,.1,.1,.1,.1])"
   ]
  },
  {
   "cell_type": "code",
   "execution_count": 152,
   "id": "f5cb1aa1-d016-409b-a6d4-d69789919b72",
   "metadata": {},
   "outputs": [],
   "source": [
    "def normalize_gradients(gradients):\n",
    "    norm = np.linalg.norm(gradients)\n",
    "    if norm > 0:\n",
    "        return [g / norm for g in gradients]\n",
    "    return gradients\n",
    "\n",
    "def loss_function(dictionary_list,x_list):\n",
    "    list_of_equations = equations(dictionary_list,x_list)\n",
    "    list_of_parameters = parameters(x_list)\n",
    "    loss = 0\n",
    "    for equation in list_of_equations:\n",
    "        loss = loss + (equation ** 2)\n",
    "    for parameter in list_of_parameters:\n",
    "        loss = loss + (np.sum(parameter))\n",
    "    return loss\n",
    "\n",
    "\n",
    "def gradient_loss_function(dictionary_list,x_list):\n",
    "    list_of_equations = equations(dictionary_list,x_list)\n",
    "    list_of_gradients_of_equations = gradients(dictionary_list,x_list)\n",
    "    list_of_gradients_loss = building_x_list(0)\n",
    "    for equation in list_of_equations:\n",
    "        for gradient_list_in_question in list_of_gradients_of_equations:\n",
    "            for j in range(0,len(gradient_list_in_question)):\n",
    "                list_of_gradients_loss[j] = list_of_gradients_loss[j] + (2 * gradient_list_in_question[j] * equation)\n",
    "    list_of_gradients_loss = normalize_gradients(list_of_gradients_loss)\n",
    "    return list_of_gradients_loss"
   ]
  },
  {
   "cell_type": "code",
   "execution_count": 154,
   "id": "8a678961-df10-446e-847c-216b95908093",
   "metadata": {},
   "outputs": [
    {
     "data": {
      "text/plain": [
       "[0.4421140143896594,\n",
       " 0.3002546960771514,\n",
       " 0.3798462642207786,\n",
       " 0.47926902612751043,\n",
       " 0.4278854755419858,\n",
       " 0.2030338590279184,\n",
       " 0.2034656772253324,\n",
       " 0.22172630638981677,\n",
       " 0.1597835006206507]"
      ]
     },
     "execution_count": 154,
     "metadata": {},
     "output_type": "execute_result"
    }
   ],
   "source": [
    "gradient_loss_function(dictionary_list,[8.6,.5,.3,.2,.1,.1,.1,.1,.1])"
   ]
  },
  {
   "cell_type": "code",
   "execution_count": 147,
   "id": "a4f48a70-8d9a-4350-a781-533248616cc4",
   "metadata": {},
   "outputs": [],
   "source": [
    "def gradient_function(dictionary_list,x_list):\n",
    "    list_of_equations, list_of_gradients_of_equations = equations_and_gradients(dictionary_list,x_list)\n",
    "    list_of_penalties_for_inequalities,penalty_gradients_over_0,penalty_gradients_inequalities = penalties_for_inequalities(x_list)\n",
    "    penalty_gradients_inequalities = []\n",
    "    penalty_gradients_overall = penalty_gradients_over_0 + penalty_gradients_inequalities\n",
    "    loss = 0\n",
    "    gradients = building_x_list(0)\n",
    "    for i,equation in enumerate(list_of_equations):\n",
    "        loss = loss + (equation ** 2)\n",
    "        gradient_list_in_question = list_of_gradients_of_equations[i]\n",
    "        for j in range(0,len(gradient_list_in_question)):\n",
    "            #the two? understand the math better here.\n",
    "            gradients[j] = gradients[j] + (20 * gradient_list_in_question[j] * equation)\n",
    "    for inequality in list_of_penalties_for_inequalities:\n",
    "        loss = loss + (10 * (inequality))\n",
    "    for penalty_gradient in penalty_gradients_overall:\n",
    "        for i in range(0,len(penalty_gradient)):\n",
    "            gradients[i] = gradients[i] + penalty_gradient[i]\n",
    "    penalty = (np.sum(x_list) - 1)**2\n",
    "    loss += 10 * penalty\n",
    "    for i in range(len(gradients)):\n",
    "        gradients[i] += 2 * 10 * (np.sum(x_list) - 1)\n",
    "    gradients = normalize_gradients(gradients)\n",
    "    return loss, gradients"
   ]
  },
  {
   "cell_type": "code",
   "execution_count": 167,
   "id": "e6fe3a9f-3bc0-4931-b759-c8fc05408fe0",
   "metadata": {},
   "outputs": [],
   "source": [
    "# Gradient descent parameters\n",
    "#x = building_x_list(.2)  # Initial guess\n",
    "x = [.3,.2,.2,.1,.1,.005,.005,.005]\n",
    "learning_rate = 0.001\n",
    "tolerance = 1e-6\n",
    "max_iters = 1000\n",
    "\n",
    "\n",
    "def updating_x_values(dictionary_list,x_listy,clipping=False):\n",
    "    fig, ax = plt.subplots()\n",
    "    for i in range(0,max_iters):\n",
    "        gradient_loss_list = gradient_loss_function(dictionary_list,x_listy)\n",
    "        loss_before = loss_function(dictionary_list,x_listy)\n",
    "        for j in range(0,len(x_listy)):\n",
    "            x_listy[j] = x_listy[j] - (learning_rate * gradient_loss_list[j])\n",
    "        if clipping == True:\n",
    "            x_listy[-1] = min(.007, x_listy[-1])\n",
    "            x_listy[-2] = min(.01, x_listy[-2])\n",
    "            x_listy[-3] = min(.01, x_listy[-3])\n",
    "        loss_after = loss_function(dictionary_list,x_listy)\n",
    "        plt.plot(i,loss_after,\"or\")\n",
    "        \n",
    "        if abs(loss_after - loss_before) < tolerance:\n",
    "            print(\"YEAH\")\n",
    "            break\n",
    "    plt.show()\n",
    "    print(\"Solution:\", x_listy)\n",
    "    print(\"Loss at solution:\", loss_after)\n",
    "    x_for_one_serving_of_tates = []\n",
    "    for x in x_listy:\n",
    "        x_for_one_serving_of_tates.append(x * 28)\n",
    "    print(\"for one serving:\", x_for_one_serving_of_tates)"
   ]
  },
  {
   "cell_type": "code",
   "execution_count": 168,
   "id": "1947bb12-1345-4d76-839a-e618d3c4fafe",
   "metadata": {},
   "outputs": [
    {
     "data": {
      "image/png": "[encoded data removed]",
      "text/plain": [
       "<Figure size 640x480 with 1 Axes>"
      ]
     },
     "metadata": {},
     "output_type": "display_data"
    },
    {
     "name": "stdout",
     "output_type": "stream",
     "text": [
      "Solution: [0.35932551067616736, 0.2723765679609015, 0.16505414369169177, 0.15590724959625463, 0.06063453625012645, 0.08132088496942329, -0.013718842304737956, -0.015398820187839701, -0.00970008205710297]\n",
      "Loss at solution: 0.46477046816387724\n",
      "for one serving: [10.061114298932686, 7.626543902905242, 4.62151602336737, 4.36540298869513, 1.6977670150035407, 2.2769847791438522, -0.38412758453266277, -0.43116696525951165, -0.27160229759888316]\n"
     ]
    }
   ],
   "source": [
    "updating_x_values(dictionary_list,[.4,.3,.2,.2,.1,.1,.005,.005,.005])"
   ]
  },
  {
   "cell_type": "code",
   "execution_count": 325,
   "id": "97d39763-e64e-4283-86ba-6a76ba5731a1",
   "metadata": {},
   "outputs": [
    {
     "data": {
      "text/plain": [
       "{'Fat': 0.148,\n",
       " 'Saturated fatty acids': 0,\n",
       " 'Fatty acids, total trans': 0,\n",
       " 'Cholesterol': 0,\n",
       " 'Sodium': 0.0004,\n",
       " 'Carbohydrate': 7.32,\n",
       " 'Fiber': 0,\n",
       " 'Sugars': 0,\n",
       " 'Protein': 1.31,\n",
       " 'Calcium': 0.0021000000000000003,\n",
       " 'Iron': 0.00054,\n",
       " 'Potassium': 0.0135,\n",
       " 'Vitamin D': 0,\n",
       " 'Weight': 10.0}"
      ]
     },
     "execution_count": 325,
     "metadata": {},
     "output_type": "execute_result"
    }
   ],
   "source": [
    "for i in range(0,max_iters):\n",
    "    loss, grad = gradient_loss_function(dictionary_list,x)\n",
    "    x_new = []\n",
    "    for j in range(0,len(x)):\n",
    "        x_new.append(x[j] - (learning_rate * grad[j]))\n",
    "\n",
    "    x_new[-1] = min(.007, x_new[-1])\n",
    "    x_new[-2] = min(.01, x_new[-2])\n",
    "    x_new[-3] = min(.01, x_new[-3])\n",
    "\n",
    "    # Check for convergence\n",
    "    sum1 = 0\n",
    "    for j in range(0,len(x)):\n",
    "        sum1 = sum1 + ((x_new[j] - x[j]) ** 2)\n",
    "    if sum1 ** 0.5 < tolerance:\n",
    "        print(f\"Converged in {i+1} iterations\")\n",
    "    \n",
    "    plt.plot(i,loss,\"or\")\n",
    "\n",
    "    x = x_new"
   ]
  },
  {
   "cell_type": "code",
   "execution_count": 326,
   "id": "33fe9ffb-cdaf-46f2-b203-52181da6d8ae",
   "metadata": {},
   "outputs": [
    {
     "data": {
      "text/plain": [
       "{'Fat': 8.111,\n",
       " 'Saturated fatty acids': 5.137,\n",
       " 'Fatty acids, total trans': 0.328,\n",
       " 'Cholesterol': 0.0215,\n",
       " 'Sodium': 0.0643,\n",
       " 'Carbohydrate': 0.01,\n",
       " 'Fiber': 0.0,\n",
       " 'Sugars': 0.01,\n",
       " 'Protein': 0.09,\n",
       " 'Calcium': 0.0024,\n",
       " 'Iron': 0.0,\n",
       " 'Potassium': 0.0024,\n",
       " 'Vitamin D': 0.0,\n",
       " 'Weight': 10.0}"
      ]
     },
     "execution_count": 326,
     "metadata": {},
     "output_type": "execute_result"
    }
   ],
   "source": [
    "salted_butter_dict"
   ]
  },
  {
   "cell_type": "code",
   "execution_count": null,
   "id": "13582545-09fe-46ea-8fff-00f3bf018444",
   "metadata": {},
   "outputs": [],
   "source": []
  }
 ],
 "metadata": {
  "kernelspec": {
   "display_name": "Python 3 (ipykernel)",
   "language": "python",
   "name": "python3"
  },
  "language_info": {
   "codemirror_mode": {
    "name": "ipython",
    "version": 3
   },
   "file_extension": ".py",
   "mimetype": "text/x-python",
   "name": "python",
   "nbconvert_exporter": "python",
   "pygments_lexer": "ipython3",
   "version": "3.12.4"
  }
 },
 "nbformat": 4,
 "nbformat_minor": 5
}
