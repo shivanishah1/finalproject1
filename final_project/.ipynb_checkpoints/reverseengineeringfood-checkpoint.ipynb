{
 "cells": [
  {
   "cell_type": "markdown",
   "id": "ca331584-386a-4b05-82c3-5d49ece9df99",
   "metadata": {},
   "source": [
    "Reverse Engineering From Nutrition Labels\n",
    "1. create system of equations and equations\n",
    "2. create loss function\n",
    "3. gradient descent\n",
    "4. how to apply this to multiple formulas?"
   ]
  },
  {
   "cell_type": "code",
   "execution_count": 1,
   "id": "595548fe-4b17-4dfc-ab3d-e2d5ecb66ad9",
   "metadata": {},
   "outputs": [],
   "source": [
    "import numpy as np\n",
    "import csv\n",
    "import matplotlib.pyplot as plt"
   ]
  },
  {
   "cell_type": "code",
   "execution_count": 12,
   "id": "8889c5e6-ce96-465f-99c0-b326ccaff005",
   "metadata": {},
   "outputs": [],
   "source": [
    "#creating the overall dictionary: the one representing the nutrition label facts\n",
    "\n",
    "overall_dict = {}\n",
    "\n",
    "overall_dict[\"Fat\"] = 0\n",
    "overall_dict[\"Saturated fatty acids\"] = 0\n",
    "overall_dict[\"Fatty acids, total trans\"] = 0\n",
    "overall_dict[\"Cholesterol\"] = 0\n",
    "overall_dict[\"Sodium\"] = 0\n",
    "overall_dict[\"Carbohydrate\"] = 0\n",
    "overall_dict[\"Fiber\"] = 0\n",
    "overall_dict[\"Sugars\"] = 0\n",
    "overall_dict[\"Protein\"] = 0\n",
    "overall_dict[\"Calcium\"] = 0\n",
    "overall_dict[\"Iron\"] = 0\n",
    "overall_dict[\"Potassium\"] = 0\n",
    "overall_dict[\"Vitamin D\"] = 0\n",
    "overall_dict[\"Weight\"] = 0"
   ]
  },
  {
   "cell_type": "code",
   "execution_count": 13,
   "id": "8c79466a-e91f-4889-bc15-c2cf3512fe45",
   "metadata": {},
   "outputs": [],
   "source": [
    "#nutritional information for tates cookies per 10 grams (each number was initially for  28 grams. So I had to multiply \n",
    "#each number by (10 * (1 / 28)) to get the information for 10 grams)\n",
    "\n",
    "tates_dict = overall_dict.copy()\n",
    "tates_dict[\"Fat\"] = 7 * (10 * (1 / 28))\n",
    "tates_dict[\"Saturated fatty acids\"] = 4.5 * (10 * (1 / 28))\n",
    "tates_dict[\"Fatty acids, total trans\"] = 0 * (10 * (1 / 28))\n",
    "tates_dict[\"Cholesterol\"] = .025 * (10 * (1 / 28))\n",
    "tates_dict[\"Sodium\"] = .16 * (10 * (1 / 28))\n",
    "tates_dict[\"Carbohydrate\"] = 18 * (10 * (1 / 28))\n",
    "tates_dict[\"Fiber\"] = .8 * (10 * (1 / 28))\n",
    "tates_dict[\"Sugars\"] = 12 * (10 * (1 / 28))\n",
    "tates_dict[\"Protein\"] = 2 * (10 * (1 / 28))\n",
    "tates_dict[\"Calcium\"] = .0000001 * (10 * (1 / 28))\n",
    "tates_dict[\"Iron\"] = .0009 * (10 * (1 / 28))\n",
    "tates_dict[\"Potassium\"] = .01 * (10 * (1 / 28))\n",
    "tates_dict[\"Vitamin D\"] = .05 * (10 * (1 / 28))\n",
    "tates_dict[\"Weight\"] = 28 * (10 * (1 / 28))"
   ]
  },
  {
   "cell_type": "markdown",
   "id": "a0e3fc22-4a58-4bfb-b5e8-935fbd83af94",
   "metadata": {},
   "source": [
    "this isn't important:\n",
    "tates_dict = overall_dict.copy()\n",
    "tates_dict[\"Fat\"] = 7\n",
    "tates_dict[\"Saturated fatty acids\"] = 4.5\n",
    "tates_dict[\"Fatty acids, total trans\"] = 0\n",
    "tates_dict[\"Cholesterol\"] = .025\n",
    "tates_dict[\"Sodium\"] = .16\n",
    "tates_dict[\"Carbohydrate\"] = 18\n",
    "tates_dict[\"Fiber\"] = .8\n",
    "tates_dict[\"Sugars\"] = 12\n",
    "tates_dict[\"Protein\"] = 2\n",
    "tates_dict[\"Calcium\"] = .0000001\n",
    "tates_dict[\"Iron\"] = .0009\n",
    "tates_dict[\"Potassium\"] = .01\n",
    "tates_dict[\"Vitamin D\"] = .05\n",
    "tates_dict[\"Weight\"] = 28"
   ]
  },
  {
   "cell_type": "code",
   "execution_count": 14,
   "id": "197d9c9b-66b6-4f1c-8163-b12ab2cf6175",
   "metadata": {},
   "outputs": [
    {
     "data": {
      "text/plain": [
       "{'Fat': 2.4999999999999996,\n",
       " 'Saturated fatty acids': 1.607142857142857,\n",
       " 'Fatty acids, total trans': 0.0,\n",
       " 'Cholesterol': 0.008928571428571428,\n",
       " 'Sodium': 0.057142857142857134,\n",
       " 'Carbohydrate': 6.428571428571428,\n",
       " 'Fiber': 0.2857142857142857,\n",
       " 'Sugars': 4.285714285714285,\n",
       " 'Protein': 0.7142857142857142,\n",
       " 'Calcium': 3.5714285714285705e-08,\n",
       " 'Iron': 0.00032142857142857136,\n",
       " 'Potassium': 0.003571428571428571,\n",
       " 'Vitamin D': 0.017857142857142856,\n",
       " 'Weight': 9.999999999999998}"
      ]
     },
     "execution_count": 14,
     "metadata": {},
     "output_type": "execute_result"
    }
   ],
   "source": [
    "tates_dict"
   ]
  },
  {
   "cell_type": "code",
   "execution_count": 15,
   "id": "49a8e71d-eda2-4f84-a689-07cdca25c66b",
   "metadata": {},
   "outputs": [],
   "source": [
    "# function to transform the website information to dictionaries (with the keys of overall_dict) \n",
    "\n",
    "file1 = \"flour_unbleached_enriched_allpurpose_wheat.csv\"\n",
    "file2 = \"butter_salted.csv\"\n",
    "\n",
    "ingredient_dict = overall_dict.copy()\n",
    "\n",
    "def reader(file,ingredient_dict,desired_serving):\n",
    "    with open(file, 'r') as csvfile:\n",
    "        csvreader = csv.reader(csvfile)\n",
    "        for i,row in enumerate(csvreader):\n",
    "            if len(row) > 0 and row[0] in ingredient_dict:\n",
    "                if row[2] == \"mg\":\n",
    "                    ingredient_dict[row[0]] = (float(row[1]) / 1000) * desired_serving\n",
    "                elif row[2] == \"mcg\":\n",
    "                    ingredient_dict[row[0]] = (float(row[1]) / 1000000) * desired_serving\n",
    "                else: #grams\n",
    "                    ingredient_dict[row[0]] = (float(row[1])) * desired_serving\n",
    "            if i == 4:\n",
    "                index = row.index(\"g\")\n",
    "                ingredient_dict[\"Weight\"] = float(row[index-1]) * desired_serving\n",
    "    return ingredient_dict"
   ]
  },
  {
   "cell_type": "code",
   "execution_count": 16,
   "id": "ff597840-d25e-4934-9168-8ddae6bc16c6",
   "metadata": {},
   "outputs": [
    {
     "data": {
      "text/plain": [
       "{'Fat': 16.222,\n",
       " 'Saturated fatty acids': 10.274,\n",
       " 'Fatty acids, total trans': 0.656,\n",
       " 'Cholesterol': 0.043,\n",
       " 'Sodium': 0.1286,\n",
       " 'Carbohydrate': 0.02,\n",
       " 'Fiber': 0.0,\n",
       " 'Sugars': 0.02,\n",
       " 'Protein': 0.18,\n",
       " 'Calcium': 0.0048,\n",
       " 'Iron': 0.0,\n",
       " 'Potassium': 0.0048,\n",
       " 'Vitamin D': 0.0,\n",
       " 'Weight': 20.0}"
      ]
     },
     "execution_count": 16,
     "metadata": {},
     "output_type": "execute_result"
    }
   ],
   "source": [
    "reader(file2,ingredient_dict,2)"
   ]
  },
  {
   "cell_type": "code",
   "execution_count": 17,
   "id": "a59a8580-87b3-4ada-84a2-5378341e5d93",
   "metadata": {},
   "outputs": [],
   "source": [
    "#the various ingredients in Tate's. Transforming the online nutrritional information of each ingredient into individual dictionaries.\n",
    "desired_serving = 1\n",
    "\n",
    "semi_sweet_chocolate_file = \"semisweet_chocolate_chips_by_raleys.csv\"\n",
    "semi_sweet_chocolate_dict = overall_dict.copy()\n",
    "reader(semi_sweet_chocolate_file,semi_sweet_chocolate_dict,desired_serving)\n",
    "\n",
    "unbleached_flour_file = \"flour_unbleached_enriched_allpurpose_wheat.csv\"\n",
    "unbleached_flour_dict = overall_dict.copy()\n",
    "reader(unbleached_flour_file,unbleached_flour_dict,desired_serving)\n",
    "\n",
    "salted_butter_file = \"butter_salted.csv\"\n",
    "salted_butter_dict = overall_dict.copy()\n",
    "reader(salted_butter_file,salted_butter_dict,desired_serving)\n",
    "\n",
    "cane_sugar_file = \"granulated_pure_cane_sugar.csv\"\n",
    "cane_sugar_dict = overall_dict.copy()\n",
    "reader(cane_sugar_file,cane_sugar_dict,desired_serving)\n",
    "\n",
    "brown_cane_sugar_file = \"brown_sugar_cane_by_frusecha.csv\"\n",
    "brown_cane_sugar_dict = overall_dict.copy()\n",
    "reader(brown_cane_sugar_file,brown_cane_sugar_dict,desired_serving)\n",
    "\n",
    "eggs_file = \"egg_fresh_raw_whole.csv\"\n",
    "eggs_dict = overall_dict.copy()\n",
    "reader(eggs_file,eggs_dict,desired_serving)\n",
    "\n",
    "baking_soda_file = \"leavening_agents_baking_soda.csv\"\n",
    "baking_soda_dict = overall_dict.copy()\n",
    "reader(baking_soda_file,baking_soda_dict,desired_serving)\n",
    "\n",
    "salt_file = \"salt_table.csv\"\n",
    "salt_dict = overall_dict.copy()\n",
    "reader(salt_file,salt_dict,desired_serving)\n",
    "\n",
    "natural_vanilla_flavor_file = \"vanilla_flavoring_syrup_by_r_torre__coinc.csv\"\n",
    "natural_vanilla_flavor_dict = overall_dict.copy()\n",
    "reader(natural_vanilla_flavor_file,natural_vanilla_flavor_dict,desired_serving)\n",
    "\n",
    "dictionary_list = [semi_sweet_chocolate_dict,unbleached_flour_dict,salted_butter_dict,cane_sugar_dict,brown_cane_sugar_dict,eggs_dict,baking_soda_dict,salt_dict,natural_vanilla_flavor_dict]\n",
    "key_list = [\"Fat\",\"Saturated fatty acids\",\"Fatty acids, total trans\",\"Cholesterol\",\"Sodium\",\"Carbohydrate\",\"Fiber\",\"Sugars\",\"Protein\",\"Calcium\",\"Iron\",\"Potassium\",\"Vitamin D\",\"Weight\"]"
   ]
  },
  {
   "cell_type": "code",
   "execution_count": 18,
   "id": "e48da4db-13b4-4ac2-9651-687f6068a852",
   "metadata": {},
   "outputs": [],
   "source": [
    "#creates a list of whatever inputted number (with a length of dictionary_list (number of variables))\n",
    "\n",
    "def building_x_list(number,dictionary_list):\n",
    "    x_list = []\n",
    "    for variable in range(0, len(dictionary_list)):\n",
    "        x_list.append(number)\n",
    "    return x_list\n",
    "\n",
    "x_list = building_x_list(1,dictionary_list)\n",
    "\n",
    "#getting the equations. and the gradients. because each variable has a degree of one, the gradients with respect to\n",
    "#each variable is just the constant before that variable\n",
    "\n",
    "#equations. This evaluates each equation (14 in this case) with the assumed inputted variable values.\n",
    "\n",
    "def equations(dictionary_list,x_list,desired_dict):\n",
    "    list_of_equations = []\n",
    "    for key in key_list:\n",
    "        equation = 0\n",
    "        for i,dictionary in enumerate(dictionary_list):\n",
    "            equation = equation + (dictionary[key] * (x_list[i]))\n",
    "        #subtracting tates. This is because initially we had a1x1 + a2x2 + ... + anxn = some constant C (the tates value in this case)\n",
    "        #so now, we have a1x1 + a2x2 + ... + anxn - C = 0.\n",
    "        list_of_equations.append(equation-(desired_dict[key]*desired_serving))\n",
    "    return list_of_equations\n",
    "\n",
    "\n",
    "#gradients. The first list is a list of partial derivatives of the first equation, and the list is in order of partial derivatives\n",
    "#of x1,...,xn. The second list is a list of partial derivatives of the second equation, etc. The returned list is a list of each\n",
    "#of these lists\n",
    "\n",
    "def gradients(dictionary_list,x_list):\n",
    "    list_of_gradients_of_equations = []\n",
    "    for key in key_list:\n",
    "        gradient = []\n",
    "        for dictionary in dictionary_list:\n",
    "            gradient.append(dictionary[key])\n",
    "        list_of_gradients_of_equations.append(gradient)\n",
    "    return list_of_gradients_of_equations"
   ]
  },
  {
   "cell_type": "code",
   "execution_count": 19,
   "id": "8032fe0c-5eda-40ff-8540-2142f5029e97",
   "metadata": {},
   "outputs": [],
   "source": [
    "def parameters(x_list,penalty_constant,dictionary_list):\n",
    "    list_of_parameters = []\n",
    "    list_of_parameters_over_0 = []\n",
    "    for i in range(0,len(x_list)-1):\n",
    "        parameter_for_over_0 = penalty_constant * ((max(0,(-1 * x_list[i]))) ** 2)\n",
    "        list_of_parameters_over_0.append(parameter_for_over_0)\n",
    "        parameter_for_inequality_individual_variable_list = building_x_list(0,dictionary_list)\n",
    "        parameter_for_inequalities = penalty_constant * ((max(0, x_list[i+1] - x_list[i])) ** 2)\n",
    "        parameter_for_inequality_individual_variable_list[i] = parameter_for_inequality_individual_variable_list[i] + (parameter_for_inequalities / 2)\n",
    "        parameter_for_inequality_individual_variable_list[i+1] = parameter_for_inequality_individual_variable_list[i+1]+ (parameter_for_inequalities / 2)\n",
    "        list_of_parameters.append(parameter_for_inequality_individual_variable_list)\n",
    "\n",
    "    #the last variable. because my above loop goes from 0 to the n-1 variable. \n",
    "    list_of_parameters_over_0.append(10 * (max(0,-x_list[-1]) ** 2))\n",
    "    list_of_parameters.append(list_of_parameters_over_0)\n",
    "\n",
    "    #what does this parameters list look like????\n",
    "    return list_of_parameters"
   ]
  },
  {
   "cell_type": "code",
   "execution_count": 21,
   "id": "3197fa65-76ff-4b82-a8d6-a715c7deba00",
   "metadata": {},
   "outputs": [],
   "source": [
    "def gradients_of_parameters(x_list,penalty_constant,dictionary_list):\n",
    "    list_of_gradients_of_parameters = []\n",
    "    list_gradient_over_0 = building_x_list(0,dictionary_list)\n",
    "    for i in range(0,len(x_list)-1):\n",
    "        list_gradient_over_0[i] = (2 * penalty_constant) * max(0, -x_list[i])\n",
    "        penalty_gradients_inequalities = building_x_list(0,dictionary_list)\n",
    "        penalty_gradients_inequalities[i] = penalty_gradients_inequalities[i] + ((-2 * penalty_constant) * max(0, x_list[i+1] - x_list[i]))\n",
    "        penalty_gradients_inequalities[i+1] = (2 * penalty_constant) * max(0, x_list[i+1] - x_list[i])\n",
    "        list_of_gradients_of_parameters.append(penalty_gradients_inequalities)\n",
    "    list_gradient_over_0[-1] = (-2 * penalty_constant) * max(0, -x_list[-1])\n",
    "\n",
    "    #this is where gradient for over 0 goes. so this is the last list\n",
    "    list_of_gradients_of_parameters.append(list_gradient_over_0)\n",
    "    \n",
    "    return list_of_gradients_of_parameters"
   ]
  },
  {
   "cell_type": "code",
   "execution_count": 22,
   "id": "a5cb1fd5-ed3d-4d95-ad32-7b922c24f5b1",
   "metadata": {},
   "outputs": [
    {
     "data": {
      "text/plain": [
       "[[-2, 2, 0, 0, 0, 0, 0, 0, 0, 0, 0, 0, 0, 0],\n",
       " [0, -2, 2, 0, 0, 0, 0, 0, 0, 0, 0, 0, 0, 0],\n",
       " [0, 0, -2, 2, 0, 0, 0, 0, 0, 0, 0, 0, 0, 0],\n",
       " [0, 0, 0, -2, 2, 0, 0, 0, 0, 0, 0, 0, 0, 0],\n",
       " [0, 0, 0, 0, -2, 2, 0, 0, 0, 0, 0, 0, 0, 0],\n",
       " [0, 0, 0, 0, 0, -2, 2, 0, 0, 0, 0, 0, 0, 0],\n",
       " [0, 0, 0, 0, 0, 0, -2, 2, 0, 0, 0, 0, 0, 0],\n",
       " [0, 0, 0, 0, 0, 0, 0, -2, 2, 0, 0, 0, 0, 0],\n",
       " [0, 0, 0, 0, 0, 0, 0, 0, 0, 0, 0, 0, 0, 0]]"
      ]
     },
     "execution_count": 22,
     "metadata": {},
     "output_type": "execute_result"
    }
   ],
   "source": [
    "gradients_of_parameters([1,2,3,4,5,6,7,8,9],1,tates_dict)"
   ]
  },
  {
   "cell_type": "code",
   "execution_count": 23,
   "id": "d88ec8cc-25d3-4140-af2e-878a50f2604c",
   "metadata": {},
   "outputs": [
    {
     "data": {
      "text/plain": [
       "'\\n\\ndef gradient_loss_function(dictionary_list,x_list):\\n    list_of_equations = equations(dictionary_list,x_list)\\n    list_of_gradients_of_equations = gradients(dictionary_list,x_list)\\n    list_of_gradients_loss = building_x_list(0)\\n    \\n    for gradient_list_in_question in list_of_gradients_of_equations:\\n        for j in range(0,len(gradient_list_in_question)):\\n            list_of_gradients_loss[j] = list_of_gradients_loss[j] + (2 * gradient_list_in_question[j] * list_of_equations[j])\\n                \\n    #list_of_gradients_loss = normalize_gradients(list_of_gradients_loss)\\n    return list_of_gradients_loss'"
      ]
     },
     "execution_count": 23,
     "metadata": {},
     "output_type": "execute_result"
    }
   ],
   "source": [
    "def normalize_gradients(gradients):\n",
    "    norm = np.linalg.norm(gradients)\n",
    "    if norm > 0:\n",
    "        return [g / norm for g in gradients]\n",
    "    return gradients\n",
    "\n",
    "def loss_function(dictionary_list,x_list,penalty_constant,desired_dict):\n",
    "    list_of_equations = equations(dictionary_list,x_list,desired_dict)\n",
    "    list_of_parameters = parameters(x_list,penalty_constant,dictionary_list)\n",
    "    loss = 0\n",
    "    for equation in list_of_equations:\n",
    "        loss = loss + (equation ** 2)\n",
    "    for parameter in list_of_parameters:\n",
    "        loss = loss + (np.sum(parameter))\n",
    "    return loss\n",
    "\n",
    "def gradient_loss_function(dictionary_list,x_list,penalty_constant,desired_dict):\n",
    "    list_of_equations = equations(dictionary_list,x_list,desired_dict)\n",
    "    list_of_gradients_of_equations = gradients(dictionary_list,x_list)\n",
    "    list_of_gradients_of_parameters = gradients_of_parameters(x_list,penalty_constant,dictionary_list)\n",
    "    list_of_gradients_loss = building_x_list(0,dictionary_list)\n",
    "    list_of_gradients = list_of_gradients_of_equations + list_of_gradients_of_parameters\n",
    "    \n",
    "    for equation in list_of_equations:\n",
    "        for gradient_list_in_question in list_of_gradients:\n",
    "            for j in range(0,len(gradient_list_in_question)):\n",
    "                list_of_gradients_loss[j] = list_of_gradients_loss[j] + (2 * gradient_list_in_question[j] * equation)\n",
    "    list_of_gradients_loss = normalize_gradients(list_of_gradients_loss)\n",
    "    return list_of_gradients_loss"
   ]
  },
  {
   "cell_type": "code",
   "execution_count": 58,
   "id": "e6fe3a9f-3bc0-4931-b759-c8fc05408fe0",
   "metadata": {},
   "outputs": [],
   "source": [
    "# Gradient descent parameters\n",
    "\n",
    "learning_rate = 0.00001\n",
    "tolerance = 1e-6\n",
    "max_iters = 10000\n",
    "\n",
    "\n",
    "def updating_x_values(dictionary_list,x_listy,penalty_constant,desired_dict,max_iters,clipping,graphing):\n",
    "    \n",
    "    if graphing == True:\n",
    "        fig, ax = plt.subplots()\n",
    "    \n",
    "    for i in range(0,max_iters):\n",
    "        gradient_loss_list = gradient_loss_function(dictionary_list,x_listy,penalty_constant,desired_dict)\n",
    "        loss_before = loss_function(dictionary_list,x_listy,penalty_constant,desired_dict)\n",
    "        \n",
    "        for j in range(0,len(x_listy)):\n",
    "            x_listy[j] = x_listy[j] - (learning_rate * gradient_loss_list[j])\n",
    "            if clipping == True:\n",
    "                x_listy[j] = max(x_listy[j],0)\n",
    "                x_listy[-1] = min(x_listy[-1],.004)\n",
    "                x_listy[-2] = min(x_listy[-2],.004)\n",
    "                x_listy[-3] = min(x_listy[-3],.004)\n",
    "                \n",
    "        loss_after = loss_function(dictionary_list,x_listy,penalty_constant,desired_dict)\n",
    "        if graphing == True:\n",
    "            plt.plot(i,loss_after,\"om\")\n",
    "        if loss_before - loss_after < .00006:\n",
    "            print(\"breaking at: \" + str(i))\n",
    "            break\n",
    "        \n",
    "    if graphing == True:\n",
    "        plt.show()\n",
    "        print(\"Solution:\", x_listy)\n",
    "        print(\"Loss at solution:\", loss_after)\n",
    "        x_for_one_serving_of_tates = []\n",
    "        for x in x_listy:\n",
    "            x_for_one_serving_of_tates.append(x * 1242)\n",
    "        print(\"for one serving:\", x_for_one_serving_of_tates)\n",
    "        print(\"weight:\", np.sum(x_listy) * 10)\n",
    "    return loss_after"
   ]
  },
  {
   "cell_type": "code",
   "execution_count": 59,
   "id": "ebc6a2e8-0856-4182-8616-abea51e4bf41",
   "metadata": {},
   "outputs": [
    {
     "name": "stdout",
     "output_type": "stream",
     "text": [
      "breaking at: 5907\n"
     ]
    },
    {
     "data": {
      "image/png": "[encoded data removed]",
      "text/plain": [
       "<Figure size 640x480 with 1 Axes>"
      ]
     },
     "metadata": {},
     "output_type": "display_data"
    },
    {
     "name": "stdout",
     "output_type": "stream",
     "text": [
      "Solution: [0.3138886806722169, 0.2222669130727289, 0.20756622324169835, 0.12169715941012081, 0.12472616104166677, 0.08800879014263148, 2.0346668731665764e-06, 2.21727407134651e-06, 1.5978429385474032e-06]\n",
      "Loss at solution: 0.9545768336721946\n",
      "for one serving: [389.84974139489344, 276.0555060363293, 257.79724926618934, 151.14787198737005, 154.90989201375012, 109.3069173571483, 0.002527056256472888, 0.002753854396612366, 0.001984520929675875]\n",
      "weight: 10.781597773649462\n"
     ]
    },
    {
     "data": {
      "text/plain": [
       "0.9545768336721946"
      ]
     },
     "execution_count": 59,
     "metadata": {},
     "output_type": "execute_result"
    }
   ],
   "source": [
    "updating_x_values(dictionary_list,[.34,.24,.23,.15,.15,.1,.001,.001,.001],1,tates_dict,10000,True,True)"
   ]
  },
  {
   "cell_type": "code",
   "execution_count": null,
   "id": "13582545-09fe-46ea-8fff-00f3bf018444",
   "metadata": {},
   "outputs": [],
   "source": [
    "#what if we did this but just with the heavy ingredients (so exluding vanilla, baking soda, etc.)"
   ]
  },
  {
   "cell_type": "code",
   "execution_count": 48,
   "id": "996054c2-9c62-46d8-b797-f23dd4a9a1a6",
   "metadata": {},
   "outputs": [],
   "source": [
    "heavy_tates_dict = tates_dict.copy()\n",
    "heavy_tates_dict[\"Weight\"] += -.01\n",
    "heavy_dictionary_list = [semi_sweet_chocolate_dict,unbleached_flour_dict,salted_butter_dict,cane_sugar_dict,brown_cane_sugar_dict,eggs_dict]"
   ]
  },
  {
   "cell_type": "code",
   "execution_count": 60,
   "id": "20093601-9d7a-4a8d-8cc9-45fa8135e88f",
   "metadata": {},
   "outputs": [
    {
     "name": "stdout",
     "output_type": "stream",
     "text": [
      "breaking at: 5553\n"
     ]
    },
    {
     "data": {
      "image/png": "[encoded data removed]",
      "text/plain": [
       "<Figure size 640x480 with 1 Axes>"
      ]
     },
     "metadata": {},
     "output_type": "display_data"
    },
    {
     "name": "stdout",
     "output_type": "stream",
     "text": [
      "Solution: [0.3138914625298704, 0.22226880232707666, 0.20756861329992468, 0.12170302584377322, 0.12472600258064327, 0.08801006766670016]\n",
      "Loss at solution: 0.9545949509032461\n",
      "for one serving: [389.853196462099, 276.0578524902292, 257.8002177185065, 151.15515809796634, 154.90969520515895, 109.3085040420416]\n",
      "weight: 10.781679742479884\n"
     ]
    },
    {
     "data": {
      "text/plain": [
       "0.9545949509032461"
      ]
     },
     "execution_count": 60,
     "metadata": {},
     "output_type": "execute_result"
    }
   ],
   "source": [
    "updating_x_values(heavy_dictionary_list,[.34,.24,.23,.15,.15,.1],2,tates_dict,10000,False,True)"
   ]
  },
  {
   "cell_type": "code",
   "execution_count": null,
   "id": "27c6374b-fa58-4257-be00-cffe158326e4",
   "metadata": {},
   "outputs": [],
   "source": [
    "#very similar"
   ]
  },
  {
   "cell_type": "code",
   "execution_count": 61,
   "id": "1314c008-c274-465f-b068-5bfcd1fb86a7",
   "metadata": {},
   "outputs": [],
   "source": [
    "#nutritional information for tates cookies per 10 grams (each number was initially for  28 grams. So I had to multiply \n",
    "#each number by (10 * (1 / 28)) to get the information for 10 grams)\n",
    "\n",
    "tates_dict_gluten_free = overall_dict.copy()\n",
    "tates_dict_gluten_free[\"Fat\"] = 7 * (10 * (1 / 28))\n",
    "tates_dict_gluten_free[\"Saturated fatty acids\"] = 4.5 * (10 * (1 / 28))\n",
    "tates_dict_gluten_free[\"Fatty acids, total trans\"] = 0 * (10 * (1 / 28))\n",
    "tates_dict_gluten_free[\"Cholesterol\"] = .020 * (10 * (1 / 28))\n",
    "tates_dict_gluten_free[\"Sodium\"] = .135 * (10 * (1 / 28))\n",
    "tates_dict_gluten_free[\"Carbohydrate\"] = 19 * (10 * (1 / 28))\n",
    "tates_dict_gluten_free[\"Fiber\"] = .8 * (10 * (1 / 28))\n",
    "tates_dict_gluten_free[\"Sugars\"] = 12 * (10 * (1 / 28))\n",
    "tates_dict_gluten_free[\"Protein\"] = 1 * (10 * (1 / 28))\n",
    "tates_dict_gluten_free[\"Calcium\"] = .01 * (10 * (1 / 28))\n",
    "tates_dict_gluten_free[\"Iron\"] = .0007 * (10 * (1 / 28))\n",
    "tates_dict_gluten_free[\"Potassium\"] = .04 * (10 * (1 / 28))\n",
    "tates_dict_gluten_free[\"Vitamin D\"] = .0 * (10 * (1 / 28))\n",
    "tates_dict_gluten_free[\"Weight\"] = 28 * (10 * (1 / 28))\n",
    "\n",
    "rice_flour_file = \"rice_flour_unenriched_white.csv\"\n",
    "rice_flour_dict = overall_dict.copy()\n",
    "reader(rice_flour_file,rice_flour_dict,desired_serving)\n",
    "\n",
    "xanthan_gum_file = \"xanthan_gum_by_namaste.csv\"\n",
    "xanthan_gum_dict = overall_dict.copy()\n",
    "reader(xanthan_gum_file,xanthan_gum_dict,desired_serving)\n",
    "\n",
    "dictionary_list_gluten_free = [semi_sweet_chocolate_dict,rice_flour_dict,salted_butter_dict,cane_sugar_dict,brown_cane_sugar_dict,eggs_dict,natural_vanilla_flavor_dict,baking_soda_dict,salt_dict,xanthan_gum_dict]\n",
    "dictionary_list_gluten_free_heavy = [semi_sweet_chocolate_dict,rice_flour_dict,salted_butter_dict,cane_sugar_dict,brown_cane_sugar_dict,eggs_dict]"
   ]
  },
  {
   "cell_type": "code",
   "execution_count": 63,
   "id": "84e55014-b703-4bb6-82ae-d99369eb652c",
   "metadata": {},
   "outputs": [
    {
     "name": "stdout",
     "output_type": "stream",
     "text": [
      "breaking at: 6523\n"
     ]
    },
    {
     "data": {
      "image/png": "[encoded data removed]",
      "text/plain": [
       "<Figure size 640x480 with 1 Axes>"
      ]
     },
     "metadata": {},
     "output_type": "display_data"
    },
    {
     "name": "stdout",
     "output_type": "stream",
     "text": [
      "Solution: [0.3133751544740307, 0.22168235426372251, 0.20712502255225523, 0.12114355548448455, 0.12422608291414731, 0.08777296136920072, 1.4753865333053935e-06, 1.8787329042231958e-06, 2.047345347024014e-06, 3.8130636752509077e-06]\n",
      "Loss at solution: 1.1495197666300132\n",
      "for one serving: [389.21194185674614, 275.32948399554334, 257.249278009901, 150.46029591172982, 154.28879497937098, 109.0140180205473, 0.0018324300743652988, 0.002333386267045209, 0.002542802921003825, 0.0047358250846616275]\n",
      "weight: 10.753343455863009\n"
     ]
    },
    {
     "data": {
      "text/plain": [
       "1.1495197666300132"
      ]
     },
     "execution_count": 63,
     "metadata": {},
     "output_type": "execute_result"
    }
   ],
   "source": [
    "updating_x_values(dictionary_list_gluten_free,[.34,.24,.23,.15,.15,.1,.005,.005,.005,.001],2,tates_dict_gluten_free,10000,True,True)"
   ]
  },
  {
   "cell_type": "code",
   "execution_count": 64,
   "id": "cb3c5910-8df4-4109-9415-32fb992d7c67",
   "metadata": {},
   "outputs": [
    {
     "name": "stdout",
     "output_type": "stream",
     "text": [
      "breaking at: 5704\n"
     ]
    },
    {
     "data": {
      "image/png": "[encoded data removed]",
      "text/plain": [
       "<Figure size 640x480 with 1 Axes>"
      ]
     },
     "metadata": {},
     "output_type": "display_data"
    },
    {
     "name": "stdout",
     "output_type": "stream",
     "text": [
      "Solution: [0.31321720665763014, 0.22157368763717689, 0.2069893202536447, 0.12097240426107288, 0.12407314788828733, 0.08770042633605432]\n",
      "Loss at solution: 1.1763565226049553\n",
      "for one serving: [389.0157706687766, 275.1945200453737, 257.0807357550267, 150.24772609225252, 154.09884967725287, 108.92392950937946]\n",
      "weight: 10.745261930338664\n"
     ]
    },
    {
     "data": {
      "text/plain": [
       "1.1763565226049553"
      ]
     },
     "execution_count": 64,
     "metadata": {},
     "output_type": "execute_result"
    }
   ],
   "source": [
    "heavy_tates_gluten_free_dict = tates_dict_gluten_free.copy()\n",
    "heavy_tates_gluten_free_dict[\"Weight\"] += -.02\n",
    "updating_x_values(dictionary_list_gluten_free_heavy,[.34,.24,.23,.15,.15,.1],2,heavy_tates_gluten_free_dict,10000,False,True)"
   ]
  },
  {
   "cell_type": "code",
   "execution_count": null,
   "id": "2e27d21a-67f7-47cc-a644-38b1bdb05cf0",
   "metadata": {},
   "outputs": [],
   "source": [
    "#what happens if we rrandomize our inputs?"
   ]
  },
  {
   "cell_type": "code",
   "execution_count": 83,
   "id": "8801a26e-9101-47d4-96e6-586770dd7f77",
   "metadata": {},
   "outputs": [],
   "source": [
    "def random_list(dictionary_list):\n",
    "    first = np.random.uniform(0,.5)\n",
    "    count = first\n",
    "    listy = [first]\n",
    "    for i in range(0,len(dictionary_list)-1):\n",
    "        next = np.random.uniform(0,(1 - count)/2)\n",
    "        count = count + next\n",
    "        listy.append(next)\n",
    "\n",
    "    list_sort = sorted(listy,reverse=True)\n",
    "    return list_sort"
   ]
  },
  {
   "cell_type": "code",
   "execution_count": 96,
   "id": "0aeb7095-1927-4c85-b06e-ddf55d7639e7",
   "metadata": {},
   "outputs": [],
   "source": [
    "def lets_look_at_randomized(dictionary_list,penalty_constant,desired_dict,clipping,graphing):\n",
    "    loss_list = []\n",
    "    for i in range(0,5):\n",
    "        x_list = random_list(dictionary_list)\n",
    "        print(str(i) + \": starting list: \",x_list)\n",
    "        loss = updating_x_values(dictionary_list,x_list,penalty_constant,desired_dict,10000,clipping,graphing)\n",
    "        print(str(i) + \": ending list: \",x_list)\n",
    "        print(str(i) + \": loss: \" + str(loss))\n",
    "\n",
    "    return"
   ]
  },
  {
   "cell_type": "code",
   "execution_count": 36,
   "id": "1fd05239-06bc-400f-b438-c69d017d749c",
   "metadata": {},
   "outputs": [],
   "source": [
    "def generate_random_floats(dictionary_list):\n",
    "    # Generate `n` random values\n",
    "    random_values = np.random.uniform(0, 1, len(dictionary_list))\n",
    "    # Normalize so their sum equals 1\n",
    "    normalized_values = random_values / np.sum(random_values)\n",
    "    normalized_values.sort()\n",
    "    lst = normalized_values.tolist()\n",
    "    lsty = sorted(lst,reverse=True)\n",
    "    return lsty"
   ]
  },
  {
   "cell_type": "code",
   "execution_count": 39,
   "id": "2da9df4d-755f-4132-95b9-f68ef0da8825",
   "metadata": {},
   "outputs": [],
   "source": [
    "def finding_the_best_from_randomized(dictionary_list,penalty_constant,desired_dict,random_iterations,gradient_iterations,clipping,graphing):\n",
    "    loss_list = []\n",
    "    lowest_loss = 5\n",
    "    lowest_loss_x_values = []\n",
    "    fig, ax = plt.subplots()\n",
    "    \n",
    "    for i in range(0,random_iterations):\n",
    "        x_list = generate_random_floats(dictionary_list)\n",
    "        loss = updating_x_values(dictionary_list,x_list,penalty_constant,desired_dict,gradient_iterations,clipping,graphing)\n",
    "        if loss < lowest_loss:\n",
    "            lowest_loss = loss\n",
    "            lowest_loss_x_values = x_list\n",
    "        plt.plot(i,lowest_loss,\"or\")\n",
    "    plt.show()\n",
    "    serving = []\n",
    "    for number in lowest_loss_x_values:\n",
    "        serving.append(number * 1242) \n",
    "\n",
    "    return lowest_loss, lowest_loss_x_values, serving"
   ]
  },
  {
   "cell_type": "code",
   "execution_count": 165,
   "id": "d3149350-6b6e-4a87-8ef6-d319049eee7a",
   "metadata": {},
   "outputs": [
    {
     "data": {
      "image/png": "[encoded data removed]",
      "text/plain": [
       "<Figure size 640x480 with 1 Axes>"
      ]
     },
     "metadata": {},
     "output_type": "display_data"
    },
    {
     "data": {
      "text/plain": [
       "(0.4842410189130456,\n",
       " [0.22555190433298367,\n",
       "  0.18887739682368748,\n",
       "  0.19183392963620652,\n",
       "  0.19405723693058255,\n",
       "  0.13071630897807682,\n",
       "  0.08830087086345269,\n",
       "  0.004,\n",
       "  0.004,\n",
       "  0.004],\n",
       " [280.13546518156573,\n",
       "  234.58572685501986,\n",
       "  238.2577406081685,\n",
       "  241.01908826778353,\n",
       "  162.3496557507714,\n",
       "  109.66968161240824,\n",
       "  4.968,\n",
       "  4.968,\n",
       "  4.968])"
      ]
     },
     "execution_count": 165,
     "metadata": {},
     "output_type": "execute_result"
    }
   ],
   "source": [
    "finding_the_best_from_randomized(dictionary_list,1,tates_dict,True,False)"
   ]
  },
  {
   "cell_type": "code",
   "execution_count": 165,
   "id": "8fd6b8f4",
   "metadata": {},
   "outputs": [
    {
     "data": {
      "image/png": "[encoded data removed]",
      "text/plain": [
       "<Figure size 640x480 with 1 Axes>"
      ]
     },
     "metadata": {},
     "output_type": "display_data"
    },
    {
     "data": {
      "text/plain": [
       "(0.4842410189130456,\n",
       " [0.22555190433298367,\n",
       "  0.18887739682368748,\n",
       "  0.19183392963620652,\n",
       "  0.19405723693058255,\n",
       "  0.13071630897807682,\n",
       "  0.08830087086345269,\n",
       "  0.004,\n",
       "  0.004,\n",
       "  0.004],\n",
       " [280.13546518156573,\n",
       "  234.58572685501986,\n",
       "  238.2577406081685,\n",
       "  241.01908826778353,\n",
       "  162.3496557507714,\n",
       "  109.66968161240824,\n",
       "  4.968,\n",
       "  4.968,\n",
       "  4.968])"
      ]
     },
     "execution_count": 165,
     "metadata": {},
     "output_type": "execute_result"
    }
   ],
   "source": [
    "finding_the_best_from_randomized(dictionary_list,1,tates_dict,True,False)"
   ]
  },
  {
   "cell_type": "code",
   "execution_count": 167,
   "id": "c92bdc46-30a0-4b2e-8cb7-b28133b193e8",
   "metadata": {},
   "outputs": [
    {
     "data": {
      "image/png": "[encoded data removed]",
      "text/plain": [
       "<Figure size 640x480 with 1 Axes>"
      ]
     },
     "metadata": {},
     "output_type": "display_data"
    },
    {
     "data": {
      "text/plain": [
       "(0.4943728127499613,\n",
       " [0.33273398590972714,\n",
       "  0.2348399272298879,\n",
       "  0.1669974310073821,\n",
       "  0.1623392331705666,\n",
       "  0.09468143538143592,\n",
       "  0.06009699290734059,\n",
       "  0.00399796534322775,\n",
       "  0.003997782389286618,\n",
       "  0.003998402164993685],\n",
       " [413.25561049988113,\n",
       "  291.67118961952076,\n",
       "  207.41080931116858,\n",
       "  201.6253275978437,\n",
       "  117.59434274374341,\n",
       "  74.64046519091701,\n",
       "  4.965472956288866,\n",
       "  4.965245727493979,\n",
       "  4.9660154889221575])"
      ]
     },
     "execution_count": 167,
     "metadata": {},
     "output_type": "execute_result"
    }
   ],
   "source": [
    "finding_the_best_from_randomized(dictionary_list,1,tates_dict,True,False)"
   ]
  },
  {
   "cell_type": "code",
   "execution_count": 47,
   "id": "43267d0d-1430-4a06-9993-d7c0f6cc45d3",
   "metadata": {},
   "outputs": [
    {
     "ename": "NameError",
     "evalue": "name 'heavy_dictionary_list' is not defined",
     "output_type": "error",
     "traceback": [
      "\u001b[0;31m---------------------------------------------------------------------------\u001b[0m",
      "\u001b[0;31mNameError\u001b[0m                                 Traceback (most recent call last)",
      "Cell \u001b[0;32mIn[47], line 1\u001b[0m\n\u001b[0;32m----> 1\u001b[0m finding_the_best_from_randomized(heavy_dictionary_list,\u001b[38;5;241m1\u001b[39m,heavy_tates_dict,\u001b[38;5;241m50\u001b[39m,\u001b[38;5;241m1000\u001b[39m,\u001b[38;5;28;01mFalse\u001b[39;00m,\u001b[38;5;28;01mFalse\u001b[39;00m)\n",
      "\u001b[0;31mNameError\u001b[0m: name 'heavy_dictionary_list' is not defined"
     ]
    }
   ],
   "source": [
    "finding_the_best_from_randomized(heavy_dictionary_list,1,heavy_tates_dict,50,1000,False,False)"
   ]
  },
  {
   "cell_type": "code",
   "execution_count": null,
   "id": "cabbc840-c148-4cc2-a299-0371f0b5fee7",
   "metadata": {},
   "outputs": [],
   "source": [
    "# next steps... try other food products? organic whole foods type of foods with less dyes?"
   ]
  },
  {
   "cell_type": "code",
   "execution_count": 9,
   "id": "bda802ac-570d-44ed-9be1-5abf7648fe1f",
   "metadata": {},
   "outputs": [],
   "source": [
    "# larabar:\n",
    "desired_serving = 1\n",
    "\n",
    "lara_bar_dict = overall_dict.copy()\n",
    "lara_bar_dict[\"Fat\"] = 9 * (10 * (1 / 45))\n",
    "lara_bar_dict[\"Saturated fatty acids\"] = 1.5 * (10 * (1 / 45))\n",
    "lara_bar_dict[\"Fatty acids, total trans\"] = 0 * (10 * (1 / 45))\n",
    "lara_bar_dict[\"Cholesterol\"] = 0 * (10 * (1 / 45))\n",
    "lara_bar_dict[\"Sodium\"] = .005 * (10 * (1 / 45))\n",
    "lara_bar_dict[\"Carbohydrate\"] = 27 * (10 * (1 / 45))\n",
    "lara_bar_dict[\"Fiber\"] = 3 * (10 * (1 / 45))\n",
    "lara_bar_dict[\"Sugars\"] = 17 * (10 * (1 / 45))\n",
    "lara_bar_dict[\"Protein\"] = 4 * (10 * (1 / 45))\n",
    "lara_bar_dict[\"Calcium\"] = 0 * (10 * (1 / 45))\n",
    "lara_bar_dict[\"Iron\"] = .0017 * (10 * (1 / 45))\n",
    "lara_bar_dict[\"Potassium\"] = .3 * (10 * (1 / 45))\n",
    "lara_bar_dict[\"Vitamin D\"] = .0 * (10 * (1 / 45))\n",
    "lara_bar_dict[\"Weight\"] = 45 * (10 * (1 / 45))\n",
    "\n",
    "cashew_file = \"cashews.csv\"\n",
    "cashew_dict = overall_dict.copy()\n",
    "reader(cashew_file,cashew_dict,desired_serving)\n",
    "\n",
    "dates_file = \"date.csv\"\n",
    "dates_dict = overall_dict.copy()\n",
    "reader(dates_file,dates_dict,desired_serving)\n",
    "\n",
    "apples_file = \"apples_with_skin_raw.csv\"\n",
    "apples_dict = overall_dict.copy()\n",
    "reader(apples_file,apples_dict,desired_serving)\n",
    "\n",
    "blueberries_file = \"blueberries_raw.csv\"\n",
    "blueberries_dict = overall_dict.copy()\n",
    "reader(blueberries_file,blueberries_dict,desired_serving)\n",
    "\n",
    "lara_bar_dictionary_list = [cashew_dict,dates_dict,apples_dict,blueberries_dict]"
   ]
  },
  {
   "cell_type": "code",
   "execution_count": 43,
   "id": "4793e5a2-499c-4e62-acb7-4bead1f8b554",
   "metadata": {},
   "outputs": [
    {
     "data": {
      "image/png": "[encoded data removed]",
      "text/plain": [
       "<Figure size 640x480 with 1 Axes>"
      ]
     },
     "metadata": {},
     "output_type": "display_data"
    },
    {
     "data": {
      "text/plain": [
       "(1.54159482261542,\n",
       " [0.4874578113498621,\n",
       "  0.47929799820645463,\n",
       "  0.05823330600789878,\n",
       "  0.043883308928989104],\n",
       " [605.4226016965288, 595.2881137724166, 72.32576606181028, 54.50306968980447])"
      ]
     },
     "execution_count": 43,
     "metadata": {},
     "output_type": "execute_result"
    }
   ],
   "source": [
    "finding_the_best_from_randomized(lara_bar_dictionary_list,1,lara_bar_dict,100,10000,False,False)"
   ]
  },
  {
   "cell_type": "code",
   "execution_count": 44,
   "id": "61af89d8-ecec-4d1f-8e70-7233984dc85d",
   "metadata": {},
   "outputs": [
    {
     "data": {
      "text/plain": [
       "[0.45841979407615296,\n",
       " 0.016455787809898204,\n",
       " 0.0,\n",
       " 0.0,\n",
       " 0.007330488724106512,\n",
       " -0.8671429127530494,\n",
       " -0.08323546843069962,\n",
       " -0.29328045589531415,\n",
       " 0.10351094380217951,\n",
       " 0.003685380282826809,\n",
       " -1.5976146365271856e-05,\n",
       " -0.03426372013128551,\n",
       " 0.0,\n",
       " 0.688724244932045]"
      ]
     },
     "execution_count": 44,
     "metadata": {},
     "output_type": "execute_result"
    }
   ],
   "source": [
    "equations(lara_bar_dictionary_list,[0.4874578113498621,0.47929799820645463,0.05823330600789878,0.043883308928989104],lara_bar_dict)"
   ]
  },
  {
   "cell_type": "code",
   "execution_count": 45,
   "id": "3b2fedac-c0d7-4e6a-9bc5-21684b19754e",
   "metadata": {},
   "outputs": [
    {
     "data": {
      "image/png": "[encoded data removed]",
      "text/plain": [
       "<Figure size 640x480 with 1 Axes>"
      ]
     },
     "metadata": {},
     "output_type": "display_data"
    },
    {
     "data": {
      "text/plain": [
       "(1.6202703748866851,\n",
       " [0.4889197892396058,\n",
       "  0.4758660782682381,\n",
       "  0.07664675331283766,\n",
       "  0.029816036459718538],\n",
       " [607.2383782355904, 591.0256692091517, 95.19526761454436, 37.03151728297043])"
      ]
     },
     "execution_count": 45,
     "metadata": {},
     "output_type": "execute_result"
    }
   ],
   "source": [
    "finding_the_best_from_randomized(lara_bar_dictionary_list,1,lara_bar_dict,200,10000,False,False)"
   ]
  },
  {
   "cell_type": "code",
   "execution_count": 46,
   "id": "a5047837-5145-48eb-8da5-1d78375e123c",
   "metadata": {},
   "outputs": [
    {
     "data": {
      "text/plain": [
       "[0.4654446472599787,\n",
       " 0.017502382787867532,\n",
       " 0.0,\n",
       " 0.0,\n",
       " 0.007355236779517051,\n",
       " -0.8836880433246339,\n",
       " -0.08441161038040468,\n",
       " -0.30888379207464123,\n",
       " 0.10487191778594784,\n",
       " 0.003679866620372243,\n",
       " -1.5621556210686238e-05,\n",
       " -0.03440014819108305,\n",
       " 0.0,\n",
       " 0.7124865728040017]"
      ]
     },
     "execution_count": 46,
     "metadata": {},
     "output_type": "execute_result"
    }
   ],
   "source": [
    "equations(lara_bar_dictionary_list,[0.4889197892396058,0.4758660782682381,0.07664675331283766,0.029816036459718538],lara_bar_dict)"
   ]
  },
  {
   "cell_type": "code",
   "execution_count": null,
   "id": "21b15b96-a017-41a6-a68a-0801eed6ac5d",
   "metadata": {},
   "outputs": [],
   "source": []
  }
 ],
 "metadata": {
  "kernelspec": {
   "display_name": "Python 3 (ipykernel)",
   "language": "python",
   "name": "python3"
  },
  "language_info": {
   "codemirror_mode": {
    "name": "ipython",
    "version": 3
   },
   "file_extension": ".py",
   "mimetype": "text/x-python",
   "name": "python",
   "nbconvert_exporter": "python",
   "pygments_lexer": "ipython3",
   "version": "3.12.4"
  }
 },
 "nbformat": 4,
 "nbformat_minor": 5
}
