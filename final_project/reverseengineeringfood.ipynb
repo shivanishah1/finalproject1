{
 "cells": [
  {
   "cell_type": "markdown",
   "id": "ca331584-386a-4b05-82c3-5d49ece9df99",
   "metadata": {},
   "source": [
    "Reverse Engineering From Nutrition Labels\n",
    "1. create system of equations and equations\n",
    "2. create loss function\n",
    "3. gradient descent\n",
    "4. how to apply this to multiple formulas?"
   ]
  },
  {
   "cell_type": "code",
   "execution_count": 1,
   "id": "595548fe-4b17-4dfc-ab3d-e2d5ecb66ad9",
   "metadata": {},
   "outputs": [],
   "source": [
    "import numpy as np\n",
    "import csv\n",
    "import matplotlib.pyplot as plt"
   ]
  },
  {
   "cell_type": "code",
   "execution_count": 2,
   "id": "8889c5e6-ce96-465f-99c0-b326ccaff005",
   "metadata": {},
   "outputs": [],
   "source": [
    "#creating the overall dictionary: the one representing the nutrition label facts\n",
    "\n",
    "overall_dict = {}\n",
    "\n",
    "overall_dict[\"Fat\"] = 0\n",
    "overall_dict[\"Saturated fatty acids\"] = 0\n",
    "overall_dict[\"Fatty acids, total trans\"] = 0\n",
    "overall_dict[\"Cholesterol\"] = 0\n",
    "overall_dict[\"Sodium\"] = 0\n",
    "overall_dict[\"Carbohydrate\"] = 0\n",
    "overall_dict[\"Fiber\"] = 0\n",
    "overall_dict[\"Sugars\"] = 0\n",
    "overall_dict[\"Protein\"] = 0\n",
    "overall_dict[\"Calcium\"] = 0\n",
    "overall_dict[\"Iron\"] = 0\n",
    "overall_dict[\"Potassium\"] = 0\n",
    "overall_dict[\"Vitamin D\"] = 0\n",
    "overall_dict[\"Weight\"] = 0"
   ]
  },
  {
   "cell_type": "code",
   "execution_count": 3,
   "id": "8c79466a-e91f-4889-bc15-c2cf3512fe45",
   "metadata": {},
   "outputs": [],
   "source": [
    "tates_dict = overall_dict.copy()\n",
    "tates_dict[\"Fat\"] = 7 * .357\n",
    "tates_dict[\"Saturated fatty acids\"] = 4.5 * .357\n",
    "tates_dict[\"Fatty acids, total trans\"] = 0 * .357\n",
    "tates_dict[\"Cholesterol\"] = .025 * .357\n",
    "tates_dict[\"Sodium\"] = .16 * .357\n",
    "tates_dict[\"Carbohydrate\"] = 18 * .357\n",
    "tates_dict[\"Fiber\"] = .8 * .357\n",
    "tates_dict[\"Sugars\"] = 12 * .357\n",
    "tates_dict[\"Protein\"] = 2 * .357\n",
    "tates_dict[\"Calcium\"] = .0000001 * .357\n",
    "tates_dict[\"Iron\"] = .0009 * .357\n",
    "tates_dict[\"Potassium\"] = .01 * .357\n",
    "tates_dict[\"Vitamin D\"] = .05 * .357\n",
    "tates_dict[\"Weight\"] = 28 * .357"
   ]
  },
  {
   "cell_type": "markdown",
   "id": "a0e3fc22-4a58-4bfb-b5e8-935fbd83af94",
   "metadata": {},
   "source": [
    "this isn't important:\n",
    "tates_dict = overall_dict.copy()\n",
    "tates_dict[\"Fat\"] = 7\n",
    "tates_dict[\"Saturated fatty acids\"] = 4.5\n",
    "tates_dict[\"Fatty acids, total trans\"] = 0\n",
    "tates_dict[\"Cholesterol\"] = .025\n",
    "tates_dict[\"Sodium\"] = .16\n",
    "tates_dict[\"Carbohydrate\"] = 18\n",
    "tates_dict[\"Fiber\"] = .8\n",
    "tates_dict[\"Sugars\"] = 12\n",
    "tates_dict[\"Protein\"] = 2\n",
    "tates_dict[\"Calcium\"] = .0000001\n",
    "tates_dict[\"Iron\"] = .0009\n",
    "tates_dict[\"Potassium\"] = .01\n",
    "tates_dict[\"Vitamin D\"] = .05\n",
    "tates_dict[\"Weight\"] = 28"
   ]
  },
  {
   "cell_type": "code",
   "execution_count": 4,
   "id": "197d9c9b-66b6-4f1c-8163-b12ab2cf6175",
   "metadata": {},
   "outputs": [
    {
     "data": {
      "text/plain": [
       "{'Fat': 2.4989999999999997,\n",
       " 'Saturated fatty acids': 1.6065,\n",
       " 'Fatty acids, total trans': 0.0,\n",
       " 'Cholesterol': 0.008925,\n",
       " 'Sodium': 0.05712,\n",
       " 'Carbohydrate': 6.426,\n",
       " 'Fiber': 0.2856,\n",
       " 'Sugars': 4.284,\n",
       " 'Protein': 0.714,\n",
       " 'Calcium': 3.5699999999999995e-08,\n",
       " 'Iron': 0.0003213,\n",
       " 'Potassium': 0.00357,\n",
       " 'Vitamin D': 0.01785,\n",
       " 'Weight': 9.995999999999999}"
      ]
     },
     "execution_count": 4,
     "metadata": {},
     "output_type": "execute_result"
    }
   ],
   "source": [
    "tates_dict"
   ]
  },
  {
   "cell_type": "code",
   "execution_count": 5,
   "id": "49a8e71d-eda2-4f84-a689-07cdca25c66b",
   "metadata": {},
   "outputs": [],
   "source": [
    "# function to transform the website information to dictionaries (with the keys of overall_dict) \n",
    "\n",
    "file1 = \"flour_unbleached_enriched_allpurpose_wheat.csv\"\n",
    "file2 = \"butter_salted.csv\"\n",
    "\n",
    "ingredient_dict = overall_dict.copy()\n",
    "\n",
    "def reader(file,ingredient_dict):\n",
    "    with open(file, 'r') as csvfile:\n",
    "        csvreader = csv.reader(csvfile)\n",
    "        for i,row in enumerate(csvreader):\n",
    "            if len(row) > 0 and row[0] in ingredient_dict:\n",
    "                if row[2] == \"mg\":\n",
    "                    ingredient_dict[row[0]] = float(row[1]) / 1000\n",
    "                elif row[2] == \"mcg\":\n",
    "                    ingredient_dict[row[0]] = float(row[1]) / 1000000\n",
    "                else: #grams\n",
    "                    ingredient_dict[row[0]] = float(row[1])\n",
    "            if i == 4:\n",
    "                index = row.index(\"g\")\n",
    "                ingredient_dict[\"Weight\"] = float(row[index-1])\n",
    "    return ingredient_dict"
   ]
  },
  {
   "cell_type": "code",
   "execution_count": 6,
   "id": "ff597840-d25e-4934-9168-8ddae6bc16c6",
   "metadata": {},
   "outputs": [
    {
     "data": {
      "text/plain": [
       "{'Fat': 8.111,\n",
       " 'Saturated fatty acids': 5.137,\n",
       " 'Fatty acids, total trans': 0.328,\n",
       " 'Cholesterol': 0.0215,\n",
       " 'Sodium': 0.0643,\n",
       " 'Carbohydrate': 0.01,\n",
       " 'Fiber': 0.0,\n",
       " 'Sugars': 0.01,\n",
       " 'Protein': 0.09,\n",
       " 'Calcium': 0.0024,\n",
       " 'Iron': 0.0,\n",
       " 'Potassium': 0.0024,\n",
       " 'Vitamin D': 0.0,\n",
       " 'Weight': 10.0}"
      ]
     },
     "execution_count": 6,
     "metadata": {},
     "output_type": "execute_result"
    }
   ],
   "source": [
    "reader(file2,ingredient_dict)"
   ]
  },
  {
   "cell_type": "code",
   "execution_count": 7,
   "id": "a59a8580-87b3-4ada-84a2-5378341e5d93",
   "metadata": {},
   "outputs": [],
   "source": [
    "#the various ingredients in Tate's. Transforming the online nutrritional information of each ingredient into individual dictionaries.\n",
    "\n",
    "semi_sweet_chocolate_file = \"semisweet_chocolate_chips_by_raleys.csv\"\n",
    "semi_sweet_chocolate_dict = overall_dict.copy()\n",
    "reader(semi_sweet_chocolate_file,semi_sweet_chocolate_dict)\n",
    "\n",
    "unbleached_flour_file = \"flour_unbleached_enriched_allpurpose_wheat.csv\"\n",
    "unbleached_flour_dict = overall_dict.copy()\n",
    "reader(unbleached_flour_file,unbleached_flour_dict)\n",
    "\n",
    "salted_butter_file = \"butter_salted.csv\"\n",
    "salted_butter_dict = overall_dict.copy()\n",
    "reader(salted_butter_file,salted_butter_dict)\n",
    "\n",
    "cane_sugar_file = \"granulated_pure_cane_sugar.csv\"\n",
    "cane_sugar_dict = overall_dict.copy()\n",
    "reader(cane_sugar_file,cane_sugar_dict)\n",
    "\n",
    "brown_cane_sugar_file = \"brown_sugar_cane_by_frusecha.csv\"\n",
    "brown_cane_sugar_dict = overall_dict.copy()\n",
    "reader(brown_cane_sugar_file,brown_cane_sugar_dict)\n",
    "\n",
    "eggs_file = \"egg_fresh_raw_whole.csv\"\n",
    "eggs_dict = overall_dict.copy()\n",
    "reader(eggs_file,eggs_dict)\n",
    "\n",
    "baking_soda_file = \"leavening_agents_baking_soda.csv\"\n",
    "baking_soda_dict = overall_dict.copy()\n",
    "reader(baking_soda_file,baking_soda_dict)\n",
    "\n",
    "salt_file = \"salt_table.csv\"\n",
    "salt_dict = overall_dict.copy()\n",
    "reader(salt_file,salt_dict)\n",
    "\n",
    "natural_vanilla_flavor_file = \"vanilla_flavoring_syrup_by_r_torre__coinc.csv\"\n",
    "natural_vanilla_flavor_dict = overall_dict.copy()\n",
    "reader(natural_vanilla_flavor_file,natural_vanilla_flavor_dict)\n",
    "\n",
    "dictionary_list = [semi_sweet_chocolate_dict,unbleached_flour_dict,salted_butter_dict,cane_sugar_dict,brown_cane_sugar_dict,eggs_dict,baking_soda_dict,salt_dict,natural_vanilla_flavor_dict]\n",
    "key_list = [\"Fat\",\"Saturated fatty acids\",\"Fatty acids, total trans\",\"Cholesterol\",\"Sodium\",\"Carbohydrate\",\"Fiber\",\"Sugars\",\"Protein\",\"Calcium\",\"Iron\",\"Potassium\",\"Vitamin D\",\"Weight\"]"
   ]
  },
  {
   "cell_type": "code",
   "execution_count": 31,
   "id": "e48da4db-13b4-4ac2-9651-687f6068a852",
   "metadata": {},
   "outputs": [],
   "source": [
    "#creates a list of whatever inputted number (a list of 9 numbers in this case)\n",
    "\n",
    "def building_x_list(number):\n",
    "    x_list = []\n",
    "    for variable in range(0, len(dictionary_list)):\n",
    "        x_list.append(number)\n",
    "    return x_list\n",
    "\n",
    "x_list = building_x_list(1)\n",
    "\n",
    "#getting the equations. and the gradients. because each variable has a degree of one, the gradients with respect to\n",
    "#each variable is just the constant before that variable\n",
    "\n",
    "#equations. This evaluates each equation (14 in this case) with the assumed inputted variable values.\n",
    "\n",
    "def equations(dictionary_list,x_list):\n",
    "    list_of_equations = []\n",
    "    for key in key_list:\n",
    "        equation = 0\n",
    "        for i,dictionary in enumerate(dictionary_list):\n",
    "            equation = equation + (dictionary[key] * (x_list[i]))\n",
    "        #subtracting tates. This is because initially we had a1x1 + a2x2 + ... + anxn = some constant C (the tates value in this case)\n",
    "        #so now, we have a1x1 + a2x2 + ... + anxn - C = 0.\n",
    "        list_of_equations.append(equation-(tates_dict[key]))\n",
    "    return list_of_equations\n",
    "\n",
    "#gradients. The first list is a list of partial derivatives of the first equation, and the list is in order of partial derivatives\n",
    "#of x1,...,xn. The second list is a list of partial derivatives of the second equation, etc. The returned list is a list of each\n",
    "#of these lists\n",
    "\n",
    "def gradients(dictionary_list,x_list):\n",
    "    list_of_gradients_of_equations = []\n",
    "    for key in key_list:\n",
    "        gradient = []\n",
    "        for dictionary in dictionary_list:\n",
    "            gradient.append(dictionary[key])\n",
    "        list_of_gradients_of_equations.append(gradient)\n",
    "    return list_of_gradients_of_equations"
   ]
  },
  {
   "cell_type": "code",
   "execution_count": 69,
   "id": "8032fe0c-5eda-40ff-8540-2142f5029e97",
   "metadata": {},
   "outputs": [],
   "source": [
    "def parameters(x_list,penalty_constant):\n",
    "    list_of_parameters = []\n",
    "    list_of_parameters_over_0 = []\n",
    "    for i in range(0,len(x_list)-1):\n",
    "        parameter_for_over_0 = penalty_constant * ((max(0,(-1 * x_list[i]))) ** 2)\n",
    "        list_of_parameters_over_0.append(parameter_for_over_0)\n",
    "        parameter_for_inequality_individual_variable_list = building_x_list(0)\n",
    "        parameter_for_inequalities = penalty_constant * ((max(0, x_list[i+1] - x_list[i])) ** 2)\n",
    "        parameter_for_inequality_individual_variable_list[i] = parameter_for_inequality_individual_variable_list[i] + (parameter_for_inequalities / 2)\n",
    "        parameter_for_inequality_individual_variable_list[i+1] = parameter_for_inequality_individual_variable_list[i+1]+ (parameter_for_inequalities / 2)\n",
    "        list_of_parameters.append(parameter_for_inequality_individual_variable_list)\n",
    "    ###for j in range(i+1,len(x_list)):\n",
    "            ###parameter_for_inequalities = penalty_constant * ((max(0, x_list[j] - x_list[i])) ** 2)\n",
    "            ###parameter_for_inequality_individual_variable_list[j-1] = parameter_for_inequalities\n",
    "        ###list_of_parameters.append(parameter_for_inequality_individual_variable_list)\n",
    "\n",
    "    #the last variable. because my above loop goes from 0 to the n-1 variable. \n",
    "    list_of_parameters_over_0.append(10 * (max(0,-x_list[-1]) ** 2))\n",
    "    list_of_parameters.append(list_of_parameters_over_0)\n",
    "\n",
    "    #what does this parameters list look like????\n",
    "    return list_of_parameters\n",
    "\n",
    "#needs to be looked at...\n",
    "def gradients_of_parameters(x_list,penalty_constant):\n",
    "    list_of_gradients_of_parameters = []\n",
    "    list_gradient_over_0 = building_x_list(0)\n",
    "    for i in range(0,len(x_list)-1):\n",
    "        list_gradient_over_0[i] = (-2 * penalty_constant) * max(0, -x_list[i])\n",
    "        penalty_gradients_inequalities = building_x_list(0)\n",
    "        for j in range(i+1,len(x_list)):\n",
    "            penalty_gradients_inequalities[i] = penalty_gradients_inequalities[i] + ((-2 * penalty_constant) * max(0, x_list[j] - x_list[i]))\n",
    "            penalty_gradients_inequalities[j] = (2 * penalty_constant) * max(0, x_list[j] - x_list[i])\n",
    "        list_of_gradients_of_parameters.append(penalty_gradients_inequalities)\n",
    "    list_gradient_over_0[-1] = (-2 * penalty_constant) * max(0, -x_list[-1])\n",
    "    list_of_gradients_of_parameters.append(list_gradient_over_0)\n",
    "    \n",
    "    return list_of_gradients_of_parameters"
   ]
  },
  {
   "cell_type": "code",
   "execution_count": 70,
   "id": "e3453c06-d331-4f43-84b0-5eddd3260739",
   "metadata": {},
   "outputs": [
    {
     "data": {
      "text/plain": [
       "[[0.5, 0.5, 0, 0, 0, 0, 0, 0, 0],\n",
       " [0, 0.5, 0.5, 0, 0, 0, 0, 0, 0],\n",
       " [0, 0, 0.5, 0.5, 0, 0, 0, 0, 0],\n",
       " [0, 0, 0, 0.5, 0.5, 0, 0, 0, 0],\n",
       " [0, 0, 0, 0, 0.5, 0.5, 0, 0, 0],\n",
       " [0, 0, 0, 0, 0, 0.5, 0.5, 0, 0],\n",
       " [0, 0, 0, 0, 0, 0, 0.5, 0.5, 0],\n",
       " [0, 0, 0, 0, 0, 0, 0, 0.5, 0.5],\n",
       " [0, 0, 0, 0, 0, 0, 0, 0, 0]]"
      ]
     },
     "execution_count": 70,
     "metadata": {},
     "output_type": "execute_result"
    }
   ],
   "source": [
    "parameters([1,2,3,4,5,6,7,8,9],1)"
   ]
  },
  {
   "cell_type": "code",
   "execution_count": 110,
   "id": "d88ec8cc-25d3-4140-af2e-878a50f2604c",
   "metadata": {},
   "outputs": [
    {
     "data": {
      "text/plain": [
       "'\\n\\ndef gradient_loss_function(dictionary_list,x_list):\\n    list_of_equations = equations(dictionary_list,x_list)\\n    list_of_gradients_of_equations = gradients(dictionary_list,x_list)\\n    list_of_gradients_loss = building_x_list(0)\\n    \\n    for gradient_list_in_question in list_of_gradients_of_equations:\\n        for j in range(0,len(gradient_list_in_question)):\\n            list_of_gradients_loss[j] = list_of_gradients_loss[j] + (2 * gradient_list_in_question[j] * list_of_equations[j])\\n                \\n    #list_of_gradients_loss = normalize_gradients(list_of_gradients_loss)\\n    return list_of_gradients_loss'"
      ]
     },
     "execution_count": 110,
     "metadata": {},
     "output_type": "execute_result"
    }
   ],
   "source": [
    "def normalize_gradients(gradients):\n",
    "    norm = np.linalg.norm(gradients)\n",
    "    if norm > 0:\n",
    "        return [g / norm for g in gradients]\n",
    "    return gradients\n",
    "\n",
    "def loss_function(dictionary_list,x_list,penalty_constant):\n",
    "    list_of_equations = equations(dictionary_list,x_list)\n",
    "    list_of_parameters = parameters(x_list,penalty_constant)\n",
    "    loss = 0\n",
    "    for equation in list_of_equations:\n",
    "        loss = loss + (equation ** 2)\n",
    "    for parameter in list_of_parameters:\n",
    "        loss = loss + (np.sum(parameter))\n",
    "    return loss\n",
    "\n",
    "def gradient_loss_function(dictionary_list,x_list):\n",
    "    list_of_equations = equations(dictionary_list,x_list)\n",
    "    list_of_gradients_of_equations = gradients(dictionary_list,x_list)\n",
    "    list_of_gradients_of_parameters = gradients_of_parameters(x_list,penalty_constant)\n",
    "    list_of_gradients_loss = building_x_list(0)\n",
    "    list_of_gradients = list_of_gradients_of_equations + list_of_gradients_of_parameters\n",
    "    \n",
    "    for equation in list_of_equations:\n",
    "        for gradient_list_in_question in list_of_gradients:\n",
    "            for j in range(0,len(gradient_list_in_question)):\n",
    "                list_of_gradients_loss[j] = list_of_gradients_loss[j] + (2 * gradient_list_in_question[j] * equation)\n",
    "    list_of_gradients_loss = normalize_gradients(list_of_gradients_loss)\n",
    "    return list_of_gradients_loss\n",
    "\n",
    "\"\"\"\n",
    "\n",
    "def gradient_loss_function(dictionary_list,x_list):\n",
    "    list_of_equations = equations(dictionary_list,x_list)\n",
    "    list_of_gradients_of_equations = gradients(dictionary_list,x_list)\n",
    "    list_of_gradients_loss = building_x_list(0)\n",
    "    \n",
    "    for gradient_list_in_question in list_of_gradients_of_equations:\n",
    "        for j in range(0,len(gradient_list_in_question)):\n",
    "            list_of_gradients_loss[j] = list_of_gradients_loss[j] + (2 * gradient_list_in_question[j] * list_of_equations[j])\n",
    "                \n",
    "    #list_of_gradients_loss = normalize_gradients(list_of_gradients_loss)\n",
    "    return list_of_gradients_loss\"\"\""
   ]
  },
  {
   "cell_type": "code",
   "execution_count": 73,
   "id": "a4f48a70-8d9a-4350-a781-533248616cc4",
   "metadata": {},
   "outputs": [],
   "source": [
    "def gradient_loss_function_with_over_0_parameter(dictionary_list,x_list,penalty_constant):\n",
    "\n",
    "    initial_gradient_loss = gradient_loss_function(dictionary_list,x_list)\n",
    "\n",
    "    for i in range(0,len(initial_gradient_loss)):\n",
    "        x_in_question = x_list[i]\n",
    "        initial_gradient_loss[i] = initial_gradient_loss[i] + ((-2 * penalty_constant) * max(0,-x_in_question))\n",
    "\n",
    "    #initial_gradient_loss = normalize_gradients(initial_gradient_loss)\n",
    "    return initial_gradient_loss"
   ]
  },
  {
   "cell_type": "code",
   "execution_count": 74,
   "id": "e3849f8d-ed07-4e38-8b74-afe73850aea4",
   "metadata": {},
   "outputs": [
    {
     "data": {
      "text/plain": [
       "[4608.817577260001,\n",
       " 1902.2893661000003,\n",
       " 109.94299840000002,\n",
       " 17.4225,\n",
       " 48.80405924079995,\n",
       " 5474.109316305599,\n",
       " 146.32135680000002,\n",
       " 4019.9749259600003,\n",
       " 429.39298440000005]"
      ]
     },
     "execution_count": 74,
     "metadata": {},
     "output_type": "execute_result"
    }
   ],
   "source": [
    "gradient_loss_function_with_over_0_parameter(dictionary_list,[9,8,7,6,5,4,3,-2,1],1)"
   ]
  },
  {
   "cell_type": "code",
   "execution_count": 90,
   "id": "9c66cc87-0c05-4ded-b2d5-61c0bc2f6a6e",
   "metadata": {},
   "outputs": [],
   "source": [
    "def gradient_loss_function_for_all_parameters(dictionary_list,x_list,penalty_constant):\n",
    "\n",
    "    initial_gradient_loss = gradient_loss_function_with_over_0_parameter(dictionary_list,x_list,penalty_constant)\n",
    "\n",
    "    for i in range(0,len(initial_gradient_loss)-1):\n",
    "        initial_gradient_loss[i] = initial_gradient_loss[i] + ((penalty_constant) * max(0,x_list[i+1] - x_list[i]))\n",
    "        initial_gradient_loss[i+1] = initial_gradient_loss[i+1] + ((-1* penalty_constant) * max(0,x_list[i+1] - x_list[i]))\n",
    "        ###for j in range(i+1, len(initial_gradient_loss)):\n",
    "            ###stable_x = x_list[i]\n",
    "            ###variable_x = x_list[j]\n",
    "            ###initial_gradient_loss[i] = initial_gradient_loss[i] + ((-2 * penalty_constant) * max(0,variable_x - stable_x))\n",
    "           ### initial_gradient_loss[j] = initial_gradient_loss[j] + ((2 * penalty_constant) * max(0,variable_x - stable_x))\n",
    "    \n",
    "    for i in range(len(initial_gradient_loss)):\n",
    "        initial_gradient_loss[i] += 2 * penalty_constant * (np.sum(x_list) - 1)\n",
    "    initial_gradient_loss = normalize_gradients(initial_gradient_loss)\n",
    "    return initial_gradient_loss"
   ]
  },
  {
   "cell_type": "code",
   "execution_count": 91,
   "id": "b30ceabb-8f26-41a0-9265-6ba563b37248",
   "metadata": {},
   "outputs": [
    {
     "data": {
      "text/plain": [
       "[0.5451861730926257,\n",
       " 0.23048812107930278,\n",
       " 0.02208537540587123,\n",
       " 0.01132767463714256,\n",
       " 0.014976524673694652,\n",
       " 0.6457968460492406,\n",
       " 0.026315221773892603,\n",
       " 0.47706807981348215,\n",
       " 0.0588801864642645]"
      ]
     },
     "execution_count": 91,
     "metadata": {},
     "output_type": "execute_result"
    }
   ],
   "source": [
    "gradient_loss_function_for_all_parameters(dictionary_list,[9,8,7,6,5,4,3,-2,1],1)"
   ]
  },
  {
   "cell_type": "code",
   "execution_count": 103,
   "id": "e6fe3a9f-3bc0-4931-b759-c8fc05408fe0",
   "metadata": {},
   "outputs": [],
   "source": [
    "# Gradient descent parameters\n",
    "#x = building_x_list(.2)  # Initial guess\n",
    "x = [.3,.2,.2,.1,.1,.005,.005,.005]\n",
    "learning_rate = 0.01\n",
    "tolerance = 1e-6\n",
    "max_iters = 100\n",
    "\n",
    "\n",
    "def updating_x_values(dictionary_list,x_listy,penalty_constant,clipping):\n",
    "    fig, ax = plt.subplots()\n",
    "    for i in range(0,max_iters):\n",
    "        gradient_loss_list = gradient_loss_function(dictionary_list,x_listy)\n",
    "        loss_before = loss_function(dictionary_list,x_listy,penalty_constant)\n",
    "        for j in range(0,len(x_listy)):\n",
    "            x_listy[j] = x_listy[j] - (learning_rate * gradient_loss_list[j])\n",
    "            if clipping == True:\n",
    "                x_listy[j] = max(x_listy[j],0)\n",
    "        loss_after = loss_function(dictionary_list,x_listy,penalty_constant)\n",
    "        plt.plot(i,loss_after,\"or\")\n",
    "        \n",
    "        ###if i > 1 and loss_before < loss_after:\n",
    "           ### print(\"increasing now\",i)\n",
    "           ### break\n",
    "    plt.show()\n",
    "    print(\"Solution:\", x_listy)\n",
    "    print(\"Loss at solution:\", loss_after)\n",
    "    x_for_one_serving_of_tates = []\n",
    "    for x in x_listy:\n",
    "        x_for_one_serving_of_tates.append(x * 28)\n",
    "    print(\"for one serving:\", x_for_one_serving_of_tates)\n",
    "    print(\"weight:\", np.sum(x_listy) * 10)"
   ]
  },
  {
   "cell_type": "code",
   "execution_count": 112,
   "id": "1947bb12-1345-4d76-839a-e618d3c4fafe",
   "metadata": {},
   "outputs": [
    {
     "data": {
      "image/png": "[encoded data removed]",
      "text/plain": [
       "<Figure size 640x480 with 1 Axes>"
      ]
     },
     "metadata": {},
     "output_type": "display_data"
    },
    {
     "name": "stdout",
     "output_type": "stream",
     "text": [
      "Solution: [0.35579192846115765, 0.2699767918409539, 0.16201823449180644, 0.15207670713029572, 0.057214792238437964, 0.0796980262425374, -0.015358063457676452, -0.01718414402729304, -0.010989937746716928]\n",
      "Loss at solution: 0.3419245419847764\n",
      "for one serving: [9.962173996912414, 7.5593501715467095, 4.53651056577058, 4.25814779964828, 1.602014182676263, 2.231544734791047, -0.43002577681494064, -0.48115603276420515, -0.307718256908074]\n",
      "weight: 10.332443351735028\n"
     ]
    }
   ],
   "source": [
    "updating_x_values(dictionary_list,[.4,.3,.2,.2,.1,.1,.005,.005,.005],2,False)"
   ]
  },
  {
   "cell_type": "code",
   "execution_count": 366,
   "id": "3cd2bba2-9f81-4ba1-a8b8-d190d5064dde",
   "metadata": {},
   "outputs": [
    {
     "name": "stdout",
     "output_type": "stream",
     "text": [
      "increasing now 9\n"
     ]
    },
    {
     "data": {
      "image/png": "[encoded data removed]",
      "text/plain": [
       "<Figure size 640x480 with 1 Axes>"
      ]
     },
     "metadata": {},
     "output_type": "display_data"
    },
    {
     "name": "stdout",
     "output_type": "stream",
     "text": [
      "Solution: [0.15409005237934145, 0.12572619347837205, 0.09917600425506586, 0.10052824174195367, 0.07087521712671735, 0.16109913860567043, 0.1044489200178763, 0.14196841015742234, 0.10530952186536541]\n",
      "Loss at solution: 14.633458711242834\n",
      "for one serving: [4.314521466621561, 3.5203334173944176, 2.776928119141844, 2.814790768774703, 1.9845060795480858, 4.510775880958772, 2.9245697605005363, 3.9751154844078256, 2.948666612230231]\n",
      "weight: 10.632216996277847\n"
     ]
    }
   ],
   "source": [
    "updating_x_values(dictionary_list,building_x_list(.1),1,True)"
   ]
  },
  {
   "cell_type": "code",
   "execution_count": 68,
   "id": "83ec4335-2723-4615-933a-50569dfa201f",
   "metadata": {},
   "outputs": [
    {
     "data": {
      "image/png": "[encoded data removed]",
      "text/plain": [
       "<Figure size 640x480 with 1 Axes>"
      ]
     },
     "metadata": {},
     "output_type": "display_data"
    },
    {
     "name": "stdout",
     "output_type": "stream",
     "text": [
      "Solution: [1.1988488360566656, 0.582220145313199, 0.41210686836028404, 0.5428694941243924, 5.300479796904891, -6.034709367511285, 0.2367409237796203, -5.72013740274602, 0.8665855618906584]\n",
      "Loss at solution: 7571.252281798793\n",
      "for one serving: [33.56776740958664, 16.30216406876957, 11.538992314087952, 15.200345835482988, 148.41343431333695, -168.97186229031598, 6.6287458658293685, -160.16384727688856, 24.264395732938436]\n",
      "weight: -26.14995143827595\n"
     ]
    }
   ],
   "source": [
    "updating_x_values(dictionary_list,[.4,.3,.2,.2,.1,.1,.005,.005,.005],.00010,False)"
   ]
  },
  {
   "cell_type": "code",
   "execution_count": null,
   "id": "13582545-09fe-46ea-8fff-00f3bf018444",
   "metadata": {},
   "outputs": [],
   "source": []
  }
 ],
 "metadata": {
  "kernelspec": {
   "display_name": "Python 3 (ipykernel)",
   "language": "python",
   "name": "python3"
  },
  "language_info": {
   "codemirror_mode": {
    "name": "ipython",
    "version": 3
   },
   "file_extension": ".py",
   "mimetype": "text/x-python",
   "name": "python",
   "nbconvert_exporter": "python",
   "pygments_lexer": "ipython3",
   "version": "3.12.4"
  }
 },
 "nbformat": 4,
 "nbformat_minor": 5
}
