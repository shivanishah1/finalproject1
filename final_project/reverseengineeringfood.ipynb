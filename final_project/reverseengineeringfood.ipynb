{
 "cells": [
  {
   "cell_type": "markdown",
   "id": "ca331584-386a-4b05-82c3-5d49ece9df99",
   "metadata": {},
   "source": [
    "Reverse Engineering From Nutrition Labels\n",
    "1. create system of equations and equations\n",
    "2. create loss function\n",
    "3. gradient descent\n",
    "4. how to apply this to multiple formulas?"
   ]
  },
  {
   "cell_type": "code",
   "execution_count": 312,
   "id": "595548fe-4b17-4dfc-ab3d-e2d5ecb66ad9",
   "metadata": {},
   "outputs": [],
   "source": [
    "import numpy as np\n",
    "import csv\n",
    "import matplotlib.pyplot as plt"
   ]
  },
  {
   "cell_type": "code",
   "execution_count": 208,
   "id": "8889c5e6-ce96-465f-99c0-b326ccaff005",
   "metadata": {},
   "outputs": [],
   "source": [
    "#creating the overall dictionary: the one representing the nutrition label facts\n",
    "\n",
    "overall_dict = {}\n",
    "\n",
    "overall_dict[\"Fat\"] = 0\n",
    "overall_dict[\"Saturated fatty acids\"] = 0\n",
    "overall_dict[\"Fatty acids, total trans\"] = 0\n",
    "overall_dict[\"Cholesterol\"] = 0\n",
    "overall_dict[\"Sodium\"] = 0\n",
    "overall_dict[\"Carbohydrate\"] = 0\n",
    "overall_dict[\"Fiber\"] = 0\n",
    "overall_dict[\"Sugars\"] = 0\n",
    "overall_dict[\"Protein\"] = 0\n",
    "overall_dict[\"Calcium\"] = 0\n",
    "overall_dict[\"Iron\"] = 0\n",
    "overall_dict[\"Potassium\"] = 0\n",
    "overall_dict[\"Vitamin D\"] = 0\n",
    "overall_dict[\"Weight\"] = 0"
   ]
  },
  {
   "cell_type": "code",
   "execution_count": 241,
   "id": "8c79466a-e91f-4889-bc15-c2cf3512fe45",
   "metadata": {},
   "outputs": [],
   "source": [
    "tates_dict = overall_dict.copy()\n",
    "tates_dict[\"Fat\"] = 7 * .357\n",
    "tates_dict[\"Saturated fatty acids\"] = 4.5 * .357\n",
    "tates_dict[\"Fatty acids, total trans\"] = 0 * .357\n",
    "tates_dict[\"Cholesterol\"] = .025 * .357\n",
    "tates_dict[\"Sodium\"] = .16 * .357\n",
    "tates_dict[\"Carbohydrate\"] = 18 * .357\n",
    "tates_dict[\"Fiber\"] = .8 * .357\n",
    "tates_dict[\"Sugars\"] = 12 * .357\n",
    "tates_dict[\"Protein\"] = 2 * .357\n",
    "tates_dict[\"Calcium\"] = .0000001 * .357\n",
    "tates_dict[\"Iron\"] = .0009 * .357\n",
    "tates_dict[\"Potassium\"] = .01 * .357\n",
    "tates_dict[\"Vitamin D\"] = .05 * .357\n",
    "tates_dict[\"Weight\"] = 28 * .357"
   ]
  },
  {
   "cell_type": "markdown",
   "id": "a0e3fc22-4a58-4bfb-b5e8-935fbd83af94",
   "metadata": {},
   "source": [
    "tates_dict = overall_dict.copy()\n",
    "tates_dict[\"Fat\"] = 7\n",
    "tates_dict[\"Saturated fatty acids\"] = 4.5\n",
    "tates_dict[\"Fatty acids, total trans\"] = 0\n",
    "tates_dict[\"Cholesterol\"] = .025\n",
    "tates_dict[\"Sodium\"] = .16\n",
    "tates_dict[\"Carbohydrate\"] = 18\n",
    "tates_dict[\"Fiber\"] = .8\n",
    "tates_dict[\"Sugars\"] = 12\n",
    "tates_dict[\"Protein\"] = 2\n",
    "tates_dict[\"Calcium\"] = .0000001\n",
    "tates_dict[\"Iron\"] = .0009\n",
    "tates_dict[\"Potassium\"] = .01\n",
    "tates_dict[\"Vitamin D\"] = .05\n",
    "tates_dict[\"Weight\"] = 28"
   ]
  },
  {
   "cell_type": "code",
   "execution_count": 225,
   "id": "197d9c9b-66b6-4f1c-8163-b12ab2cf6175",
   "metadata": {},
   "outputs": [
    {
     "data": {
      "text/plain": [
       "{'Fat': 42,\n",
       " 'Saturated fatty acids': 27.0,\n",
       " 'Fatty acids, total trans': 0,\n",
       " 'Cholesterol': 0.15000000000000002,\n",
       " 'Sodium': 0.96,\n",
       " 'Carbohydrate': 108,\n",
       " 'Fiber': 4.800000000000001,\n",
       " 'Sugars': 72,\n",
       " 'Protein': 12,\n",
       " 'Calcium': 6e-07,\n",
       " 'Iron': 0.0054,\n",
       " 'Potassium': 0.06,\n",
       " 'Vitamin D': 0.30000000000000004,\n",
       " 'Weight': 168}"
      ]
     },
     "execution_count": 225,
     "metadata": {},
     "output_type": "execute_result"
    }
   ],
   "source": [
    "tates_dict"
   ]
  },
  {
   "cell_type": "code",
   "execution_count": 226,
   "id": "49a8e71d-eda2-4f84-a689-07cdca25c66b",
   "metadata": {},
   "outputs": [],
   "source": [
    "# system of equations\n",
    "\n",
    "file1 = \"flour_unbleached_enriched_allpurpose_wheat.csv\"\n",
    "file2 = \"butter_salted.csv\"\n",
    "\n",
    "ingredient_dict = overall_dict.copy()\n",
    "\n",
    "def reader(file,ingredient_dict):\n",
    "    with open(file, 'r') as csvfile:\n",
    "        csvreader = csv.reader(csvfile)\n",
    "        for i,row in enumerate(csvreader):\n",
    "            if len(row) > 0 and row[0] in ingredient_dict:\n",
    "                if row[2] == \"mg\":\n",
    "                    ingredient_dict[row[0]] = float(row[1]) / 1000\n",
    "                elif row[2] == \"mcg\":\n",
    "                    ingredient_dict[row[0]] = float(row[1]) / 1000000\n",
    "                else: #grams\n",
    "                    ingredient_dict[row[0]] = float(row[1])\n",
    "            if i == 4:\n",
    "                index = row.index(\"g\")\n",
    "                ingredient_dict[\"Weight\"] = float(row[index-1])\n",
    "    return ingredient_dict"
   ]
  },
  {
   "cell_type": "code",
   "execution_count": 227,
   "id": "ff597840-d25e-4934-9168-8ddae6bc16c6",
   "metadata": {},
   "outputs": [
    {
     "data": {
      "text/plain": [
       "{'Fat': 8.111,\n",
       " 'Saturated fatty acids': 5.137,\n",
       " 'Fatty acids, total trans': 0.328,\n",
       " 'Cholesterol': 0.0215,\n",
       " 'Sodium': 0.0643,\n",
       " 'Carbohydrate': 0.01,\n",
       " 'Fiber': 0.0,\n",
       " 'Sugars': 0.01,\n",
       " 'Protein': 0.09,\n",
       " 'Calcium': 0.0024,\n",
       " 'Iron': 0.0,\n",
       " 'Potassium': 0.0024,\n",
       " 'Vitamin D': 0.0,\n",
       " 'Weight': 10.0}"
      ]
     },
     "execution_count": 227,
     "metadata": {},
     "output_type": "execute_result"
    }
   ],
   "source": [
    "reader(file2,ingredient_dict)"
   ]
  },
  {
   "cell_type": "code",
   "execution_count": 228,
   "id": "a59a8580-87b3-4ada-84a2-5378341e5d93",
   "metadata": {},
   "outputs": [],
   "source": [
    "#the various ingredients in Tate's\n",
    "\n",
    "semi_sweet_chocolate_file = \"semisweet_chocolate_chips_by_raleys.csv\"\n",
    "semi_sweet_chocolate_dict = overall_dict.copy()\n",
    "reader(semi_sweet_chocolate_file,semi_sweet_chocolate_dict)\n",
    "\n",
    "unbleached_flour_file = \"flour_unbleached_enriched_allpurpose_wheat.csv\"\n",
    "unbleached_flour_dict = overall_dict.copy()\n",
    "reader(unbleached_flour_file,unbleached_flour_dict)\n",
    "\n",
    "salted_butter_file = \"butter_salted.csv\"\n",
    "salted_butter_dict = overall_dict.copy()\n",
    "reader(salted_butter_file,salted_butter_dict)\n",
    "\n",
    "cane_sugar_file = \"granulated_pure_cane_sugar.csv\"\n",
    "cane_sugar_dict = overall_dict.copy()\n",
    "reader(cane_sugar_file,cane_sugar_dict)\n",
    "\n",
    "brown_cane_sugar_file = \"brown_sugar_cane_by_frusecha.csv\"\n",
    "brown_cane_sugar_dict = overall_dict.copy()\n",
    "reader(brown_cane_sugar_file,brown_cane_sugar_dict)\n",
    "\n",
    "eggs_file = \"egg_fresh_raw_whole.csv\"\n",
    "eggs_dict = overall_dict.copy()\n",
    "reader(eggs_file,eggs_dict)\n",
    "\n",
    "baking_soda_file = \"leavening_agents_baking_soda.csv\"\n",
    "baking_soda_dict = overall_dict.copy()\n",
    "reader(baking_soda_file,baking_soda_dict)\n",
    "\n",
    "salt_file = \"salt_table.csv\"\n",
    "salt_dict = overall_dict.copy()\n",
    "reader(salt_file,salt_dict)\n",
    "\n",
    "natural_vanilla_flavor_file = \"vanilla_flavoring_syrup_by_r_torre__coinc.csv\"\n",
    "natural_vanilla_flavor_dict = overall_dict.copy()\n",
    "reader(natural_vanilla_flavor_file,natural_vanilla_flavor_dict)\n",
    "\n",
    "dictionary_list = [semi_sweet_chocolate_dict,unbleached_flour_dict,salted_butter_dict,cane_sugar_dict,brown_cane_sugar_dict,eggs_dict,baking_soda_dict,salt_dict]"
   ]
  },
  {
   "cell_type": "code",
   "execution_count": 229,
   "id": "66d91c34-d339-48ab-bc57-adde0237f422",
   "metadata": {},
   "outputs": [
    {
     "data": {
      "text/plain": [
       "{'Fat': 0.0,\n",
       " 'Saturated fatty acids': 0.0,\n",
       " 'Fatty acids, total trans': 0.0,\n",
       " 'Cholesterol': 0.0,\n",
       " 'Sodium': 0.0,\n",
       " 'Carbohydrate': 8.57,\n",
       " 'Fiber': 0.0,\n",
       " 'Sugars': 8.21,\n",
       " 'Protein': 0.0,\n",
       " 'Calcium': 0.0036,\n",
       " 'Iron': 2.9999999999999997e-05,\n",
       " 'Potassium': 0,\n",
       " 'Vitamin D': 0,\n",
       " 'Weight': 10.0}"
      ]
     },
     "execution_count": 229,
     "metadata": {},
     "output_type": "execute_result"
    }
   ],
   "source": [
    "brown_cane_sugar_dict"
   ]
  },
  {
   "cell_type": "code",
   "execution_count": 322,
   "id": "e48da4db-13b4-4ac2-9651-687f6068a852",
   "metadata": {},
   "outputs": [],
   "source": [
    "#equations\n",
    "\n",
    "def building_x_list(number):\n",
    "    x_list = []\n",
    "    for variable in range(0, len(dictionary_list)):\n",
    "        x_list.append(number)\n",
    "    return x_list\n",
    "\n",
    "x_list = building_x_list(.8)\n",
    "\n",
    "#getting the equations. and the gradients. because each variable has a degree of one, the gradients with respect to\n",
    "#each variable is just the constant before that variable\n",
    "def equations_and_gradients(dictionary_list,x_list):\n",
    "    list_of_equations = []\n",
    "    list_of_gradients_of_equations = []\n",
    "    equations = []\n",
    "    for key in overall_dict:\n",
    "        equation = 0\n",
    "        gradient = []\n",
    "        for i,dictionary in enumerate(dictionary_list):\n",
    "            equation = equation + (dictionary[key] * (x_list[i]))\n",
    "            gradient.append(dictionary[key])\n",
    "        #subtracting tates\n",
    "        list_of_equations.append((tates_dict[key])-equation)\n",
    "        list_of_gradients_of_equations.append(gradient)\n",
    "    #max_equation = max(abs(eq) for eq in list_of_equations)\n",
    "    #list_of_equations = [eq / max_equation for eq in list_of_equations]\n",
    "    return list_of_equations, list_of_gradients_of_equations\n",
    "\n",
    "#can't just have that the values are desending because the serrving sizes are different! should we do equal serving sizes?\n",
    "def penalties_for_inequalities(x_list):\n",
    "    list_of_penalties_for_inequalities = []\n",
    "    list_of_penalty_gradients_over_0 = []\n",
    "    list_of_penalty_gradients_inequalities = []\n",
    "    for i in range(0,len(x_list)-1):\n",
    "        penalty = 10 * (max(0,-x_list[i]) ** 2)\n",
    "        list_of_penalties_for_inequalities.append(penalty)\n",
    "        list_penalty_gradient_over_0 = building_x_list(0)\n",
    "        # -20 as penalty\n",
    "        list_penalty_gradient_over_0[i] = -20 * max(0, -x_list[i])\n",
    "        list_of_penalty_gradients_over_0.append(list_penalty_gradient_over_0)\n",
    "        for j in range(i+1,len(x_list)):\n",
    "            penalty2 = 10 * (max(0, x_list[j] - x_list[i]) ** 2)\n",
    "            list_of_penalties_for_inequalities.append(penalty2)\n",
    "            penalty_gradients_inequalities = building_x_list(0)\n",
    "            penalty_gradients_inequalities[i] = -20 * max(0, x_list[j] - x_list[i])\n",
    "            penalty_gradients_inequalities[j] = 20 * max(0, x_list[j] - x_list[i])\n",
    "            list_of_penalty_gradients_inequalities.append(penalty_gradients_inequalities)\n",
    "    list_of_penalties_for_inequalities.append(10 * (max(0,-x_list[-1]) ** 2))\n",
    "    final_list = building_x_list(0)\n",
    "    final_list[-1] = -20 * max(0, -x_list[-1])\n",
    "    list_of_penalty_gradients_over_0.append(final_list)\n",
    "    \n",
    "    return list_of_penalties_for_inequalities,list_of_penalty_gradients_over_0,list_of_penalty_gradients_inequalities\n",
    "\n",
    "def normalize_gradients(gradients):\n",
    "    norm = np.linalg.norm(gradients)\n",
    "    if norm > 0:\n",
    "        return [g / norm for g in gradients]\n",
    "    return gradients\n",
    "\n",
    "\n",
    "def loss_and_gradient_function(dictionary_list,x_list):\n",
    "    list_of_equations, list_of_gradients_of_equations = equations_and_gradients(dictionary_list,x_list)\n",
    "    list_of_penalties_for_inequalities,penalty_gradients_over_0,penalty_gradients_inequalities = penalties_for_inequalities(x_list)\n",
    "    penalty_gradients_inequalities = []\n",
    "    penalty_gradients_overall = penalty_gradients_over_0 + penalty_gradients_inequalities\n",
    "    loss = 0\n",
    "    gradients = building_x_list(0)\n",
    "    for i,equation in enumerate(list_of_equations):\n",
    "        loss = loss + (equation ** 2)\n",
    "        gradient_list_in_question = list_of_gradients_of_equations[i]\n",
    "        for j in range(0,len(gradient_list_in_question)):\n",
    "            #the two? understand the math better here.\n",
    "            gradients[j] = gradients[j] + (20 * gradient_list_in_question[j] * equation)\n",
    "    for inequality in list_of_penalties_for_inequalities:\n",
    "        loss = loss + (10 * (inequality))\n",
    "    for penalty_gradient in penalty_gradients_overall:\n",
    "        for i in range(0,len(penalty_gradient)):\n",
    "            gradients[i] = gradients[i] + penalty_gradient[i]\n",
    "    penalty = (np.sum(x_list) - 1)**2\n",
    "    loss += 10 * penalty\n",
    "    for i in range(len(gradients)):\n",
    "        gradients[i] += 2 * 10 * (np.sum(x_list) - 1)\n",
    "    gradients = normalize_gradients(gradients)\n",
    "    return loss, gradients"
   ]
  },
  {
   "cell_type": "code",
   "execution_count": 323,
   "id": "a4f48a70-8d9a-4350-a781-533248616cc4",
   "metadata": {},
   "outputs": [],
   "source": [
    "#penalties_for_inequalities([0,-1,1,1,0,1,1,1,0])\n",
    "#equations_and_gradients(dictionary_list,x_list)\n",
    "#loss_and_gradient_function(dictionary_list,building_x_list(.05))"
   ]
  },
  {
   "cell_type": "code",
   "execution_count": 324,
   "id": "e6fe3a9f-3bc0-4931-b759-c8fc05408fe0",
   "metadata": {},
   "outputs": [
    {
     "data": {
      "image/png": "[encoded data removed]",
      "text/plain": [
       "<Figure size 640x480 with 1 Axes>"
      ]
     },
     "metadata": {},
     "output_type": "display_data"
    },
    {
     "name": "stdout",
     "output_type": "stream",
     "text": [
      "Solution: [5.082620822404403, 2.975622366111551, 5.221955255388729, 2.605139287645379, 2.728336675024131, 0.01, 0.01, 0.007]\n",
      "Loss at solution: 0.6931758482059759\n"
     ]
    }
   ],
   "source": [
    "# Gradient descent parameters\n",
    "x = building_x_list(.2)  # Initial guess\n",
    "learning_rate = 0.001\n",
    "tolerance = 1e-6\n",
    "max_iters = 10000\n",
    "\n",
    "fig, ax = plt.subplots()\n",
    "\n",
    "for i in range(0,max_iters):\n",
    "    loss, grad = loss_and_gradient_function(dictionary_list,[.3,.2,.2,.1,.1,.005,.005,.005])\n",
    "    x_new = []\n",
    "    for j in range(0,len(x)):\n",
    "        x_new.append(x[j] - learning_rate * grad[j])\n",
    "\n",
    "    x_new[-1] = min(.007, x_new[-1])\n",
    "    x_new[-2] = min(.01, x_new[-2])\n",
    "    x_new[-3] = min(.01, x_new[-3])\n",
    "\n",
    "    # Check for convergence\n",
    "    sum1 = 0\n",
    "    for j in range(0,len(x)):\n",
    "        sum1 = sum1 + ((x_new[j] - x[j]) ** 2)\n",
    "    if sum1 ** 0.5 < tolerance:\n",
    "        print(f\"Converged in {i+1} iterations\")\n",
    "        break\n",
    "    \n",
    "    plt.plot(i,loss,\"or\")\n",
    "\n",
    "    x = x_new\n",
    "\n",
    "plt.show()\n",
    "print(\"Solution:\", x)\n",
    "print(\"Loss at solution:\", loss)"
   ]
  },
  {
   "cell_type": "code",
   "execution_count": 325,
   "id": "97d39763-e64e-4283-86ba-6a76ba5731a1",
   "metadata": {},
   "outputs": [
    {
     "data": {
      "text/plain": [
       "{'Fat': 0.148,\n",
       " 'Saturated fatty acids': 0,\n",
       " 'Fatty acids, total trans': 0,\n",
       " 'Cholesterol': 0,\n",
       " 'Sodium': 0.0004,\n",
       " 'Carbohydrate': 7.32,\n",
       " 'Fiber': 0,\n",
       " 'Sugars': 0,\n",
       " 'Protein': 1.31,\n",
       " 'Calcium': 0.0021000000000000003,\n",
       " 'Iron': 0.00054,\n",
       " 'Potassium': 0.0135,\n",
       " 'Vitamin D': 0,\n",
       " 'Weight': 10.0}"
      ]
     },
     "execution_count": 325,
     "metadata": {},
     "output_type": "execute_result"
    }
   ],
   "source": [
    "unbleached_flour_dict"
   ]
  },
  {
   "cell_type": "code",
   "execution_count": 326,
   "id": "33fe9ffb-cdaf-46f2-b203-52181da6d8ae",
   "metadata": {},
   "outputs": [
    {
     "data": {
      "text/plain": [
       "{'Fat': 8.111,\n",
       " 'Saturated fatty acids': 5.137,\n",
       " 'Fatty acids, total trans': 0.328,\n",
       " 'Cholesterol': 0.0215,\n",
       " 'Sodium': 0.0643,\n",
       " 'Carbohydrate': 0.01,\n",
       " 'Fiber': 0.0,\n",
       " 'Sugars': 0.01,\n",
       " 'Protein': 0.09,\n",
       " 'Calcium': 0.0024,\n",
       " 'Iron': 0.0,\n",
       " 'Potassium': 0.0024,\n",
       " 'Vitamin D': 0.0,\n",
       " 'Weight': 10.0}"
      ]
     },
     "execution_count": 326,
     "metadata": {},
     "output_type": "execute_result"
    }
   ],
   "source": [
    "salted_butter_dict"
   ]
  },
  {
   "cell_type": "code",
   "execution_count": null,
   "id": "13582545-09fe-46ea-8fff-00f3bf018444",
   "metadata": {},
   "outputs": [],
   "source": []
  }
 ],
 "metadata": {
  "kernelspec": {
   "display_name": "Python 3 (ipykernel)",
   "language": "python",
   "name": "python3"
  },
  "language_info": {
   "codemirror_mode": {
    "name": "ipython",
    "version": 3
   },
   "file_extension": ".py",
   "mimetype": "text/x-python",
   "name": "python",
   "nbconvert_exporter": "python",
   "pygments_lexer": "ipython3",
   "version": "3.12.4"
  }
 },
 "nbformat": 4,
 "nbformat_minor": 5
}
