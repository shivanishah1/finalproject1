{
 "cells": [
  {
   "cell_type": "raw",
   "id": "f47c0971-a7ea-436a-a192-43e1b3ad69ba",
   "metadata": {},
   "source": [
    "things to think about:\n",
    "\n",
    "- water: right now the plan is to do the weight of the guessed ingredients (so calculating them without the weight in the equations function) and subtract the actual weight from this weight. \n",
    "- further idea:\n",
    "based on how the product was cooked, figure out what percent of each ingredient was cooked off for the final weight. Then looking at the difference, it should be the water weight + how much cooked off from the other ingredients. This gives us the water weight. If there was no cooking invovled --> this process isn't needed. Just calculate the ingredients and subtract the given weight from that weight to get the water weight.\n",
    "QUESTIONS:\n",
    "- write a function that looks at how many minimums the system of equations has. Isn't this on the simpler side? It's a matrix, right?\n",
    "        - how do we reduce the number of minima? \n",
    "             - include calories in the initial calculation? or include calories in initial initialization. How does calories work when baking? Does the item get to be less calories when baked? No, stays the same while weight decreases --> meaning we can use calories to measure as well!!!!!!!\n",
    "             - what else...\n",
    "Could we do something with the information of knowing how many possibilities there are? For example, we could use the number of ingredients and other properties (how nutritionally dense they are (how many are heavy), how many significant nutrient facts the product has, etc.) to set a confidence score. \n",
    "what exaactly are we doing with the onion method?"
   ]
  },
  {
   "cell_type": "raw",
   "id": "e2250611-102e-43d8-9848-71a66711385d",
   "metadata": {},
   "source": [
    "A bunch of libraries to import. The first four are standard regular ones that I've worked with before. The next few are ones I'm getting to know as the project continues."
   ]
  },
  {
   "cell_type": "code",
   "execution_count": 2,
   "id": "ec3ac28d-26f6-4ac2-9a8e-81667212816a",
   "metadata": {},
   "outputs": [
    {
     "name": "stderr",
     "output_type": "stream",
     "text": [
      "2025-03-12 15:03:48.647410: I tensorflow/core/platform/cpu_feature_guard.cc:210] This TensorFlow binary is optimized to use available CPU instructions in performance-critical operations.\n",
      "To enable the following instructions: AVX2 FMA, in other operations, rebuild TensorFlow with the appropriate compiler flags.\n"
     ]
    }
   ],
   "source": [
    "import numpy as np\n",
    "import csv\n",
    "import matplotlib.pyplot as plt\n",
    "import random\n",
    "import tensorflow as tf\n",
    "#from bayes_opt import BayesianOptimization\n",
    "from skopt import gp_minimize\n",
    "from skopt.space import Real, Integer\n",
    "from functools import partial\n",
    "import requests #for the API"
   ]
  },
  {
   "cell_type": "raw",
   "id": "eb7920bd-cd06-436a-8ad3-7d358c02b9e7",
   "metadata": {},
   "source": [
    "creating the overall dictionary: the one representing the nutrition label facts. I will copy this dictionary for any ingredient I use."
   ]
  },
  {
   "cell_type": "raw",
   "id": "ab94ec58-ef19-4883-98a6-c882f91c7095",
   "metadata": {},
   "source": [
    "nutritional information for tates cookies per serving (28 grams)"
   ]
  },
  {
   "cell_type": "code",
   "execution_count": 3,
   "id": "f1284dd2-f7c6-4dcf-bbe9-b74247e2c222",
   "metadata": {},
   "outputs": [],
   "source": [
    "overall_dict = {}\n",
    "\n",
    "overall_dict[\"Total Fat\"] = 0\n",
    "overall_dict[\"Saturated Fat\"] = 0\n",
    "overall_dict[\"Trans Fat\"] = 0\n",
    "overall_dict[\"Cholesterol\"] = 0\n",
    "overall_dict[\"Sodium\"] = 0\n",
    "overall_dict[\"Total Carbs\"] = 0\n",
    "overall_dict[\"Fiber\"] = 0\n",
    "overall_dict[\"Total Sugar\"] = 0\n",
    "overall_dict[\"Protein\"] = 0\n",
    "overall_dict[\"Calcium\"] = 0\n",
    "overall_dict[\"Iron\"] = 0\n",
    "overall_dict[\"Potassium\"] = 0\n",
    "overall_dict[\"Vitamin D\"] = 0\n",
    "overall_dict[\"Water\"] = 0\n",
    "overall_dict[\"Weight\"] = 100\n",
    "overall_dict[\"Energy/Calories\"] = 0\n",
    "\n",
    "key_list_API = ['Total Fat', 'Saturated Fat', 'Trans Fat', 'Cholesterol', 'Sodium', 'Total Carbs', 'Fiber', 'Total Sugar', 'Protein', 'Calcium', 'Iron', 'Potassium', 'Vitamin D', 'Water', 'Weight', 'Energy/Calories']"
   ]
  },
  {
   "cell_type": "code",
   "execution_count": 4,
   "id": "5f647bf9-c62b-481b-a9f1-e694206ab906",
   "metadata": {},
   "outputs": [],
   "source": [
    "tates_dict = overall_dict.copy()\n",
    "tates_dict[\"Total Fat\"] = 7\n",
    "tates_dict[\"Saturated Fat\"] = 4.5\n",
    "tates_dict[\"Trans Fat\"] = 0\n",
    "tates_dict[\"Cholesterol\"] = .025\n",
    "tates_dict[\"Sodium\"] = .16\n",
    "tates_dict[\"Total Carbs\"] = 18\n",
    "tates_dict[\"Fiber\"] = .8\n",
    "tates_dict[\"Total Sugar\"] = 12\n",
    "tates_dict[\"Protein\"] = 2\n",
    "tates_dict[\"Calcium\"] = .0000001\n",
    "tates_dict[\"Iron\"] = .0009\n",
    "tates_dict[\"Potassium\"] = .01\n",
    "tates_dict[\"Vitamin D\"] = .05\n",
    "tates_dict[\"Weight\"] = 28\n",
    "tates_dict[\"Energy/Calories\"] = 140"
   ]
  },
  {
   "cell_type": "raw",
   "id": "b9358b96-8d68-4b37-af78-721711632612",
   "metadata": {},
   "source": [
    "dictionary for vanilla –– what does sugars entail? is there a way to include alcohol content through the sugars number? or \n",
    "is it better to do it through calories? Because if it was in sugars, then we could calculate the calories by multiplication (of 9)?\n",
    "the two below are dictionaries with the Alex-given more specific information."
   ]
  },
  {
   "cell_type": "raw",
   "id": "f73d50e0-4832-41f9-ba49-b2db1a3733e3",
   "metadata": {},
   "source": [
    "need to check for multiple keys, ex. sugars total vs total, sugars. need to check energy."
   ]
  },
  {
   "cell_type": "code",
   "execution_count": 5,
   "id": "2cb7f0bf",
   "metadata": {},
   "outputs": [],
   "source": [
    "natural_vanilla_dict = overall_dict.copy()\n",
    "#calories per 10 grams: 27 \n",
    "\n",
    "natural_vanilla_dict[\"Sodium\"] = .04 / 100\n",
    "natural_vanilla_dict[\"Total Carbs\"] = 12\n",
    "natural_vanilla_dict[\"Weight\"] = 100\n",
    "natural_vanilla_dict[\"Energy/Calories\"] = 270\n",
    "\n",
    "baking_soda_alex_dict = overall_dict.copy()\n",
    "#calories per 10 grams: 0\n",
    "\n",
    "baking_soda_alex_dict[\"Sodium\"] = 27.36\n",
    "baking_soda_alex_dict[\"Weight\"] = 100"
   ]
  },
  {
   "cell_type": "raw",
   "id": "16d5f14f-c12e-4499-97d7-42520c4d28ff",
   "metadata": {},
   "source": [
    "reading in the information through USDA API: requested key : pJdDYwC0EdXMpR18wMXFqjMxO4zYGCuTOfNfCSH4"
   ]
  },
  {
   "cell_type": "raw",
   "id": "841c36e8-86ca-4f2f-91a3-7292ca460459",
   "metadata": {},
   "source": [
    "how to know which type of food? foundational? Now need to create a dictionary that stores which fdcID 's we are using?"
   ]
  },
  {
   "cell_type": "code",
   "execution_count": 6,
   "id": "8e0f3dd1-384c-4502-802f-2a090b3b6b21",
   "metadata": {},
   "outputs": [],
   "source": [
    "def unit_conversion(nutrient_name,dict,amount,unit):\n",
    "    if unit == \"kJ\":\n",
    "        dict[nutrient_name] = (amount/4.184)\n",
    "    elif unit == \"mg\":\n",
    "        dict[nutrient_name] = (amount/1000)\n",
    "    elif unit == \"µg\":\n",
    "        dict[nutrient_name] = (amount/ 1000000)\n",
    "    else:\n",
    "        dict[nutrient_name] = (amount)\n",
    "    return None"
   ]
  },
  {
   "cell_type": "code",
   "execution_count": 7,
   "id": "7857edf6-2095-44b0-923e-d139649479b5",
   "metadata": {},
   "outputs": [],
   "source": [
    "total_fats = [\"Total lipid (fat)\"]\n",
    "saturated_fats = [\"Saturated fatty acids\",\"Fatty acids, total saturated\"]\n",
    "trans_fat = [\"Fatty acids, total trans\"]\n",
    "cholesterol = [\"Cholesterol\"]\n",
    "sodium = [\"Sodium, Na\"]\n",
    "total_carbs = [\"Carbohydrate, by difference\"]\n",
    "fiber = [\"Fiber\",\"Fiber, total dietary\"]\n",
    "total_sugar = [\"Sugars, Total\",\"Total Sugars\",\"Total Sugar\",\"Sugars, added\"]\n",
    "protein = [\"Protein\"]\n",
    "calcium = [\"Calcium, Ca\"]\n",
    "iron = [\"Iron, Fe\"]\n",
    "potassium = [\"Potassium, K\"]\n",
    "vitamin_D = [\"Vitamin D (D2 + D3)\"]\n",
    "weight = [\"Weight\"]\n",
    "energy_calories = [\"Energy\"] \n",
    "\n",
    "def super_big_function(dict,amount,nutrient_name,unit):\n",
    "    if nutrient_name in total_fats:\n",
    "        unit_conversion(\"Total Fat\",dict,amount,unit)\n",
    "    elif nutrient_name in saturated_fats:\n",
    "        unit_conversion(\"Saturated Fat\",dict,amount,unit)\n",
    "    elif nutrient_name in trans_fat:\n",
    "        unit_conversion(\"Trans Fat\",dict,amount,unit)\n",
    "    elif nutrient_name in cholesterol:\n",
    "        unit_conversion(\"Cholesterol\",dict,amount,unit)   \n",
    "    elif nutrient_name in sodium:\n",
    "        unit_conversion(\"Sodium\",dict,amount,unit)\n",
    "    elif nutrient_name in total_carbs:\n",
    "        unit_conversion(\"Total Carbs\",dict,amount,unit)\n",
    "    elif nutrient_name in fiber:\n",
    "        unit_conversion(\"Fiber\",dict,amount,unit)\n",
    "    elif nutrient_name in total_sugar:\n",
    "        unit_conversion(\"Total Sugar\",dict,amount,unit)  \n",
    "    elif nutrient_name in protein:\n",
    "        unit_conversion(\"Protein\",dict,amount,unit)\n",
    "    elif nutrient_name in calcium:\n",
    "        unit_conversion(\"Calcium\",dict,amount,unit)\n",
    "    elif nutrient_name in iron:\n",
    "        unit_conversion(\"Iron\",dict,amount,unit)\n",
    "    elif nutrient_name in potassium:\n",
    "        unit_conversion(\"Potassium\",dict,amount,unit)   \n",
    "    elif nutrient_name in vitamin_D:\n",
    "        unit_conversion(\"Vitamin D\",dict,amount,unit)\n",
    "    elif nutrient_name in weight:\n",
    "        unit_conversion(\"Weight\",dict,amount,unit)\n",
    "    elif nutrient_name in energy_calories:\n",
    "        unit_conversion(\"Energy/Calories\",dict,amount,unit)\n",
    "    return None"
   ]
  },
  {
   "cell_type": "code",
   "execution_count": 8,
   "id": "d5800e46-7f82-4b00-8581-5d39047c84ff",
   "metadata": {},
   "outputs": [],
   "source": [
    "import re"
   ]
  },
  {
   "cell_type": "code",
   "execution_count": 10,
   "id": "f39587d4-cd7d-4b74-bcb4-818c77cfe828",
   "metadata": {},
   "outputs": [],
   "source": [
    "api_key = \"pJdDYwC0EdXMpR18wMXFqjMxO4zYGCuTOfNfCSH4\"\n",
    "\n",
    "def getting_from_API(query):\n",
    "    food_words = query.split()\n",
    "    url = f\"https://api.nal.usda.gov/fdc/v1/foods/search?query={query}&dataType=Foundation&api_key={api_key}\"\n",
    "    response = requests.get(url)\n",
    "    data = response.json()\n",
    "    for individual_food_dict in data['foods'][:5]:\n",
    "        match = 0\n",
    "        individual_food = individual_food_dict[\"description\"].lower()\n",
    "        individual_words_list = re.split(r\"[,\\s]+\", individual_food)\n",
    "        #individual_words_list = individual_food.split()\n",
    "        \n",
    "        for word in food_words:\n",
    "            if word not in individual_words_list:\n",
    "                match = match - 1\n",
    "            else:\n",
    "                match = match + 1\n",
    "        if match == len(food_words):\n",
    "            return individual_food_dict['fdcId']\n",
    "    url = f\"https://api.nal.usda.gov/fdc/v1/foods/search?query={query}&dataType=Branded&api_key={api_key}\"\n",
    "    response = requests.get(url)\n",
    "    data = response.json()\n",
    "    for individual_food_dict in data['foods'][:5]:\n",
    "        match = 0\n",
    "        individual_food = individual_food_dict[\"description\"].lower()\n",
    "        individual_words_list = re.split(r\"[,\\s]+\", individual_food)\n",
    "        for word in food_words:\n",
    "            if word not in individual_words_list:\n",
    "                match = match - 1\n",
    "            else:\n",
    "                match = match + 1\n",
    "        if match == len(food_words):\n",
    "            return individual_food_dict['fdcId']       \n",
    "    \n",
    "    return \"ERROR NOTHING IS A MATCH :(((((\"\n",
    "\n",
    "def opening_API(fdc_id,dict):\n",
    "    \n",
    "    nutrition_url = f\"https://api.nal.usda.gov/fdc/v1/food/{fdc_id}?api_key={api_key}\"\n",
    "\n",
    "    response = requests.get(nutrition_url)\n",
    "    nutrition_data = response.json()\n",
    "\n",
    "    for nutrient in nutrition_data['foodNutrients']:\n",
    "        nutrient_name = nutrient['nutrient']['name']\n",
    "        amount = nutrient.get(\"amount\",\"NA\")\n",
    "        unit = nutrient.get(\"nutrient\", {}).get(\"unitName\", \"\")\n",
    "        super_big_function(dict,amount,nutrient_name,unit)\n",
    "    return dict"
   ]
  },
  {
   "cell_type": "code",
   "execution_count": 11,
   "id": "436df81f-9ab7-41f3-82d3-b285dcf64194",
   "metadata": {},
   "outputs": [
    {
     "data": {
      "text/plain": [
       "2012567"
      ]
     },
     "execution_count": 11,
     "metadata": {},
     "output_type": "execute_result"
    }
   ],
   "source": [
    "getting_from_API(\"semi-sweet chocolate\")"
   ]
  },
  {
   "cell_type": "raw",
   "id": "12c2432f-e5bd-4b31-a1b0-c0f55e28ad09",
   "metadata": {},
   "source": [
    "the various ingredients in Tate's. Transforming the online nutritional information of each ingredient into individual dictionaries.\n",
    "\n",
    "- CHECK INNGREDIENTS OF USDA : semi sweet chooclate alligns w tates semi sweet chocolate\n"
   ]
  },
  {
   "cell_type": "code",
   "execution_count": 12,
   "id": "f1058471-cc4e-4910-a56e-d9a8c3fd7665",
   "metadata": {},
   "outputs": [],
   "source": [
    "queries = [\"semi-sweet chocolate\",\"unbleached flour\",\"salted butter\",\"cane sugar\",\"brown cane sugar\",\"egg whole\",\"salt\"]\n",
    "\n",
    "def product_dicts(queries):\n",
    "    dicts = {}\n",
    "    for query in queries:\n",
    "        fdc_id = getting_from_API(query)\n",
    "        print(fdc_id)\n",
    "        new_dict = overall_dict.copy()\n",
    "        opening_API(fdc_id,new_dict)\n",
    "        dicts[query] = new_dict\n",
    "        print(\"added\")\n",
    "    return dicts\n",
    "\n",
    "\n",
    "#semi_sweet_chocolate_dict = overall_dict.copy()\n",
    "#fdc_id_semi_sweet_chocolate = getting_from_API(\"semi sweet chocolate\")\n",
    "#opening_API(fdc_id_semi_sweet_chocolate,semi_sweet_chocolate_dict)\n",
    "\n",
    "#dictionary_list = [semi_sweet_chocolate_dict,unbleached_flour_dict,salted_butter_dict,cane_sugar_dict,brown_cane_sugar_dict,eggs_dict,baking_soda_alex_dict,salt_dict,natural_vanilla_dict]\n",
    "#heavy_dictionary_list = [semi_sweet_chocolate_dict,unbleached_flour_dict,salted_butter_dict,cane_sugar_dict,brown_cane_sugar_dict,eggs_dict]\n",
    "#key_list = [\"Fat\",\"Saturated fatty acids\",\"Fatty acids, total trans\",\"Cholesterol\",\"Sodium\",\"Carbohydrate\",\"Fiber\",\"Sugars\",\"Protein\",\"Calcium\",\"Iron\",\"Potassium\",\"Vitamin D\",\"Weight\",\"Calories\"]\n",
    "#key_list_wo_weight = [\"Fat\",\"Saturated fatty acids\",\"Fatty acids, total trans\",\"Cholesterol\",\"Sodium\",\"Carbohydrate\",\"Fiber\",\"Sugars\",\"Protein\",\"Calcium\",\"Iron\",\"Potassium\",\"Vitamin D\",\"Calories\"]\n",
    "#key_list_wo_sodium_and_weight = [\"Fat\",\"Saturated fatty acids\",\"Fatty acids, total trans\",\"Cholesterol\",\"Carbohydrate\",\"Fiber\",\"Sugars\",\"Protein\",\"Calcium\",\"Iron\",\"Potassium\",\"Vitamin D\",\"Calories\"]"
   ]
  },
  {
   "cell_type": "raw",
   "id": "c532bde4-9e1d-47a4-8af8-0f076106a939",
   "metadata": {},
   "source": [
    "so now, have a dict with tates ingredients."
   ]
  },
  {
   "cell_type": "code",
   "execution_count": 13,
   "id": "8c33378a-e1b0-44a6-a638-0d8ae5b02bde",
   "metadata": {},
   "outputs": [
    {
     "name": "stdout",
     "output_type": "stream",
     "text": [
      "2012567\n",
      "added\n",
      "1104913\n",
      "added\n",
      "790508\n",
      "added\n",
      "1882741\n",
      "added\n",
      "2015023\n",
      "added\n",
      "748967\n",
      "added\n",
      "746775\n",
      "added\n"
     ]
    }
   ],
   "source": [
    "tates_ingredient_dict = product_dicts(queries)"
   ]
  },
  {
   "cell_type": "code",
   "execution_count": 14,
   "id": "8502531b-500b-41bb-a101-3e2577dd2f3f",
   "metadata": {},
   "outputs": [
    {
     "name": "stdout",
     "output_type": "stream",
     "text": [
      "['semi-sweet chocolate', 'unbleached flour', 'salted butter', 'cane sugar', 'brown cane sugar', 'egg whole', 'salt']\n",
      "['semi-sweet chocolate', 'unbleached flour', 'salted butter', 'cane sugar', 'brown cane sugar', 'egg whole']\n",
      "['semi-sweet chocolate', 'unbleached flour', 'salted butter', 'cane sugar', 'brown cane sugar', 'egg whole', 'baking soda', 'salt', 'vanilla extract']\n"
     ]
    }
   ],
   "source": [
    "tates_ingredient_dict[\"baking soda\"] = baking_soda_alex_dict\n",
    "tates_ingredient_dict[\"vanilla extract\"] = natural_vanilla_dict\n",
    "tates_ingredient_dict[\"salted butter\"][\"Energy/Calories\"] = 714\n",
    "ingredients = queries[:-1]\n",
    "print(queries)\n",
    "print(ingredients)\n",
    "ingredients.append(\"baking soda\")\n",
    "ingredients.append(\"salt\")\n",
    "ingredients.append(\"vanilla extract\")\n",
    "print(ingredients)"
   ]
  },
  {
   "cell_type": "code",
   "execution_count": 15,
   "id": "07a2af5e-0a8f-4b65-a502-840ba55f4df0",
   "metadata": {},
   "outputs": [
    {
     "name": "stdout",
     "output_type": "stream",
     "text": [
      "['semi-sweet chocolate', 'unbleached flour', 'salted butter', 'cane sugar', 'brown cane sugar', 'egg whole']\n"
     ]
    }
   ],
   "source": [
    "heavy_ingredients = ingredients[:-3]\n",
    "print(heavy_ingredients)"
   ]
  },
  {
   "cell_type": "code",
   "execution_count": 16,
   "id": "635be9c7-5981-4067-a050-919369cfd7c0",
   "metadata": {},
   "outputs": [],
   "source": [
    "def building_x_list(number,dictionary_list):\n",
    "    x_list = []\n",
    "    for variable in range(0, len(dictionary_list)):\n",
    "        x_list.append(number)\n",
    "    return x_list\n",
    "\n",
    "x_list = building_x_list(1,ingredients)\n"
   ]
  },
  {
   "cell_type": "raw",
   "id": "3e5ec123-1e93-4f6d-b2a0-318b24540711",
   "metadata": {},
   "source": [
    "function that evaluates the guesses and compares them with the goal values (nutritonal info for target product). Divided by 100 when evaluating because each dictionary is out of 100 grams. So if I had 200 grams of eggs, I'd multiply each nutritional fact by 2 (as each fact is per 100 grams)."
   ]
  },
  {
   "cell_type": "code",
   "execution_count": 17,
   "id": "71dd96b6-b1f4-4153-aca4-22ec74dd5c64",
   "metadata": {},
   "outputs": [],
   "source": [
    "def equations(product_dictionaries,ingredients,x_list,desired_dict,key_list):\n",
    "    list_of_equations = []\n",
    "    for key in key_list:\n",
    "        equation = 0\n",
    "        for i,ingredient in enumerate(ingredients):\n",
    "            equation = equation + (product_dictionaries[ingredient][key] * (x_list[i] / 100))\n",
    "        list_of_equations.append(equation-(desired_dict[key]))\n",
    "        #so if something iss negative, tates > val, if positive, val > tates. so we only want negative!\n",
    "    return list_of_equations"
   ]
  },
  {
   "cell_type": "code",
   "execution_count": 51,
   "id": "90693b07-063d-416d-a780-6145ad5218da",
   "metadata": {},
   "outputs": [
    {
     "data": {
      "text/plain": [
       "[0.4961032777786256,\n",
       " -0.42687297983169525,\n",
       " 0.0,\n",
       " -0.006718555190563205,\n",
       " 0.20927329649925497,\n",
       " -0.2868581671714783,\n",
       " 0.009642173862458137,\n",
       " -1.0000077313423157,\n",
       " 0.0029470001529693607,\n",
       " -0.0004467535136938095,\n",
       " 0.002736514563560487,\n",
       " -0.04999995128894773,\n",
       " 0.0,\n",
       " -0.8096968612023829]"
      ]
     },
     "execution_count": 51,
     "metadata": {},
     "output_type": "execute_result"
    }
   ],
   "source": [
    "equations(tates_ingredient_dict,heavy_ingredients,trial,tates_dict,key_list_no_sodium_or_weight)"
   ]
  },
  {
   "cell_type": "raw",
   "id": "cc5e9518-9e92-4271-8cd1-46702795ce2e",
   "metadata": {},
   "source": [
    "initializes variables, choosing random numbers between 0 and the largest weight possible. The variables all together should add up to the final weight. So first, I create these values. Then sort them in descending order. Then divide by a normalizing factor to ensure they add up to the final weight. This factor is just the weight / sum of variables.\n",
    "\n",
    "Just added: Ensure the first variable is within a given range of ratios."
   ]
  },
  {
   "cell_type": "code",
   "execution_count": 19,
   "id": "00a9a79a-8b3c-45bf-af72-8f3462bd4240",
   "metadata": {},
   "outputs": [],
   "source": [
    "def initialize_variables_tf(n,desired_dict,first_ratio_range):\n",
    "    #first_ratio_range is a tuple, low and high ends of \n",
    "    largest_weight = desired_dict[\"Weight\"]\n",
    "    first_variable_weight = 0\n",
    "    other_weight_for_first_ratio = largest_weight\n",
    "    lower_bound, upper_bound = first_ratio_range\n",
    "    #this is for ex. cho chips are 80 percent of dough instead of cho chips are 80 percent of the whole weight\n",
    "    first_ratio = first_variable_weight / other_weight_for_first_ratio\n",
    "\n",
    "    while (first_ratio < lower_bound) or (first_ratio > upper_bound):\n",
    "        initial_values = tf.random.uniform(shape=(n,), minval=0.0, maxval=largest_weight)\n",
    "        initial_values = tf.sort(initial_values, direction='DESCENDING')\n",
    "\n",
    "        initial_values = (initial_values * largest_weight) / tf.reduce_sum(initial_values)\n",
    "        first_variable_weight = initial_values[0]\n",
    "        other_weight_for_first_ratio = tf.reduce_sum(initial_values[1:])\n",
    "        first_ratio = first_variable_weight / other_weight_for_first_ratio\n",
    "\n",
    "    return tf.Variable(initial_values, trainable=True)"
   ]
  },
  {
   "cell_type": "raw",
   "id": "87edc75d-c7a6-477c-8fc7-54782abd385f",
   "metadata": {},
   "source": [
    "this is the loss function. need to update this to provide more info.\n",
    "what can I add?\n",
    "- parameters: all variables are > 0, in descending order, equations --> 0\n",
    "- initialize first variable using ratios. LOOK AT THIS\n",
    "- i want to take the optimized list, and then preform bayesiaan while also ensuring nothinng is ovver the tates vaalue. do we givvev a buffer to the tates!!! bcc its less about gettinng exactly to tates from one side. we can make a ball around each value, and we just want to get within this ball."
   ]
  },
  {
   "cell_type": "code",
   "execution_count": 110,
   "id": "59c2c77b-f00b-4971-a70b-0eee2acc166d",
   "metadata": {},
   "outputs": [],
   "source": [
    "def loss_tf(variables_tf,predicted):\n",
    "\n",
    "    error = tf.reduce_mean(tf.square(predicted))\n",
    "    #to try to get no over tates values\n",
    "    #for j in predicted:\n",
    "    #    if j > 0:\n",
    "    #       error += ((j ** 2) * 10)\n",
    "\n",
    "    if predicted[-1] > 0:\n",
    "        error += ((predicted[-1] ** 2) * 10)\n",
    "\n",
    "    error = error +  5*(tf.reduce_sum(tf.square(tf.minimum(variables_tf, 0))))\n",
    "    \n",
    "    variables_tf_array = variables_tf.numpy()\n",
    "    for i in range(0,len(variables_tf_array)-2):\n",
    "        if variables_tf_array[i] - variables_tf_array[i + 1] < 0:\n",
    "            error = error + ((variables_tf_array[i] - variables_tf_array[i + 1]) ** 2)\n",
    "\n",
    "    return error"
   ]
  },
  {
   "cell_type": "raw",
   "id": "2493d7d6-f1db-430c-91f9-12946c9bc1e8",
   "metadata": {},
   "source": [
    "now this is the training loop."
   ]
  },
  {
   "cell_type": "raw",
   "id": "0f27ebe8-c7b6-4a0c-b329-53704c901e6e",
   "metadata": {},
   "source": [
    "could we change the learning rate as we go on? like the first few have a certain learning rate then we change it? interesting...."
   ]
  },
  {
   "cell_type": "code",
   "execution_count": 54,
   "id": "25e92179-5f5f-41c8-bb75-88c859639ad7",
   "metadata": {},
   "outputs": [],
   "source": [
    "#how to ensure returns either negative or 0 error? how to penalize for positive?\n",
    "\n",
    "def running_tf(product_dictionaries,ingredients,desired_dict,key_list,ratio_range):  \n",
    "    #number of ingredients\n",
    "    n = len(ingredients)\n",
    "    #first guess\n",
    "    variables_tf = initialize_variables_tf(n,desired_dict,ratio_range)\n",
    "    #the optimizer chosen: stochastic gradient descent. WHAT IF WE TRIED batch gradient descent here?\n",
    "    #pros/cons: https://www.geeksforgeeks.org/difference-between-batch-gradient-descent-and-stochastic-gradient-descent/\n",
    "    #whats the math behind this?\n",
    "        #updates each variable. the variable is updated to be its value - \n",
    "        #the learning rate * the gradient of how much that variable affects the loss.\n",
    "        #THIS PART IS DIFFERENT FROM MY PREVIOUS METHOD MATHEMATICALLY, but does the same thing\n",
    "        #SHOW tests for learning rates. date the comments.\n",
    "    optimizer = tf.keras.optimizers.SGD(learning_rate=.01)\n",
    "\n",
    "# Training loop\n",
    "    #redefines the variable 600 times. what number is OPTIMAL?\n",
    "    for epoch in range(400):\n",
    "\n",
    "        #the \"with\" allows for automatic differentiation. this means the with part locks in the operations. but here no gradients are calculated.\n",
    "        with tf.GradientTape() as tape:\n",
    "        \n",
    "            predictions1 = equations(product_dictionaries,ingredients,variables_tf,desired_dict,key_list)\n",
    "            predictions = tf.convert_to_tensor(predictions1)\n",
    "            loss = loss_tf(variables_tf,predictions)\n",
    "\n",
    "        #gradients are computed here.\n",
    "        gradients = tape.gradient(loss, [variables_tf])\n",
    "\n",
    "        #apply these gradients, perform sgd on our variables (which are being updated) \n",
    "        optimizer.apply_gradients(zip(gradients, [variables_tf]))\n",
    "\n",
    "        predictions_updated = equations(product_dictionaries, ingredients, variables_tf, desired_dict, key_list)\n",
    "        new_loss = loss_tf(variables_tf, tf.convert_to_tensor(predictions_updated))\n",
    "\n",
    "        if epoch % 20 == 0:\n",
    "            print((tf.reduce_sum(variables_tf).numpy()))\n",
    "            print(f\"Epoch {epoch}, Loss: {loss.numpy():.4f}, New Loss: {new_loss.numpy():.4f}, Variables: {variables_tf.numpy()}\")\n",
    "\n",
    "        if new_loss > loss:\n",
    "            return (loss,variables_tf.numpy().tolist())\n",
    "            \n",
    "    return (loss,variables_tf.numpy().tolist())"
   ]
  },
  {
   "cell_type": "raw",
   "id": "393aeb5a-baa6-407b-a09a-cda34ba46670",
   "metadata": {},
   "source": [
    "look at epochs. convergence rate? 300"
   ]
  },
  {
   "cell_type": "raw",
   "id": "0f75a22a-1926-4402-986c-85d2db3754db",
   "metadata": {},
   "source": [
    "VARIOUS KEY LISTS FOR TESTING:::: \n"
   ]
  },
  {
   "cell_type": "code",
   "execution_count": 37,
   "id": "8a1365b8-4b9c-46b5-bc26-294ee0159aed",
   "metadata": {},
   "outputs": [],
   "source": [
    "key_list_API = ['Total Fat', 'Saturated Fat', 'Trans Fat', 'Cholesterol', 'Sodium', 'Total Carbs', 'Fiber', 'Total Sugar', 'Protein', 'Calcium', 'Iron', 'Potassium', 'Vitamin D', 'Water', 'Weight', 'Energy/Calories']"
   ]
  },
  {
   "cell_type": "code",
   "execution_count": 43,
   "id": "824e6ddd-ae7d-48c3-adfe-0d8162e06ab7",
   "metadata": {},
   "outputs": [],
   "source": [
    "key_list_no_sodium = ['Total Fat', 'Saturated Fat', 'Trans Fat', 'Cholesterol', 'Total Carbs', 'Fiber', 'Total Sugar', 'Protein', 'Calcium', 'Iron', 'Potassium', 'Vitamin D', 'Water', 'Weight', 'Energy/Calories']"
   ]
  },
  {
   "cell_type": "code",
   "execution_count": 44,
   "id": "49451d31-f1a5-435d-bfec-0c103850c39b",
   "metadata": {},
   "outputs": [],
   "source": [
    "key_list_no_sodium_or_weight= ['Total Fat', 'Saturated Fat', 'Trans Fat', 'Cholesterol', 'Total Carbs', 'Fiber', 'Total Sugar', 'Protein', 'Calcium', 'Iron', 'Potassium', 'Vitamin D', 'Water', 'Energy/Calories']"
   ]
  },
  {
   "cell_type": "code",
   "execution_count": 40,
   "id": "77f42f9d-9b0d-4edc-b30a-d5a7a6efb590",
   "metadata": {},
   "outputs": [],
   "source": [
    "key_list_no_sodium_or_weight_or_cal = ['Total Fat', 'Saturated Fat', 'Trans Fat', 'Cholesterol', 'Total Carbs', 'Fiber', 'Total Sugar', 'Protein', 'Calcium', 'Iron', 'Potassium', 'Vitamin D', 'Water']"
   ]
  },
  {
   "cell_type": "code",
   "execution_count": 41,
   "id": "15d6c8e8-ce74-4d08-aa42-ee8398095efb",
   "metadata": {},
   "outputs": [],
   "source": [
    "key_list_no_water_or_weight = ['Total Fat', 'Saturated Fat', 'Trans Fat', 'Cholesterol', 'Sodium', 'Total Carbs', 'Fiber', 'Total Sugar', 'Protein', 'Calcium', 'Iron', 'Potassium', 'Vitamin D', 'Energy/Calories']"
   ]
  },
  {
   "cell_type": "code",
   "execution_count": 42,
   "id": "37e7486b-0fc9-4fcd-9f79-64f82d162e21",
   "metadata": {},
   "outputs": [],
   "source": [
    "key_list_no_cal = ['Total Fat', 'Saturated Fat', 'Trans Fat', 'Cholesterol', 'Sodium', 'Total Carbs', 'Fiber', 'Total Sugar', 'Protein', 'Calcium', 'Iron', 'Potassium', 'Vitamin D', 'Water', 'Weight']"
   ]
  },
  {
   "cell_type": "code",
   "execution_count": 32,
   "id": "2fc1dc03-50df-44dc-bdfd-38b6ef133649",
   "metadata": {},
   "outputs": [
    {
     "data": {
      "text/plain": [
       "(<tf.Tensor: shape=(), dtype=float32, numpy=0.4377977>,\n",
       " [5.9404377937316895,\n",
       "  5.130402565002441,\n",
       "  4.651595592498779,\n",
       "  4.8218584060668945,\n",
       "  4.534286022186279,\n",
       "  3.0048582553863525])"
      ]
     },
     "execution_count": 32,
     "metadata": {},
     "output_type": "execute_result"
    }
   ],
   "source": [
    "running_tf(tates_ingredient_dict,heavy_ingredients,tates_dict,new_key_list,(.25,.45))"
   ]
  },
  {
   "cell_type": "code",
   "execution_count": 45,
   "id": "4d1d6ddb",
   "metadata": {},
   "outputs": [
    {
     "data": {
      "text/plain": [
       "(<tf.Tensor: shape=(), dtype=float32, numpy=0.4670406>,\n",
       " [6.593859672546387,\n",
       "  6.751471996307373,\n",
       "  6.163629055023193,\n",
       "  5.6329145431518555,\n",
       "  3.657076597213745,\n",
       "  2.1613709926605225])"
      ]
     },
     "execution_count": 45,
     "metadata": {},
     "output_type": "execute_result"
    }
   ],
   "source": [
    "running_tf(tates_ingredient_dict,heavy_ingredients,tates_dict,key_list_no_sodium_or_weight,(.25,.35))  #this is with **2 loss for positive vals"
   ]
  },
  {
   "cell_type": "code",
   "execution_count": 49,
   "id": "b5ca7995",
   "metadata": {},
   "outputs": [
    {
     "data": {
      "text/plain": [
       "(<tf.Tensor: shape=(), dtype=float32, numpy=0.4482072>,\n",
       " [7.227349758148193,\n",
       "  7.063431262969971,\n",
       "  6.0314507484436035,\n",
       "  4.913104057312012,\n",
       "  3.9381508827209473,\n",
       "  0.9994003772735596])"
      ]
     },
     "execution_count": 49,
     "metadata": {},
     "output_type": "execute_result"
    }
   ],
   "source": [
    "running_tf(tates_ingredient_dict,heavy_ingredients,tates_dict,key_list_no_sodium_or_weight,(.25,.35)) #this is with **2 loss for positive vals"
   ]
  },
  {
   "cell_type": "code",
   "execution_count": 55,
   "id": "6e58b3f5",
   "metadata": {},
   "outputs": [
    {
     "name": "stdout",
     "output_type": "stream",
     "text": [
      "28.242924\n",
      "Epoch 0, Loss: 7.1619, New Loss: 6.1721, Variables: [6.9642234 6.836735  6.021306  3.8997457 3.752368  0.7685431]\n",
      "29.679186\n",
      "Epoch 20, Loss: 1.5946, New Loss: 1.5806, Variables: [7.161036  7.273422  5.7803307 4.39471   4.247078  0.8226087]\n",
      "29.707588\n",
      "Epoch 40, Loss: 1.5479, New Loss: 1.5473, Variables: [7.1284466  7.3092213  5.7377944  4.3780737  4.278013   0.87603885]\n",
      "29.763018\n",
      "Epoch 60, Loss: 1.5388, New Loss: 1.5385, Variables: [7.105043  7.337241  5.736127  4.350414  4.29958   0.9346142]\n",
      "29.818039\n",
      "Epoch 80, Loss: 1.5353, New Loss: 1.5352, Variables: [7.082005  7.3645115 5.734822  4.323121  4.3209786 0.9926006]\n"
     ]
    },
    {
     "data": {
      "text/plain": [
       "(<tf.Tensor: shape=(), dtype=float32, numpy=1.5351979>,\n",
       " [7.078573703765869,\n",
       "  7.368542671203613,\n",
       "  5.734627723693848,\n",
       "  4.319066047668457,\n",
       "  4.3241801261901855,\n",
       "  1.001244068145752])"
      ]
     },
     "execution_count": 55,
     "metadata": {},
     "output_type": "execute_result"
    }
   ],
   "source": [
    "running_tf(tates_ingredient_dict,heavy_ingredients,tates_dict,key_list_no_sodium_or_weight,(.25,.35)) #this is with 10* + **2 loss"
   ]
  },
  {
   "cell_type": "code",
   "execution_count": 60,
   "id": "5898b698-e458-4dc7-8e11-cba7160136e3",
   "metadata": {},
   "outputs": [
    {
     "name": "stdout",
     "output_type": "stream",
     "text": [
      "28.589748\n",
      "Epoch 0, Loss: 19.4656, New Loss: 13.3797, Variables: [6.8093457 5.705005  5.431321  4.445454  3.306873  2.8917506]\n",
      "30.889673\n",
      "Epoch 20, Loss: 2.5338, New Loss: 2.4417, Variables: [7.135529  6.4704766 5.3233156 5.0283475 3.9186876 3.0133164]\n"
     ]
    },
    {
     "data": {
      "text/plain": [
       "(<tf.Tensor: shape=(), dtype=float32, numpy=1.7311313>,\n",
       " [7.109037399291992,\n",
       "  6.760232448577881,\n",
       "  5.2861151695251465,\n",
       "  4.9464030265808105,\n",
       "  3.8890013694763184,\n",
       "  3.064105272293091])"
      ]
     },
     "execution_count": 60,
     "metadata": {},
     "output_type": "execute_result"
    }
   ],
   "source": [
    "running_tf(tates_ingredient_dict,heavy_ingredients,tates_dict,key_list_no_sodium_or_weight,(.25,.35)) #this is with 50* + **2 loss"
   ]
  },
  {
   "cell_type": "code",
   "execution_count": 98,
   "id": "eba3590b-7473-4946-a0ab-82b809203041",
   "metadata": {},
   "outputs": [
    {
     "name": "stdout",
     "output_type": "stream",
     "text": [
      "28.31541\n",
      "Epoch 0, Loss: 9.7912, New Loss: 8.1733, Variables: [6.914167  5.9822354 5.973228  5.6639676 2.2343192 1.5474939]\n",
      "29.904469\n",
      "Epoch 20, Loss: 2.5589, New Loss: 2.5142, Variables: [7.1262054 6.531919  5.770104  6.1351357 2.7198129 1.6212918]\n",
      "30.12036\n",
      "Epoch 40, Loss: 1.9628, New Loss: 1.9517, Variables: [7.0983906 6.839375  5.697204  6.079111  2.7236266 1.6826519]\n",
      "30.216393\n",
      "Epoch 60, Loss: 1.8445, New Loss: 1.8415, Variables: [7.072127  6.940582  5.6833043 6.0373063 2.7373235 1.7457511]\n",
      "30.280033\n",
      "Epoch 80, Loss: 1.7890, New Loss: 1.7862, Variables: [7.0468516 6.97883   5.6793737 6.0069666 2.7599742 1.8080395]\n",
      "30.339457\n",
      "Epoch 100, Loss: 1.7349, New Loss: 1.7322, Variables: [7.021669  7.0129414 5.67798   5.9756827 2.7812703 1.869911 ]\n",
      "30.398176\n",
      "Epoch 120, Loss: 1.6859, New Loss: 1.6837, Variables: [6.996812  7.046246  5.676641  5.9449077 2.8024745 1.9310932]\n",
      "30.456177\n",
      "Epoch 140, Loss: 1.6462, New Loss: 1.6445, Variables: [6.9722667 7.0787625 5.67532   5.9146442 2.8235939 1.9915909]\n",
      "30.513477\n",
      "Epoch 160, Loss: 1.6155, New Loss: 1.6142, Variables: [6.9480276 7.11051   5.674017  5.884881  2.8446288 2.0514128]\n",
      "30.57008\n",
      "Epoch 180, Loss: 1.5933, New Loss: 1.5924, Variables: [6.9240932 7.1415    5.6727304 5.855611  2.8655784 2.1105685]\n",
      "30.626001\n",
      "Epoch 200, Loss: 1.5792, New Loss: 1.5787, Variables: [6.9004564 7.1717486 5.6714606 5.826825  2.886443  2.1690679]\n",
      "30.681244\n",
      "Epoch 220, Loss: 1.5726, New Loss: 1.5725, Variables: [6.8771133 7.2012696 5.670206  5.7985153 2.9072216 2.2269197]\n"
     ]
    },
    {
     "data": {
      "text/plain": [
       "(<tf.Tensor: shape=(), dtype=float32, numpy=1.5720378>,\n",
       " [6.867858409881592,\n",
       "  7.2128777503967285,\n",
       "  5.6697096824646,\n",
       "  5.787322521209717,\n",
       "  2.9155092239379883,\n",
       "  2.2498812675476074])"
      ]
     },
     "execution_count": 98,
     "metadata": {},
     "output_type": "execute_result"
    }
   ],
   "source": [
    "running_tf(tates_ingredient_dict,heavy_ingredients,tates_dict,key_list_no_sodium_or_weight,(.25,.35)) #this is with 10* + **2 loss"
   ]
  },
  {
   "cell_type": "code",
   "execution_count": 112,
   "id": "31b752ce-fe40-48e2-b22f-6aba109ac3b1",
   "metadata": {},
   "outputs": [
    {
     "name": "stdout",
     "output_type": "stream",
     "text": [
      "28.536478\n",
      "Epoch 0, Loss: 16.1544, New Loss: 11.0526, Variables: [6.1273384 6.055748  5.5264945 4.882063  3.8845067 2.0603268]\n",
      "31.025166\n",
      "Epoch 20, Loss: 0.1234, New Loss: 0.1210, Variables: [6.630631  6.422539  6.235241  5.2626014 4.2641544 2.2099998]\n",
      "31.081099\n",
      "Epoch 40, Loss: 0.1153, New Loss: 0.1153, Variables: [6.6413126 6.4370794 6.252019  5.2652807 4.2681837 2.2172227]\n",
      "31.084328\n",
      "Epoch 60, Loss: 0.1147, New Loss: 0.1147, Variables: [6.6413198 6.4439383 6.253495  5.2600102 4.264266  2.2212973]\n",
      "31.08657\n",
      "Epoch 80, Loss: 0.1142, New Loss: 0.1142, Variables: [6.641123  6.4506063 6.254398  5.254814  4.260376  2.2252543]\n",
      "31.088943\n",
      "Epoch 100, Loss: 0.1137, New Loss: 0.1137, Variables: [6.640948  6.457242  6.2550654 5.249848  4.256675  2.2291632]\n",
      "31.091448\n",
      "Epoch 120, Loss: 0.1133, New Loss: 0.1132, Variables: [6.640798  6.463846  6.2555223 5.2451005 4.2531524 2.2330287]\n",
      "31.094084\n",
      "Epoch 140, Loss: 0.1128, New Loss: 0.1128, Variables: [6.640673  6.470418  6.255785  5.2405562 4.249797  2.236853 ]\n",
      "31.096832\n",
      "Epoch 160, Loss: 0.1124, New Loss: 0.1124, Variables: [6.640571  6.4769545 6.255869  5.2362027 4.2465973 2.240639 ]\n",
      "31.09969\n",
      "Epoch 180, Loss: 0.1120, New Loss: 0.1119, Variables: [6.64049   6.483455  6.2557874 5.2320266 4.2435427 2.244389 ]\n",
      "31.102648\n",
      "Epoch 200, Loss: 0.1116, New Loss: 0.1115, Variables: [6.6404295 6.489918  6.2555537 5.2280154 4.2406225 2.2481053]\n",
      "31.105688\n",
      "Epoch 220, Loss: 0.1112, New Loss: 0.1111, Variables: [6.640387  6.4963427 6.255181  5.2241583 4.2378287 2.2517896]\n",
      "31.108809\n",
      "Epoch 240, Loss: 0.1108, New Loss: 0.1108, Variables: [6.6403637 6.5027256 6.254678  5.2204456 4.235153  2.2554443]\n",
      "31.11201\n",
      "Epoch 260, Loss: 0.1104, New Loss: 0.1104, Variables: [6.6403575 6.509068  6.254056  5.2168684 4.2325883 2.259071 ]\n",
      "31.115274\n",
      "Epoch 280, Loss: 0.1101, New Loss: 0.1100, Variables: [6.6403666 6.515368  6.2533245 5.2134175 4.2301254 2.262672 ]\n",
      "31.118599\n",
      "Epoch 300, Loss: 0.1097, New Loss: 0.1097, Variables: [6.640392  6.5216246 6.252494  5.210083  4.2277584 2.266248 ]\n",
      "31.12198\n",
      "Epoch 320, Loss: 0.1094, New Loss: 0.1094, Variables: [6.640431  6.527837  6.251571  5.206859  4.225481  2.2698004]\n",
      "31.12541\n",
      "Epoch 340, Loss: 0.1090, New Loss: 0.1090, Variables: [6.6404834 6.534005  6.2505636 5.2037387 4.223287  2.273331 ]\n",
      "31.128883\n",
      "Epoch 360, Loss: 0.1087, New Loss: 0.1087, Variables: [6.6405497 6.5401278 6.2494783 5.200715  4.2211723 2.276841 ]\n",
      "31.132399\n",
      "Epoch 380, Loss: 0.1084, New Loss: 0.1084, Variables: [6.640628  6.5462046 6.248322  5.1977825 4.219132  2.2803314]\n"
     ]
    },
    {
     "data": {
      "text/plain": [
       "(<tf.Tensor: shape=(), dtype=float32, numpy=0.10811552>,\n",
       " [6.640712261199951,\n",
       "  6.551934719085693,\n",
       "  6.24716329574585,\n",
       "  5.195075035095215,\n",
       "  4.217256546020508,\n",
       "  2.283630132675171])"
      ]
     },
     "execution_count": 112,
     "metadata": {},
     "output_type": "execute_result"
    }
   ],
   "source": [
    "running_tf(tates_ingredient_dict,heavy_ingredients,tates_dict,key_list_no_sodium_or_weight,(.25,.35)) #this is with 10* + **2 loss onnlyfor ccalories"
   ]
  },
  {
   "cell_type": "code",
   "execution_count": 150,
   "id": "5b5a9516-53c9-4202-bf3b-42a9462a085f",
   "metadata": {},
   "outputs": [
    {
     "name": "stdout",
     "output_type": "stream",
     "text": [
      "28.568388\n",
      "Epoch 0, Loss: 18.1903, New Loss: 12.4493, Variables: [7.867105  7.719422  4.310039  3.6668327 3.5360935 1.4688975]\n",
      "31.194748\n",
      "Epoch 20, Loss: 0.1483, New Loss: 0.1455, Variables: [8.40087   8.089846  5.077503  4.0643005 3.9335306 1.6286986]\n",
      "31.241135\n",
      "Epoch 40, Loss: 0.1366, New Loss: 0.1365, Variables: [8.41215   8.086889  5.1100535 4.061666  3.9331183 1.6372567]\n",
      "31.232222\n",
      "Epoch 60, Loss: 0.1338, New Loss: 0.1337, Variables: [8.4121685 8.076057  5.125546  4.0512695 3.9248292 1.642351 ]\n",
      "31.222837\n",
      "Epoch 80, Loss: 0.1313, New Loss: 0.1312, Variables: [8.412026 8.065286 5.139663 4.041569 3.917085 1.647207]\n",
      "31.214117\n",
      "Epoch 100, Loss: 0.1291, New Loss: 0.1290, Variables: [8.411961  8.054731  5.1528177 4.0326843 3.9100142 1.6519068]\n",
      "31.206036\n",
      "Epoch 120, Loss: 0.1272, New Loss: 0.1271, Variables: [8.41197   8.044388  5.165085  4.0245585 3.9035707 1.6564633]\n",
      "31.198551\n",
      "Epoch 140, Loss: 0.1255, New Loss: 0.1254, Variables: [8.412047  8.034244  5.1765285 4.0171356 3.8977087 1.6608866]\n",
      "31.191622\n",
      "Epoch 160, Loss: 0.1239, New Loss: 0.1239, Variables: [8.41219   8.02429   5.1872067 4.0103626 3.892384  1.6651871]\n",
      "31.185207\n",
      "Epoch 180, Loss: 0.1226, New Loss: 0.1225, Variables: [8.412392  8.014518  5.1971745 4.0041924 3.8875575 1.6693735]\n",
      "31.17927\n",
      "Epoch 200, Loss: 0.1213, New Loss: 0.1213, Variables: [8.412644  8.004916  5.2064834 3.9985788 3.8831916 1.6734545]\n",
      "31.173782\n",
      "Epoch 220, Loss: 0.1202, New Loss: 0.1202, Variables: [8.41295   7.9954815 5.21518   3.993481  3.8792515 1.6774381]\n",
      "31.168707\n",
      "Epoch 240, Loss: 0.1192, New Loss: 0.1191, Variables: [8.413298  7.986203  5.2233086 3.9888594 3.875706  1.6813315]\n",
      "31.164019\n",
      "Epoch 260, Loss: 0.1183, New Loss: 0.1182, Variables: [8.41369   7.9770746 5.2309074 3.9846795 3.8725257 1.6851407]\n",
      "31.159689\n",
      "Epoch 280, Loss: 0.1174, New Loss: 0.1174, Variables: [8.414122  7.9680896 5.2380147 3.980907  3.8696826 1.6888728]\n",
      "31.15569\n",
      "Epoch 300, Loss: 0.1167, New Loss: 0.1166, Variables: [8.414587  7.959243  5.2446656 3.9775112 3.8671517 1.6925334]\n",
      "31.152012\n",
      "Epoch 320, Loss: 0.1159, New Loss: 0.1159, Variables: [8.415087  7.950527  5.2508936 3.9744644 3.8649092 1.696128 ]\n",
      "31.14861\n",
      "Epoch 340, Loss: 0.1153, New Loss: 0.1153, Variables: [8.415615  7.9419374 5.256726  3.9717395 3.862933  1.699661 ]\n",
      "31.145489\n",
      "Epoch 360, Loss: 0.1147, New Loss: 0.1146, Variables: [8.416174  7.9334702 5.2621922 3.9693131 3.8612041 1.7031374]\n",
      "31.14262\n",
      "Epoch 380, Loss: 0.1141, New Loss: 0.1141, Variables: [8.416756  7.9251204 5.267317  3.9671605 3.8597023 1.7065613]\n"
     ]
    },
    {
     "data": {
      "text/plain": [
       "(<tf.Tensor: shape=(), dtype=float32, numpy=0.1135792>,\n",
       " [8.417330741882324,\n",
       "  7.91729211807251,\n",
       "  5.2718915939331055,\n",
       "  3.965351104736328,\n",
       "  3.858471155166626,\n",
       "  1.7097686529159546])"
      ]
     },
     "execution_count": 150,
     "metadata": {},
     "output_type": "execute_result"
    }
   ],
   "source": [
    "running_tf(tates_ingredient_dict,heavy_ingredients,tates_dict,key_list_no_sodium_or_weight,(.36,.39)) #this is with 10* + **2 loss onnlyfor ccalories secondd time runnninng!"
   ]
  },
  {
   "cell_type": "code",
   "execution_count": 26,
   "id": "1286ca4d-6be9-43f6-b34a-30dbac01cc1a",
   "metadata": {},
   "outputs": [],
   "source": [
    "def multiple_tfs(product_dictionaries,ingredients,desired_dict,key_list,ratio_range,number_of_times_run):\n",
    "    lowest_loss = 500\n",
    "    lowest_resulting_list = []\n",
    "    for i in range(0,number_of_times_run):\n",
    "        loss, resulting_list = running_tf(product_dictionaries,ingredients,desired_dict,key_list,ratio_range)\n",
    "        if loss < lowest_loss:\n",
    "            lowest_loss = loss\n",
    "            lowest_resulting_list = resulting_list\n",
    "    return (lowest_loss,lowest_resulting_list)"
   ]
  },
  {
   "cell_type": "raw",
   "id": "d2b4598b-6945-4c7f-bd02-af101dab0e76",
   "metadata": {},
   "source": [
    "multiple_tfs(tates_ingredient_dict,heavy_ingredients,tates_dict,key_list_API,(.2,.3),10)"
   ]
  },
  {
   "cell_type": "raw",
   "id": "d7518317-6969-447e-9594-7491b462f95f",
   "metadata": {},
   "source": [
    "need to make some sort of journal / tracker to record values with varaying inputs.\n",
    "- where to do this? excel?: https://docs.google.com/spreadsheets/d/1JaqNnqDaNqFfK0VauvhND7xTFVfdoKkRyTLoEnHcdUI/edit?usp=sharing"
   ]
  },
  {
   "cell_type": "code",
   "execution_count": 61,
   "id": "782898d0-56c8-4b74-a203-a8438afa6245",
   "metadata": {},
   "outputs": [],
   "source": [
    "trial =   [7.109037399291992,\n",
    "  6.760232448577881,\n",
    "  5.2861151695251465,\n",
    "  4.9464030265808105,\n",
    "  3.8890013694763184,\n",
    "  3.064105272293091]"
   ]
  },
  {
   "cell_type": "code",
   "execution_count": 99,
   "id": "b28ea360-b74d-4c33-8b34-86db09dc7e2a",
   "metadata": {},
   "outputs": [],
   "source": [
    "trial2 = [6.867858409881592,\n",
    "  7.2128777503967285,\n",
    "  5.6697096824646,\n",
    "  5.787322521209717,\n",
    "  2.9155092239379883,\n",
    "  2.2498812675476074]"
   ]
  },
  {
   "cell_type": "code",
   "execution_count": 113,
   "id": "e0788b4a-f2bf-4f36-b465-cae4ce50d075",
   "metadata": {},
   "outputs": [],
   "source": [
    "trial3 = [7.250808238983154,\n",
    "  6.829881191253662,\n",
    "  6.767848968505859,\n",
    "  5.145511627197266,\n",
    "  2.7552220821380615,\n",
    "  0.7754389047622681]"
   ]
  },
  {
   "cell_type": "code",
   "execution_count": 123,
   "id": "dbf4d324-314e-465e-b479-6b9e38f09a65",
   "metadata": {},
   "outputs": [],
   "source": [
    "trial4 =  [7.037546634674072,\n",
    "  6.745736598968506,\n",
    "  6.333464622497559,\n",
    "  5.680089950561523,\n",
    "  3.2290663719177246,\n",
    "  1.3324352502822876]"
   ]
  },
  {
   "cell_type": "code",
   "execution_count": 140,
   "id": "bfd6b9ea-69f5-4f9d-a30c-77beb1c9b409",
   "metadata": {},
   "outputs": [],
   "source": [
    "trial5 = [8.499693870544434,\n",
    "  7.513394355773926,\n",
    "  5.488454818725586,\n",
    "  3.789907932281494,\n",
    "  3.7098004817962646,\n",
    "  2.161324977874756]"
   ]
  },
  {
   "cell_type": "code",
   "execution_count": 151,
   "id": "11d111e1-a036-4818-a607-49bb927aeba4",
   "metadata": {},
   "outputs": [],
   "source": [
    "trial6 =  [8.417330741882324,\n",
    "  7.91729211807251,\n",
    "  5.2718915939331055,\n",
    "  3.965351104736328,\n",
    "  3.858471155166626,\n",
    "  1.7097686529159546]"
   ]
  },
  {
   "cell_type": "code",
   "execution_count": 152,
   "id": "77126fae-1995-43d7-bb0a-d04beb986147",
   "metadata": {},
   "outputs": [],
   "source": [
    "def multiply_by_27(trial):\n",
    "    new_list = []\n",
    "    for val in trial:\n",
    "        new_list.append(val * 44)\n",
    "    return new_list"
   ]
  },
  {
   "cell_type": "code",
   "execution_count": 155,
   "id": "c9162573-61fc-495b-8dcf-3cdfddf9e903",
   "metadata": {},
   "outputs": [
    {
     "data": {
      "text/plain": [
       "[309.6520519256592,\n",
       " 296.81241035461426,\n",
       " 278.6724433898926,\n",
       " 249.92395782470703,\n",
       " 142.07892036437988,\n",
       " 58.627151012420654]"
      ]
     },
     "execution_count": 155,
     "metadata": {},
     "output_type": "execute_result"
    }
   ],
   "source": [
    "multiply_by_27(trial4)"
   ]
  },
  {
   "cell_type": "code",
   "execution_count": 157,
   "id": "d25d4cdb-9e4f-4d6e-8f64-9f232895f46f",
   "metadata": {},
   "outputs": [
    {
     "data": {
      "text/plain": [
       "[0.5817991062164314,\n",
       " -0.41005687808990476,\n",
       " 0.0,\n",
       " -0.0032190855169296276,\n",
       " 0.01723666510581978,\n",
       " -0.1965217351913453,\n",
       " -0.6780140229701992,\n",
       " -0.7711346254348754,\n",
       " 0.0034671885417938233,\n",
       " -0.0003583620041370391,\n",
       " 0.004784313564300535,\n",
       " -0.04999992487758627,\n",
       " 0.0,\n",
       " -0.06666030969947201]"
      ]
     },
     "execution_count": 157,
     "metadata": {},
     "output_type": "execute_result"
    }
   ],
   "source": [
    "equations(tates_ingredient_dict,heavy_ingredients,trial5,tates_dict,key_list_no_sodium_or_weight)"
   ]
  },
  {
   "cell_type": "code",
   "execution_count": 158,
   "id": "c6cc92a4",
   "metadata": {},
   "outputs": [
    {
     "data": {
      "text/plain": [
       "['Total Fat',\n",
       " 'Saturated Fat',\n",
       " 'Trans Fat',\n",
       " 'Cholesterol',\n",
       " 'Total Carbs',\n",
       " 'Fiber',\n",
       " 'Total Sugar',\n",
       " 'Protein',\n",
       " 'Calcium',\n",
       " 'Iron',\n",
       " 'Potassium',\n",
       " 'Vitamin D',\n",
       " 'Water',\n",
       " 'Energy/Calories']"
      ]
     },
     "execution_count": 158,
     "metadata": {},
     "output_type": "execute_result"
    }
   ],
   "source": [
    "key_list_no_sodium_or_weight"
   ]
  },
  {
   "cell_type": "raw",
   "id": "378f4182-74c6-464b-a416-72b18388c550",
   "metadata": {},
   "source": [
    "issue: there are way too many local minimum. How do I find the one I want? \n",
    "- I could present all my local minimum possibilities... how to pick the certain one?\n",
    "- do I calculate a bunch and choose the one with lowest loss? Do I calculate and then find the most recurring one? This one appears the most naturally?\n",
    "- how can I incorporate food science ideas? Maybe I can add relationships between the ingredients. so if a food has more than a few sugar-contributing ingredients, etc... what to do with that?\n",
    "- could I pass each guess through a \"viable food product\" type of function?\n",
    "    - processing-aware constraints, so there must be a specific flour to fat ratio for proper dough structure. or high sugar/fat ratio could cause spreading in cookies, etc. if something is very off the ratio?\n",
    "    - is there a way we could train the model with existing cookie recipes so that it can understand ratios? How do you even do this? once it understands ratios of other recipes, then when looking at all the possibilities it outputted, it can choose which one makes the most sense.\n",
    "    - put the guess through AI and have it say if its viable?\n",
    "    - make custom GPT for ratio detection from past recipes & online research & books\n",
    "    - maybe after each iteration, ask questions like\n",
    "        - does it have enough liquid? (ex. w the tates cookies, if it doesn't, then increase the eggs --> decrease the chocolate chips --> increase white/brown sugar). \n",
    "        - how would we know how much liquid it needs? maybe someone would input the recipe along with tags: - how dry, how crumbly, how many chocolate chips it seemingly has, etc. But isn't this similar to using the sensory analysis? Or isn't this just giving a helping hand. For example, if someone says this cookie has medium chocolate chips, then we restraint our chocolate chip guess to a specific ratio of the dough. \n",
    "            - what if someone inputted the nutritional label + possible dominating ingredients? That way if there are no dominating ingredients, we want the ratios of each one to follow some sort of pattern/curve. But if there is a dominating ingredient (ex. water in a water-based beverage) then we make an exception. so no dominating means if the product has multiple ingredients that contribute to the same nutrient, ensuring that one doesn't hog all of it (assuming these are all heavier ingredients)"
   ]
  },
  {
   "cell_type": "raw",
   "id": "feb0d3d9-669c-4e06-b5ff-0ba239f61c94",
   "metadata": {},
   "source": [
    "after optimizing the heavy ingredients, add noise to the list to make room for lighter ingredients"
   ]
  },
  {
   "cell_type": "code",
   "execution_count": 26,
   "id": "0ffb859c-6f46-47b1-8a9c-ee4a176d687d",
   "metadata": {},
   "outputs": [],
   "source": [
    "def add_noise(optimized_heavy_ingredients):\n",
    "    optimized_w_noise = []\n",
    "    for i in range(0,len(optimized_heavy_ingredients)):\n",
    "        number = random.randint(1,2)\n",
    "        if number == 1:\n",
    "            optimized_w_noise.append(optimized_heavy_ingredients[i] - .1)\n",
    "        else:\n",
    "            optimized_w_noise.append(optimized_heavy_ingredients[i] + .1)\n",
    "    return optimized_w_noise"
   ]
  },
  {
   "cell_type": "raw",
   "id": "b05c6534-ae69-4109-9939-edbb61b2f747",
   "metadata": {},
   "source": [
    "error function for combined heavier + lighter ingredients. This looks at how the \"equations\" function evaluates as well as the calories. WOULD IT BE SMARTER TO MOVE THE CALORIES PORTION? Also, look at the 100 value."
   ]
  },
  {
   "cell_type": "code",
   "execution_count": 128,
   "id": "d2afd099-8189-42e0-be49-c10f48cc53f3",
   "metadata": {},
   "outputs": [],
   "source": [
    "\n",
    "def fixed_heavy_dictionary(optimized_heavy_ingredients,key_list):\n",
    "    optimized_dictionary={}\n",
    "\n",
    "    x_list = building_x_list(1,heavy_ingredients)\n",
    "\n",
    "    error_for_optimized = equations(tates_ingredient_dict,heavy_ingredients,optimized_heavy_ingredients,tates_dict,key_list)\n",
    "\n",
    "    #evaluate on initial key list, but return all keys. So this means then evaluating the keys that weren't included in the initial key_list\n",
    "    \n",
    "    for i in range(0,len(key_list)):\n",
    "        key = key_list[i]\n",
    "        error_at_this_key = error_for_optimized[i]\n",
    "        #MULTIPLIED BY NEGATIVE ONE HERE\n",
    "        optimized_dictionary[key] = -error_at_this_key\n",
    "\n",
    "    return optimized_dictionary\n",
    "        "
   ]
  },
  {
   "cell_type": "code",
   "execution_count": 129,
   "id": "a76e38db-4ad5-4e47-a044-afebc71e8e91",
   "metadata": {},
   "outputs": [
    {
     "data": {
      "text/plain": [
       "{'Total Fat': -0.7113160392284392,\n",
       " 'Saturated Fat': 0.31239637517929086,\n",
       " 'Trans Fat': -0.0,\n",
       " 'Cholesterol': 0.004640049258470537,\n",
       " 'Sodium': 0.12302432538866998,\n",
       " 'Total Carbs': 0.001482379293442193,\n",
       " 'Fiber': 0.30033418893814096,\n",
       " 'Total Sugar': -0.06369530863761952,\n",
       " 'Protein': 0.9932856616973877,\n",
       " 'Calcium': -0.0031162717126846317,\n",
       " 'Iron': 0.00045353044711351397,\n",
       " 'Potassium': -0.0027944573640823357,\n",
       " 'Vitamin D': 0.04999994188823435,\n",
       " 'Energy/Calories': 0.03305093765942502}"
      ]
     },
     "execution_count": 129,
     "metadata": {},
     "output_type": "execute_result"
    }
   ],
   "source": [
    "fixed_heavy_dictionary(trial4,key_list_no_weight)"
   ]
  },
  {
   "cell_type": "code",
   "execution_count": 117,
   "id": "63928382",
   "metadata": {},
   "outputs": [
    {
     "name": "stdout",
     "output_type": "stream",
     "text": [
      "Total Fat\n",
      "Saturated Fat\n",
      "Trans Fat\n",
      "Cholesterol\n",
      "Sodium\n",
      "Total Carbs\n",
      "Fiber\n",
      "Total Sugar\n",
      "Protein\n",
      "Calcium\n",
      "Iron\n",
      "Potassium\n",
      "Vitamin D\n",
      "Energy/Calories\n"
     ]
    },
    {
     "data": {
      "text/plain": [
       "{'Total Fat': -1.0828253865718835,\n",
       " 'Saturated Fat': 0.0940524739265447,\n",
       " 'Trans Fat': -0.0,\n",
       " 'Cholesterol': 0.005908501025438315,\n",
       " 'Sodium': 0.12175961871504784,\n",
       " 'Total Carbs': 0.7615908759117112,\n",
       " 'Fiber': 0.28519261503219606,\n",
       " 'Total Sugar': 0.7774605296134958,\n",
       " 'Protein': 1.0473771174430848,\n",
       " 'Calcium': -0.0029544387601852418,\n",
       " 'Iron': 0.0004508779510617256,\n",
       " 'Potassium': -0.002278615908622739,\n",
       " 'Vitamin D': 0.049999953852807075,\n",
       " 'Energy/Calories': 0.16654111577949493}"
      ]
     },
     "execution_count": 117,
     "metadata": {},
     "output_type": "execute_result"
    }
   ],
   "source": [
    "fixed_heavy_dictionary(trial3,key_list_no_weight)"
   ]
  },
  {
   "cell_type": "code",
   "execution_count": 94,
   "id": "b6a44a40-ba4c-46c9-9d07-c3d88031173a",
   "metadata": {},
   "outputs": [],
   "source": [
    "def error_for_light_fixing_heavy(light_ingredients,optimized_heavy_ingredients):\n",
    "\n",
    "    desired_dict = fixed_heavy_dictionary(optimized_heavy_ingredients,key_list_API)\n",
    "\n",
    "    equations_list = equations(tates_ingredient_dict,ingredients[-3:],light_ingredients,desired_dict,key_list_no_weight)\n",
    "    \n",
    "    error = 100 * (equations_list[4] ** 2)\n",
    "\n",
    "    #see if I need this, or how much weight this is given to error\n",
    "    #for i in range(1,3):\n",
    "    #    if light_ingredients[-i] - light_ingredients[-i - 1] > 0:\n",
    "    #        error = error + ((light_ingredients[-i] - light_ingredients[-i - 1]) ** 2)\n",
    "\n",
    "    #equations_list = np.array(equations_list, dtype=np.float64)\n",
    "\n",
    "\n",
    "    #error = tf.reduce_mean(tf.square(equations_list))\n",
    "    #error += sum(equations_list)\n",
    "    for error_val in equations_list:\n",
    "        error += ((error_val) ** 2)\n",
    "\n",
    "    return error"
   ]
  },
  {
   "cell_type": "code",
   "execution_count": 91,
   "id": "1314b5e7-5d3d-4d4c-8413-a51ff153b2e3",
   "metadata": {},
   "outputs": [
    {
     "data": {
      "text/plain": [
       "8.577653172851697"
      ]
     },
     "execution_count": 91,
     "metadata": {},
     "output_type": "execute_result"
    }
   ],
   "source": [
    "error_for_light_fixing_heavy([.0,.0,.0],trial)"
   ]
  },
  {
   "cell_type": "raw",
   "id": "d0a5ee62-fb09-4543-b67c-74c139c8ee61",
   "metadata": {},
   "source": [
    "Bayesian occurance. Samples points + finds the points that contribute to the least error. \n",
    "\n",
    "There is so much to play around with here\n",
    "- the error function. this basically dictates everything. The bayesian function tries (# of points we tell it to) and finds the best match.  this best match is entirely decided by the error function. Here, the error function is error_function_lighter. What to include and not include in this function to make it the best?"
   ]
  },
  {
   "cell_type": "code",
   "execution_count": 84,
   "id": "b617dee6-966d-48db-a23b-b424a921f703",
   "metadata": {},
   "outputs": [],
   "source": [
    "# Map lighter ingredients to their indices\n",
    "lighter_indices = [6, 7, 8]  # vanilla, baking soda, xanthan gum\n",
    "\n",
    "# Define the search space for Bayesian Optimization using the indices\n",
    "search_space = [\n",
    "    Real(0.0000001, 1, name=f\"ingredient_{lighter_indices[0]}\"),  # baking_soda\n",
    "    Real(0.0000001, 1, name=f\"ingredient_{lighter_indices[1]}\"),  # salt\n",
    "    Real(0.0000001, 1, name=f\"ingredient_{lighter_indices[2]}\")   # vanilla\n",
    "]\n",
    "\n",
    "def bayesiann(optimized_heavy_ingredients):\n",
    "    print(\"Optimized heavy ingredients passed to bayesiann:\")\n",
    "    print(optimized_heavy_ingredients)\n",
    "\n",
    "    error_function_fixed = partial(error_for_light_fixing_heavy, optimized_heavy_ingredients=optimized_heavy_ingredients)\n",
    "\n",
    "    result = gp_minimize(\n",
    "    func=error_function_fixed,  # Pass the function to minimize\n",
    "    dimensions=search_space,\n",
    "    n_calls=100,\n",
    "    n_random_starts=10,\n",
    "    random_state=410  # Uncomment for reproducibility\n",
    ")\n",
    "    print(\"Trial History (Guessed Inputs and Corresponding Losses):\")\n",
    "    for i, (inputs, loss) in enumerate(zip(result.x_iters, result.func_vals)):\n",
    "        print(f\"Trial {i+1}: Inputs = {inputs}, Loss = {loss}\")\n",
    "\n",
    "    optimized_lighter_ingredients = result.x\n",
    "    print(\"Debug: Optimized lighter ingredients from Bayesian Optimization:\")\n",
    "    print(result.x)\n",
    "\n",
    "    print(\"Debug: Minimum error achieved:\")\n",
    "    print(result.fun)\n",
    "    return optimized_lighter_ingredients"
   ]
  },
  {
   "cell_type": "code",
   "execution_count": 74,
   "id": "0cf20bfb-2a9d-4f5d-98df-b689ddc5d40a",
   "metadata": {},
   "outputs": [
    {
     "name": "stdout",
     "output_type": "stream",
     "text": [
      "Optimized heavy ingredients passed to bayesiann:\n",
      "[7.109037399291992, 6.760232448577881, 5.2861151695251465, 4.9464030265808105, 3.8890013694763184, 3.064105272293091]\n"
     ]
    },
    {
     "name": "stderr",
     "output_type": "stream",
     "text": [
      "/Users/shivanishah/anaconda3/lib/python3.12/site-packages/skopt/optimizer/optimizer.py:517: UserWarning: The objective has been evaluated at point [1e-07, 1e-07, 1e-07] before, using random point [0.2166229906357163, 0.15783411441752448, 0.751873798807828]\n",
      "  warnings.warn(\n",
      "/Users/shivanishah/anaconda3/lib/python3.12/site-packages/skopt/optimizer/optimizer.py:517: UserWarning: The objective has been evaluated at point [1e-07, 1e-07, 1e-07] before, using random point [0.5743838814292236, 0.14819688556044272, 0.48903172923317806]\n",
      "  warnings.warn(\n",
      "/Users/shivanishah/anaconda3/lib/python3.12/site-packages/skopt/optimizer/optimizer.py:517: UserWarning: The objective has been evaluated at point [1e-07, 1e-07, 1e-07] before, using random point [0.6159393223971137, 0.5311106834427753, 0.8091473100908627]\n",
      "  warnings.warn(\n",
      "/Users/shivanishah/anaconda3/lib/python3.12/site-packages/skopt/optimizer/optimizer.py:517: UserWarning: The objective has been evaluated at point [1e-07, 1e-07, 1e-07] before, using random point [0.7574030817284925, 0.16301360838456957, 0.6380739307098987]\n",
      "  warnings.warn(\n",
      "/Users/shivanishah/anaconda3/lib/python3.12/site-packages/skopt/optimizer/optimizer.py:517: UserWarning: The objective has been evaluated at point [1e-07, 1e-07, 1e-07] before, using random point [0.8708183403606545, 0.09220720079772242, 0.6240522724183237]\n",
      "  warnings.warn(\n",
      "/Users/shivanishah/anaconda3/lib/python3.12/site-packages/skopt/optimizer/optimizer.py:517: UserWarning: The objective has been evaluated at point [1e-07, 1e-07, 1e-07] before, using random point [0.9917615765567285, 0.8447692836023064, 0.8713341103109913]\n",
      "  warnings.warn(\n",
      "/Users/shivanishah/anaconda3/lib/python3.12/site-packages/skopt/optimizer/optimizer.py:517: UserWarning: The objective has been evaluated at point [1e-07, 1e-07, 1e-07] before, using random point [0.4584388409982406, 0.794395783100915, 0.8324360459692719]\n",
      "  warnings.warn(\n",
      "/Users/shivanishah/anaconda3/lib/python3.12/site-packages/skopt/optimizer/optimizer.py:517: UserWarning: The objective has been evaluated at point [1e-07, 1e-07, 1e-07] before, using random point [0.3696931861225756, 0.5800780352115816, 0.8804395200470854]\n",
      "  warnings.warn(\n",
      "/Users/shivanishah/anaconda3/lib/python3.12/site-packages/skopt/optimizer/optimizer.py:517: UserWarning: The objective has been evaluated at point [1e-07, 1e-07, 1e-07] before, using random point [0.5853487899722594, 0.9675460732374309, 0.19701788627582423]\n",
      "  warnings.warn(\n",
      "/Users/shivanishah/anaconda3/lib/python3.12/site-packages/skopt/optimizer/optimizer.py:517: UserWarning: The objective has been evaluated at point [1e-07, 1e-07, 1e-07] before, using random point [0.6657085491390735, 0.5268649770570483, 0.62327795287095]\n",
      "  warnings.warn(\n"
     ]
    },
    {
     "name": "stdout",
     "output_type": "stream",
     "text": [
      "Trial History (Guessed Inputs and Corresponding Losses):\n",
      "Trial 1: Inputs = [0.5574396817667324, 0.5279668591641179, 0.8561068083898229], Loss = 33.064006775174626\n",
      "Trial 2: Inputs = [0.7539295569749173, 0.03886934215416717, 0.013633090209335936], Loss = 19.197623208969887\n",
      "Trial 3: Inputs = [0.4633875429059946, 0.5998915348310422, 0.08766771214737554], Loss = 31.01319608096788\n",
      "Trial 4: Inputs = [0.5338848704456247, 0.22192046354122805, 0.7596315432253532], Loss = 22.351308655216442\n",
      "Trial 5: Inputs = [0.6321626748377455, 0.4943105625354395, 0.09026948893971057], Loss = 31.52554134069173\n",
      "Trial 6: Inputs = [0.8445672333479876, 0.23231749941448326, 0.01668420804724873], Loss = 27.2195923281658\n",
      "Trial 7: Inputs = [0.7059847559792597, 0.09417683337930893, 0.47352110779145984], Loss = 21.22910252019681\n",
      "Trial 8: Inputs = [0.8488952284938576, 0.883370282414654, 0.604652899095959], Loss = 58.16398181835052\n",
      "Trial 9: Inputs = [0.01724983185009452, 0.607989941634221, 0.03580685495567434], Loss = 20.961139907159748\n",
      "Trial 10: Inputs = [0.7292730386998901, 0.03126578242225793, 0.9314106035325191], Loss = 21.923211251407853\n",
      "Trial 11: Inputs = [1e-07, 1e-07, 1e-07], Loss = 8.468275624290197\n",
      "Trial 12: Inputs = [0.2166229906357163, 0.15783411441752448, 0.751873798807828], Loss = 15.540102405386211\n",
      "Trial 13: Inputs = [0.5743838814292236, 0.14819688556044272, 0.48903172923317806], Loss = 20.179291039331957\n",
      "Trial 14: Inputs = [0.14940351582400033, 0.007064766469523809, 0.00755749143744386], Loss = 9.821245998263544\n",
      "Trial 15: Inputs = [0.011982929138978743, 0.067076912954477, 0.009405105206894753], Loss = 9.348602109436854\n",
      "Trial 16: Inputs = [0.6159393223971137, 0.5311106834427753, 0.8091473100908627], Loss = 34.61074130476658\n",
      "Trial 17: Inputs = [0.00750743586144951, 0.0003223392732233501, 0.3749051378359773], Loss = 9.723360221510704\n",
      "Trial 18: Inputs = [0.005977935022499197, 0.009737492590031658, 0.05264196988092704], Loss = 8.76295279061545\n",
      "Trial 19: Inputs = [0.011595598278760787, 0.9987458410237977, 0.8236249559428872], Loss = 37.15145138527707\n",
      "Trial 20: Inputs = [0.015032415610962907, 0.012247635211923225, 0.9631545715458933], Loss = 12.328253960696593\n",
      "Trial 21: Inputs = [0.0070799389008507786, 0.008592600313855166, 0.1341905431737823], Loss = 9.002993948223518\n",
      "Trial 22: Inputs = [0.05688512217683878, 0.010122910616964171, 0.012300484308951937], Loss = 9.050826378050935\n",
      "Trial 23: Inputs = [0.05694887279401663, 0.015610658090811455, 0.05949762497788569], Loss = 9.250696905091118\n",
      "Trial 24: Inputs = [0.7574030817284925, 0.16301360838456957, 0.6380739307098987], Loss = 24.87555883550186\n",
      "Trial 25: Inputs = [0.02624365439391283, 0.006710720430530377, 0.021892066686757687], Loss = 8.79571522010728\n",
      "Trial 26: Inputs = [0.03490838157340256, 0.012603579784159158, 0.28781547725600476], Loss = 9.754163031905078\n",
      "Trial 27: Inputs = [0.05831653687759106, 0.02141479746409479, 0.02899857287184644], Loss = 9.243424783229074\n",
      "Trial 28: Inputs = [0.07712523489200906, 0.014680942513938568, 0.011811581694256838], Loss = 9.274338332077672\n",
      "Trial 29: Inputs = [0.0034294789745539455, 0.01932022142455752, 0.1338250811539405], Loss = 9.086389834384525\n",
      "Trial 30: Inputs = [0.04598854658118215, 0.03402613591195347, 0.06781403666294124], Loss = 9.400978235935666\n",
      "Trial 31: Inputs = [0.03583079545104495, 0.09296375426165066, 0.07835890919403264], Loss = 10.100399112632068\n",
      "Trial 32: Inputs = [0.05309368317146596, 0.01641309027896783, 0.08470721343723632], Loss = 9.30188673776191\n",
      "Trial 33: Inputs = [0.02317699963260335, 0.01902946041461414, 0.023151055660400918], Loss = 8.911102709553319\n",
      "Trial 34: Inputs = [0.006556364351332774, 0.0029854675557663603, 0.16112829314477298], Loss = 9.025744993781677\n",
      "Trial 35: Inputs = [0.0034643081188350123, 0.04232878063477371, 0.028114783493252183], Loss = 9.03269141823747\n",
      "Trial 36: Inputs = [0.06585359737801616, 0.011595056143533112, 0.023845452860567155], Loss = 9.175361753449852\n",
      "Trial 37: Inputs = [0.017908414093876508, 0.01543207372495302, 0.14001694617752536], Loss = 9.175047602745485\n",
      "Trial 38: Inputs = [0.012091303945119935, 0.03011946723409338, 0.02557531468548999], Loss = 8.954809456496902\n",
      "Trial 39: Inputs = [0.06061039292890854, 0.030076024309006858, 0.128511698796896], Loss = 9.658738380012043\n",
      "Trial 40: Inputs = [0.09315905337309835, 0.001955347675709569, 0.032181221527686134], Loss = 9.315757311930188\n",
      "Trial 41: Inputs = [0.01784683448518706, 0.011457014855240926, 0.07238077172944325], Loss = 8.928648862958434\n",
      "Trial 42: Inputs = [0.03124613245478122, 0.07282864366120718, 0.00801369915817011], Loss = 9.589036873926112\n",
      "Trial 43: Inputs = [0.8708183403606545, 0.09220720079772242, 0.6240522724183237], Loss = 25.185595437343956\n",
      "Trial 44: Inputs = [0.026734644908693133, 0.01456270737386773, 0.084612928606328], Loss = 9.067538636850916\n",
      "Trial 45: Inputs = [0.03103772888808309, 0.012204866479770487, 0.10353575625592092], Loss = 9.131961116023268\n",
      "Trial 46: Inputs = [0.42951540742971145, 0.7089741706690112, 0.7984857242777756], Loss = 36.42169967655517\n",
      "Trial 47: Inputs = [0.0040343868689026235, 0.007741456791981403, 0.2212721808791034], Loss = 9.246885307114567\n",
      "Trial 48: Inputs = [0.06261855958274451, 0.005811620690953254, 0.04906666376299013], Loss = 9.153375413416029\n",
      "Trial 49: Inputs = [0.08985246377373148, 0.01356059623671059, 0.41977932256803563], Loss = 10.686925911668624\n",
      "Trial 50: Inputs = [0.03378733271392207, 0.04520231788806486, 0.11876771169394759], Loss = 9.580092416287519\n",
      "Trial 51: Inputs = [0.8176388182081961, 0.44069057370983294, 0.4830450450105878], Loss = 35.695374921213016\n",
      "Trial 52: Inputs = [0.06321448123048337, 0.05047213076870808, 0.14934543435563374], Loss = 9.998817454959125\n",
      "Trial 53: Inputs = [0.052131490427930624, 0.03658524259129019, 0.16983942068360272], Loss = 9.78970176938561\n",
      "Trial 54: Inputs = [0.03555071187708879, 0.04044674964386682, 0.034613845527428876], Loss = 9.294627345679093\n",
      "Trial 55: Inputs = [0.021255426255007506, 0.044159844466355555, 0.43643977858176114], Loss = 10.505505257839637\n",
      "Trial 56: Inputs = [0.05658604792506558, 0.17424425627497828, 0.26654659164896044], Loss = 12.100106656646265\n",
      "Trial 57: Inputs = [0.026034038252840817, 0.08281764867724827, 0.03610723818149403], Loss = 9.752140876601954\n",
      "Trial 58: Inputs = [0.1402482240571117, 0.9975942426339289, 0.4628824379427109], Loss = 39.63362966034006\n",
      "Trial 59: Inputs = [0.05482655405275118, 0.02011758391317876, 0.21479591208032234], Loss = 9.760253794313686\n",
      "Trial 60: Inputs = [0.08167043557972584, 0.0004924714523033172, 0.13727520826992837], Loss = 9.51474572637232\n",
      "Trial 61: Inputs = [0.4741544071394268, 0.8397919410313693, 0.8322018241852843], Loss = 43.52935536118277\n",
      "Trial 62: Inputs = [0.022828878924111607, 0.06155458720877449, 0.045971910822478694], Loss = 9.476843294235223\n",
      "Trial 63: Inputs = [0.019820211871923184, 0.0012167350671995485, 0.13629894519615984], Loss = 9.02863343862781\n",
      "Trial 64: Inputs = [1e-07, 1e-07, 3.3131330860450994e-05], Loss = 8.46836877719252\n",
      "Trial 65: Inputs = [0.0008387077596698447, 0.02350377124643885, 0.017182846624273527], Loss = 8.770035914343566\n",
      "Trial 66: Inputs = [1e-07, 0.030611400943101382, 0.058263339990568146], Loss = 8.958407001431288\n",
      "Trial 67: Inputs = [0.21490933580243965, 0.6883412837239438, 0.26765973191279296], Loss = 28.533748231481326\n",
      "Trial 68: Inputs = [0.9917615765567285, 0.8447692836023064, 0.8713341103109913], Loss = 62.37906586589057\n",
      "Trial 69: Inputs = [0.0782858795562721, 0.03834751287545926, 0.11455489770915502], Loss = 9.877687433112381\n",
      "Trial 70: Inputs = [0.0032172370803685534, 0.02258124922666343, 0.08173719608418831], Loss = 8.963691702125935\n",
      "Trial 71: Inputs = [0.06126187254732262, 0.18222499078433924, 0.08467508170124281], Loss = 11.768134114287486\n",
      "Trial 72: Inputs = [0.025439028654690537, 0.15288456928857955, 0.03188018741415019], Loss = 10.742557382434057\n",
      "Trial 73: Inputs = [0.04478344171289209, 0.004832058336853728, 0.021324945944556688], Loss = 8.918279167570939\n",
      "Trial 74: Inputs = [0.4584388409982406, 0.794395783100915, 0.8324360459692719], Loss = 40.99724288935596\n",
      "Trial 75: Inputs = [1e-07, 1e-07, 0.009676053081071391], Loss = 8.495656449075497\n",
      "Trial 76: Inputs = [0.08603784875824741, 0.006335615059716945, 0.07001928111288833], Loss = 9.417659866923609\n",
      "Trial 77: Inputs = [0.07343950272406637, 0.009470798436740839, 0.010882199070582087], Loss = 9.177260029870828\n",
      "Trial 78: Inputs = [0.007390329782056712, 0.027744344285399618, 0.08042546242774622], Loss = 9.04851969535289\n",
      "Trial 79: Inputs = [0.0019187256154288273, 0.043102598653288283, 0.17967007624954423], Loss = 9.47527591175481\n",
      "Trial 80: Inputs = [0.011950480627237383, 0.0003019802280267367, 0.08351272611920738], Loss = 8.800497734901557\n",
      "Trial 81: Inputs = [0.2946351546553606, 0.03903396616518185, 0.28196189228063895], Loss = 12.744008837101651\n",
      "Trial 82: Inputs = [0.01433853826182365, 0.2310691575477598, 0.08894672484565606], Loss = 12.080819275134324\n",
      "Trial 83: Inputs = [1e-07, 1e-07, 0.0004300688255844062], Loss = 8.469488366267326\n",
      "Trial 84: Inputs = [0.3696931861225756, 0.5800780352115816, 0.8804395200470854], Loss = 30.21345102759617\n",
      "Trial 85: Inputs = [0.023485705805087166, 0.009697145517308547, 0.23995814886902417], Loss = 9.474778176813116\n",
      "Trial 86: Inputs = [0.06767934886354628, 0.04484424260835693, 0.07786268114122323], Loss = 9.756551934632167\n",
      "Trial 87: Inputs = [0.034839687568466754, 0.0021655752966375824, 0.33690063058030506], Loss = 9.81260281950606\n",
      "Trial 88: Inputs = [0.09259497429870633, 0.07344946268286373, 0.18983146371593232], Loss = 10.713289955121107\n",
      "Trial 89: Inputs = [0.013150649895760091, 0.03196452215929255, 0.1513251348761938], Loss = 9.353096090613041\n",
      "Trial 90: Inputs = [0.25127672218473585, 0.042048722167850716, 0.5108201215374906], Loss = 13.076877859707643\n",
      "Trial 91: Inputs = [0.04873210647601556, 0.08586799889064195, 0.41970886407608343], Loss = 11.200366359272724\n",
      "Trial 92: Inputs = [0.01589250027339345, 0.009506203709104, 0.020418330744062786], Loss = 8.742522873367536\n",
      "Trial 93: Inputs = [0.010413322034601765, 0.06825334633736119, 0.19284922855429476], Loss = 9.88260024908172\n",
      "Trial 94: Inputs = [0.5853487899722594, 0.9675460732374309, 0.19701788627582423], Loss = 51.741709197759505\n",
      "Trial 95: Inputs = [0.0001749909771036807, 0.11631408490345557, 0.1567376198833617], Loss = 10.307963144357627\n",
      "Trial 96: Inputs = [0.013605031384488264, 0.03215405470583177, 0.035993504740473414], Loss = 9.019414260858552\n",
      "Trial 97: Inputs = [0.6657085491390735, 0.5268649770570483, 0.62327795287095], Loss = 35.24203022740764\n",
      "Trial 98: Inputs = [0.12606905472603813, 0.021040169205568622, 0.01486408048635088], Loss = 9.807901324607506\n",
      "Trial 99: Inputs = [0.018324992307326225, 0.02725394343275071, 0.20442284740538552], Loss = 9.507758370684538\n",
      "Trial 100: Inputs = [0.035211327143758686, 0.1345207185322396, 0.1529048155988405], Loss = 10.905118307526061\n",
      "Debug: Optimized lighter ingredients from Bayesian Optimization:\n",
      "[1e-07, 1e-07, 1e-07]\n",
      "Debug: Minimum error achieved:\n",
      "8.468275624290197\n"
     ]
    },
    {
     "data": {
      "text/plain": [
       "[1e-07, 1e-07, 1e-07]"
      ]
     },
     "execution_count": 74,
     "metadata": {},
     "output_type": "execute_result"
    }
   ],
   "source": [
    "bayesiann(trial) #first try"
   ]
  },
  {
   "cell_type": "code",
   "execution_count": 81,
   "id": "59c5b493",
   "metadata": {},
   "outputs": [
    {
     "name": "stdout",
     "output_type": "stream",
     "text": [
      "Optimized heavy ingredients passed to bayesiann:\n",
      "[7.109037399291992, 6.760232448577881, 5.2861151695251465, 4.9464030265808105, 3.8890013694763184, 3.064105272293091]\n",
      "Trial History (Guessed Inputs and Corresponding Losses):\n",
      "Trial 1: Inputs = [0.5574396817667324, 0.5279668591641179, 0.8561068083898229], Loss = 1.222216008051948\n",
      "Trial 2: Inputs = [0.7539295569749173, 0.03886934215416717, 0.013633090209335936], Loss = -5.713144421678503\n",
      "Trial 3: Inputs = [0.4633875429059946, 0.5998915348310422, 0.08766771214737554], Loss = -0.8452376102632568\n",
      "Trial 4: Inputs = [0.5338848704456247, 0.22192046354122805, 0.7596315432253532], Loss = -3.384268753310061\n",
      "Trial 5: Inputs = [0.6321626748377455, 0.4943105625354395, 0.09026948893971057], Loss = -0.5819603189190055\n",
      "Trial 6: Inputs = [0.8445672333479876, 0.23231749941448326, 0.01668420804724873], Loss = -2.708975062590884\n",
      "Trial 7: Inputs = [0.7059847559792597, 0.09417683337930893, 0.47352110779145984], Loss = -4.242856122123847\n",
      "Trial 8: Inputs = [0.8488952284938576, 0.883370282414654, 0.604652899095959], Loss = 15.489009051131141\n",
      "Trial 9: Inputs = [0.01724983185009452, 0.607989941634221, 0.03580685495567434], Loss = -5.239811170825306\n",
      "Trial 10: Inputs = [0.7292730386998901, 0.03126578242225793, 0.9314106035325191], Loss = -3.3102030260945496\n",
      "Trial 11: Inputs = [1e-07, 1e-07, 1e-07], Loss = -5.2996599225338485\n",
      "Trial 12: Inputs = [1e-07, 0.33372394314608006, 1e-07], Loss = -6.753564001463034\n",
      "Trial 13: Inputs = [0.45188512848675516, 1e-07, 1e-07], Loss = -6.759831180721807\n",
      "Trial 14: Inputs = [0.12009462682441521, 0.2419474530254421, 1e-07], Loss = -6.757309738693991\n",
      "Trial 15: Inputs = [0.29434177219935753, 0.1085302896571818, 1e-07], Loss = -6.760263274304382\n",
      "Trial 16: Inputs = [0.21193624393774377, 0.1815967700320501, 1e-07], Loss = -6.7550343628211476\n",
      "Trial 17: Inputs = [0.32893920694217643, 0.08537688333177292, 1e-07], Loss = -6.760081549851514\n",
      "Trial 18: Inputs = [0.3538762545807157, 0.06516059086973194, 1e-07], Loss = -6.760426148155802\n",
      "Trial 19: Inputs = [0.12334562265878604, 0.27188506361220083, 1e-07], Loss = -6.727702841997194\n",
      "Trial 20: Inputs = [0.3638199541932392, 0.05702637932277549, 1e-07], Loss = -6.760511978580445\n",
      "Trial 21: Inputs = [0.16411756435519115, 0.20038881291753857, 1e-07], Loss = -6.760241519544929\n",
      "Trial 22: Inputs = [0.29348209536160474, 0.10915739310163777, 1e-07], Loss = -6.760260453006061\n",
      "Trial 23: Inputs = [0.19251612579575436, 0.1865523824334888, 1e-07], Loss = -6.758900418335337\n",
      "Trial 24: Inputs = [0.2982789660317457, 0.1502600496056494, 0.006291615328700785], Loss = -6.707091198317379\n",
      "Trial 25: Inputs = [0.18616773369309217, 0.18761254946284953, 0.002112990908013243], Loss = -6.753826532223584\n",
      "Trial 26: Inputs = [0.28336106786073184, 0.11501484416411067, 1e-07], Loss = -6.760400074126695\n",
      "Trial 27: Inputs = [0.2875280004560923, 0.11443423762607734, 0.008507785936513785], Loss = -6.736110870309679\n",
      "Trial 28: Inputs = [0.44077357227039027, 1e-07, 1e-07], Loss = -6.760589065708746\n",
      "Trial 29: Inputs = [0.15222656671597282, 0.2004165504141397, 1e-07], Loss = -6.7602171447036605\n",
      "Trial 30: Inputs = [0.38489779731655027, 0.04129629430094592, 1e-07], Loss = -6.76055740102991\n",
      "Trial 31: Inputs = [0.27841971810110744, 0.11782320179818091, 1e-07], Loss = -6.760453572707963\n",
      "Trial 32: Inputs = [0.2595086475252919, 0.13285559016602877, 0.00039993394555649876], Loss = -6.759160488512398\n",
      "Trial 33: Inputs = [0.09378086243221108, 0.2654523014335265, 0.014602367296951461], Loss = -6.713626186556892\n",
      "Trial 34: Inputs = [0.2585587611811644, 0.13848416437160177, 0.00708139860170677], Loss = -6.739354100468415\n",
      "Trial 35: Inputs = [0.26229581366908367, 0.11595183651619877, 3.278846145582116e-05], Loss = -6.758653276528568\n",
      "Trial 36: Inputs = [0.4084298008002597, 0.0430808627531493, 0.0066677226817180345], Loss = -6.736072053694514\n",
      "Trial 37: Inputs = [0.005043037923861222, 0.9898707117338146, 0.0012581792244313148], Loss = 0.19145945329544833\n",
      "Trial 38: Inputs = [0.2680875028394838, 0.13312177690721794, 1e-07], Loss = -6.758929254253017\n",
      "Trial 39: Inputs = [0.344296965310061, 0.07070498398682415, 1e-07], Loss = -6.760511731529304\n",
      "Trial 40: Inputs = [0.26123674652642076, 0.12868479110113046, 0.005037949964513457], Loss = -6.746306403680781\n",
      "Trial 41: Inputs = [0.3213424215691961, 0.07999866155898948, 1e-07], Loss = -6.760158738979493\n",
      "Trial 42: Inputs = [0.22353826045205052, 0.15541955020043227, 1e-07], Loss = -6.760496534606548\n",
      "Trial 43: Inputs = [0.15860686436369495, 0.20529553773757664, 0.0019278886987846738], Loss = -6.7546633937288805\n",
      "Trial 44: Inputs = [0.31648424831307814, 0.09040515459995183, 1e-07], Loss = -6.760499469343686\n",
      "Trial 45: Inputs = [0.41535028456027767, 0.018031847612862754, 1e-07], Loss = -6.760580868462454\n",
      "Trial 46: Inputs = [0.237573766399034, 0.14655478684832682, 1e-07], Loss = -6.760448498550299\n",
      "Trial 47: Inputs = [0.12756021798368652, 0.22305144047161146, 1e-07], Loss = -6.760468166298155\n",
      "Trial 48: Inputs = [0.13695212620490607, 0.22129528216591665, 0.001860990288106821], Loss = -6.754731062863483\n",
      "Trial 49: Inputs = [0.04613078108875869, 0.27917351956886954, 1e-07], Loss = -6.760447064903138\n",
      "Trial 50: Inputs = [0.2669147578878757, 0.12316767017193259, 0.0009643665040492639], Loss = -6.757810191859752\n",
      "Trial 51: Inputs = [0.05647248211329325, 0.27975990459802064, 6.14091686186344e-05], Loss = -6.759466687869424\n",
      "Trial 52: Inputs = [0.31596205025823404, 0.09029611908897332, 1e-07], Loss = -6.760522292354202\n",
      "Trial 53: Inputs = [0.35239202394792946, 0.06408890099474103, 1e-07], Loss = -6.7605511431253555\n",
      "Trial 54: Inputs = [0.2958233003189358, 0.10465749561678964, 1e-07], Loss = -6.760509590145397\n",
      "Trial 55: Inputs = [0.18060976968526285, 0.18683961311676953, 1e-07], Loss = -6.760426721090131\n",
      "Trial 56: Inputs = [0.19587517196688647, 0.1763063460203557, 1e-07], Loss = -6.7604141030069895\n",
      "Trial 57: Inputs = [0.11237635194557678, 0.24973637015911188, 1e-07], Loss = -6.756209298238273\n",
      "Trial 58: Inputs = [0.15129273505633747, 0.20780227499318124, 1e-07], Loss = -6.760399399882842\n",
      "Trial 59: Inputs = [0.07663474054113775, 0.2602146109790921, 1e-07], Loss = -6.760397072466\n",
      "Trial 60: Inputs = [0.15542913427900068, 0.20882571839073474, 0.00022899425570140853], Loss = -6.7592315557784515\n",
      "Trial 61: Inputs = [0.04964372742102836, 0.27903792543594924, 1e-07], Loss = -6.76040232179354\n",
      "Trial 62: Inputs = [0.4214064754729825, 0.01728909248328316, 0.002271081503436959], Loss = -6.754058305929156\n",
      "Trial 63: Inputs = [0.1689137598409099, 0.20444061610483158, 0.0012544457486851795], Loss = -6.754960211967267\n",
      "Trial 64: Inputs = [0.01211810781619414, 0.30469367759353566, 1e-07], Loss = -6.760424955764902\n",
      "Trial 65: Inputs = [0.3769267385178088, 0.05209226310105605, 0.0008632703402113287], Loss = -6.757550849662834\n",
      "Trial 66: Inputs = [0.17625218839911125, 0.20478642337702116, 9.953491667384374e-05], Loss = -6.755846171223498\n",
      "Trial 67: Inputs = [0.13705772433498592, 0.2172214572956984, 1e-07], Loss = -6.760435373834446\n",
      "Trial 68: Inputs = [0.17389422230246723, 0.19141252789022897, 1e-07], Loss = -6.7604354205560915\n",
      "Trial 69: Inputs = [0.30392061900363704, 0.0942094862972409, 0.008587688798361512], Loss = -6.736172433267559\n",
      "Trial 70: Inputs = [0.07638064488801038, 0.2594053768668717, 1e-07], Loss = -6.760444158600026\n",
      "Trial 71: Inputs = [0.25230973361789344, 0.13541643991025296, 1e-07], Loss = -6.760493777821797\n",
      "Trial 72: Inputs = [0.2362599949147288, 0.16278310222766243, 0.001274163863980384], Loss = -6.752337753575193\n",
      "Trial 73: Inputs = [0.18719300320925447, 0.1871781345418255, 0.005111649552368], Loss = -6.745309200535635\n",
      "Trial 74: Inputs = [0.18054044943623532, 0.18706810541728686, 1e-07], Loss = -6.760414276981049\n",
      "Trial 75: Inputs = [0.36010620305206004, 0.06164881978177615, 0.006314065823316208], Loss = -6.742529921117352\n",
      "Trial 76: Inputs = [0.24842596933343145, 0.13881222513167618, 0.0020123164114476564], Loss = -6.754782611503217\n",
      "Trial 77: Inputs = [0.1575010399037259, 0.1962135298820877, 0.010799466932002505], Loss = -6.729700893098489\n",
      "Trial 78: Inputs = [0.1883837968361137, 0.17665431341298815, 1e-07], Loss = -6.760412097855513\n",
      "Trial 79: Inputs = [0.4189570826980347, 0.017290120793548712, 0.0009104282661019976], Loss = -6.758000304666558\n",
      "Trial 80: Inputs = [0.07609467477331731, 0.26075258730632805, 0.000208874937044368], Loss = -6.759797999846078\n",
      "Trial 81: Inputs = [0.281702958360846, 0.11635314641308613, 0.004693458575657192], Loss = -6.747148663722908\n",
      "Trial 82: Inputs = [0.15529554799905115, 0.21870003978247274, 1e-07], Loss = -6.756568447894912\n",
      "Trial 83: Inputs = [0.14141558575481863, 0.21349794783566056, 1e-07], Loss = -6.7604656641977305\n",
      "Trial 84: Inputs = [0.38038517509274133, 0.045720623290720436, 0.0011063061354144156], Loss = -6.757372635889702\n",
      "Trial 85: Inputs = [0.13782469670928907, 0.20309836394682587, 1e-07], Loss = -6.758410326755759\n",
      "Trial 86: Inputs = [0.19224539795500517, 0.1780773870541376, 1e-07], Loss = -6.760462346573623\n",
      "Trial 87: Inputs = [0.441763233641563, 1e-07, 1e-07], Loss = -6.760596550034013\n",
      "Trial 88: Inputs = [0.0803379410561101, 0.25670651337383626, 1e-07], Loss = -6.760442214789106\n",
      "Trial 89: Inputs = [0.24078882937819382, 0.14433809808969023, 0.011762242163418691], Loss = -6.727276662065488\n",
      "Trial 90: Inputs = [0.2575290565861839, 0.12804918723795808, 1e-07], Loss = -6.7604569837876545\n",
      "Trial 91: Inputs = [0.012810163639885786, 0.3132786174174791, 0.004443915615118492], Loss = -6.746400968319341\n",
      "Trial 92: Inputs = [0.36474328188962835, 0.055217224738375315, 1e-07], Loss = -6.760559220741805\n",
      "Trial 93: Inputs = [0.3481232465819063, 0.06684690506882798, 1e-07], Loss = -6.760555689837045\n",
      "Trial 94: Inputs = [0.33736760423841994, 0.0746284952549781, 1e-07], Loss = -6.760547775731103\n",
      "Trial 95: Inputs = [0.14568506765928976, 0.21461951297955126, 0.0015804724487509896], Loss = -6.755608902917092\n",
      "Trial 96: Inputs = [0.3375073741691396, 0.07451838718791677, 1e-07], Loss = -6.760548107070579\n",
      "Trial 97: Inputs = [0.2820619147507928, 0.11416573548012607, 1e-07], Loss = -6.760513662006633\n",
      "Trial 98: Inputs = [0.2077207387345766, 0.16721283837687806, 1e-07], Loss = -6.760464107198236\n",
      "Trial 99: Inputs = [0.2280221567537061, 0.15218213079507123, 1e-07], Loss = -6.760500436072167\n",
      "Trial 100: Inputs = [0.30048067642337467, 0.08620715749232728, 1e-07], Loss = -6.757747391028912\n",
      "Debug: Optimized lighter ingredients from Bayesian Optimization:\n",
      "[0.441763233641563, 1e-07, 1e-07]\n",
      "Debug: Minimum error achieved:\n",
      "-6.760596550034013\n"
     ]
    },
    {
     "data": {
      "text/plain": [
       "[0.441763233641563, 1e-07, 1e-07]"
      ]
     },
     "execution_count": 81,
     "metadata": {},
     "output_type": "execute_result"
    }
   ],
   "source": [
    "bayesiann(trial) #third try"
   ]
  },
  {
   "cell_type": "code",
   "execution_count": 85,
   "id": "f3554ed6",
   "metadata": {},
   "outputs": [
    {
     "name": "stdout",
     "output_type": "stream",
     "text": [
      "Optimized heavy ingredients passed to bayesiann:\n",
      "[7.109037399291992, 6.760232448577881, 5.2861151695251465, 4.9464030265808105, 3.8890013694763184, 3.064105272293091]\n",
      "Trial History (Guessed Inputs and Corresponding Losses):\n",
      "Trial 1: Inputs = [0.5574396817667324, 0.5279668591641179, 0.8561068083898229], Loss = -1.222216008051948\n",
      "Trial 2: Inputs = [0.7539295569749173, 0.03886934215416717, 0.013633090209335936], Loss = 5.713144421678503\n",
      "Trial 3: Inputs = [0.4633875429059946, 0.5998915348310422, 0.08766771214737554], Loss = 0.8452376102632568\n",
      "Trial 4: Inputs = [0.5338848704456247, 0.22192046354122805, 0.7596315432253532], Loss = 3.384268753310061\n",
      "Trial 5: Inputs = [0.6321626748377455, 0.4943105625354395, 0.09026948893971057], Loss = 0.5819603189190055\n",
      "Trial 6: Inputs = [0.8445672333479876, 0.23231749941448326, 0.01668420804724873], Loss = 2.708975062590884\n",
      "Trial 7: Inputs = [0.7059847559792597, 0.09417683337930893, 0.47352110779145984], Loss = 4.242856122123847\n",
      "Trial 8: Inputs = [0.8488952284938576, 0.883370282414654, 0.604652899095959], Loss = -15.489009051131141\n",
      "Trial 9: Inputs = [0.01724983185009452, 0.607989941634221, 0.03580685495567434], Loss = 5.239811170825306\n",
      "Trial 10: Inputs = [0.7292730386998901, 0.03126578242225793, 0.9314106035325191], Loss = 3.3102030260945496\n",
      "Trial 11: Inputs = [1.0, 1.0, 1.0], Loss = -25.19128023035512\n",
      "Trial 12: Inputs = [0.9936999816532842, 0.9876629297175867, 0.24912083761188059], Loss = -22.37624342198569\n",
      "Trial 13: Inputs = [0.03941668906559369, 0.9987043707320148, 0.7780551814593069], Loss = -3.074664622182471\n",
      "Trial 14: Inputs = [0.00197122943084968, 0.03173430610980076, 0.9736323947997925], Loss = 2.8475674078174213\n",
      "Trial 15: Inputs = [0.9999447607920919, 0.8985094316513363, 0.9736686225330989], Loss = -21.029900875741376\n",
      "Trial 16: Inputs = [0.542077266451464, 0.6232981650007708, 0.6061035787212415], Loss = -2.1668597805489798\n",
      "Trial 17: Inputs = [0.9974481702029242, 0.9924308614256905, 0.9551664245766375], Loss = -24.67457144469999\n",
      "Trial 18: Inputs = [0.9900853942132126, 0.9918004413635867, 0.9234864632897627], Loss = -24.343578278146214\n",
      "Trial 19: Inputs = [0.9979346492823946, 0.9954428015180468, 0.9837524299609746], Loss = -24.894617267742653\n",
      "Trial 20: Inputs = [0.8744146566781269, 0.13414139431316652, 0.8815561616926271], Loss = 1.3747786528654165\n",
      "Trial 21: Inputs = [0.5575103193692977, 0.32830373391870005, 0.005205957487780128], Loss = 4.226569673163489\n",
      "Trial 22: Inputs = [0.9967997152624646, 0.9983608145218555, 0.806320371193393], Loss = -24.482251570936793\n",
      "Trial 23: Inputs = [0.6154384414611487, 0.6790886743421172, 0.9179823785667572], Loss = -5.458668681517537\n",
      "Trial 24: Inputs = [0.20457847543953928, 0.5736921203263246, 0.20146121990700205], Loss = 3.7234125964226026\n",
      "Trial 25: Inputs = [0.05812574895209913, 0.5516966940259057, 0.5327453822187096], Loss = 4.079816657465532\n",
      "Trial 26: Inputs = [0.8061644289649015, 0.6852147627267391, 0.5170256990173419], Loss = -8.011330330794404\n",
      "Trial 27: Inputs = [0.19860961194486176, 0.17416971658063307, 0.4311414060179529], Loss = 5.544610811600131\n",
      "Trial 28: Inputs = [0.08382217456141987, 0.8472753537805068, 0.9640547463881225], Loss = -1.246817093067298\n",
      "Trial 29: Inputs = [0.24673355206015737, 0.8281792291653106, 0.8211678025606577], Loss = -2.6922078521857165\n",
      "Trial 30: Inputs = [0.6124407810946415, 0.401476413506947, 0.27591298329790687], Loss = 1.8992063710709202\n",
      "Trial 31: Inputs = [0.161900422773328, 0.9982706716649223, 0.8965379263212176], Loss = -5.36334781315173\n",
      "Trial 32: Inputs = [0.9898999031369616, 0.9948360328816315, 0.6201691990207533], Loss = -23.608233370995432\n",
      "Trial 33: Inputs = [0.500683988008636, 0.6243512936242062, 0.327185987535978], Loss = -0.80554395480282\n",
      "Trial 34: Inputs = [0.965429315665904, 0.9950813550146957, 0.9274879616465201], Loss = -23.77317359936122\n",
      "Trial 35: Inputs = [0.4259946676210521, 0.0777807350612053, 0.21540495989618272], Loss = 6.086628449895931\n",
      "Trial 36: Inputs = [0.9729593089527073, 0.9990696857538053, 0.99165367196596], Loss = -24.336267009875684\n",
      "Trial 37: Inputs = [0.9999942049409338, 0.9835115545361406, 0.6250717573891924], Loss = -23.448904142630735\n",
      "Trial 38: Inputs = [0.9001129030421675, 0.9155609041163985, 0.9274777744702064], Loss = -18.869203698081435\n",
      "Trial 39: Inputs = [0.32883338359231484, 0.514294237257473, 0.2111346993899625], Loss = 3.338084179375777\n",
      "Trial 40: Inputs = [0.9917867892990812, 0.9682101863256242, 0.8485924572734549], Loss = -23.214794835266268\n",
      "Trial 41: Inputs = [0.9998259256474709, 0.9970153713384038, 0.7847930239756374], Loss = -24.454621513722216\n",
      "Trial 42: Inputs = [0.19323366650874263, 0.9654637179158395, 0.3105532961870308], Loss = -3.456950280304391\n",
      "Trial 43: Inputs = [0.9640006996658897, 0.9835376003327736, 0.919911669898824], Loss = -23.24076103310638\n",
      "Trial 44: Inputs = [0.9885871811781083, 0.9817061344407769, 0.8955747993987901], Loss = -23.80585183355169\n",
      "Trial 45: Inputs = [0.9806073547760938, 0.9882432960132127, 0.9815241177627918], Loss = -24.084988027042574\n",
      "Trial 46: Inputs = [0.9826331244071692, 0.994822027593942, 0.8852151578199042], Loss = -24.14286850011302\n",
      "Trial 47: Inputs = [0.552895422125451, 0.8674146235508418, 0.039698767748929435], Loss = -6.754178658344297\n",
      "Trial 48: Inputs = [0.9945642340598918, 0.9777102179477603, 0.8152371028088115], Loss = -23.588679492652417\n",
      "Trial 49: Inputs = [0.9750992799786878, 0.999419428256095, 0.8575108864837094], Loss = -24.03467397859033\n",
      "Trial 50: Inputs = [0.5943949222402144, 0.08459470443167974, 0.17770890085904356], Loss = 5.704447825522088\n",
      "Trial 51: Inputs = [0.8576191725930034, 0.5507579693558549, 0.2021510951374969], Loss = -4.497389690306965\n",
      "Trial 52: Inputs = [0.9718529349430585, 0.9921483236513354, 0.8819466934218967], Loss = -23.71053897705713\n",
      "Trial 53: Inputs = [0.965613093340603, 0.9962545824156683, 0.5285900263337205], Loss = -22.701432504135123\n",
      "Trial 54: Inputs = [0.9951917791993315, 0.9866739104166763, 0.997792838744313], Loss = -24.490526801219097\n",
      "Trial 55: Inputs = [0.9956155597776114, 0.9983163258988572, 0.7320490013950284], Loss = -24.236057343335954\n",
      "Trial 56: Inputs = [0.8516825222476005, 0.6119514051080521, 0.648115367662484], Loss = -7.246030269232126\n",
      "Trial 57: Inputs = [0.9504161119850705, 0.9966522578827521, 0.9443214952942736], Loss = -23.45205069955506\n",
      "Trial 58: Inputs = [0.9854670493670113, 0.9997289866498528, 0.843511013820617], Loss = -24.311037624024422\n",
      "Trial 59: Inputs = [0.9776927720564628, 0.9993921080659535, 0.9868578398891262], Loss = -24.474008112492015\n",
      "Trial 60: Inputs = [0.9729662580311828, 0.9951034983394191, 0.8792535077244271], Loss = -23.856378447731434\n",
      "Trial 61: Inputs = [0.6583139835287402, 0.5262355632597648, 0.7115207644827906], Loss = -2.157881945266505\n",
      "Trial 62: Inputs = [0.9907146808355125, 0.9701215508920669, 0.9314761325909221], Loss = -23.495467793664133\n",
      "Trial 63: Inputs = [0.45448423175449865, 0.6381738501948557, 0.6488428980090942], Loss = -1.3421667380594355\n",
      "Trial 64: Inputs = [0.9973757203528185, 0.9856394588291867, 0.8461018430041304], Loss = -24.083727970433717\n",
      "Trial 65: Inputs = [0.7220177257988033, 0.1203949825735299, 0.6426869412585949], Loss = 3.4286028016317567\n",
      "Trial 66: Inputs = [0.17469117657216623, 0.9380233432914103, 0.806530580187428], Loss = -3.9210878078047955\n",
      "Trial 67: Inputs = [0.7535472668828569, 0.25327275387148157, 0.5112906293013604], Loss = 1.9580086109522585\n",
      "Trial 68: Inputs = [0.6327318245817766, 0.9832277065156302, 0.17523634005270972], Loss = -12.46185414427596\n",
      "Trial 69: Inputs = [0.5247022341809474, 0.77330850951828, 0.8631193651918101], Loss = -6.039825634658244\n",
      "Trial 70: Inputs = [0.9807398340121055, 0.9837547711888741, 0.9729260209431496], Loss = -23.88077971550084\n",
      "Trial 71: Inputs = [0.6737525881500042, 0.606321880939654, 0.5693112930486736], Loss = -3.7326269344979686\n",
      "Trial 72: Inputs = [0.9987874894480241, 0.9872253696499133, 0.8162056524394575], Loss = -24.106201272979057\n",
      "Trial 73: Inputs = [0.9909554581114272, 0.9768837501306485, 0.6029703153394862], Loss = -22.851703433974816\n",
      "Trial 74: Inputs = [0.9794557264757325, 0.995341363484769, 0.7784283647509704], Loss = -23.770485601917315\n",
      "Trial 75: Inputs = [0.1059216955822659, 0.2999377724927976, 0.9891589755153686], Loss = 3.9124932046204757\n",
      "Trial 76: Inputs = [0.996218549932744, 0.9902392719254773, 0.44974219466374665], Loss = -23.12218680964812\n",
      "Trial 77: Inputs = [0.9973468832033049, 0.995938186249866, 0.5998228420512071], Loss = -23.815092398922804\n",
      "Trial 78: Inputs = [0.9763187915785008, 0.9770608832366487, 0.6874930910521635], Loss = -22.675750426952924\n",
      "Trial 79: Inputs = [0.977249492036111, 0.9949275846550996, 0.6585557426490664], Loss = -23.35114072600716\n",
      "Trial 80: Inputs = [0.991165609580294, 0.9941248097654609, 0.7750563696850071], Loss = -24.05268398857666\n",
      "Trial 81: Inputs = [0.8123651050728813, 0.9687076921820111, 0.4832042095444769], Loss = -17.287342414897157\n",
      "Trial 82: Inputs = [0.9947122538910795, 0.9781009144353617, 0.8891342948401173], Loss = -23.81741019116023\n",
      "Trial 83: Inputs = [0.35919917335264684, 0.3250152597864057, 0.6917263205172876], Loss = 3.744915394006587\n",
      "Trial 84: Inputs = [0.3417273606967745, 0.9703925862926345, 0.4293946448290778], Loss = -6.573103579912481\n",
      "Trial 85: Inputs = [0.9869968044311067, 0.9824217585093247, 0.9718845023213638], Loss = -24.004328052101663\n",
      "Trial 86: Inputs = [0.48319772192615373, 0.10630114870194324, 0.49734794464228443], Loss = 5.082666677809159\n",
      "Trial 87: Inputs = [0.9650828180947701, 0.9869872842386599, 0.707081655141975], Loss = -22.811539076122784\n",
      "Trial 88: Inputs = [0.9969103169066321, 0.9957553236032927, 0.59099701369834], Loss = -23.769757922555108\n",
      "Trial 89: Inputs = [0.9928246579577389, 0.9704922222644614, 0.9407028423424334], Loss = -23.597311754615696\n",
      "Trial 90: Inputs = [0.9848477293599586, 0.974181696970784, 0.9706074361570147], Loss = -23.602270722773024\n",
      "Trial 91: Inputs = [0.9763909799195373, 0.9974539145040635, 0.8432139693572357], Loss = -23.95097856883322\n",
      "Trial 92: Inputs = [0.9433299760039099, 0.9813845099494094, 0.7475866840161159], Loss = -22.079551594623116\n",
      "Trial 93: Inputs = [0.9902087007827117, 0.9914967705979281, 0.5113319734668553], Loss = -23.172181582673335\n",
      "Trial 94: Inputs = [0.5646987953067503, 0.558807541066462, 0.03563437394310851], Loss = 0.4152674403040866\n",
      "Trial 95: Inputs = [0.990618979030573, 0.990709572970408, 0.9811682508929626], Loss = -24.476785235010134\n",
      "Trial 96: Inputs = [0.9873292120718765, 0.970905372911478, 0.7366280147194173], Loss = -22.88046771983548\n",
      "Trial 97: Inputs = [0.9489986072257105, 0.9869377649816788, 0.6018283531024566], Loss = -22.052427388525974\n",
      "Trial 98: Inputs = [0.9947190007304321, 0.9855698541375003, 0.6952531303398465], Loss = -23.577901233199068\n",
      "Trial 99: Inputs = [0.9840182824956953, 0.9861370663800367, 0.9144852020012855], Loss = -23.908427910531188\n",
      "Trial 100: Inputs = [0.9390668156858275, 0.998152194045346, 0.9066665477239009], Loss = -23.081457763536754\n",
      "Debug: Optimized lighter ingredients from Bayesian Optimization:\n",
      "[1.0, 1.0, 1.0]\n",
      "Debug: Minimum error achieved:\n",
      "-25.19128023035512\n"
     ]
    },
    {
     "data": {
      "text/plain": [
       "[1.0, 1.0, 1.0]"
      ]
     },
     "execution_count": 85,
     "metadata": {},
     "output_type": "execute_result"
    }
   ],
   "source": [
    "bayesiann(trial) #fourth try"
   ]
  },
  {
   "cell_type": "code",
   "execution_count": 92,
   "id": "7512cf53",
   "metadata": {},
   "outputs": [
    {
     "name": "stdout",
     "output_type": "stream",
     "text": [
      "Optimized heavy ingredients passed to bayesiann:\n",
      "[7.109037399291992, 6.760232448577881, 5.2861151695251465, 4.9464030265808105, 3.8890013694763184, 3.064105272293091]\n",
      "Trial History (Guessed Inputs and Corresponding Losses):\n",
      "Trial 1: Inputs = [0.5574396817667324, 0.5279668591641179, 0.8561068083898229], Loss = 10.051793849974379\n",
      "Trial 2: Inputs = [0.7539295569749173, 0.03886934215416717, 0.013633090209335936], Loss = 7.835538174970523\n",
      "Trial 3: Inputs = [0.4633875429059946, 0.5998915348310422, 0.08766771214737554], Loss = 12.285889718655227\n",
      "Trial 4: Inputs = [0.5338848704456247, 0.22192046354122805, 0.7596315432253532], Loss = 5.966275520500506\n",
      "Trial 5: Inputs = [0.6321626748377455, 0.4943105625354395, 0.09026948893971057], Loss = 12.534492988890708\n",
      "Trial 6: Inputs = [0.8445672333479876, 0.23231749941448326, 0.01668420804724873], Loss = 10.822499229452314\n",
      "Trial 7: Inputs = [0.7059847559792597, 0.09417683337930893, 0.47352110779145984], Loss = 6.712058055362\n",
      "Trial 8: Inputs = [0.8488952284938576, 0.883370282414654, 0.604652899095959], Loss = 25.704339925659617\n",
      "Trial 9: Inputs = [0.01724983185009452, 0.607989941634221, 0.03580685495567434], Loss = 8.183811392654372\n",
      "Trial 10: Inputs = [0.7292730386998901, 0.03126578242225793, 0.9314106035325191], Loss = 5.112734322057321\n",
      "Trial 11: Inputs = [1e-07, 1e-07, 1.0], Loss = 5.824528131887852\n",
      "Trial 12: Inputs = [0.4875323599158392, 1e-07, 1.0], Loss = 4.127641867255596\n",
      "Trial 13: Inputs = [1e-07, 0.3385198875389702, 1.0], Loss = 4.122419712165459\n",
      "Trial 14: Inputs = [0.07002035859608866, 0.28742303522622853, 1.0], Loss = 4.121179810556032\n",
      "Trial 15: Inputs = [0.3304240136404221, 0.09490651163170748, 1.0], Loss = 4.115935347288476\n",
      "Trial 16: Inputs = [0.19569806212069482, 0.20255881343947083, 1.0], Loss = 4.124313107696911\n",
      "Trial 17: Inputs = [0.4444039280834691, 1e-07, 1.0], Loss = 4.120562793304659\n",
      "Trial 18: Inputs = [0.1022553778714709, 0.26008643650644464, 1.0], Loss = 4.118122921938568\n",
      "Trial 19: Inputs = [0.021614875362824727, 0.2971543647594342, 1.0], Loss = 4.122017935217186\n",
      "Trial 20: Inputs = [0.001333624608762934, 0.39509081959648845, 0.9912967837303219], Loss = 4.239591669692772\n",
      "Trial 21: Inputs = [0.02728566826191837, 0.3125618428571352, 1.0], Loss = 4.117837956636716\n",
      "Trial 22: Inputs = [0.339261272763485, 0.08448492288751651, 1.0], Loss = 4.114861526145219\n",
      "Trial 23: Inputs = [0.143824543058279, 0.21929555745478527, 1.0], Loss = 4.116490736083344\n",
      "Trial 24: Inputs = [0.165920215183377, 0.213820114837505, 1.0], Loss = 4.11736716697977\n",
      "Trial 25: Inputs = [0.08616015958868337, 0.26679371184749906, 1.0], Loss = 4.115645459666803\n",
      "Trial 26: Inputs = [0.016672191073336545, 0.31019055515741034, 1.0], Loss = 4.116037859995047\n",
      "Trial 27: Inputs = [0.3770505906432267, 0.05103783087905242, 1.0], Loss = 4.118308691357781\n",
      "Trial 28: Inputs = [0.3976316219713921, 0.04776237873486539, 1.0], Loss = 4.116092414144138\n",
      "Trial 29: Inputs = [0.2561324526247259, 0.17060689890439698, 0.9893162365468804], Loss = 4.16282840090712\n",
      "Trial 30: Inputs = [0.1318766706582527, 0.22876547637413078, 0.9788132990426153], Loss = 4.170646753436037\n",
      "Trial 31: Inputs = [0.05943963453027765, 0.2860969637351252, 1.0], Loss = 4.115848229787833\n",
      "Trial 32: Inputs = [0.40682704492369154, 0.03936291464549727, 1.0], Loss = 4.115199997334673\n",
      "Trial 33: Inputs = [0.0698284358984014, 0.26543467629081013, 0.9988953681538056], Loss = 4.12311249136248\n",
      "Trial 34: Inputs = [0.1662190317174952, 0.18637346205002092, 0.9880884807533775], Loss = 4.160372531874232\n",
      "Trial 35: Inputs = [0.1550371654570247, 0.21893839377620022, 0.9957015534721537], Loss = 4.127108007121847\n",
      "Trial 36: Inputs = [0.12044425283837495, 0.24197576175401597, 1.0], Loss = 4.115370204333452\n",
      "Trial 37: Inputs = [0.09753700269554073, 0.2588194354211176, 1.0], Loss = 4.115673147646824\n",
      "Trial 38: Inputs = [0.13142099505173357, 0.2463424869565553, 1.0], Loss = 4.122956122552246\n",
      "Trial 39: Inputs = [0.2752548405695596, 0.13295472768552433, 1.0], Loss = 4.115505464455207\n",
      "Trial 40: Inputs = [0.3123852895644379, 0.09985507057128573, 1.0], Loss = 4.116569662241518\n",
      "Trial 41: Inputs = [0.3866105760402492, 0.05444706810447409, 1.0], Loss = 4.115564987537903\n",
      "Trial 42: Inputs = [0.299963780662449, 0.11315330368527451, 1.0], Loss = 4.114521475047244\n",
      "Trial 43: Inputs = [0.0003053860030965151, 0.9897350897695354, 0.997273767834011], Loss = 10.99678918789396\n",
      "Trial 44: Inputs = [0.07271775805045726, 0.2740868655172009, 1.0], Loss = 4.114703256266546\n",
      "Trial 45: Inputs = [0.11924186779937104, 0.2416055637363459, 1.0], Loss = 4.114850853776037\n",
      "Trial 46: Inputs = [0.16848670019838993, 0.2068942560974368, 0.9996666011151653], Loss = 4.115735333519336\n",
      "Trial 47: Inputs = [0.03530655232268877, 0.2977970772573171, 1.0], Loss = 4.115662328873478\n",
      "Trial 48: Inputs = [0.04236099673253837, 0.2949236708194443, 0.9962048008199038], Loss = 4.124544568122471\n",
      "Trial 49: Inputs = [0.24801373560159165, 0.14839854563104243, 0.99438828421169], Loss = 4.129625139864965\n",
      "Trial 50: Inputs = [0.07460001310747162, 0.2717130065945524, 1.0], Loss = 4.114909952650184\n",
      "Trial 51: Inputs = [0.05203931655114694, 0.280629052576871, 1.0], Loss = 4.1185419619565655\n",
      "Trial 52: Inputs = [0.2864202513469314, 0.12837615010804812, 0.9984036569364381], Loss = 4.121299580047593\n",
      "Trial 53: Inputs = [0.3634806275174818, 0.06964379335663491, 1.0], Loss = 4.115057800013019\n",
      "Trial 54: Inputs = [0.24933280455221934, 0.15598771494917982, 0.9942663552583066], Loss = 4.132790605861353\n",
      "Trial 55: Inputs = [0.17773182164215753, 0.19810584649973706, 1.0], Loss = 4.115164269300172\n",
      "Trial 56: Inputs = [0.14956275820951362, 0.21948272470319166, 1.0], Loss = 4.114577000388027\n",
      "Trial 57: Inputs = [0.08889699827238556, 0.2628261222745525, 0.9976165867225091], Loss = 4.120917202998155\n",
      "Trial 58: Inputs = [0.3924625560553555, 0.03312735662986418, 0.998580551373741], Loss = 4.127016180789617\n",
      "Trial 59: Inputs = [0.2771044096331515, 0.13049424618444347, 1.0], Loss = 4.114997802477074\n",
      "Trial 60: Inputs = [0.3497478043998019, 0.07967471895850413, 1.0], Loss = 4.115202581801496\n",
      "Trial 61: Inputs = [0.10840002286371445, 0.2204767264277885, 0.9987507795330575], Loss = 4.140520928743075\n",
      "Trial 62: Inputs = [0.4057529217466648, 0.04201939969090455, 0.9985283523587574], Loss = 4.119885572069741\n",
      "Trial 63: Inputs = [0.25256871694338534, 0.1481748424533875, 1.0], Loss = 4.11514979059867\n",
      "Trial 64: Inputs = [0.38197083522489667, 0.056563688099616996, 1.0], Loss = 4.11504758974641\n",
      "Trial 65: Inputs = [0.03851917851625499, 0.2969344193203079, 1.0], Loss = 4.11504203147428\n",
      "Trial 66: Inputs = [0.11432671780174872, 0.24662775666574335, 1.0], Loss = 4.1155193412305975\n",
      "Trial 67: Inputs = [0.4421450350883166, 0.015234250329543215, 0.999772443704824], Loss = 4.1161543011939985\n",
      "Trial 68: Inputs = [0.22359772253781596, 0.17833840527044828, 0.9976261750558364], Loss = 4.126876160755614\n",
      "Trial 69: Inputs = [0.11432783334791655, 0.24915368592098783, 0.998441280807664], Loss = 4.120783680340605\n",
      "Trial 70: Inputs = [0.21293457840607097, 0.17623010800436822, 1.0], Loss = 4.115179452741352\n",
      "Trial 71: Inputs = [0.24378307460119544, 0.15436215827598607, 1.0], Loss = 4.115142679637376\n",
      "Trial 72: Inputs = [0.013315338878296305, 0.3156219602469085, 0.9944973472787698], Loss = 4.128895851597758\n",
      "Trial 73: Inputs = [0.08915723424438522, 0.29384159123303816, 0.994255659678104], Loss = 4.15666933300273\n",
      "Trial 74: Inputs = [0.0601396711784149, 0.2822087264320732, 1.0], Loss = 4.114804662092305\n",
      "Trial 75: Inputs = [0.06363137289425808, 0.2747915178754087, 0.9913137152715411], Loss = 4.139568554410401\n",
      "Trial 76: Inputs = [0.153276475815224, 0.21667061206554583, 0.9952876640506966], Loss = 4.126806193475474\n",
      "Trial 77: Inputs = [0.11967872470209336, 0.24074843519778258, 1.0], Loss = 4.1146316643917125\n",
      "Trial 78: Inputs = [0.19059545969476344, 0.19112960983161423, 1.0], Loss = 4.114812151091056\n",
      "Trial 79: Inputs = [0.3283482370577374, 0.10083920375045297, 0.9981892328913766], Loss = 4.123074895409421\n",
      "Trial 80: Inputs = [0.10552358714234165, 0.25002270479748273, 1.0], Loss = 4.114828557152403\n",
      "Trial 81: Inputs = [0.13470308665888436, 0.23006072673251782, 1.0], Loss = 4.114600446989492\n",
      "Trial 82: Inputs = [0.16938413295333205, 0.20288444698744706, 0.9986608421044445], Loss = 4.1191249084186925\n",
      "Trial 83: Inputs = [0.14734205982724544, 0.2212943162880555, 1.0], Loss = 4.114662039467606\n",
      "Trial 84: Inputs = [0.15298104848698754, 0.21920257637741772, 0.9978018993413399], Loss = 4.121132108276494\n",
      "Trial 85: Inputs = [0.3661681622305276, 0.0543866488387517, 0.9934414270571864], Loss = 4.138188687665452\n",
      "Trial 86: Inputs = [0.4489780154930741, 0.006522778381037818, 0.9951395365049729], Loss = 4.127526818421812\n",
      "Trial 87: Inputs = [0.2894430300817314, 0.13016015932149547, 1.0], Loss = 4.119591529755917\n",
      "Trial 88: Inputs = [0.31736243479346465, 0.10004193447866519, 1.0], Loss = 4.1148386390108\n",
      "Trial 89: Inputs = [0.2906119637517313, 0.12012405784077983, 1.0], Loss = 4.114656205042393\n",
      "Trial 90: Inputs = [0.44475937824448947, 0.017244581415732752, 0.9983013579119868], Loss = 4.12196604295001\n",
      "Trial 91: Inputs = [0.4002056526708257, 0.0440887991394608, 1.0], Loss = 4.115222128842328\n",
      "Trial 92: Inputs = [0.11830165155327219, 0.24035354688008048, 1.0], Loss = 4.115087029157898\n",
      "Trial 93: Inputs = [0.12627798980810329, 0.23524001775144213, 1.0], Loss = 4.114865545354877\n",
      "Trial 94: Inputs = [0.2529516800060539, 0.14737581056631505, 1.0], Loss = 4.114925343933917\n",
      "Trial 95: Inputs = [0.250628352534214, 0.14781993532557183, 1.0], Loss = 4.11462244371481\n",
      "Trial 96: Inputs = [0.17558370630564094, 0.1979442713320256, 0.9949625508365026], Loss = 4.128927610664493\n",
      "Trial 97: Inputs = [0.4069382248458726, 0.05573365279850646, 1.0], Loss = 4.1264875983736875\n",
      "Trial 98: Inputs = [0.22137742180091433, 0.16876630192000425, 1.0], Loss = 4.114561702797773\n",
      "Trial 99: Inputs = [0.04487316326765407, 0.29066508564894133, 1.0], Loss = 4.1158306423701125\n",
      "Trial 100: Inputs = [0.33138697796049316, 0.09109454689306057, 1.0], Loss = 4.114561244036791\n",
      "Debug: Optimized lighter ingredients from Bayesian Optimization:\n",
      "[0.299963780662449, 0.11315330368527451, 1.0]\n",
      "Debug: Minimum error achieved:\n",
      "4.114521475047244\n"
     ]
    },
    {
     "data": {
      "text/plain": [
       "[0.299963780662449, 0.11315330368527451, 1.0]"
      ]
     },
     "execution_count": 92,
     "metadata": {},
     "output_type": "execute_result"
    }
   ],
   "source": [
    "bayesiann(trial) #fifth try"
   ]
  },
  {
   "cell_type": "code",
   "execution_count": 95,
   "id": "07541ddf",
   "metadata": {},
   "outputs": [
    {
     "name": "stdout",
     "output_type": "stream",
     "text": [
      "Optimized heavy ingredients passed to bayesiann:\n",
      "[7.109037399291992, 6.760232448577881, 5.2861151695251465, 4.9464030265808105, 3.8890013694763184, 3.064105272293091]\n",
      "Trial History (Guessed Inputs and Corresponding Losses):\n",
      "Trial 1: Inputs = [0.5574396817667324, 0.5279668591641179, 0.8561068083898229], Loss = 12.920977034152106\n",
      "Trial 2: Inputs = [0.7539295569749173, 0.03886934215416717, 0.013633090209335936], Loss = 25.06725929727426\n",
      "Trial 3: Inputs = [0.4633875429059946, 0.5998915348310422, 0.08766771214737554], Loss = 27.75810391796476\n",
      "Trial 4: Inputs = [0.5338848704456247, 0.22192046354122805, 0.7596315432253532], Loss = 10.04637865343456\n",
      "Trial 5: Inputs = [0.6321626748377455, 0.4943105625354395, 0.09026948893971057], Loss = 27.94683173759902\n",
      "Trial 6: Inputs = [0.8445672333479876, 0.23231749941448326, 0.01668420804724873], Loss = 27.9131411730626\n",
      "Trial 7: Inputs = [0.7059847559792597, 0.09417683337930893, 0.47352110779145984], Loss = 14.879414275142604\n",
      "Trial 8: Inputs = [0.8488952284938576, 0.883370282414654, 0.604652899095959], Loss = 31.700344695971566\n",
      "Trial 9: Inputs = [0.01724983185009452, 0.607989941634221, 0.03580685495567434], Loss = 24.892845832765925\n",
      "Trial 10: Inputs = [0.7292730386998901, 0.03126578242225793, 0.9314106035325191], Loss = 7.295438983815695\n",
      "Trial 11: Inputs = [1e-07, 1e-07, 1.0], Loss = 7.331852480393431\n",
      "Trial 12: Inputs = [0.49335509166409625, 1e-07, 1.0], Loss = 5.740199845258003\n",
      "Trial 13: Inputs = [1e-07, 0.3925649731314659, 1.0], Loss = 5.800384630314966\n",
      "Trial 14: Inputs = [0.1007178139725947, 0.27897276156860734, 1.0], Loss = 5.741218739927264\n",
      "Trial 15: Inputs = [0.33454020317509214, 0.11435856529244456, 1.0], Loss = 5.741748161788611\n",
      "Trial 16: Inputs = [1e-07, 0.3157356722564547, 1.0], Loss = 5.733171019699906\n",
      "Trial 17: Inputs = [0.1869486232112159, 0.2055646975034033, 1.0], Loss = 5.734169548156484\n",
      "Trial 18: Inputs = [0.4014378248397499, 0.055662360378274135, 1.0], Loss = 5.734871254326734\n",
      "Trial 19: Inputs = [0.4638966230672994, 1e-07, 1.0], Loss = 5.7319180988599525\n",
      "Trial 20: Inputs = [0.057539671609159425, 0.2926658693618101, 1.0], Loss = 5.732801808302745\n",
      "Trial 21: Inputs = [0.17390144920848272, 0.20533179400612847, 1.0], Loss = 5.731946151456174\n",
      "Trial 22: Inputs = [0.09205335245448595, 0.2641897879255917, 1.0], Loss = 5.732052751210646\n",
      "Trial 23: Inputs = [0.24215974600412465, 0.1672121932141466, 1.0], Loss = 5.734433726510723\n",
      "Trial 24: Inputs = [0.26938131823871453, 0.1427521177559025, 1.0], Loss = 5.732765543562684\n",
      "Trial 25: Inputs = [0.12251601739884191, 0.2552583664045627, 1.0], Loss = 5.735995255061502\n",
      "Trial 26: Inputs = [0.013249705102234116, 0.9908284984113607, 0.9855010891107816], Loss = 12.790894000996946\n",
      "Trial 27: Inputs = [0.3335821092315745, 0.09894975159611683, 1.0], Loss = 5.733185630617228\n",
      "Trial 28: Inputs = [0.3969904585510509, 0.059159908858796836, 1.0], Loss = 5.735025349163156\n",
      "Trial 29: Inputs = [0.012149410519275212, 0.32280767168932806, 1.0], Loss = 5.73238126489204\n",
      "Trial 30: Inputs = [0.029113621400786202, 0.30561471313247157, 1.0], Loss = 5.7318205654711\n",
      "Trial 31: Inputs = [0.06833688076693314, 0.28318563611493686, 1.0], Loss = 5.732400129316729\n",
      "Trial 32: Inputs = [0.0559674503095859, 0.28540816166312627, 1.0], Loss = 5.731807425802418\n",
      "Trial 33: Inputs = [0.1263738903145178, 0.24342908243969305, 1.0], Loss = 5.732666047906195\n",
      "Trial 34: Inputs = [0.07275178309248595, 0.28552571406011296, 0.9993210155725252], Loss = 5.741674349155211\n",
      "Trial 35: Inputs = [0.27100408702634626, 0.14012944163242022, 1.0], Loss = 5.7324429261643495\n",
      "Trial 36: Inputs = [0.4221170790777151, 0.004081149481001489, 0.9982492219792116], Loss = 5.759712310197206\n",
      "Trial 37: Inputs = [0.05987021787992926, 0.28838986288019136, 1.0], Loss = 5.732261265797276\n",
      "Trial 38: Inputs = [0.38733315236522176, 0.06242125405379298, 0.9994132009008048], Loss = 5.740373860903874\n",
      "Trial 39: Inputs = [0.14091092916844605, 0.22904873353969948, 1.0], Loss = 5.731984803482015\n",
      "Trial 40: Inputs = [0.3215608196608875, 0.10557106604301278, 1.0], Loss = 5.7326964701025345\n",
      "Trial 41: Inputs = [0.4010569494838178, 0.07624673839050884, 1.0], Loss = 5.7498637890418225\n",
      "Trial 42: Inputs = [0.2971874389702179, 0.12166223082781218, 1.0], Loss = 5.732451483045748\n",
      "Trial 43: Inputs = [0.20615679105360749, 0.18674654526220844, 1.0], Loss = 5.732603606406284\n",
      "Trial 44: Inputs = [0.2438311476291887, 0.16691480257594868, 1.0], Loss = 5.734798144466558\n",
      "Trial 45: Inputs = [0.06731983378283703, 0.28399377563616013, 1.0], Loss = 5.732417142413171\n",
      "Trial 46: Inputs = [0.07985895257269306, 0.27466851729718816, 1.0], Loss = 5.732331808784\n",
      "Trial 47: Inputs = [0.031020394810283722, 0.3080557380723094, 1.0], Loss = 5.732148265411624\n",
      "Trial 48: Inputs = [0.17769633436683924, 0.20661169795147485, 1.0], Loss = 5.732548497322506\n",
      "Trial 49: Inputs = [0.21959384649619368, 0.18309921415174849, 1.0], Loss = 5.7344073226031\n",
      "Trial 50: Inputs = [0.43050103515595967, 0.019355823755004827, 0.9976641581439343], Loss = 5.758660770994085\n",
      "Trial 51: Inputs = [0.3339449491347462, 0.09418662492158712, 1.0], Loss = 5.7321906076165305\n",
      "Trial 52: Inputs = [0.17846662765821808, 0.20559400898884278, 1.0], Loss = 5.732451606936782\n",
      "Trial 53: Inputs = [0.34862385165747745, 0.0830578180503932, 1.0], Loss = 5.732084457554125\n",
      "Trial 54: Inputs = [0.06700472709530042, 0.2832134118687559, 1.0], Loss = 5.732239526512113\n",
      "Trial 55: Inputs = [0.2750506426387069, 0.14115361566573995, 0.9993770856147632], Loss = 5.7405785613101346\n",
      "Trial 56: Inputs = [0.3600240307161175, 0.09027703397456373, 1.0], Loss = 5.737600331725483\n",
      "Trial 57: Inputs = [0.08942404268820128, 0.26410533548083626, 1.0], Loss = 5.7318725874581675\n",
      "Trial 58: Inputs = [0.2706783878767697, 0.14040589791982913, 1.0], Loss = 5.732452029236345\n",
      "Trial 59: Inputs = [0.20947742969403757, 0.18338700040285605, 1.0], Loss = 5.732396782396073\n",
      "Trial 60: Inputs = [0.30362476534074506, 0.12231490181539263, 1.0], Loss = 5.733889671277327\n",
      "Trial 61: Inputs = [0.12450355737656274, 0.23920931924076586, 0.9987807993402111], Loss = 5.745855580656384\n",
      "Trial 62: Inputs = [0.4057529217466648, 0.04201939969090455, 0.9985283523587574], Loss = 5.748894590335827\n",
      "Trial 63: Inputs = [0.080076217180812, 0.2741044922875596, 1.0], Loss = 5.732261174712841\n",
      "Trial 64: Inputs = [0.45549528440259024, 0.006636498843455363, 1.0], Loss = 5.731983044165296\n",
      "Trial 65: Inputs = [0.2186199272485813, 0.18369792611569485, 1.0], Loss = 5.73437181003819\n",
      "Trial 66: Inputs = [0.07573176618178946, 0.2770496314921018, 1.0], Loss = 5.732240478699356\n",
      "Trial 67: Inputs = [0.2133375656003608, 0.18060990083254314, 1.0], Loss = 5.73238771722805\n",
      "Trial 68: Inputs = [0.22359772253781596, 0.17833840527044828, 0.9976261750558364], Loss = 5.760954988639741\n",
      "Trial 69: Inputs = [0.3600185603833003, 0.0753095704232195, 1.0], Loss = 5.732125805618268\n",
      "Trial 70: Inputs = [0.2148561528656281, 0.1798038595860036, 1.0], Loss = 5.732438994917448\n",
      "Trial 71: Inputs = [0.2456543957119738, 0.1576992985802793, 1.0], Loss = 5.732375800031248\n",
      "Trial 72: Inputs = [0.01386389782567299, 0.31864383310510214, 1.0], Loss = 5.731962620910453\n",
      "Trial 73: Inputs = [0.29547035857796, 0.1267915199747267, 1.0], Loss = 5.73345731216366\n",
      "Trial 74: Inputs = [0.3561386663781833, 0.07745535217903014, 1.0], Loss = 5.732048079004606\n",
      "Trial 75: Inputs = [0.22172417440204856, 0.1747919515661497, 1.0], Loss = 5.732408740969758\n",
      "Trial 76: Inputs = [0.36489866908861684, 0.07169427621862923, 1.0], Loss = 5.732103212694662\n",
      "Trial 77: Inputs = [0.37008117494437254, 0.06797740158814193, 1.0], Loss = 5.73209613270727\n",
      "Trial 78: Inputs = [0.047624625956278636, 0.2959675400480187, 1.0], Loss = 5.7320998204190925\n",
      "Trial 79: Inputs = [0.3299583207710393, 0.1018428328338425, 1.0], Loss = 5.733282988409208\n",
      "Trial 80: Inputs = [0.23944642283701867, 0.16174479120670407, 1.0], Loss = 5.732313832723948\n",
      "Trial 81: Inputs = [0.1437222883107397, 0.23938923166532997, 1.0], Loss = 5.735565399524964\n",
      "Trial 82: Inputs = [0.27038782988601956, 0.1395309848725903, 1.0], Loss = 5.732256061905607\n",
      "Trial 83: Inputs = [0.3743330278041923, 0.06471523168074614, 1.0], Loss = 5.732063140063833\n",
      "Trial 84: Inputs = [0.44912786488129197, 0.01068115660808016, 1.0], Loss = 5.7319388309145385\n",
      "Trial 85: Inputs = [0.4490399005792676, 0.01072628781025855, 1.0], Loss = 5.731937302402444\n",
      "Trial 86: Inputs = [0.4543801639232877, 0.00677491689939111, 1.0], Loss = 5.731922033758569\n",
      "Trial 87: Inputs = [0.19017277659928417, 0.1946721427568899, 1.0], Loss = 5.732034554445944\n",
      "Trial 88: Inputs = [0.1341670883302325, 0.23567924206776436, 1.0], Loss = 5.732230966015388\n",
      "Trial 89: Inputs = [0.2945208296874414, 0.12187505165951454, 1.0], Loss = 5.7321632204381086\n",
      "Trial 90: Inputs = [0.4117863996142712, 0.03776084251039676, 1.0], Loss = 5.732007064228254\n",
      "Trial 91: Inputs = [0.4490029791497124, 0.01061032763246987, 1.0], Loss = 5.731924912261729\n",
      "Trial 92: Inputs = [0.2993595452187596, 0.11809289649380092, 1.0], Loss = 5.732112045547939\n",
      "Trial 93: Inputs = [0.06188463927312659, 0.28590907962015916, 1.0], Loss = 5.732102856745029\n",
      "Trial 94: Inputs = [0.23560377037195257, 0.16416284646306648, 1.0], Loss = 5.732262843276279\n",
      "Trial 95: Inputs = [0.4630672677684317, 1e-07, 1.0], Loss = 5.731874856058353\n",
      "Trial 96: Inputs = [0.1784942599937616, 0.2044708572074542, 1.0], Loss = 5.732251918968796\n",
      "Trial 97: Inputs = [0.04410771245654627, 0.27764837895510863, 1.0], Loss = 5.735875738657233\n",
      "Trial 98: Inputs = [0.1487125346200704, 0.2246170286662755, 1.0], Loss = 5.732115228722247\n",
      "Trial 99: Inputs = [0.3952466189833614, 0.04784974236154833, 1.0], Loss = 5.731868832572918\n",
      "Trial 100: Inputs = [0.22431457733870883, 0.17185227262170938, 1.0], Loss = 5.732215648797981\n",
      "Debug: Optimized lighter ingredients from Bayesian Optimization:\n",
      "[0.0559674503095859, 0.28540816166312627, 1.0]\n",
      "Debug: Minimum error achieved:\n",
      "5.731807425802418\n"
     ]
    },
    {
     "data": {
      "text/plain": [
       "[0.0559674503095859, 0.28540816166312627, 1.0]"
      ]
     },
     "execution_count": 95,
     "metadata": {},
     "output_type": "execute_result"
    }
   ],
   "source": [
    "bayesiann(trial) #sixth try"
   ]
  },
  {
   "cell_type": "code",
   "execution_count": 109,
   "id": "7a2db7f1",
   "metadata": {},
   "outputs": [
    {
     "name": "stdout",
     "output_type": "stream",
     "text": [
      "Optimized heavy ingredients passed to bayesiann:\n",
      "[6.867858409881592, 7.2128777503967285, 5.6697096824646, 5.787322521209717, 2.9155092239379883, 2.2498812675476074]\n",
      "Trial History (Guessed Inputs and Corresponding Losses):\n",
      "Trial 1: Inputs = [0.5574396817667324, 0.5279668591641179, 0.8561068083898229], Loss = 7.832359188432356\n",
      "Trial 2: Inputs = [0.7539295569749173, 0.03886934215416717, 0.013633090209335936], Loss = 13.299051004742852\n",
      "Trial 3: Inputs = [0.4633875429059946, 0.5998915348310422, 0.08766771214737554], Loss = 16.58604066782685\n",
      "Trial 4: Inputs = [0.5338848704456247, 0.22192046354122805, 0.7596315432253532], Loss = 4.184885064779549\n",
      "Trial 5: Inputs = [0.6321626748377455, 0.4943105625354395, 0.09026948893971057], Loss = 16.795753678108643\n",
      "Trial 6: Inputs = [0.8445672333479876, 0.23231749941448326, 0.01668420804724873], Loss = 16.17634852540229\n",
      "Trial 7: Inputs = [0.7059847559792597, 0.09417683337930893, 0.47352110779145984], Loss = 6.752662997151742\n",
      "Trial 8: Inputs = [0.8488952284938576, 0.883370282414654, 0.604652899095959], Loss = 24.636839213323025\n",
      "Trial 9: Inputs = [0.01724983185009452, 0.607989941634221, 0.03580685495567434], Loss = 13.301545114838667\n",
      "Trial 10: Inputs = [0.7292730386998901, 0.03126578242225793, 0.9314106035325191], Loss = 2.7924096499679534\n",
      "Trial 11: Inputs = [1e-07, 1e-07, 1.0], Loss = 3.3564161263249854\n",
      "Trial 12: Inputs = [0.48042881628908635, 1e-07, 1.0], Loss = 1.7690896985434121\n",
      "Trial 13: Inputs = [1e-07, 0.39715459119570357, 1.0], Loss = 1.8458130176692973\n",
      "Trial 14: Inputs = [0.18687477934994678, 0.22732311821179926, 1.0], Loss = 1.7842024694710341\n",
      "Trial 15: Inputs = [0.3741776848091114, 0.09350611422917286, 1.0], Loss = 1.7827451932768819\n",
      "Trial 16: Inputs = [1e-07, 0.3114340342782187, 1.0], Loss = 1.7680308145431392\n",
      "Trial 17: Inputs = [0.06750420714665377, 0.2941069199885727, 1.0], Loss = 1.7701744287699843\n",
      "Trial 18: Inputs = [0.26026346006219725, 0.14292229699030867, 1.0], Loss = 1.7656296321657794\n",
      "Trial 19: Inputs = [0.4459208682252459, 0.006652020312614333, 1.0], Loss = 1.7656118702448311\n",
      "Trial 20: Inputs = [0.1557628831622638, 0.22187315224925713, 1.0], Loss = 1.7664211220445774\n",
      "Trial 21: Inputs = [0.1733820861444798, 0.20793264212187496, 1.0], Loss = 1.766108992177537\n",
      "Trial 22: Inputs = [0.08558929174682482, 0.2710076505253565, 1.0], Loss = 1.7663138285784852\n",
      "Trial 23: Inputs = [0.44186787125250554, 0.016366914272252432, 1.0], Loss = 1.7658255702235266\n",
      "Trial 24: Inputs = [0.41144542225771424, 0.0407622271608313, 1.0], Loss = 1.7663409955533456\n",
      "Trial 25: Inputs = [0.04196090220488393, 0.29996352867040776, 1.0], Loss = 1.7659556367452978\n",
      "Trial 26: Inputs = [9.946533905833566e-05, 0.32460448889959953, 1.0], Loss = 1.7655285050675436\n",
      "Trial 27: Inputs = [0.08812119631662446, 0.2656982675116328, 0.9506439268084407], Loss = 1.9586511340049935\n",
      "Trial 28: Inputs = [0.006579207792880062, 0.8711832982586191, 0.9998412826086669], Loss = 6.367457510849235\n",
      "Trial 29: Inputs = [0.2175891197906494, 0.18736356300083995, 0.9877370765106082], Loss = 1.814451968006494\n",
      "Trial 30: Inputs = [0.02920524721615133, 0.3082000078315377, 0.998042578184543], Loss = 1.7728122370015473\n",
      "Trial 31: Inputs = [0.06876080032745963, 0.2799769400648558, 1.0], Loss = 1.7658043394105918\n",
      "Trial 32: Inputs = [0.2216545191511125, 0.17103978517772053, 1.0], Loss = 1.76570512772365\n",
      "Trial 33: Inputs = [0.3700700211629956, 0.06578702436377815, 1.0], Loss = 1.765672342424927\n",
      "Trial 34: Inputs = [0.23529336510504073, 0.16144618621479373, 1.0], Loss = 1.7657102052968852\n",
      "Trial 35: Inputs = [0.21434418506776637, 0.17672790384688383, 1.0], Loss = 1.765763389760151\n",
      "Trial 36: Inputs = [0.13044359122459845, 0.2364643693027438, 1.0], Loss = 1.765816730409623\n",
      "Trial 37: Inputs = [0.28825672860258694, 0.12498850141171854, 1.0], Loss = 1.7658289575832535\n",
      "Trial 38: Inputs = [0.3434573304510291, 0.08552417526792133, 0.999855785985238], Loss = 1.7662841297535217\n",
      "Trial 39: Inputs = [0.21691769405767905, 0.17607007644223313, 1.0], Loss = 1.7659230603063376\n",
      "Trial 40: Inputs = [0.12372863489400196, 0.241066154895311, 1.0], Loss = 1.765797768034775\n",
      "Trial 41: Inputs = [0.12368359768779229, 0.23016828133558295, 0.990401916621124], Loss = 1.8009321148318633\n",
      "Trial 42: Inputs = [0.25081852455200127, 0.1517924277227739, 1.0], Loss = 1.765876282570677\n",
      "Trial 43: Inputs = [0.20420748896985566, 0.1835567514965379, 0.9999718023993711], Loss = 1.7658247249411785\n",
      "Trial 44: Inputs = [0.3674405286439191, 0.06764444567393688, 1.0], Loss = 1.7656722014431532\n",
      "Trial 45: Inputs = [0.07178202477940561, 0.27708679809299613, 1.0], Loss = 1.7657150956624195\n",
      "Trial 46: Inputs = [0.23791106792999503, 0.15993256096478795, 0.9974568712212208], Loss = 1.7748182589061945\n",
      "Trial 47: Inputs = [0.3763471738929626, 0.06193266018015105, 1.0], Loss = 1.7657324872364808\n",
      "Trial 48: Inputs = [0.07065335177902678, 0.2777857668200457, 1.0], Loss = 1.765704665424463\n",
      "Trial 49: Inputs = [0.2666649611323978, 0.13897173572066046, 1.0], Loss = 1.7656802297336793\n",
      "Trial 50: Inputs = [0.023433914374767842, 0.3098353607476091, 1.0], Loss = 1.7655931252824262\n",
      "Trial 51: Inputs = [0.06821385940229549, 0.27940322486402014, 1.0], Loss = 1.7656937056034852\n",
      "Trial 52: Inputs = [0.41729950189936876, 0.031329115584617914, 1.0], Loss = 1.7655887857158192\n",
      "Trial 53: Inputs = [0.014120503294713555, 0.31788687257576, 1.0], Loss = 1.7657189817169652\n",
      "Trial 54: Inputs = [0.06541455661548504, 0.28126903133425185, 1.0], Loss = 1.7656825076061118\n",
      "Trial 55: Inputs = [0.3520343968939459, 0.08193179648099046, 0.9982301860691106], Loss = 1.772469167061325\n",
      "Trial 56: Inputs = [0.08338441273831722, 0.26853358668465976, 1.0], Loss = 1.765679442295609\n",
      "Trial 57: Inputs = [0.0901426290189267, 0.2647278113456346, 0.9976164089217125], Loss = 1.7742862639759722\n",
      "Trial 58: Inputs = [0.0580302180185973, 0.33773248202389283, 0.9949717912171571], Loss = 1.8284113962540878\n",
      "Trial 59: Inputs = [0.19567909263874897, 0.17224816942419557, 1.0], Loss = 1.7683701788824933\n",
      "Trial 60: Inputs = [0.04678035466315817, 0.2923748529441007, 0.9954397637196866], Loss = 1.78187861812035\n",
      "Trial 61: Inputs = [0.42038830507449426, 0.030172772375932588, 1.0], Loss = 1.7656684265557927\n",
      "Trial 62: Inputs = [0.4036370887855025, 0.03920087947603265, 0.9986272769962348], Loss = 1.7704107986688613\n",
      "Trial 63: Inputs = [0.25146566327344927, 0.14969186296823894, 1.0], Loss = 1.7656778213531283\n",
      "Trial 64: Inputs = [0.15892797538854814, 0.21473238084215396, 1.0], Loss = 1.7656436730450444\n",
      "Trial 65: Inputs = [0.3958369497572294, 0.04383272824124356, 1.0], Loss = 1.7655311729367416\n",
      "Trial 66: Inputs = [0.11364090193336297, 0.2462661433758187, 1.0], Loss = 1.7656065517611186\n",
      "Trial 67: Inputs = [0.4424235910071032, 0.011093018970428536, 0.9997733023143955], Loss = 1.7663326921445694\n",
      "Trial 68: Inputs = [0.1872363721962343, 0.1944129831330147, 0.9953549414488047], Loss = 1.782258331385428\n",
      "Trial 69: Inputs = [0.070983933922516, 0.2761035653430849, 1.0], Loss = 1.7655858836544884\n",
      "Trial 70: Inputs = [0.2293185939399317, 0.1602957248364802, 1.0], Loss = 1.7655793905573436\n",
      "Trial 71: Inputs = [0.33691108765732025, 0.08753199022839049, 0.9946952722405692], Loss = 1.7845836724152482\n",
      "Trial 72: Inputs = [0.06936398478494793, 0.27717990648324653, 1.0], Loss = 1.7655818179915093\n",
      "Trial 73: Inputs = [0.027410884649436067, 0.30597846594822664, 1.0], Loss = 1.7655431909575285\n",
      "Trial 74: Inputs = [0.3510243965392803, 0.07044462440503946, 0.9989785692041597], Loss = 1.7696471434749352\n",
      "Trial 75: Inputs = [0.1303531060275063, 0.23749137309623658, 0.9965754190029653], Loss = 1.7781951958550293\n",
      "Trial 76: Inputs = [0.03066141496161184, 0.29533065766507755, 0.9921664040575804], Loss = 1.7945743439780184\n",
      "Trial 77: Inputs = [0.4300483496584878, 0.025561628936540317, 0.9947229442895484], Loss = 1.7848766740035527\n",
      "Trial 78: Inputs = [0.19105012938688504, 0.19142298821193737, 0.993866010629552], Loss = 1.787637791975467\n",
      "Trial 79: Inputs = [0.114198245135297, 0.24542155745423153, 1.0], Loss = 1.7655781831358799\n",
      "Trial 80: Inputs = [0.049951844065731006, 0.2903989547463823, 1.0], Loss = 1.7655564393309184\n",
      "Trial 81: Inputs = [0.13545718560446804, 0.2309973912969219, 0.9980935045544603], Loss = 1.7724088139014376\n",
      "Trial 82: Inputs = [0.05954511094777596, 0.28378964833141085, 1.0], Loss = 1.765564254634027\n",
      "Trial 83: Inputs = [0.4376906983441161, 0.017178464556944387, 1.0], Loss = 1.7656062527467342\n",
      "Trial 84: Inputs = [0.05902336239227369, 0.2841314796705799, 1.0], Loss = 1.7655629704962168\n",
      "Trial 85: Inputs = [0.01993037340566321, 0.3054775242241975, 0.9978109940426637], Loss = 1.7736672652247993\n",
      "Trial 86: Inputs = [0.3468675714479173, 0.03538055280583933, 0.9921972370962164], Loss = 1.8225344689942424\n",
      "Trial 87: Inputs = [0.05567642205421975, 0.2864799918060017, 1.0], Loss = 1.765562149933249\n",
      "Trial 88: Inputs = [0.3256674436063624, 0.08668926724065883, 0.9949381850751551], Loss = 1.784495190532065\n",
      "Trial 89: Inputs = [0.31636509952909647, 0.11577495856873635, 0.9936359503149707], Loss = 1.7918679188052733\n",
      "Trial 90: Inputs = [0.04491646427828938, 0.29271262954933197, 1.0], Loss = 1.765526690957142\n",
      "Trial 91: Inputs = [0.32626205305520795, 0.0908138627922352, 0.9995495807255985], Loss = 1.7672461278649068\n",
      "Trial 92: Inputs = [0.09824283664227546, 0.24217400940523046, 0.9981191869097227], Loss = 1.7746544249004776\n",
      "Trial 93: Inputs = [0.3146874610822823, 0.10328195409682915, 1.0], Loss = 1.765557682885719\n",
      "Trial 94: Inputs = [0.461079420516471, 1e-07, 1.0], Loss = 1.7655674207949246\n",
      "Trial 95: Inputs = [0.38793995763215977, 0.05388612215156265, 1.0], Loss = 1.7657495056887966\n",
      "Trial 96: Inputs = [0.070310637034363, 0.27143849269580034, 1.0], Loss = 1.7656767529808506\n",
      "Trial 97: Inputs = [0.028493178405591794, 0.31092352260538725, 0.9995866106271852], Loss = 1.7676868882458854\n",
      "Trial 98: Inputs = [0.14909135893981526, 0.22042989527794699, 0.9988355948136287], Loss = 1.7697029630060452\n",
      "Trial 99: Inputs = [0.04830135987034766, 0.29417051012605516, 1.0], Loss = 1.7657703768139021\n",
      "Trial 100: Inputs = [0.21059517065174338, 0.17803603424193892, 1.0], Loss = 1.7656297174674145\n",
      "Debug: Optimized lighter ingredients from Bayesian Optimization:\n",
      "[0.04491646427828938, 0.29271262954933197, 1.0]\n",
      "Debug: Minimum error achieved:\n",
      "1.765526690957142\n"
     ]
    },
    {
     "data": {
      "text/plain": [
       "[0.04491646427828938, 0.29271262954933197, 1.0]"
      ]
     },
     "execution_count": 109,
     "metadata": {},
     "output_type": "execute_result"
    }
   ],
   "source": [
    "bayesiann(trial2) #seventh try"
   ]
  },
  {
   "cell_type": "code",
   "execution_count": 253,
   "id": "03a4b03a-a3ae-4ee6-b9bb-db6e43490939",
   "metadata": {},
   "outputs": [
    {
     "name": "stdout",
     "output_type": "stream",
     "text": [
      "Optimized heavy ingredients passed to bayesiann:\n",
      "[6.687910079956055, 6.379572868347168, 6.321332931518555, 5.336599349975586, 4.272467613220215, 1.6648460626602173]\n",
      "Trial History (Guessed Inputs and Corresponding Losses):\n",
      "Trial 1: Inputs = [0.5574396817667324, 0.5279668591641179, 0.8561068083898229], Loss = 0.497070085111368\n",
      "Trial 2: Inputs = [0.7539295569749173, 0.03886934215416717, 0.013633090209335936], Loss = 0.13179294040147363\n",
      "Trial 3: Inputs = [0.4633875429059946, 0.5998915348310422, 0.08766771214737554], Loss = 0.13723120893896004\n",
      "Trial 4: Inputs = [0.5338848704456247, 0.22192046354122805, 0.7596315432253532], Loss = 0.4149854784991331\n",
      "Trial 5: Inputs = [0.6321626748377455, 0.4943105625354395, 0.09026948893971057], Loss = 0.13759215229460967\n",
      "Trial 6: Inputs = [0.8445672333479876, 0.23231749941448326, 0.01668420804724873], Loss = 0.13389118439484532\n",
      "Trial 7: Inputs = [0.7059847559792597, 0.09417683337930893, 0.47352110779145984], Loss = 0.2377476959141136\n",
      "Trial 8: Inputs = [0.8488952284938576, 0.883370282414654, 0.604652899095959], Loss = 0.32213392751573355\n",
      "Trial 9: Inputs = [0.01724983185009452, 0.607989941634221, 0.03580685495567434], Loss = 0.13212208492860575\n",
      "Trial 10: Inputs = [0.7292730386998901, 0.03126578242225793, 0.9314106035325191], Loss = 0.5621244312991995\n",
      "Trial 11: Inputs = [0.036965918449352486, 0.03737899890776399, 0.07054830694541321], Loss = 0.1328980800561637\n",
      "Trial 12: Inputs = [1e-07, 1e-07, 0.2243444208620735], Loss = 0.15324840501061582\n",
      "Trial 13: Inputs = [1e-07, 1e-07, 1e-07], Loss = 0.13238281019324588\n",
      "Trial 14: Inputs = [1e-07, 1e-07, 0.03400255252051402], Loss = 0.13216850977769648\n",
      "Trial 15: Inputs = [1e-07, 1.0, 1e-07], Loss = 0.136335120305833\n",
      "Trial 16: Inputs = [0.9948013811219625, 0.9392637658147778, 0.3017968235725816], Loss = 0.1904305869444858\n",
      "Trial 17: Inputs = [0.2643642935488376, 1e-07, 0.02799976721119308], Loss = 0.1312315669606915\n",
      "Trial 18: Inputs = [1e-07, 1e-07, 0.03937789549443693], Loss = 0.13224506855555568\n",
      "Trial 19: Inputs = [0.9810603255890339, 0.011001751764003259, 0.11581776463981487], Loss = 0.1371546390678708\n",
      "Trial 20: Inputs = [1e-07, 1e-07, 0.031400233515103675], Loss = 0.1321422776302891\n",
      "Trial 21: Inputs = [0.997240999628499, 0.9654008095112888, 0.004406088571787413], Loss = 0.15086931312087\n",
      "Trial 22: Inputs = [0.021660960799706988, 0.9552941385360282, 0.15041994170139336], Loss = 0.14410226359716316\n",
      "Trial 23: Inputs = [0.016627261708472108, 0.31610097285014754, 0.019073824175851017], Loss = 0.13105238421032453\n",
      "Trial 24: Inputs = [0.36453207044831737, 0.1831338356534455, 0.0037648966877711076], Loss = 0.1314049770509627\n",
      "Trial 25: Inputs = [0.4317936361130407, 0.023636410969316363, 0.02728357155961325], Loss = 0.1310537855036981\n",
      "Trial 26: Inputs = [0.38050504348478364, 0.19186638756300417, 0.043082997028534006], Loss = 0.13147877451017878\n",
      "Trial 27: Inputs = [0.3881711295928879, 0.038321345104311635, 0.041512276104587596], Loss = 0.13122049354415186\n",
      "Trial 28: Inputs = [0.6087684716381003, 0.10360934927162403, 0.026468151791203046], Loss = 0.131560268678324\n",
      "Trial 29: Inputs = [0.166254737821083, 0.14500183178008194, 0.02371652645141981], Loss = 0.1310724409277471\n",
      "Trial 30: Inputs = [0.08919779450787434, 0.2673482118379236, 0.022483466338159997], Loss = 0.1310450787989567\n",
      "Trial 31: Inputs = [0.04667013046670421, 0.3566887786118591, 0.02711286096293209], Loss = 0.13111035408975974\n",
      "Trial 32: Inputs = [0.012047973817485836, 0.9780115707707772, 0.40792499246093794], Loss = 0.21315147538283805\n",
      "Trial 33: Inputs = [0.17894870643462715, 0.16408895542553043, 0.00902274265008481], Loss = 0.13115149338516605\n",
      "Trial 34: Inputs = [0.44025108224233117, 0.018774001298392087, 0.012116818881257492], Loss = 0.13110699734820735\n",
      "Trial 35: Inputs = [0.13931359456133127, 0.14994226445932712, 0.05742710768564689], Loss = 0.13170715887614268\n",
      "Trial 36: Inputs = [0.02521930799312634, 0.1630516001277299, 0.04366198982246644], Loss = 0.13145755229184203\n",
      "Trial 37: Inputs = [0.3672632202935614, 0.9178115373540766, 0.015041006260861377], Loss = 0.13902812553981464\n",
      "Trial 38: Inputs = [0.07917006414489695, 0.36163752222353834, 0.012412746479259426], Loss = 0.131213435570877\n",
      "Trial 39: Inputs = [0.4557276694916752, 0.13357329511406674, 0.03874577136586475], Loss = 0.1313822233506907\n",
      "Trial 40: Inputs = [0.19646965280071, 0.25922571971141206, 0.027692868076062756], Loss = 0.1311271694392108\n",
      "Trial 41: Inputs = [0.3138082122081725, 0.21691221509819564, 0.0007556371895020016], Loss = 0.13146469208529662\n",
      "Trial 42: Inputs = [0.3831880149698137, 0.021998248548970124, 0.0417308285410727], Loss = 0.13123001764415332\n",
      "Trial 43: Inputs = [0.22443007593729936, 0.11042186192592417, 0.021106618048689695], Loss = 0.13106721549922545\n",
      "Trial 44: Inputs = [0.24590930930565338, 0.19731275876299914, 0.013194992745375889], Loss = 0.1311264367187853\n",
      "Trial 45: Inputs = [0.2438513534368251, 0.5083694001441907, 0.040261197317194505], Loss = 0.13262621213425985\n",
      "Trial 46: Inputs = [0.6838493861236745, 0.06348316302110836, 0.019615609370754305], Loss = 0.13162266652863203\n",
      "Trial 47: Inputs = [0.21272836787854313, 0.10059945968791328, 0.0281564936417297], Loss = 0.13110030163153075\n",
      "Trial 48: Inputs = [0.48265840088264195, 0.15359078787878233, 0.028350769700267054], Loss = 0.13140196322655293\n",
      "Trial 49: Inputs = [0.40274185909147986, 0.1697088154634846, 0.0404252648096774], Loss = 0.13140726543352615\n",
      "Trial 50: Inputs = [0.23330267328896456, 0.28510713796296755, 0.00983026228008494], Loss = 0.1313278080282463\n",
      "Trial 51: Inputs = [0.18401083932212056, 0.20598950702536004, 0.035755958034755016], Loss = 0.13113142968929992\n",
      "Trial 52: Inputs = [0.37013528245041705, 0.01399605558236385, 0.032801745568568394], Loss = 0.13110890190065375\n",
      "Trial 53: Inputs = [0.03952549995386387, 0.22969601077343235, 0.01498350588327201], Loss = 0.13111188504447\n",
      "Trial 54: Inputs = [0.261048106260067, 0.10467545765191125, 0.011625227652937229], Loss = 0.1311176879274161\n",
      "Trial 55: Inputs = [0.43436266108531063, 0.2290699337892421, 0.054536105846069674], Loss = 0.13208186385366563\n",
      "Trial 56: Inputs = [0.12423120811752321, 0.13338509451553854, 0.035250165547679124], Loss = 0.13121488001417772\n",
      "Trial 57: Inputs = [0.3841832113238936, 0.012871111521679503, 0.054845261420132796], Loss = 0.13158030573208152\n",
      "Trial 58: Inputs = [0.22247490592966676, 0.20647983122913655, 0.022521018334277755], Loss = 0.13106773745583686\n",
      "Trial 59: Inputs = [0.0015781521914291258, 0.40229386389442917, 0.04264778384078584], Loss = 0.1313261493898227\n",
      "Trial 60: Inputs = [0.13611797449612958, 0.19621318428056864, 0.021601191919350577], Loss = 0.13104911532148908\n",
      "Trial 61: Inputs = [0.26003203675469266, 0.009792362161322173, 0.034776250671427714], Loss = 0.1312725906604481\n",
      "Trial 62: Inputs = [0.2618213452220026, 0.2837356285311848, 0.02845116850031345], Loss = 0.13130997659316943\n",
      "Trial 63: Inputs = [0.2867393055451714, 0.27177592680888757, 0.03205520288160327], Loss = 0.1313560230391145\n",
      "Trial 64: Inputs = [0.013279257044871758, 0.33494155510799223, 0.009963501662099604], Loss = 0.13114074098674477\n",
      "Trial 65: Inputs = [0.5075348804394896, 0.05806952210734605, 0.053045147749266656], Loss = 0.13162254050142722\n",
      "Trial 66: Inputs = [0.13000565644137663, 0.289051883133146, 0.014703246434603821], Loss = 0.1311248909028897\n",
      "Trial 67: Inputs = [0.36549697244380813, 0.006436469009220025, 0.03555784472742276], Loss = 0.1311513774472762\n",
      "Trial 68: Inputs = [0.06808243277711178, 0.31048749639558165, 0.0596684044156079], Loss = 0.13176251834118335\n",
      "Trial 69: Inputs = [0.446456902415274, 1e-07, 0.022753133322758256], Loss = 0.13104244987894817\n",
      "Trial 70: Inputs = [0.09665619995837138, 0.12451112982792746, 0.011919883005923768], Loss = 0.13126734542615812\n",
      "Trial 71: Inputs = [0.338157038180355, 0.3688376415517637, 0.043041060551351144], Loss = 0.13216721014031882\n",
      "Trial 72: Inputs = [0.41595040630519003, 0.0569528285648453, 0.038165830161448866], Loss = 0.13117543153775663\n",
      "Trial 73: Inputs = [0.05861330312472939, 0.30314156221759364, 0.03479619629262065], Loss = 0.13112375434834825\n",
      "Trial 74: Inputs = [0.5281094829908323, 0.07083616708933496, 0.035050481713947666], Loss = 0.1312954475305112\n",
      "Trial 75: Inputs = [0.677400498534754, 0.023621954238296453, 0.04972722891260354], Loss = 0.13178903110401313\n",
      "Trial 76: Inputs = [0.3010885681740461, 0.27523366353643236, 0.017221735501778714], Loss = 0.1313796121531175\n",
      "Trial 77: Inputs = [0.4147544020884713, 0.21909538846571647, 0.01945595723958565], Loss = 0.1314644648760321\n",
      "Trial 78: Inputs = [0.10380554120379083, 0.35009267834188446, 0.024198394391045923], Loss = 0.1311684183924259\n",
      "Trial 79: Inputs = [0.049297122934970725, 0.41000775497293346, 0.03977947339919849], Loss = 0.13136829242695935\n",
      "Trial 80: Inputs = [0.8143170132849811, 0.07414465154295713, 0.005574485782452414], Loss = 0.13239901593571043\n",
      "Trial 81: Inputs = [0.9020498245263685, 0.20718385861401753, 0.054927068415656956], Loss = 0.13457369015332157\n",
      "Trial 82: Inputs = [0.4777002779680991, 0.09346405395174247, 0.011747597685845181], Loss = 0.13125267571111512\n",
      "Trial 83: Inputs = [0.06583792259774901, 0.19505522522232607, 0.07262497298507985], Loss = 0.13238327072351488\n",
      "Trial 84: Inputs = [0.13305742007398963, 0.01974980752277929, 0.0035965448249182957], Loss = 0.13167389282934353\n",
      "Trial 85: Inputs = [0.42929046134930265, 0.011391816692294913, 0.02286443167391452], Loss = 0.13104242597761528\n",
      "Trial 86: Inputs = [0.27537780484397384, 0.04308563904662934, 0.011004466063981946], Loss = 0.1311822844554778\n",
      "Trial 87: Inputs = [0.07421471593705604, 0.42113151568578316, 0.03302614697198714], Loss = 0.13136264705630268\n",
      "Trial 88: Inputs = [0.07115450530787999, 0.3699450901821052, 0.03791905241640139], Loss = 0.13127584635350725\n",
      "Trial 89: Inputs = [0.3330348303782185, 0.09058779231002889, 0.012797532807674886], Loss = 0.13109841000500178\n",
      "Trial 90: Inputs = [0.5255846163940869, 0.7750933273494642, 0.159071817877786], Loss = 0.14809142843221076\n",
      "Trial 91: Inputs = [0.2404076032810918, 0.04679353336153908, 0.009594351591745381], Loss = 0.13124061177427582\n",
      "Trial 92: Inputs = [0.19088273078094514, 0.1441953624136246, 0.00919965445438758], Loss = 0.13115637183095258\n",
      "Trial 93: Inputs = [0.3414346419905092, 0.03937843452122752, 0.042021774026546686], Loss = 0.13124312934370544\n",
      "Trial 94: Inputs = [0.12344933158938054, 0.10820070363713445, 0.00990831661632335], Loss = 0.1312859764620179\n",
      "Trial 95: Inputs = [0.6323216472427992, 0.1906212098174065, 0.007129745810318978], Loss = 0.13228629223754407\n",
      "Trial 96: Inputs = [0.6893743893047453, 0.49909782518035795, 0.07935089624785355], Loss = 0.1375160884222438\n",
      "Trial 97: Inputs = [0.2096749078440322, 0.11076037552397175, 0.04265425740801779], Loss = 0.13127703047875314\n",
      "Trial 98: Inputs = [0.28862526953727263, 0.04755351454860628, 0.05417742952288646], Loss = 0.13159161322199484\n",
      "Trial 99: Inputs = [0.12833875559383032, 0.30129863428171, 0.020802061935313917], Loss = 0.13110810174845167\n",
      "Trial 100: Inputs = [0.12647761162251075, 0.2264276467033338, 0.02297116672526367], Loss = 0.1310424658000803\n",
      "Debug: Optimized lighter ingredients from Bayesian Optimization:\n",
      "[0.42929046134930265, 0.011391816692294913, 0.02286443167391452]\n",
      "Debug: Minimum error achieved:\n",
      "0.13104242597761528\n"
     ]
    },
    {
     "data": {
      "text/plain": [
       "[0.42929046134930265, 0.011391816692294913, 0.02286443167391452]"
      ]
     },
     "execution_count": 253,
     "metadata": {},
     "output_type": "execute_result"
    }
   ],
   "source": [
    "bayesiann(trial) #error divided by 10"
   ]
  },
  {
   "cell_type": "code",
   "execution_count": 189,
   "id": "4813dcdb-fcd2-4182-a465-ab9e31cc4ac2",
   "metadata": {},
   "outputs": [
    {
     "name": "stdout",
     "output_type": "stream",
     "text": [
      "Optimized heavy ingredients passed to bayesiann:\n",
      "[6.569365978240967, 5.498148441314697, 5.273582935333252, 5.364184379577637, 4.248894691467285, 3.4599080085754395]\n"
     ]
    },
    {
     "name": "stderr",
     "output_type": "stream",
     "text": [
      "/Users/shivanishah/anaconda3/lib/python3.12/site-packages/skopt/optimizer/optimizer.py:517: UserWarning: The objective has been evaluated at point [1e-07, 1e-07, 1.0] before, using random point [0.542077266451464, 0.6176488728090731, 0.8124382379430596]\n",
      "  warnings.warn(\n"
     ]
    },
    {
     "name": "stdout",
     "output_type": "stream",
     "text": [
      "Trial History (Guessed Inputs and Corresponding Losses):\n",
      "Trial 1: Inputs = [0.5574396817667324, 0.5279668591641179, 0.8561068083898229], Loss = 3.0036423428909083\n",
      "Trial 2: Inputs = [0.7539295569749173, 0.03886934215416717, 0.013633090209335936], Loss = 5.434281513603801\n",
      "Trial 3: Inputs = [0.4633875429059946, 0.5998915348310422, 0.08766771214737554], Loss = 5.19396377489779\n",
      "Trial 4: Inputs = [0.5338848704456247, 0.22192046354122805, 0.7596315432253532], Loss = 3.2417800149891707\n",
      "Trial 5: Inputs = [0.6321626748377455, 0.4943105625354395, 0.09026948893971057], Loss = 5.185687963400658\n",
      "Trial 6: Inputs = [0.8445672333479876, 0.23231749941448326, 0.01668420804724873], Loss = 5.426208716817941\n",
      "Trial 7: Inputs = [0.7059847559792597, 0.09417683337930893, 0.47352110779145984], Loss = 4.0140365712256285\n",
      "Trial 8: Inputs = [0.8488952284938576, 0.883370282414654, 0.604652899095959], Loss = 3.66308818358855\n",
      "Trial 9: Inputs = [0.01724983185009452, 0.607989941634221, 0.03580685495567434], Loss = 5.361015726935123\n",
      "Trial 10: Inputs = [0.7292730386998901, 0.03126578242225793, 0.9314106035325191], Loss = 2.818857946652762\n",
      "Trial 11: Inputs = [1e-07, 1e-07, 1.0], Loss = 2.6592902364123563\n",
      "Trial 12: Inputs = [1.0, 1e-07, 1.0], Loss = 2.659743247788082\n",
      "Trial 13: Inputs = [1e-07, 1.0, 1.0], Loss = 2.663066001075603\n",
      "Trial 14: Inputs = [0.8956907068106529, 0.9827928924234455, 1.0], Loss = 2.676041561284268\n",
      "Trial 15: Inputs = [0.542077266451464, 0.6176488728090731, 0.8124382379430596], Loss = 3.112671990520418\n",
      "Trial 16: Inputs = [0.02117987037539205, 0.1294000805746393, 1.0], Loss = 2.658513855006536\n",
      "Trial 17: Inputs = [0.5085591083252043, 0.007249526494580544, 0.999143338338504], Loss = 2.660160432322445\n",
      "Trial 18: Inputs = [0.022358866865202685, 0.008675846496619895, 0.9969496395839855], Loss = 2.666145363048471\n",
      "Trial 19: Inputs = [0.9873718850616343, 0.05456918823942321, 0.9979182393648078], Loss = 2.6649285908673797\n",
      "Trial 20: Inputs = [0.032275270181085426, 0.025624542157705, 0.9974171771174596], Loss = 2.6649218768585667\n",
      "Trial 21: Inputs = [0.8719683838690289, 0.1465746158272144, 0.9997094297243455], Loss = 2.6609049269070306\n",
      "Trial 22: Inputs = [0.13071748542066325, 0.03313673708380064, 0.999752070328846], Loss = 2.659159840608179\n",
      "Trial 23: Inputs = [0.037257954424113324, 0.0995229600373749, 0.999369799723395], Loss = 2.6600376212621066\n",
      "Trial 24: Inputs = [0.02299010786356007, 0.8480469582165944, 0.9993902491225395], Loss = 2.6627010541681\n",
      "Trial 25: Inputs = [0.06485361594223446, 0.9424373227599673, 0.9995014260468438], Loss = 2.664044371337522\n",
      "Trial 26: Inputs = [0.0901085889002894, 0.022325874799481036, 0.9997454788845177], Loss = 2.659359114425049\n",
      "Trial 27: Inputs = [0.8222793597176878, 0.14716401508999932, 0.9999634085612543], Loss = 2.660008917117026\n",
      "Trial 28: Inputs = [0.006579207792880062, 0.8711832982586191, 0.9998412826086669], Loss = 2.6617987449437734\n",
      "Trial 29: Inputs = [0.957690491071937, 0.28222433993535917, 0.9997900791243111], Loss = 2.662976968731861\n",
      "Trial 30: Inputs = [0.9871956628012439, 0.08661086565999071, 0.9991704073523083], Loss = 2.6623516440563373\n",
      "Trial 31: Inputs = [0.050002864397266526, 0.1825610604654387, 0.9996225499536592], Loss = 2.6591577248830274\n",
      "Trial 32: Inputs = [0.8090912717188727, 0.0744569228125288, 0.9998550337284194], Loss = 2.659619328942022\n",
      "Trial 33: Inputs = [0.009480443492005424, 0.634689056730553, 0.9998844025227605], Loss = 2.6595171791099443\n",
      "Trial 34: Inputs = [0.08649095543811436, 0.33945355376076924, 0.9991753522665663], Loss = 2.6601304091314852\n",
      "Trial 35: Inputs = [0.4800117876085618, 0.3991315947540928, 0.9998735519775981], Loss = 2.6603032379288587\n",
      "Trial 36: Inputs = [0.6392779305773818, 0.8986316166149398, 0.9997575795363068], Loss = 2.670012365086893\n",
      "Trial 37: Inputs = [0.03652524578854487, 0.11517412815213825, 1.0], Loss = 2.6585269187843177\n",
      "Trial 38: Inputs = [0.042750521077244155, 0.7215876195109397, 0.9993762996253202], Loss = 2.661566978101422\n",
      "Trial 39: Inputs = [0.005362417473520266, 0.4241973723475275, 0.9978320510217044], Loss = 2.6632742059604233\n",
      "Trial 40: Inputs = [0.18132046532303248, 0.011218207875545809, 1.0], Loss = 2.658533123283776\n",
      "Trial 41: Inputs = [0.03428940107840024, 0.15248647909168314, 1.0], Loss = 2.6584010336093375\n",
      "Trial 42: Inputs = [0.46113187899535485, 1e-07, 1.0], Loss = 2.6581704809999214\n",
      "Trial 43: Inputs = [0.28024361039329393, 0.08115456721959155, 0.9990636101702494], Loss = 2.6603447825060895\n",
      "Trial 44: Inputs = [0.18199498604808642, 0.667507966936946, 0.9997216358724067], Loss = 2.661200365151703\n",
      "Trial 45: Inputs = [0.5496754081783217, 0.5666861264004502, 0.9993911794234989], Loss = 2.663840189330646\n",
      "Trial 46: Inputs = [0.17212592200377363, 0.22306669363399184, 1.0], Loss = 2.6581752932099554\n",
      "Trial 47: Inputs = [0.1088334701232595, 0.6098932435645781, 0.9998041431456769], Loss = 2.660032859428212\n",
      "Trial 48: Inputs = [0.7468277621737485, 0.017110732455916808, 0.9980764037410315], Loss = 2.6631201959114525\n",
      "Trial 49: Inputs = [0.05542070079025399, 0.46480702000938173, 0.998437980563189], Loss = 2.6621115256119956\n",
      "Trial 50: Inputs = [0.48644794170378336, 0.022032631441469323, 0.9970444611904717], Loss = 2.66498953462373\n",
      "Trial 51: Inputs = [0.2289703563877085, 3.039365928630159e-07, 1.0], Loss = 2.658450000316204\n",
      "Trial 52: Inputs = [0.25964379970088736, 0.425220615432695, 0.9988008282403478], Loss = 2.661798811194047\n",
      "Trial 53: Inputs = [1e-07, 0.25555207430424076, 1.0], Loss = 2.6582199355096594\n",
      "Trial 54: Inputs = [0.5667641802810461, 1e-07, 1.0], Loss = 2.658234089501697\n",
      "Trial 55: Inputs = [0.6366244076182133, 0.09112931408127994, 0.9994068244100546], Loss = 2.660041299023384\n",
      "Trial 56: Inputs = [0.6503932962084191, 0.2870706665389594, 0.998355264119028], Loss = 2.6638707133459945\n",
      "Trial 57: Inputs = [0.4877626853334088, 0.08540861955432205, 1.0], Loss = 2.6582922457686022\n",
      "Trial 58: Inputs = [0.08099364093769432, 0.18587800939840476, 1.0], Loss = 2.658239621389289\n",
      "Trial 59: Inputs = [0.8478628414665679, 0.05518970005050352, 0.9999293587057608], Loss = 2.6595054020776883\n",
      "Trial 60: Inputs = [0.4520234873180657, 0.2659458797109457, 0.9989703837633733], Loss = 2.6612725247230733\n",
      "Trial 61: Inputs = [0.46742481594303453, 0.08746308021046027, 1.0], Loss = 2.6582657351600827\n",
      "Trial 62: Inputs = [0.7053123836829066, 0.269186932980044, 1.0], Loss = 2.660282134352599\n",
      "Trial 63: Inputs = [1e-07, 0.2721241412604689, 1.0], Loss = 2.6581987719342854\n",
      "Trial 64: Inputs = [0.09727176316821919, 0.07309211883423815, 1.0], Loss = 2.658523539196154\n",
      "Trial 65: Inputs = [0.1991996325571717, 0.24005051427362, 1.0], Loss = 2.658205656151339\n",
      "Trial 66: Inputs = [1e-07, 0.2663966971635996, 1.0], Loss = 2.6582054217801905\n",
      "Trial 67: Inputs = [0.704281593771951, 0.056463317333032635, 0.39888537873888386], Loss = 4.2293385432164445\n",
      "Trial 68: Inputs = [0.33191578335004857, 0.20050202773688028, 0.9996682160595751], Loss = 2.6590666426223115\n",
      "Trial 69: Inputs = [0.1575578405105348, 0.19920181261575812, 1.0], Loss = 2.6581722646972223\n",
      "Trial 70: Inputs = [0.3939219605606139, 0.20545019871858994, 0.9997417300870953], Loss = 2.659039566152471\n",
      "Trial 71: Inputs = [0.5904737390868952, 0.4059999422571457, 0.99935139470888], Loss = 2.6623355111456277\n",
      "Trial 72: Inputs = [0.8147274298972995, 1e-07, 1.0], Loss = 2.658852216799944\n",
      "Trial 73: Inputs = [0.38080102214101075, 0.4422315337237344, 1.0], Loss = 2.6597802756743376\n",
      "Trial 74: Inputs = [0.4667962660412607, 0.05139620171100258, 0.9982202024533043], Loss = 2.6622999888813714\n",
      "Trial 75: Inputs = [1e-07, 0.27155359457137945, 1.0], Loss = 2.658199402891593\n",
      "Trial 76: Inputs = [0.3003926975982461, 0.34198785891457273, 0.9992603897219117], Loss = 2.660441245710264\n",
      "Trial 77: Inputs = [0.4627986607392239, 0.08518339155878073, 0.9996980192161213], Loss = 2.658949212598897\n",
      "Trial 78: Inputs = [1e-07, 0.27374272510284203, 1.0], Loss = 2.658197019877001\n",
      "Trial 79: Inputs = [0.7082559976535168, 0.22342531991183717, 0.9996430004128987], Loss = 2.660708189135985\n",
      "Trial 80: Inputs = [0.12267177647470719, 0.175135195951618, 1.0], Loss = 2.6582111611444206\n",
      "Trial 81: Inputs = [0.7726663822699166, 1e-07, 1.0], Loss = 2.658701059406772\n",
      "Trial 82: Inputs = [0.25177072578177395, 0.2669043133135628, 0.999905247095622], Loss = 2.658545910716969\n",
      "Trial 83: Inputs = [0.3172015902499243, 0.05114689280443528, 1.0], Loss = 2.658195220097842\n",
      "Trial 84: Inputs = [1e-07, 0.49794331085002463, 1.0], Loss = 2.6584959478686803\n",
      "Trial 85: Inputs = [0.016611017240463155, 0.30350179763796026, 1.0], Loss = 2.658171236717302\n",
      "Trial 86: Inputs = [0.5134914074649368, 0.09569548203406007, 0.99918557385849], Loss = 2.6602387965962926\n",
      "Trial 87: Inputs = [1e-07, 0.26927801553931086, 1.0], Loss = 2.6582019886986834\n",
      "Trial 88: Inputs = [0.08323424487351404, 0.18937987300494208, 1.0], Loss = 2.6582311501609035\n",
      "Trial 89: Inputs = [0.33558254024418166, 0.10346585175371088, 1.0], Loss = 2.6581736000827374\n",
      "Trial 90: Inputs = [0.04431568579770199, 0.48206277084264243, 1.0], Loss = 2.658556146151759\n",
      "Trial 91: Inputs = [0.04418963938191782, 0.4451391469159251, 0.9998837955270814], Loss = 2.658687626628685\n",
      "Trial 92: Inputs = [0.29719415689921713, 0.45459122378029676, 1.0], Loss = 2.659415667895362\n",
      "Trial 93: Inputs = [1e-07, 0.2838023953346885, 1.0], Loss = 2.6581873874265542\n",
      "Trial 94: Inputs = [1e-07, 0.28416401209091124, 1.0], Loss = 2.658187081481945\n",
      "Trial 95: Inputs = [0.28753240039079736, 0.6665059111871366, 0.9996103943498932], Loss = 2.662258503910892\n",
      "Trial 96: Inputs = [0.15291524110316151, 0.391235742440203, 1.0], Loss = 2.658501161426571\n",
      "Trial 97: Inputs = [0.10084863775749237, 0.07502516834037248, 1.0], Loss = 2.658506409090124\n",
      "Trial 98: Inputs = [0.3255492427683479, 0.3198503074602128, 1.0], Loss = 2.6587191630641764\n",
      "Trial 99: Inputs = [1e-07, 0.2879791596238052, 1.0], Loss = 2.6581840241587344\n",
      "Trial 100: Inputs = [0.3933869340633341, 0.11314490885354678, 1.0], Loss = 2.6582195080402675\n",
      "Debug: Optimized lighter ingredients from Bayesian Optimization:\n",
      "[0.46113187899535485, 1e-07, 1.0]\n",
      "Debug: Minimum error achieved:\n",
      "2.6581704809999214\n"
     ]
    },
    {
     "data": {
      "text/plain": [
       "[0.46113187899535485, 1e-07, 1.0]"
      ]
     },
     "execution_count": 189,
     "metadata": {},
     "output_type": "execute_result"
    }
   ],
   "source": [
    "bayesiann(trial) #error divided by nothing"
   ]
  },
  {
   "cell_type": "code",
   "execution_count": 121,
   "id": "d1ebc342-c2bc-4187-bfe2-520b73053232",
   "metadata": {},
   "outputs": [
    {
     "name": "stdout",
     "output_type": "stream",
     "text": [
      "Optimized heavy ingredients passed to bayesiann:\n",
      "[7.250808238983154, 6.829881191253662, 6.767848968505859, 5.145511627197266, 2.7552220821380615, 0.7754389047622681]\n",
      "Trial History (Guessed Inputs and Corresponding Losses):\n",
      "Trial 1: Inputs = [0.5574396817667324, 0.5279668591641179, 0.8561068083898229], Loss = 13.583219518540567\n",
      "Trial 2: Inputs = [0.7539295569749173, 0.03886934215416717, 0.013633090209335936], Loss = 4.5621374456109915\n",
      "Trial 3: Inputs = [0.4633875429059946, 0.5998915348310422, 0.08766771214737554], Loss = 9.217481757596458\n",
      "Trial 4: Inputs = [0.5338848704456247, 0.22192046354122805, 0.7596315432253532], Loss = 8.193866177347326\n",
      "Trial 5: Inputs = [0.6321626748377455, 0.4943105625354395, 0.09026948893971057], Loss = 9.47564647648017\n",
      "Trial 6: Inputs = [0.8445672333479876, 0.23231749941448326, 0.01668420804724873], Loss = 7.567007082679978\n",
      "Trial 7: Inputs = [0.7059847559792597, 0.09417683337930893, 0.47352110779145984], Loss = 5.874560820578052\n",
      "Trial 8: Inputs = [0.8488952284938576, 0.883370282414654, 0.604652899095959], Loss = 26.258700834535066\n",
      "Trial 9: Inputs = [0.01724983185009452, 0.607989941634221, 0.03580685495567434], Loss = 4.957402782718512\n",
      "Trial 10: Inputs = [0.7292730386998901, 0.03126578242225793, 0.9314106035325191], Loss = 9.719106778011984\n",
      "Trial 11: Inputs = [1e-07, 1e-07, 1e-07], Loss = 5.071804996670558\n",
      "Trial 12: Inputs = [0.3797270323515234, 0.09348782712878412, 1e-07], Loss = 3.6083147909830617\n",
      "Trial 13: Inputs = [0.47035418586156363, 0.012621142259085522, 0.037301123671651976], Loss = 3.5583365458041105\n",
      "Trial 14: Inputs = [0.4758569404215062, 1e-07, 0.0633894091739445], Loss = 3.5423838902323794\n",
      "Trial 15: Inputs = [1e-07, 0.33947695380233617, 0.0001428577527947568], Loss = 3.58363055441508\n",
      "Trial 16: Inputs = [1e-07, 0.3258196363253234, 0.22651992714638844], Loss = 3.706018595165693\n",
      "Trial 17: Inputs = [0.46147110422516896, 1e-07, 0.0919159846999725], Loss = 3.5387343833364566\n",
      "Trial 18: Inputs = [0.14267489559069707, 0.23385891682700974, 0.07657391460517841], Loss = 3.5405237428173293\n",
      "Trial 19: Inputs = [0.3093554140937382, 0.10654951682595344, 0.10484909236657891], Loss = 3.542993610808435\n",
      "Trial 20: Inputs = [0.3981089163096263, 0.04164405375930921, 0.0849818550780516], Loss = 3.536319860078774\n",
      "Trial 21: Inputs = [0.00803689052241688, 0.33376850680035824, 0.08699863375661984], Loss = 3.544909353596132\n",
      "Trial 22: Inputs = [0.26274179728935837, 0.14110474714359442, 0.07184393678938149], Loss = 3.536664552208867\n",
      "Trial 23: Inputs = [0.05840492165104602, 0.2845487299016038, 0.06953046348264531], Loss = 3.536418495974988\n",
      "Trial 24: Inputs = [0.360971734268435, 0.059618381609348334, 0.08250179025303245], Loss = 3.5348838254170647\n",
      "Trial 25: Inputs = [0.3247787818005293, 0.08690327590051412, 0.0958240119246132], Loss = 3.5378744384518237\n",
      "Trial 26: Inputs = [0.1820701591241685, 0.1935043743978231, 0.05775531893423413], Loss = 3.5371830314584627\n",
      "Trial 27: Inputs = [0.02258282203497772, 0.29346405464888486, 0.031150086815759252], Loss = 3.548229949567257\n",
      "Trial 28: Inputs = [0.38537539941572274, 0.048067807055176694, 0.08252221857948142], Loss = 3.5354115463301676\n",
      "Trial 29: Inputs = [0.2958455194776693, 0.14950447617025905, 0.08418242099170217], Loss = 3.564445520956783\n",
      "Trial 30: Inputs = [0.441195560315929, 0.005750979930867481, 0.08249473176095584], Loss = 3.535022249357897\n",
      "Trial 31: Inputs = [0.2969694021886947, 0.10838847498764115, 0.08017617834417384], Loss = 3.534845334515056\n",
      "Trial 32: Inputs = [0.199142515788674, 0.17667345426024636, 0.07895029429364168], Loss = 3.5346603178148612\n",
      "Trial 33: Inputs = [0.19293799938283399, 0.18848813487768284, 0.07698673705708156], Loss = 3.536021265157036\n",
      "Trial 34: Inputs = [0.43696511998972254, 0.009388541738947534, 0.08103167331968707], Loss = 3.534923728350363\n",
      "Trial 35: Inputs = [0.02911610244375286, 0.29781202711342036, 0.0702853372287078], Loss = 3.5346850072481444\n",
      "Trial 36: Inputs = [0.0814819771815521, 0.2641776406722931, 0.06458166299521124], Loss = 3.535798175648525\n",
      "Trial 37: Inputs = [0.3095031167227021, 0.10844902763906704, 0.09601057755979239], Loss = 3.5402956612923173\n",
      "Trial 38: Inputs = [0.25008267995948325, 0.14250687348286945, 0.08986710591927491], Loss = 3.536518965064022\n",
      "Trial 39: Inputs = [0.0025279931272545507, 0.3109026580504596, 0.07155005694535348], Loss = 3.534468015167211\n",
      "Trial 40: Inputs = [0.38796054324706564, 0.03982112191949849, 0.1235123589546928], Loss = 3.5522227434866567\n",
      "Trial 41: Inputs = [0.33282505824182823, 0.0891228575505403, 0.08534727665667623], Loss = 3.536745371268206\n",
      "Trial 42: Inputs = [0.1358557166977127, 0.19209535634042285, 0.078080484230574], Loss = 3.5450897306767297\n",
      "Trial 43: Inputs = [0.17560433797875039, 0.18025389949006237, 0.08063193827559383], Loss = 3.5362592991649877\n",
      "Trial 44: Inputs = [0.17173255118988023, 0.207727482579437, 0.11921304917486895], Loss = 3.552436006391579\n",
      "Trial 45: Inputs = [0.0020905215610251757, 0.9974439852098963, 0.9272113184758378], Loss = 15.934310902621673\n",
      "Trial 46: Inputs = [0.11058507398355345, 0.2392046451180428, 0.0746773212991443], Loss = 3.53448285030572\n",
      "Trial 47: Inputs = [0.07538104416187359, 0.26539150192800276, 0.09048929127740549], Loss = 3.536583005108865\n",
      "Trial 48: Inputs = [0.3848772271266639, 0.048962797721196896, 0.061702529165583296], Loss = 3.5361088186025764\n",
      "Trial 49: Inputs = [0.048051264395014635, 0.2823469004362165, 0.06642843556180525], Loss = 3.534835088730259\n",
      "Trial 50: Inputs = [0.24499525296707972, 0.1467684314241814, 0.07836360994281637], Loss = 3.534932104035306\n",
      "Trial 51: Inputs = [0.14915147320536518, 0.19847098713883515, 0.08245647808658345], Loss = 3.536611880476644\n",
      "Trial 52: Inputs = [0.2744106243384454, 0.1248357805068456, 0.09196813958645696], Loss = 3.5369724432739096\n",
      "Trial 53: Inputs = [0.385730848653547, 0.021872230711383844, 0.06679402136032828], Loss = 3.5408311581180096\n",
      "Trial 54: Inputs = [0.17901418197531224, 0.1929030791414404, 0.07854311773019547], Loss = 3.5348647568287435\n",
      "Trial 55: Inputs = [0.3714554008748011, 0.061297029432523575, 0.0639633353624807], Loss = 3.5364143378485475\n",
      "Trial 56: Inputs = [0.07185595556536506, 0.2661635730073021, 0.07846147374630859], Loss = 3.5345884503474942\n",
      "Trial 57: Inputs = [0.1252472171789683, 0.22700345224012233, 0.08779864586084508], Loss = 3.535754012551274\n",
      "Trial 58: Inputs = [0.21657182023849952, 0.16363100471652411, 0.09604988673032049], Loss = 3.53796065092199\n",
      "Trial 59: Inputs = [0.334133218764313, 0.0773324667234746, 0.07908402010333383], Loss = 3.5345649545386504\n",
      "Trial 60: Inputs = [0.21214231361074767, 0.16931766888089714, 0.07971369841510441], Loss = 3.5349274693016475\n",
      "Trial 61: Inputs = [0.16428436608521174, 0.23815558323655733, 0.04282017849328051], Loss = 3.565312094470563\n",
      "Trial 62: Inputs = [0.10247677626503064, 0.21494714518539274, 0.11265515099923845], Loss = 3.5564522387766875\n",
      "Trial 63: Inputs = [0.06280523401834313, 0.2689091174842077, 0.05111758365233855], Loss = 3.538239676697656\n",
      "Trial 64: Inputs = [0.33967529793509527, 0.025110947164949538, 0.09162629793746725], Loss = 3.5734845184223563\n",
      "Trial 65: Inputs = [0.22939137826042383, 0.12280840626364245, 0.03939739867404925], Loss = 3.556436974463284\n",
      "Trial 66: Inputs = [0.25545140422080603, 0.138365855945794, 0.0866619406117173], Loss = 3.5358072351211742\n",
      "Trial 67: Inputs = [0.37758683449567815, 0.04936759815043356, 0.08991143737515289], Loss = 3.536239913070845\n",
      "Trial 68: Inputs = [0.23933351252174107, 0.11326799129801679, 0.043161865423015984], Loss = 3.5569811506651714\n",
      "Trial 69: Inputs = [0.352288423140005, 0.058279332680094435, 0.051980669408491616], Loss = 3.5387316970053027\n",
      "Trial 70: Inputs = [0.35100326288334593, 0.07522073117622788, 0.08574212540517985], Loss = 3.536516761678361\n",
      "Trial 71: Inputs = [0.16132386373266525, 0.23041388978378438, 0.11757466163415096], Loss = 3.5616600153185183\n",
      "Trial 72: Inputs = [0.08703723209853684, 0.26037339630343775, 0.0613096153891286], Loss = 3.5363569204192875\n",
      "Trial 73: Inputs = [0.3034922904486859, 0.11116378645469414, 0.12555152403824257], Loss = 3.555586692164738\n",
      "Trial 74: Inputs = [0.3631262776415037, 0.06104604989078474, 0.09828312602362065], Loss = 3.5387954497227825\n",
      "Trial 75: Inputs = [0.1752749351485641, 0.19161622413953572, 0.07429567284414944], Loss = 3.5343774508604566\n",
      "Trial 76: Inputs = [0.28542806037233204, 0.1215044426636385, 0.08059746386132095], Loss = 3.535812988394439\n",
      "Trial 77: Inputs = [0.09357847196960606, 0.24712490685424807, 0.06438059847840163], Loss = 3.535078051855932\n",
      "Trial 78: Inputs = [0.314255071885637, 0.0966267550332141, 0.06443121072992498], Loss = 3.535306788078961\n",
      "Trial 79: Inputs = [0.34726842418016585, 0.09651945500765254, 0.07283728862191406], Loss = 3.5457374003246733\n",
      "Trial 80: Inputs = [0.08123152787214584, 0.2591839435373055, 0.07132389779370825], Loss = 3.5344798459087126\n",
      "Trial 81: Inputs = [0.3389425551169066, 0.06736836882272784, 0.12650631880147784], Loss = 3.5553272599906305\n",
      "Trial 82: Inputs = [0.16360955564263874, 0.20066850112883158, 0.07523293743965949], Loss = 3.534418879597403\n",
      "Trial 83: Inputs = [0.13060953632762254, 0.22204005636841798, 0.07922724600130521], Loss = 3.5345597450113027\n",
      "Trial 84: Inputs = [0.14591840861683486, 0.22132067171161243, 0.08060908158835717], Loss = 3.536146884373489\n",
      "Trial 85: Inputs = [0.3164252313776037, 0.07287723443741223, 0.027746081349801364], Loss = 3.554963874304567\n",
      "Trial 86: Inputs = [0.40143496949415064, 0.016894326534718125, 0.09903104456039862], Loss = 3.541846999285194\n",
      "Trial 87: Inputs = [0.2574642403229475, 0.1095080042759598, 0.040121377601356235], Loss = 3.5508517950116367\n",
      "Trial 88: Inputs = [0.25305449337742947, 0.13627705709569674, 0.07406423434966675], Loss = 3.5343691379155473\n",
      "Trial 89: Inputs = [0.20564394334704808, 0.16907117331569604, 0.07363436506093714], Loss = 3.5343663654585264\n",
      "Trial 90: Inputs = [0.08940579887525683, 0.25978912766757883, 0.06075321360328973], Loss = 3.5367211171661768\n",
      "Trial 91: Inputs = [0.3779750839724936, 0.05777479627574881, 0.07689554850127035], Loss = 3.5360493719267203\n",
      "Trial 92: Inputs = [0.2185965665023493, 0.16116787226756962, 0.07214925446363422], Loss = 3.5344093976943047\n",
      "Trial 93: Inputs = [0.05408195340430445, 0.2786773980209554, 0.07284830907557731], Loss = 3.5344550511597705\n",
      "Trial 94: Inputs = [0.2806571187819852, 0.10981714791252592, 0.003926992690742552], Loss = 3.5709218950839294\n",
      "Trial 95: Inputs = [0.4180978656925393, 0.034971766880789096, 0.07125055495311225], Loss = 3.5382626476496726\n",
      "Trial 96: Inputs = [0.21871298019686178, 0.15739324907906352, 0.0732319905010134], Loss = 3.5344723397776123\n",
      "Trial 97: Inputs = [0.41947005136690757, 0.015331536597085178, 0.068092802842847], Loss = 3.534738489489062\n",
      "Trial 98: Inputs = [0.2300600228887236, 0.14488122729343672, 0.07661695271733869], Loss = 3.535173287793423\n",
      "Trial 99: Inputs = [0.3037621743968751, 0.11202834202241328, 0.05820251161307406], Loss = 3.538439681788671\n",
      "Trial 100: Inputs = [0.20390508800971816, 0.21379217870250025, 0.10576686593114953], Loss = 3.5700961171718966\n",
      "Debug: Optimized lighter ingredients from Bayesian Optimization:\n",
      "[0.20564394334704808, 0.16907117331569604, 0.07363436506093714]\n",
      "Debug: Minimum error achieved:\n",
      "3.5343663654585264\n"
     ]
    },
    {
     "data": {
      "text/plain": [
       "[0.20564394334704808, 0.16907117331569604, 0.07363436506093714]"
      ]
     },
     "execution_count": 121,
     "metadata": {},
     "output_type": "execute_result"
    }
   ],
   "source": [
    "bayesiann(trial3) #new_trial (trial_3)"
   ]
  },
  {
   "cell_type": "code",
   "execution_count": 130,
   "id": "fe6d6c88",
   "metadata": {},
   "outputs": [
    {
     "name": "stdout",
     "output_type": "stream",
     "text": [
      "Optimized heavy ingredients passed to bayesiann:\n",
      "[7.037546634674072, 6.745736598968506, 6.333464622497559, 5.680089950561523, 3.2290663719177246, 1.3324352502822876]\n",
      "Trial History (Guessed Inputs and Corresponding Losses):\n",
      "Trial 1: Inputs = [0.5574396817667324, 0.5279668591641179, 0.8561068083898229], Loss = 12.410251720449429\n",
      "Trial 2: Inputs = [0.7539295569749173, 0.03886934215416717, 0.013633090209335936], Loss = 2.662808334623405\n",
      "Trial 3: Inputs = [0.4633875429059946, 0.5998915348310422, 0.08766771214737554], Loss = 7.349867422713763\n",
      "Trial 4: Inputs = [0.5338848704456247, 0.22192046354122805, 0.7596315432253532], Loss = 6.9656592694985315\n",
      "Trial 5: Inputs = [0.6321626748377455, 0.4943105625354395, 0.09026948893971057], Loss = 7.609023886265139\n",
      "Trial 6: Inputs = [0.8445672333479876, 0.23231749941448326, 0.01668420804724873], Loss = 5.644973039313471\n",
      "Trial 7: Inputs = [0.7059847559792597, 0.09417683337930893, 0.47352110779145984], Loss = 4.38851877185658\n",
      "Trial 8: Inputs = [0.8488952284938576, 0.883370282414654, 0.604652899095959], Loss = 24.80309228784798\n",
      "Trial 9: Inputs = [0.01724983185009452, 0.607989941634221, 0.03580685495567434], Loss = 3.073326920435815\n",
      "Trial 10: Inputs = [0.7292730386998901, 0.03126578242225793, 0.9314106035325191], Loss = 8.65125553066866\n",
      "Trial 11: Inputs = [1e-07, 1e-07, 1e-07], Loss = 3.2167017268432074\n",
      "Trial 12: Inputs = [0.3755671298766129, 0.0994932506342036, 1e-07], Loss = 1.7216532845501424\n",
      "Trial 13: Inputs = [0.47337634052704236, 0.009346437581331397, 1e-07], Loss = 1.6983903353037364\n",
      "Trial 14: Inputs = [1e-07, 0.3441327984084614, 1e-07], Loss = 1.6984867819744736\n",
      "Trial 15: Inputs = [0.09206217652001411, 0.2808526664574622, 1e-07], Loss = 1.6999692980553505\n",
      "Trial 16: Inputs = [1e-07, 0.32414264061272857, 0.19602858652857327], Loss = 1.9342940877584314\n",
      "Trial 17: Inputs = [0.46350790043860557, 1e-07, 0.02185220740558206], Loss = 1.6891020494828188\n",
      "Trial 18: Inputs = [0.4578850868779652, 1e-07, 0.040032565105206724], Loss = 1.69312974127639\n",
      "Trial 19: Inputs = [0.22065016413064725, 0.1701195673139043, 0.032261743704882405], Loss = 1.690926278790154\n",
      "Trial 20: Inputs = [0.15780913453631065, 0.2168188319912647, 0.009271053951641527], Loss = 1.6887063409558145\n",
      "Trial 21: Inputs = [0.2724596376030654, 0.1362303286640467, 0.026518106607468808], Loss = 1.6902819978730277\n",
      "Trial 22: Inputs = [0.2939802150439329, 0.10682004033285801, 0.014250433865834293], Loss = 1.6871635079362268\n",
      "Trial 23: Inputs = [0.2487105775523302, 0.1478586779184645, 0.012069335094185271], Loss = 1.6874847753810127\n",
      "Trial 24: Inputs = [0.13550351909449965, 0.2314583622596154, 0.02311678114738581], Loss = 1.6891664808463231\n",
      "Trial 25: Inputs = [0.1911813839329256, 0.19039663251825475, 0.013498307515917315], Loss = 1.687876324842232\n",
      "Trial 26: Inputs = [0.2871870638474323, 0.11942570440853716, 0.031410865439492924], Loss = 1.6899756097642675\n",
      "Trial 27: Inputs = [0.18296677152086022, 0.2220452987279721, 0.033098120862039414], Loss = 1.7071361408778987\n",
      "Trial 28: Inputs = [0.413728050349931, 0.021318597786045595, 0.028823249836019756], Loss = 1.689235340999875\n",
      "Trial 29: Inputs = [0.31534511699818973, 0.09690775251720099, 0.03061389898484051], Loss = 1.6894992644299096\n",
      "Trial 30: Inputs = [0.15338421394869062, 0.21422125459776306, 0.019448050941051374], Loss = 1.6876993667670472\n",
      "Trial 31: Inputs = [0.031843844129412144, 0.29952883421516946, 0.006603898115314621], Loss = 1.6874689519011288\n",
      "Trial 32: Inputs = [0.21288848676869068, 0.15711962163162468, 0.0009694121129083155], Loss = 1.6894980023285018\n",
      "Trial 33: Inputs = [0.16500493305258235, 0.2078728803592374, 0.015753455682583954], Loss = 1.6877321601664457\n",
      "Trial 34: Inputs = [0.4402509497204945, 0.01877399564718086, 0.012116911028222384], Loss = 1.6892008706528414\n",
      "Trial 35: Inputs = [0.06079288634588801, 0.27881065444464437, 0.018061602226203212], Loss = 1.6874535417348029\n",
      "Trial 36: Inputs = [0.26021614890928574, 0.13854043472335587, 0.015354333425962869], Loss = 1.6873687922071563\n",
      "Trial 37: Inputs = [0.21523174214320007, 0.17506828841735844, 0.022397070281037594], Loss = 1.689048917216895\n",
      "Trial 38: Inputs = [0.37926651616320334, 0.06086035653620203, 0.03240055161152344], Loss = 1.6918081332829111\n",
      "Trial 39: Inputs = [0.2363612933337482, 0.15668182790581517, 0.026248912830247238], Loss = 1.6889341891929757\n",
      "Trial 40: Inputs = [0.32433104910477106, 0.07801025673608249, 0.009347789970342503], Loss = 1.6887323960389438\n",
      "Trial 41: Inputs = [0.29555974473941915, 0.11724862362238847, 0.015458808642550946], Loss = 1.6880960487522212\n",
      "Trial 42: Inputs = [0.13894881998204983, 0.23323332489135998, 0.06725711897586256], Loss = 1.7118723291213491\n",
      "Trial 43: Inputs = [0.3848988018327978, 0.04335279180987943, 0.01564974140401087], Loss = 1.6871493187807156\n",
      "Trial 44: Inputs = [0.12993914504082396, 0.2577371496682496, 0.04046017465357926], Loss = 1.7080022209615209\n",
      "Trial 45: Inputs = [0.42310934315857207, 0.02035006634141998, 0.012151620684995085], Loss = 1.6870135668955755\n",
      "Trial 46: Inputs = [0.28607758524690563, 0.11801600300368185, 0.006280658179225663], Loss = 1.6873205300887704\n",
      "Trial 47: Inputs = [0.14361911784728942, 0.21995446098791713, 0.0150584029662982], Loss = 1.6872298552203204\n",
      "Trial 48: Inputs = [0.060363510719599826, 0.1979392302433825, 0.15800731413265007], Loss = 1.9325077020761272\n",
      "Trial 49: Inputs = [0.19720467239625508, 0.19030824887088688, 0.0019694640447091532], Loss = 1.689865469347056\n",
      "Trial 50: Inputs = [0.285828666396251, 0.11971548364100949, 0.015065347021752207], Loss = 1.6872638074318\n",
      "Trial 51: Inputs = [0.2154450347441428, 0.17067434555970526, 0.012807296569150719], Loss = 1.6873712244892463\n",
      "Trial 52: Inputs = [0.19008615623329242, 0.2062276662958464, 0.00807026391143383], Loss = 1.6949128193220795\n",
      "Trial 53: Inputs = [0.140030474405771, 0.2217199099182378, 0.009707162600217388], Loss = 1.6871438169215345\n",
      "Trial 54: Inputs = [0.3273021531608226, 0.08058019397457943, 0.008675051780116065], Loss = 1.6875981383653151\n",
      "Trial 55: Inputs = [0.1260744544508445, 0.22711859646782456, 0.02943692045580893], Loss = 1.6891767228219636\n",
      "Trial 56: Inputs = [0.2076516587894397, 0.17959976998194038, 0.012801059662547569], Loss = 1.6880743667755689\n",
      "Trial 57: Inputs = [0.4167820747570713, 0.03128433789905464, 0.09674221190248813], Loss = 1.740111656098382\n",
      "Trial 58: Inputs = [0.1565042416841058, 0.20967507271996766, 0.01274168056572816], Loss = 1.6870670490664776\n",
      "Trial 59: Inputs = [0.2235885575783068, 0.15648535087165436, 0.0018453615381928145], Loss = 1.6879335614226487\n",
      "Trial 60: Inputs = [0.4085279074415648, 0.025334183642768116, 0.03273236534897136], Loss = 1.6902538210040354\n",
      "Trial 61: Inputs = [0.30381463839314393, 0.0945953363356911, 0.07196464148395018], Loss = 1.7141241114603867\n",
      "Trial 62: Inputs = [0.3728869879237888, 0.05564873645011241, 0.017480895774003555], Loss = 1.687204853179671\n",
      "Trial 63: Inputs = [0.31362076032607, 0.09209816873214993, 0.021094072991902017], Loss = 1.6877988691039172\n",
      "Trial 64: Inputs = [0.19893960566835103, 0.17946106271625809, 0.01122158192330752], Loss = 1.6870577430746625\n",
      "Trial 65: Inputs = [0.38657055274972363, 0.04598928880468772, 0.03014317855348585], Loss = 1.6893457980631046\n",
      "Trial 66: Inputs = [0.168066277240411, 0.1858421477232915, 0.03713791052099249], Loss = 1.6941515477386488\n",
      "Trial 67: Inputs = [0.12808492201144783, 0.2044293909486855, 0.004596632641354962], Loss = 1.6953423007813233\n",
      "Trial 68: Inputs = [0.022287211412959182, 0.29707631655716055, 0.004794697533940999], Loss = 1.6877686075614602\n",
      "Trial 69: Inputs = [0.3087188627765331, 0.10044901608411608, 0.010925764194312388], Loss = 1.6869983641812838\n",
      "Trial 70: Inputs = [0.44214725066254806, 0.01065723890805905, 0.011554293460037687], Loss = 1.687412285776475\n",
      "Trial 71: Inputs = [0.014634512588802114, 0.31765612829688045, 0.04750678514347718], Loss = 1.6976068734764578\n",
      "Trial 72: Inputs = [0.11627561197372142, 0.2407250698328855, 0.011064228308962485], Loss = 1.6873700762091477\n",
      "Trial 73: Inputs = [0.18717752260211096, 0.18717886580179605, 0.006157471589255368], Loss = 1.6872858879320716\n",
      "Trial 74: Inputs = [0.3183787016165474, 0.09400191994832927, 0.012835296857629202], Loss = 1.6869998992829494\n",
      "Trial 75: Inputs = [0.2695962082390434, 0.12925901858338656, 0.015479656824788541], Loss = 1.6871108124724654\n",
      "Trial 76: Inputs = [0.3770481919580721, 0.05268645749994181, 0.009559874571279886], Loss = 1.6870559848199989\n",
      "Trial 77: Inputs = [0.0017257363774300376, 0.31216312319189443, 0.014842223986124932], Loss = 1.6873333598716138\n",
      "Trial 78: Inputs = [0.44048269353995834, 0.013446108999657215, 0.030810629489517287], Loss = 1.6902279620279306\n",
      "Trial 79: Inputs = [0.1513936611486602, 0.1939944069227369, 0.03232844785496579], Loss = 1.6942261342908203\n",
      "Trial 80: Inputs = [0.07500915977902568, 0.25813803600378193, 0.001955965822223573], Loss = 1.6884329627756647\n",
      "Trial 81: Inputs = [0.26246978830989864, 0.12967833836210343, 0.02814685447093231], Loss = 1.6889302324841444\n",
      "Trial 82: Inputs = [0.242691568862285, 0.1360915728518758, 0.02446713798597652], Loss = 1.68964855910847\n",
      "Trial 83: Inputs = [0.4624871324976306, 0.0013985492006082971, 0.00997130308864323], Loss = 1.688672481629174\n",
      "Trial 84: Inputs = [0.12954171311395826, 0.2223669498233407, 0.03846288915842678], Loss = 1.6922334593812445\n",
      "Trial 85: Inputs = [0.3380937717610044, 0.07585723225450923, 0.008920428744585896], Loss = 1.6871932769937408\n",
      "Trial 86: Inputs = [0.2601884334709562, 0.1369911271849738, 0.006550074456662539], Loss = 1.6873527656486902\n",
      "Trial 87: Inputs = [0.2956765998322801, 0.11100764472585893, 0.016517429282295066], Loss = 1.687179352126294\n",
      "Trial 88: Inputs = [1e-07, 0.31853820509228414, 0.007381732892488403], Loss = 1.6871552401932015\n",
      "Trial 89: Inputs = [0.34616407866181653, 0.08668149126218719, 0.04204718742840413], Loss = 1.6962296488836792\n",
      "Trial 90: Inputs = [0.25146035891416746, 0.13859030612511736, 0.02838445963183198], Loss = 1.6889145477225143\n",
      "Trial 91: Inputs = [0.22839248213984154, 0.15765926040368872, 0.013213651808772757], Loss = 1.6870058785401094\n",
      "Trial 92: Inputs = [0.395230078212834, 0.05406425596336886, 0.005968003260653567], Loss = 1.690939745097237\n",
      "Trial 93: Inputs = [0.2999003904059324, 0.0985064842929876, 0.01555535985368842], Loss = 1.687876009083883\n",
      "Trial 94: Inputs = [0.1779793457316927, 0.19518357274525838, 0.019238712435667906], Loss = 1.687480793896825\n",
      "Trial 95: Inputs = [0.013545218847984878, 0.3112819661012061, 0.02701979109989485], Loss = 1.6887047915623885\n",
      "Trial 96: Inputs = [0.21871298019674157, 0.1573932490788976, 0.07323199050098773], Loss = 1.7146690668998843\n",
      "Trial 97: Inputs = [0.09061718369679357, 0.24657224871186828, 0.024964059679865192], Loss = 1.6889548555870446\n",
      "Trial 98: Inputs = [0.46984487786767903, 0.024615224179316886, 0.05093827974915017], Loss = 1.7207948703395346\n",
      "Trial 99: Inputs = [1e-07, 0.3184359954998705, 0.007812549817762788], Loss = 1.6871241711949085\n",
      "Trial 100: Inputs = [0.19132408470720025, 0.18157000805711715, 0.02150869617508127], Loss = 1.6876203144405528\n",
      "Debug: Optimized lighter ingredients from Bayesian Optimization:\n",
      "[0.3087188627765331, 0.10044901608411608, 0.010925764194312388]\n",
      "Debug: Minimum error achieved:\n",
      "1.6869983641812838\n"
     ]
    },
    {
     "data": {
      "text/plain": [
       "[0.3087188627765331, 0.10044901608411608, 0.010925764194312388]"
      ]
     },
     "execution_count": 130,
     "metadata": {},
     "output_type": "execute_result"
    }
   ],
   "source": [
    "bayesiann(trial4) #new_trial_same_process_as_trial3 (trial_4)"
   ]
  },
  {
   "cell_type": "raw",
   "id": "4a4437e7-5f22-4c86-b239-bcdab904249b",
   "metadata": {},
   "source": [
    "YAAYYYY"
   ]
  },
  {
   "cell_type": "code",
   "execution_count": null,
   "id": "d2eeb0f1-d3d1-4279-b3d0-028574cd1579",
   "metadata": {},
   "outputs": [],
   "source": [
    "[7.037546634674072,\n",
    "  6.745736598968506,\n",
    "  6.333464622497559,\n",
    "  5.680089950561523,\n",
    "  3.2290663719177246,\n",
    "  1.3324352502822876,0.3087188627765331, 0.10044901608411608, 0.010925764194312388]"
   ]
  },
  {
   "cell_type": "raw",
   "id": "79c88a42-9c49-4939-80c1-1e2903c88bf2",
   "metadata": {},
   "source": [
    "^^ With adding noise, there are a few issues:\n",
    "- if I add to an amount, then that could fill up a nutrient amount --> leaving no room for stuff like vanilla extract. However, if I change the noise to only remove values, this isn't really adding noise anymore and isn't random? Do I just subtract a certain amount from each value? So leaving room for everything. But then, do I subtract the same amount from each ingredient or subtract based on its position in the list (so lower index --> more subtracted as its assumed to have a larger amount)? Do we subtract a specific ratio of the ingredient? "
   ]
  },
  {
   "cell_type": "raw",
   "id": "edbe40f2-e6f9-4cd1-b4ab-cba14dc05129",
   "metadata": {},
   "source": [
    "Now, combining these methods into one function:\n",
    "- first get the heavy ingredients through gradient descent\n",
    "- then add noise to this optimized heavy list\n",
    "- then use Bayesian optimization to fine-tune the lighter ingredients\n",
    "- what's next? What if we put the final list through gradient descent again?"
   ]
  },
  {
   "cell_type": "code",
   "execution_count": 154,
   "id": "31103410-6ae3-4efc-be76-382af90b1379",
   "metadata": {},
   "outputs": [],
   "source": [
    "def reversy(dictionary_list_for_heavy,target_dict,key_list):\n",
    "\n",
    "    loss, optimized_heavy = running_tf(dictionary_list_for_heavy,target_dict,key_list)\n",
    "    noisy_optimized = add_noise(optimized_heavy)\n",
    "    lighter = bayesiann(noisy_optimized)\n",
    "\n",
    "    return optimized_heavy, lighter, loss\n",
    "    "
   ]
  }
 ],
 "metadata": {
  "kernelspec": {
   "display_name": "Python 3 (ipykernel)",
   "language": "python",
   "name": "python3"
  },
  "language_info": {
   "codemirror_mode": {
    "name": "ipython",
    "version": 3
   },
   "file_extension": ".py",
   "mimetype": "text/x-python",
   "name": "python",
   "nbconvert_exporter": "python",
   "pygments_lexer": "ipython3",
   "version": "3.12.4"
  }
 },
 "nbformat": 4,
 "nbformat_minor": 5
}
